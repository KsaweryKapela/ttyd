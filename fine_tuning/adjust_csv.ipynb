{
 "cells": [
  {
   "cell_type": "code",
   "execution_count": 2,
   "metadata": {},
   "outputs": [],
   "source": [
    "import os\n",
    "import pandas as pd\n",
    "\n",
    "df = pd.read_csv(os.environ.get('FINETUNE_CSV_PATH'))"
   ]
  },
  {
   "cell_type": "code",
   "execution_count": 3,
   "metadata": {},
   "outputs": [
    {
     "data": {
      "text/html": [
       "<div>\n",
       "<style scoped>\n",
       "    .dataframe tbody tr th:only-of-type {\n",
       "        vertical-align: middle;\n",
       "    }\n",
       "\n",
       "    .dataframe tbody tr th {\n",
       "        vertical-align: top;\n",
       "    }\n",
       "\n",
       "    .dataframe thead th {\n",
       "        text-align: right;\n",
       "    }\n",
       "</style>\n",
       "<table border=\"1\" class=\"dataframe\">\n",
       "  <thead>\n",
       "    <tr style=\"text-align: right;\">\n",
       "      <th></th>\n",
       "      <th>instruction</th>\n",
       "      <th>output</th>\n",
       "    </tr>\n",
       "  </thead>\n",
       "  <tbody>\n",
       "    <tr>\n",
       "      <th>0</th>\n",
       "      <td>find the first name and last name of entities ...</td>\n",
       "      <td>SELECT FIRST_NAME, LAST_NAME FROM JPK_ENTITY W...</td>\n",
       "    </tr>\n",
       "    <tr>\n",
       "      <th>1</th>\n",
       "      <td>show all headers sent after 1st January 2023</td>\n",
       "      <td>SELECT * FROM JPK_HEADER WHERE SEND_TIME &gt; '20...</td>\n",
       "    </tr>\n",
       "    <tr>\n",
       "      <th>2</th>\n",
       "      <td>get all supplier numbers who have a purchase d...</td>\n",
       "      <td>SELECT SUPPLIER_NUMBER FROM VAT_PURCHASE WHERE...</td>\n",
       "    </tr>\n",
       "    <tr>\n",
       "      <th>3</th>\n",
       "      <td>fetch all purchases from supplier number 12345</td>\n",
       "      <td>SELECT * FROM VAT_PURCHASE WHERE SUPPLIER_NUMB...</td>\n",
       "    </tr>\n",
       "    <tr>\n",
       "      <th>4</th>\n",
       "      <td>list sales between April and July 2023</td>\n",
       "      <td>SELECT * FROM VAT_SALE WHERE ISSUE_DATE BETWEE...</td>\n",
       "    </tr>\n",
       "  </tbody>\n",
       "</table>\n",
       "</div>"
      ],
      "text/plain": [
       "                                         instruction  \\\n",
       "0  find the first name and last name of entities ...   \n",
       "1       show all headers sent after 1st January 2023   \n",
       "2  get all supplier numbers who have a purchase d...   \n",
       "3     fetch all purchases from supplier number 12345   \n",
       "4             list sales between April and July 2023   \n",
       "\n",
       "                                              output  \n",
       "0  SELECT FIRST_NAME, LAST_NAME FROM JPK_ENTITY W...  \n",
       "1  SELECT * FROM JPK_HEADER WHERE SEND_TIME > '20...  \n",
       "2  SELECT SUPPLIER_NUMBER FROM VAT_PURCHASE WHERE...  \n",
       "3  SELECT * FROM VAT_PURCHASE WHERE SUPPLIER_NUMB...  \n",
       "4  SELECT * FROM VAT_SALE WHERE ISSUE_DATE BETWEE...  "
      ]
     },
     "execution_count": 3,
     "metadata": {},
     "output_type": "execute_result"
    }
   ],
   "source": [
    "df = df.T.reset_index().T\n",
    "new_columns = ['instruction', 'output']\n",
    "df.columns = new_columns\n",
    "df.index = range(0, len(df))\n",
    "df.head()"
   ]
  },
  {
   "cell_type": "code",
   "execution_count": 4,
   "metadata": {},
   "outputs": [],
   "source": [
    "import re\n",
    "\n",
    "def rewrite_DDL(DDL):\n",
    "    lines = DDL.split('\\n')\n",
    "\n",
    "    modified_text = \"DDL: \"\n",
    "    for line in lines:\n",
    "        if len(line) < 2:\n",
    "            pass\n",
    "        elif '/*' in line:\n",
    "            pass\n",
    "        elif 'DROP TABLE' in line:\n",
    "            pass\n",
    "\n",
    "        \n",
    "        else:\n",
    "            line = re.sub(r'(?<!NOT )\\bNULL\\b', '', line)\n",
    "            modified_text += f'{line}\\n'\n",
    "\n",
    "    \n",
    "    return modified_text\n",
    "\n",
    "with open(f\"{os.environ.get('SQL_FILES_PATH')}/ddl.sql\", \"r\") as file:\n",
    "    ddl = file.read()\n",
    "\n",
    "rewriten_ddl = rewrite_DDL(ddl)\n",
    "df['input'] = rewriten_ddl"
   ]
  },
  {
   "cell_type": "code",
   "execution_count": 7,
   "metadata": {},
   "outputs": [
    {
     "data": {
      "text/plain": [
       "\"DDL: CREATE TABLE 'JPK_HEADER'\\n    'HEADER_ID' NUMERIC NOT NULL PRIMARY KEY,\\n    'SEND_TIME' NUMERIC NOT NULL,\\n    'CREATION_TIME' NUMERIC NOT NULL,\\n    'DATE_FROM' NUMERIC NOT NULL,\\n    'DATE_TO' NUMERIC ,\\n    'YEAR_MONTH' NUMERIC NOT NULL\\n);\\nCREATE TABLE 'JPK_ENTITY'\\n    'ENTITY_ID' NUMERIC NOT NULL PRIMARY KEY,\\n    'HEADER_ID' NUMERIC NOT NULL,\\n    'TAX_ID' TEXT NOT NULL,\\n    'FIRST_NAME' TEXT NOT NULL,\\n    'LAST_NAME' TEXT NOT NULL,\\n    'BIRTH_DATE' NUMERIC NOT NULL,\\n    'PHONE' NUMERIC ,\\n    CONSTRAINT 'FK_JPK_ENTITY_JPK_HEADER' FOREIGN KEY ('HEADER_ID') REFERENCES 'JPK_HEADER' ('HEADER_ID') ON DELETE No Action ON UPDATE No Action\\n);\\nCREATE TABLE 'VAT_SALE'\\n    'SALE_ID' NUMERIC NOT NULL PRIMARY KEY,\\n    'HEADER_ID' NUMERIC NOT NULL,\\n    'CONTRACTOR_NUMBER' TEXT NOT NULL,\\n    'SALES_DOCUMENT' TEXT NOT NULL,\\n    'ISSUE_DATE' NUMERIC NOT NULL,\\n    'SALE_DATE' NUMERIC NOT NULL,\\n    'P_6' NUMERIC ,\\n    'P_8' NUMERIC ,\\n    'P_9' NUMERIC ,\\n    'P_11' NUMERIC ,\\n    'P_13' NUMERIC ,\\n    'P_15' NUMERIC ,\\n    'P_16' NUMERIC ,\\n    'P_19' NUMERIC ,\\n    'P_96' NUMERIC ,\\n    CONSTRAINT 'FK_VAT_SALE_JPK_HEADER' FOREIGN KEY ('HEADER_ID') REFERENCES 'JPK_HEADER' ('HEADER_ID') ON DELETE No Action ON UPDATE No Action\\n);\\nCREATE TABLE 'VAT_PURCHASE'\\n    'PURCHASE_ID' NUMERIC NOT NULL PRIMARY KEY,\\n    'HEADER_ID' NUMERIC NOT NULL,\\n    'SUPPLIER_NUMBER' TEXT NOT NULL,\\n    'PURCHASE_DOCUMENT' TEXT NOT NULL,\\n    'PURCHASE_DATE' NUMERIC NOT NULL,\\n    'ENTRY_DATE' NUMERIC NOT NULL,\\n    'P_61' NUMERIC ,\\n    'P_77' NUMERIC ,\\n    'P_78' NUMERIC ,\\n    CONSTRAINT 'FK_VAT_PURCHASE_JPK_HEADER' FOREIGN KEY ('HEADER_ID') REFERENCES 'JPK_HEADER' ('HEADER_ID') ON DELETE No Action ON UPDATE No Action\\n);\\n\""
      ]
     },
     "execution_count": 7,
     "metadata": {},
     "output_type": "execute_result"
    }
   ],
   "source": []
  },
  {
   "cell_type": "code",
   "execution_count": 9,
   "metadata": {},
   "outputs": [],
   "source": [
    "text_col = []\n",
    "\n",
    "for _, row in df.iterrows():\n",
    "    prompt = 'Make SQLite query based on DDL and instruction.'\n",
    "    instruction = row['instruction']\n",
    "    input_query = row['input']\n",
    "    response = row['output']\n",
    "\n",
    "    text = (\n",
    "        prompt\n",
    "        + '### Instruction:\\n'\n",
    "        + instruction\n",
    "        + '### Input:\\n'\n",
    "        + input_query\n",
    "        + '### Response:\\n'\n",
    "        + response\n",
    "    )\n",
    "\n",
    "    text_col.append(text)\n",
    "\n",
    "df['text'] = text_col"
   ]
  },
  {
   "cell_type": "code",
   "execution_count": 10,
   "metadata": {},
   "outputs": [],
   "source": [
    "df.to_csv('train.csv', index=False)\n",
    "# df[20:].to_csv('train.csv', index=False)\n",
    "# df[:20].to_csv('test.csv', index=False)\n"
   ]
  }
 ],
 "metadata": {
  "kernelspec": {
   "display_name": "llm_jupyter",
   "language": "python",
   "name": "python3"
  },
  "language_info": {
   "codemirror_mode": {
    "name": "ipython",
    "version": 3
   },
   "file_extension": ".py",
   "mimetype": "text/x-python",
   "name": "python",
   "nbconvert_exporter": "python",
   "pygments_lexer": "ipython3",
   "version": "3.10.13"
  }
 },
 "nbformat": 4,
 "nbformat_minor": 2
}
