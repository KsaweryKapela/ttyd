{
 "cells": [
  {
   "cell_type": "code",
   "execution_count": 1,
   "metadata": {},
   "outputs": [
    {
     "name": "stderr",
     "output_type": "stream",
     "text": [
      "/home/ksaff/miniconda3/envs/llm_jupyter/lib/python3.10/site-packages/tqdm/auto.py:21: TqdmWarning: IProgress not found. Please update jupyter and ipywidgets. See https://ipywidgets.readthedocs.io/en/stable/user_install.html\n",
      "  from .autonotebook import tqdm as notebook_tqdm\n",
      "Special tokens have been added in the vocabulary, make sure the associated word embeddings are fine-tuned or trained.\n",
      "Loading checkpoint shards: 100%|██████████| 2/2 [00:10<00:00,  5.05s/it]\n"
     ]
    }
   ],
   "source": [
    "import torch\n",
    "import gc\n",
    "from transformers import AutoTokenizer, LlamaForCausalLM\n",
    "\n",
    "\n",
    "gc.collect()\n",
    "torch.cuda.empty_cache()\n",
    "model_directory = \"/home/ksaff/Desktop/ttyd/query_llama\"\n",
    "tokenizer = AutoTokenizer.from_pretrained(model_directory)\n",
    "model = LlamaForCausalLM.from_pretrained(model_directory,\n",
    "                                         load_in_8bit=True,\n",
    "                                         device_map={'': 0})"
   ]
  },
  {
   "cell_type": "code",
   "execution_count": 2,
   "metadata": {},
   "outputs": [],
   "source": [
    "ddl = \"\"\"CREATE TABLE Customers (\n",
    "    id INTEGER PRIMARY KEY AUTOINCREMENT,\n",
    "    name TEXT,\n",
    "    email TEXT,\n",
    "    DOB DATE\n",
    ");\n",
    "\n",
    "CREATE TABLE Orders (\n",
    "    orderID INTEGER PRIMARY KEY AUTOINCREMENT,\n",
    "    customerID INTEGER,\n",
    "    productID INTEGER,\n",
    "    quantity INTEGER,\n",
    "    orderDate TIMESTAMP\n",
    ");\n",
    "\n",
    "CREATE TABLE Products (\n",
    "    productID INTEGER PRIMARY KEY AUTOINCREMENT,\n",
    "    name TEXT,\n",
    "    category TEXT,\n",
    "    price DECIMAL(10, 2),\n",
    "    inStock INTEGER\n",
    ");\n",
    "\n",
    "CREATE TABLE Employees (\n",
    "    empID INTEGER PRIMARY KEY AUTOINCREMENT,\n",
    "    firstName TEXT,\n",
    "    lastName TEXT,\n",
    "    position TEXT,\n",
    "    salary INTEGER\n",
    ");\n",
    "\n",
    "CREATE TABLE Inventory (\n",
    "    productID INTEGER,\n",
    "    location TEXT,\n",
    "    quantity INTEGER\n",
    ");\"\"\""
   ]
  },
  {
   "cell_type": "code",
   "execution_count": 58,
   "metadata": {},
   "outputs": [],
   "source": [
    "import os\n",
    "\n",
    "input = ddl\n",
    "prompt = 'Make SQLite query based on DDL and instruction.'\n",
    "instruction = \"What are the types of our products?\"\n",
    "text = (\n",
    "    prompt\n",
    "    + '### Instruction:\\n'\n",
    "    + instruction\n",
    "    + '### Input:\\n'\n",
    "    + input\n",
    "    + '### Response:\\n'\n",
    ")"
   ]
  },
  {
   "cell_type": "code",
   "execution_count": 59,
   "metadata": {},
   "outputs": [],
   "source": [
    "input_ids = tokenizer.encode(text, return_tensors='pt')\n",
    "input_ids = input_ids.to('cuda')"
   ]
  },
  {
   "cell_type": "code",
   "execution_count": 60,
   "metadata": {},
   "outputs": [],
   "source": [
    "output = model.generate(input_ids, max_length=1000, temperature=0.3, num_return_sequences=1)"
   ]
  },
  {
   "cell_type": "code",
   "execution_count": 61,
   "metadata": {},
   "outputs": [
    {
     "data": {
      "text/plain": [
       "'SELECT category FROM Products;'"
      ]
     },
     "execution_count": 61,
     "metadata": {},
     "output_type": "execute_result"
    }
   ],
   "source": [
    "import re\n",
    "\n",
    "generated_text = tokenizer.decode(output[0], skip_special_tokens=True)\n",
    "\n",
    "match = re.search(r'### Response:\\s*(.*)', generated_text)\n",
    "response = match.group(1)\n",
    "response"
   ]
  },
  {
   "cell_type": "code",
   "execution_count": 62,
   "metadata": {},
   "outputs": [],
   "source": [
    "import sqlite3\n",
    "from dotenv import load_dotenv\n",
    "load_dotenv()\n",
    "\n",
    "conn = sqlite3.connect('/home/ksaff/Desktop/ttyd/ComplexDB.db')\n",
    "c = conn.cursor()\n",
    "\n",
    "def execute_query(query):\n",
    "\n",
    "    c.execute(query)\n",
    "    result = c.fetchall()\n",
    "\n",
    "    # Extract column names\n",
    "    columns = [desc[0] for desc in c.description]\n",
    "    \n",
    "    # Prepare the response\n",
    "    response = {\"query\": query, \"headers\": columns, \"data\": result}\n",
    "\n",
    "    return response"
   ]
  },
  {
   "cell_type": "code",
   "execution_count": 63,
   "metadata": {},
   "outputs": [
    {
     "name": "stdout",
     "output_type": "stream",
     "text": [
      "User instruction: What are the types of our products?\n",
      "model output: SELECT category FROM Products;\n"
     ]
    },
    {
     "data": {
      "text/plain": [
       "('Result query:',\n",
       " [('Clothing',),\n",
       "  ('Home',),\n",
       "  ('Electronics',),\n",
       "  ('Home',),\n",
       "  ('Clothing',),\n",
       "  ('Clothing',),\n",
       "  ('Toys',),\n",
       "  ('Clothing',),\n",
       "  ('Electronics',),\n",
       "  ('Books',),\n",
       "  ('Home',),\n",
       "  ('Electronics',),\n",
       "  ('Toys',),\n",
       "  ('Toys',),\n",
       "  ('Books',),\n",
       "  ('Electronics',),\n",
       "  ('Books',),\n",
       "  ('Clothing',),\n",
       "  ('Home',),\n",
       "  ('Electronics',),\n",
       "  ('Clothing',),\n",
       "  ('Books',),\n",
       "  ('Toys',),\n",
       "  ('Home',),\n",
       "  ('Toys',),\n",
       "  ('Clothing',),\n",
       "  ('Electronics',),\n",
       "  ('Books',),\n",
       "  ('Home',),\n",
       "  ('Books',),\n",
       "  ('Books',),\n",
       "  ('Electronics',),\n",
       "  ('Home',),\n",
       "  ('Toys',),\n",
       "  ('Home',),\n",
       "  ('Books',),\n",
       "  ('Electronics',),\n",
       "  ('Toys',),\n",
       "  ('Books',),\n",
       "  ('Toys',),\n",
       "  ('Clothing',),\n",
       "  ('Electronics',),\n",
       "  ('Books',),\n",
       "  ('Clothing',),\n",
       "  ('Electronics',),\n",
       "  ('Home',),\n",
       "  ('Toys',),\n",
       "  ('Books',),\n",
       "  ('Books',),\n",
       "  ('Clothing',),\n",
       "  ('Electronics',),\n",
       "  ('Toys',),\n",
       "  ('Clothing',),\n",
       "  ('Electronics',),\n",
       "  ('Toys',),\n",
       "  ('Electronics',),\n",
       "  ('Home',),\n",
       "  ('Home',),\n",
       "  ('Clothing',),\n",
       "  ('Electronics',),\n",
       "  ('Clothing',),\n",
       "  ('Toys',),\n",
       "  ('Toys',),\n",
       "  ('Toys',),\n",
       "  ('Toys',),\n",
       "  ('Toys',),\n",
       "  ('Books',),\n",
       "  ('Electronics',),\n",
       "  ('Clothing',),\n",
       "  ('Electronics',),\n",
       "  ('Home',),\n",
       "  ('Home',),\n",
       "  ('Electronics',),\n",
       "  ('Electronics',),\n",
       "  ('Clothing',),\n",
       "  ('Electronics',),\n",
       "  ('Home',),\n",
       "  ('Books',),\n",
       "  ('Electronics',),\n",
       "  ('Clothing',),\n",
       "  ('Home',),\n",
       "  ('Home',),\n",
       "  ('Home',),\n",
       "  ('Books',),\n",
       "  ('Home',),\n",
       "  ('Toys',),\n",
       "  ('Books',),\n",
       "  ('Home',),\n",
       "  ('Toys',),\n",
       "  ('Books',),\n",
       "  ('Toys',),\n",
       "  ('Home',),\n",
       "  ('Home',),\n",
       "  ('Electronics',),\n",
       "  ('Books',),\n",
       "  ('Toys',),\n",
       "  ('Electronics',),\n",
       "  ('Clothing',),\n",
       "  ('Home',),\n",
       "  ('Books',)])"
      ]
     },
     "execution_count": 63,
     "metadata": {},
     "output_type": "execute_result"
    }
   ],
   "source": [
    "result = execute_query(response)\n",
    "print(f'User instruction: {instruction}')\n",
    "print(f'model output: {response}')\n",
    "'Result query:', result['data']"
   ]
  }
 ],
 "metadata": {
  "kernelspec": {
   "display_name": "llm_jupyter",
   "language": "python",
   "name": "python3"
  },
  "language_info": {
   "codemirror_mode": {
    "name": "ipython",
    "version": 3
   },
   "file_extension": ".py",
   "mimetype": "text/x-python",
   "name": "python",
   "nbconvert_exporter": "python",
   "pygments_lexer": "ipython3",
   "version": "3.10.13"
  }
 },
 "nbformat": 4,
 "nbformat_minor": 2
}
