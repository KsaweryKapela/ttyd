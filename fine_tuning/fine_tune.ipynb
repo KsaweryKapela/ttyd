{
 "cells": [
  {
   "cell_type": "code",
   "execution_count": null,
   "metadata": {},
   "outputs": [
    {
     "name": "stdout",
     "output_type": "stream",
     "text": [
      "/home/ksaff/.cache/huggingface/hub/models--mistralai--Mistral-7B-v0.1/snapshots/26bca36bde8333b5d7f72e9ed20ccda6a618af24/model.safetensors.index.json\n",
      "['/home/ksaff/.cache/huggingface/hub/models--mistralai--Mistral-7B-v0.1/snapshots/26bca36bde8333b5d7f72e9ed20ccda6a618af24/model-00001-of-00002.safetensors', '/home/ksaff/.cache/huggingface/hub/models--mistralai--Mistral-7B-v0.1/snapshots/26bca36bde8333b5d7f72e9ed20ccda6a618af24/model-00002-of-00002.safetensors']\n"
     ]
    },
    {
     "name": "stderr",
     "output_type": "stream",
     "text": [
      "\n",
      "  0%|          | 0/200 [07:47<?, ?it/s]\n",
      "\n",
      "\u001b[A\n",
      "Loading checkpoint shards: 100%|██████████| 2/2 [00:02<00:00,  1.42s/it]\n",
      "Special tokens have been added in the vocabulary, make sure the associated word embeddings are fine-tuned or trained.\n"
     ]
    },
    {
     "name": "stderr",
     "output_type": "stream",
     "text": [
      "[codecarbon INFO @ 15:35:53] Energy consumed for RAM : 0.001267 kWh. RAM Power : 11.698551177978516 W\n",
      "[codecarbon INFO @ 15:35:53] Energy consumed for all GPUs : 0.005735 kWh. Total GPU Power : 138.66 W\n",
      "[codecarbon INFO @ 15:35:53] Energy consumed for all CPUs : 0.004604 kWh. Total CPU Power : 42.5 W\n",
      "[codecarbon INFO @ 15:35:53] 0.011606 kWh of electricity used since the beginning.\n"
     ]
    }
   ],
   "source": [
    "import os\n",
    "import torch\n",
    "import torch.nn as nn\n",
    "import bitsandbytes as bnb\n",
    "from transformers import AutoTokenizer, AutoConfig, AutoModelForCausalLM\n",
    "\n",
    "os.environ[\"CODECARBON_DISABLE\"] = \"1\"\n",
    "model_id = \"mistralai/Mistral-7B-v0.1\"\n",
    "\n",
    "model = AutoModelForCausalLM.from_pretrained(model_id, load_in_4bit=True, device_map={'': 0})\n",
    "tokenizer = AutoTokenizer.from_pretrained(model_id, padding='max_length')"
   ]
  },
  {
   "cell_type": "code",
   "execution_count": 32,
   "metadata": {},
   "outputs": [],
   "source": [
    "from peft import prepare_model_for_kbit_training\n",
    "\n",
    "model = prepare_model_for_kbit_training(model)"
   ]
  },
  {
   "cell_type": "code",
   "execution_count": 33,
   "metadata": {},
   "outputs": [],
   "source": [
    "def print_trainable_parameters(model):\n",
    "    \"\"\"\n",
    "    Prints the number of trainable parameters in the model.\n",
    "    \"\"\"\n",
    "    trainable_params = 0\n",
    "    all_param = 0\n",
    "    for _, param in model.named_parameters():\n",
    "        all_param += param.numel()\n",
    "        if param.requires_grad:\n",
    "            trainable_params += param.numel()\n",
    "    print(\n",
    "        f\"trainable params: {trainable_params} || all params: {all_param} || trainable%: {100 * trainable_params / all_param}\"\n",
    "    )"
   ]
  },
  {
   "cell_type": "code",
   "execution_count": 34,
   "metadata": {},
   "outputs": [
    {
     "name": "stdout",
     "output_type": "stream",
     "text": [
      "trainable params: 6815744 || all params: 3758886912 || trainable%: 0.18132346515244138\n"
     ]
    }
   ],
   "source": [
    "from peft import LoraConfig, get_peft_model\n",
    "\n",
    "config = LoraConfig(\n",
    "    r=16, lora_alpha=32, target_modules=[\"q_proj\", \"v_proj\"], lora_dropout=0.05, bias=\"none\", task_type=\"CAUSAL_LM\"\n",
    ")\n",
    "\n",
    "model = get_peft_model(model, config)\n",
    "print_trainable_parameters(model)"
   ]
  },
  {
   "cell_type": "code",
   "execution_count": 35,
   "metadata": {},
   "outputs": [],
   "source": [
    "import transformers\n",
    "from datasets import load_dataset\n",
    "\n",
    "data = load_dataset(\"/home/ksaff/Desktop/ttyd/fine_tuning/dataset/\")"
   ]
  },
  {
   "cell_type": "code",
   "execution_count": 36,
   "metadata": {},
   "outputs": [
    {
     "name": "stderr",
     "output_type": "stream",
     "text": []
    },
    {
     "name": "stderr",
     "output_type": "stream",
     "text": [
      "Map: 100%|██████████| 1051/1051 [00:00<00:00, 41539.50 examples/s]\n"
     ]
    }
   ],
   "source": [
    "data = data.map(lambda samples: tokenizer(samples[\"text\"]), batched=True)"
   ]
  },
  {
   "cell_type": "code",
   "execution_count": 38,
   "metadata": {},
   "outputs": [],
   "source": [
    "tokenizer.pad_token = tokenizer.eos_token"
   ]
  },
  {
   "cell_type": "code",
   "execution_count": null,
   "metadata": {},
   "outputs": [
    {
     "name": "stderr",
     "output_type": "stream",
     "text": [
      "[codecarbon INFO @ 15:36:26] [setup] RAM Tracking...\n",
      "[codecarbon INFO @ 15:36:26] [setup] GPU Tracking...\n",
      "[codecarbon INFO @ 15:36:26] Tracking Nvidia GPU via pynvml\n",
      "[codecarbon INFO @ 15:36:26] [setup] CPU Tracking...\n",
      "[codecarbon WARNING @ 15:36:26] No CPU tracking mode found. Falling back on CPU constant mode.\n",
      "[codecarbon WARNING @ 15:36:27] We saw that you have a 13th Gen Intel(R) Core(TM) i5-13600KF but we don't know it. Please contact us.\n",
      "[codecarbon INFO @ 15:36:27] CPU Model on constant consumption mode: 13th Gen Intel(R) Core(TM) i5-13600KF\n",
      "[codecarbon INFO @ 15:36:27] >>> Tracker's metadata:\n",
      "[codecarbon INFO @ 15:36:27]   Platform system: Linux-6.2.0-39-generic-x86_64-with-glibc2.35\n",
      "[codecarbon INFO @ 15:36:27]   Python version: 3.10.13\n",
      "[codecarbon INFO @ 15:36:27]   CodeCarbon version: 2.2.3\n",
      "[codecarbon INFO @ 15:36:27]   Available RAM : 31.196 GB\n",
      "[codecarbon INFO @ 15:36:27]   CPU count: 20\n",
      "[codecarbon INFO @ 15:36:27]   CPU model: 13th Gen Intel(R) Core(TM) i5-13600KF\n",
      "[codecarbon INFO @ 15:36:27]   GPU count: 1\n",
      "[codecarbon INFO @ 15:36:27]   GPU model: 1 x NVIDIA GeForce RTX 3090\n",
      "  0%|          | 0/200 [07:07<?, ?it/s]\n",
      "  0%|          | 0/200 [00:00<?, ?it/s]/home/ksaff/miniconda3/envs/llm_jupyter/lib/python3.10/site-packages/torch/utils/checkpoint.py:429: UserWarning: torch.utils.checkpoint: please pass in use_reentrant=True or use_reentrant=False explicitly. The default value of use_reentrant will be updated to be False in the future. To maintain current behavior, pass use_reentrant=True. It is recommended that you use use_reentrant=False. Refer to docs for more details on the differences between the two variants.\n",
      "  warnings.warn(\n",
      "/home/ksaff/miniconda3/envs/llm_jupyter/lib/python3.10/site-packages/bitsandbytes/nn/modules.py:224: UserWarning: Input type into Linear4bit is torch.float16, but bnb_4bit_compute_type=torch.float32 (default). This will lead to slow inference or training speed.\n",
      "  warnings.warn(f'Input type into Linear4bit is torch.float16, but bnb_4bit_compute_type=torch.float32 (default). This will lead to slow inference or training speed.')\n",
      "/home/ksaff/miniconda3/envs/llm_jupyter/lib/python3.10/site-packages/torch/utils/checkpoint.py:429: UserWarning: torch.utils.checkpoint: please pass in use_reentrant=True or use_reentrant=False explicitly. The default value of use_reentrant will be updated to be False in the future. To maintain current behavior, pass use_reentrant=True. It is recommended that you use use_reentrant=False. Refer to docs for more details on the differences between the two variants.\n",
      "  warnings.warn(\n",
      "/home/ksaff/miniconda3/envs/llm_jupyter/lib/python3.10/site-packages/torch/utils/checkpoint.py:429: UserWarning: torch.utils.checkpoint: please pass in use_reentrant=True or use_reentrant=False explicitly. The default value of use_reentrant will be updated to be False in the future. To maintain current behavior, pass use_reentrant=True. It is recommended that you use use_reentrant=False. Refer to docs for more details on the differences between the two variants.\n",
      "  warnings.warn(\n",
      "/home/ksaff/miniconda3/envs/llm_jupyter/lib/python3.10/site-packages/torch/utils/checkpoint.py:429: UserWarning: torch.utils.checkpoint: please pass in use_reentrant=True or use_reentrant=False explicitly. The default value of use_reentrant will be updated to be False in the future. To maintain current behavior, pass use_reentrant=True. It is recommended that you use use_reentrant=False. Refer to docs for more details on the differences between the two variants.\n",
      "  warnings.warn(\n",
      "/home/ksaff/miniconda3/envs/llm_jupyter/lib/python3.10/site-packages/torch/utils/checkpoint.py:429: UserWarning: torch.utils.checkpoint: please pass in use_reentrant=True or use_reentrant=False explicitly. The default value of use_reentrant will be updated to be False in the future. To maintain current behavior, pass use_reentrant=True. It is recommended that you use use_reentrant=False. Refer to docs for more details on the differences between the two variants.\n",
      "  warnings.warn(\n",
      "/home/ksaff/miniconda3/envs/llm_jupyter/lib/python3.10/site-packages/torch/utils/checkpoint.py:429: UserWarning: torch.utils.checkpoint: please pass in use_reentrant=True or use_reentrant=False explicitly. The default value of use_reentrant will be updated to be False in the future. To maintain current behavior, pass use_reentrant=True. It is recommended that you use use_reentrant=False. Refer to docs for more details on the differences between the two variants.\n",
      "  warnings.warn(\n",
      "/home/ksaff/miniconda3/envs/llm_jupyter/lib/python3.10/site-packages/torch/utils/checkpoint.py:429: UserWarning: torch.utils.checkpoint: please pass in use_reentrant=True or use_reentrant=False explicitly. The default value of use_reentrant will be updated to be False in the future. To maintain current behavior, pass use_reentrant=True. It is recommended that you use use_reentrant=False. Refer to docs for more details on the differences between the two variants.\n",
      "  warnings.warn(\n",
      "/home/ksaff/miniconda3/envs/llm_jupyter/lib/python3.10/site-packages/torch/utils/checkpoint.py:429: UserWarning: torch.utils.checkpoint: please pass in use_reentrant=True or use_reentrant=False explicitly. The default value of use_reentrant will be updated to be False in the future. To maintain current behavior, pass use_reentrant=True. It is recommended that you use use_reentrant=False. Refer to docs for more details on the differences between the two variants.\n",
      "  warnings.warn(\n",
      "/home/ksaff/miniconda3/envs/llm_jupyter/lib/python3.10/site-packages/torch/utils/checkpoint.py:429: UserWarning: torch.utils.checkpoint: please pass in use_reentrant=True or use_reentrant=False explicitly. The default value of use_reentrant will be updated to be False in the future. To maintain current behavior, pass use_reentrant=True. It is recommended that you use use_reentrant=False. Refer to docs for more details on the differences between the two variants.\n",
      "  warnings.warn(\n",
      "/home/ksaff/miniconda3/envs/llm_jupyter/lib/python3.10/site-packages/torch/utils/checkpoint.py:429: UserWarning: torch.utils.checkpoint: please pass in use_reentrant=True or use_reentrant=False explicitly. The default value of use_reentrant will be updated to be False in the future. To maintain current behavior, pass use_reentrant=True. It is recommended that you use use_reentrant=False. Refer to docs for more details on the differences between the two variants.\n",
      "  warnings.warn(\n",
      "/home/ksaff/miniconda3/envs/llm_jupyter/lib/python3.10/site-packages/torch/utils/checkpoint.py:429: UserWarning: torch.utils.checkpoint: please pass in use_reentrant=True or use_reentrant=False explicitly. The default value of use_reentrant will be updated to be False in the future. To maintain current behavior, pass use_reentrant=True. It is recommended that you use use_reentrant=False. Refer to docs for more details on the differences between the two variants.\n",
      "  warnings.warn(\n",
      "/home/ksaff/miniconda3/envs/llm_jupyter/lib/python3.10/site-packages/torch/utils/checkpoint.py:429: UserWarning: torch.utils.checkpoint: please pass in use_reentrant=True or use_reentrant=False explicitly. The default value of use_reentrant will be updated to be False in the future. To maintain current behavior, pass use_reentrant=True. It is recommended that you use use_reentrant=False. Refer to docs for more details on the differences between the two variants.\n",
      "  warnings.warn(\n",
      "/home/ksaff/miniconda3/envs/llm_jupyter/lib/python3.10/site-packages/torch/utils/checkpoint.py:429: UserWarning: torch.utils.checkpoint: please pass in use_reentrant=True or use_reentrant=False explicitly. The default value of use_reentrant will be updated to be False in the future. To maintain current behavior, pass use_reentrant=True. It is recommended that you use use_reentrant=False. Refer to docs for more details on the differences between the two variants.\n",
      "  warnings.warn(\n",
      "/home/ksaff/miniconda3/envs/llm_jupyter/lib/python3.10/site-packages/torch/utils/checkpoint.py:429: UserWarning: torch.utils.checkpoint: please pass in use_reentrant=True or use_reentrant=False explicitly. The default value of use_reentrant will be updated to be False in the future. To maintain current behavior, pass use_reentrant=True. It is recommended that you use use_reentrant=False. Refer to docs for more details on the differences between the two variants.\n",
      "  warnings.warn(\n",
      "/home/ksaff/miniconda3/envs/llm_jupyter/lib/python3.10/site-packages/torch/utils/checkpoint.py:429: UserWarning: torch.utils.checkpoint: please pass in use_reentrant=True or use_reentrant=False explicitly. The default value of use_reentrant will be updated to be False in the future. To maintain current behavior, pass use_reentrant=True. It is recommended that you use use_reentrant=False. Refer to docs for more details on the differences between the two variants.\n",
      "  warnings.warn(\n",
      "/home/ksaff/miniconda3/envs/llm_jupyter/lib/python3.10/site-packages/torch/utils/checkpoint.py:429: UserWarning: torch.utils.checkpoint: please pass in use_reentrant=True or use_reentrant=False explicitly. The default value of use_reentrant will be updated to be False in the future. To maintain current behavior, pass use_reentrant=True. It is recommended that you use use_reentrant=False. Refer to docs for more details on the differences between the two variants.\n",
      "  warnings.warn(\n",
      "/home/ksaff/miniconda3/envs/llm_jupyter/lib/python3.10/site-packages/torch/utils/checkpoint.py:429: UserWarning: torch.utils.checkpoint: please pass in use_reentrant=True or use_reentrant=False explicitly. The default value of use_reentrant will be updated to be False in the future. To maintain current behavior, pass use_reentrant=True. It is recommended that you use use_reentrant=False. Refer to docs for more details on the differences between the two variants.\n",
      "  warnings.warn(\n",
      "/home/ksaff/miniconda3/envs/llm_jupyter/lib/python3.10/site-packages/torch/utils/checkpoint.py:429: UserWarning: torch.utils.checkpoint: please pass in use_reentrant=True or use_reentrant=False explicitly. The default value of use_reentrant will be updated to be False in the future. To maintain current behavior, pass use_reentrant=True. It is recommended that you use use_reentrant=False. Refer to docs for more details on the differences between the two variants.\n",
      "  warnings.warn(\n",
      "/home/ksaff/miniconda3/envs/llm_jupyter/lib/python3.10/site-packages/torch/utils/checkpoint.py:429: UserWarning: torch.utils.checkpoint: please pass in use_reentrant=True or use_reentrant=False explicitly. The default value of use_reentrant will be updated to be False in the future. To maintain current behavior, pass use_reentrant=True. It is recommended that you use use_reentrant=False. Refer to docs for more details on the differences between the two variants.\n",
      "  warnings.warn(\n",
      "/home/ksaff/miniconda3/envs/llm_jupyter/lib/python3.10/site-packages/torch/utils/checkpoint.py:429: UserWarning: torch.utils.checkpoint: please pass in use_reentrant=True or use_reentrant=False explicitly. The default value of use_reentrant will be updated to be False in the future. To maintain current behavior, pass use_reentrant=True. It is recommended that you use use_reentrant=False. Refer to docs for more details on the differences between the two variants.\n",
      "  warnings.warn(\n",
      "/home/ksaff/miniconda3/envs/llm_jupyter/lib/python3.10/site-packages/torch/utils/checkpoint.py:429: UserWarning: torch.utils.checkpoint: please pass in use_reentrant=True or use_reentrant=False explicitly. The default value of use_reentrant will be updated to be False in the future. To maintain current behavior, pass use_reentrant=True. It is recommended that you use use_reentrant=False. Refer to docs for more details on the differences between the two variants.\n",
      "  warnings.warn(\n",
      "/home/ksaff/miniconda3/envs/llm_jupyter/lib/python3.10/site-packages/torch/utils/checkpoint.py:429: UserWarning: torch.utils.checkpoint: please pass in use_reentrant=True or use_reentrant=False explicitly. The default value of use_reentrant will be updated to be False in the future. To maintain current behavior, pass use_reentrant=True. It is recommended that you use use_reentrant=False. Refer to docs for more details on the differences between the two variants.\n",
      "  warnings.warn(\n",
      "/home/ksaff/miniconda3/envs/llm_jupyter/lib/python3.10/site-packages/torch/utils/checkpoint.py:429: UserWarning: torch.utils.checkpoint: please pass in use_reentrant=True or use_reentrant=False explicitly. The default value of use_reentrant will be updated to be False in the future. To maintain current behavior, pass use_reentrant=True. It is recommended that you use use_reentrant=False. Refer to docs for more details on the differences between the two variants.\n",
      "  warnings.warn(\n",
      "/home/ksaff/miniconda3/envs/llm_jupyter/lib/python3.10/site-packages/torch/utils/checkpoint.py:429: UserWarning: torch.utils.checkpoint: please pass in use_reentrant=True or use_reentrant=False explicitly. The default value of use_reentrant will be updated to be False in the future. To maintain current behavior, pass use_reentrant=True. It is recommended that you use use_reentrant=False. Refer to docs for more details on the differences between the two variants.\n",
      "  warnings.warn(\n",
      "/home/ksaff/miniconda3/envs/llm_jupyter/lib/python3.10/site-packages/torch/utils/checkpoint.py:429: UserWarning: torch.utils.checkpoint: please pass in use_reentrant=True or use_reentrant=False explicitly. The default value of use_reentrant will be updated to be False in the future. To maintain current behavior, pass use_reentrant=True. It is recommended that you use use_reentrant=False. Refer to docs for more details on the differences between the two variants.\n",
      "  warnings.warn(\n",
      "/home/ksaff/miniconda3/envs/llm_jupyter/lib/python3.10/site-packages/torch/utils/checkpoint.py:429: UserWarning: torch.utils.checkpoint: please pass in use_reentrant=True or use_reentrant=False explicitly. The default value of use_reentrant will be updated to be False in the future. To maintain current behavior, pass use_reentrant=True. It is recommended that you use use_reentrant=False. Refer to docs for more details on the differences between the two variants.\n",
      "  warnings.warn(\n",
      "/home/ksaff/miniconda3/envs/llm_jupyter/lib/python3.10/site-packages/torch/utils/checkpoint.py:429: UserWarning: torch.utils.checkpoint: please pass in use_reentrant=True or use_reentrant=False explicitly. The default value of use_reentrant will be updated to be False in the future. To maintain current behavior, pass use_reentrant=True. It is recommended that you use use_reentrant=False. Refer to docs for more details on the differences between the two variants.\n",
      "  warnings.warn(\n",
      "/home/ksaff/miniconda3/envs/llm_jupyter/lib/python3.10/site-packages/torch/utils/checkpoint.py:429: UserWarning: torch.utils.checkpoint: please pass in use_reentrant=True or use_reentrant=False explicitly. The default value of use_reentrant will be updated to be False in the future. To maintain current behavior, pass use_reentrant=True. It is recommended that you use use_reentrant=False. Refer to docs for more details on the differences between the two variants.\n",
      "  warnings.warn(\n",
      "/home/ksaff/miniconda3/envs/llm_jupyter/lib/python3.10/site-packages/torch/utils/checkpoint.py:429: UserWarning: torch.utils.checkpoint: please pass in use_reentrant=True or use_reentrant=False explicitly. The default value of use_reentrant will be updated to be False in the future. To maintain current behavior, pass use_reentrant=True. It is recommended that you use use_reentrant=False. Refer to docs for more details on the differences between the two variants.\n",
      "  warnings.warn(\n",
      "/home/ksaff/miniconda3/envs/llm_jupyter/lib/python3.10/site-packages/torch/utils/checkpoint.py:429: UserWarning: torch.utils.checkpoint: please pass in use_reentrant=True or use_reentrant=False explicitly. The default value of use_reentrant will be updated to be False in the future. To maintain current behavior, pass use_reentrant=True. It is recommended that you use use_reentrant=False. Refer to docs for more details on the differences between the two variants.\n",
      "  warnings.warn(\n",
      "/home/ksaff/miniconda3/envs/llm_jupyter/lib/python3.10/site-packages/torch/utils/checkpoint.py:429: UserWarning: torch.utils.checkpoint: please pass in use_reentrant=True or use_reentrant=False explicitly. The default value of use_reentrant will be updated to be False in the future. To maintain current behavior, pass use_reentrant=True. It is recommended that you use use_reentrant=False. Refer to docs for more details on the differences between the two variants.\n",
      "  warnings.warn(\n",
      "/home/ksaff/miniconda3/envs/llm_jupyter/lib/python3.10/site-packages/torch/utils/checkpoint.py:429: UserWarning: torch.utils.checkpoint: please pass in use_reentrant=True or use_reentrant=False explicitly. The default value of use_reentrant will be updated to be False in the future. To maintain current behavior, pass use_reentrant=True. It is recommended that you use use_reentrant=False. Refer to docs for more details on the differences between the two variants.\n",
      "  warnings.warn(\n",
      "[codecarbon INFO @ 15:36:31] Energy consumed for RAM : 0.001900 kWh. RAM Power : 11.698551177978516 W\n",
      "[codecarbon INFO @ 15:36:31] Energy consumed for all GPUs : 0.010126 kWh. Total GPU Power : 254.868 W\n",
      "[codecarbon INFO @ 15:36:31] Energy consumed for all CPUs : 0.006906 kWh. Total CPU Power : 42.5 W\n",
      "[codecarbon INFO @ 15:36:31] 0.018932 kWh of electricity used since the beginning.\n",
      "/home/ksaff/miniconda3/envs/llm_jupyter/lib/python3.10/site-packages/torch/utils/checkpoint.py:429: UserWarning: torch.utils.checkpoint: please pass in use_reentrant=True or use_reentrant=False explicitly. The default value of use_reentrant will be updated to be False in the future. To maintain current behavior, pass use_reentrant=True. It is recommended that you use use_reentrant=False. Refer to docs for more details on the differences between the two variants.\n",
      "  warnings.warn(\n",
      "                                               \n",
      "  0%|          | 1/200 [00:03<10:50,  3.27s/it]"
     ]
    },
    {
     "name": "stdout",
     "output_type": "stream",
     "text": [
      "{'loss': 2.7518, 'learning_rate': 2.0000000000000003e-06, 'epoch': 0.02}\n"
     ]
    },
    {
     "name": "stderr",
     "output_type": "stream",
     "text": [
      "[codecarbon INFO @ 15:36:34] Energy consumed for RAM : 0.001657 kWh. RAM Power : 11.698551177978516 W\n",
      "[codecarbon INFO @ 15:36:34] Energy consumed for all GPUs : 0.009599 kWh. Total GPU Power : 347.45500000000004 W\n",
      "[codecarbon INFO @ 15:36:34] Energy consumed for all CPUs : 0.006021 kWh. Total CPU Power : 42.5 W\n",
      "[codecarbon INFO @ 15:36:34] 0.017277 kWh of electricity used since the beginning.\n",
      "[codecarbon INFO @ 15:36:34] Energy consumed for RAM : 0.000097 kWh. RAM Power : 11.698551177978516 W\n",
      "[codecarbon INFO @ 15:36:34] Energy consumed for all GPUs : 0.001995 kWh. Total GPU Power : 348.754 W\n",
      "[codecarbon INFO @ 15:36:34] Energy consumed for all CPUs : 0.000354 kWh. Total CPU Power : 42.5 W\n",
      "[codecarbon INFO @ 15:36:34] 0.002446 kWh of electricity used since the beginning.\n",
      "                                               \n",
      "  1%|          | 2/200 [00:06<10:14,  3.10s/it]"
     ]
    },
    {
     "name": "stdout",
     "output_type": "stream",
     "text": [
      "{'loss': 2.6842, 'learning_rate': 4.000000000000001e-06, 'epoch': 0.03}\n"
     ]
    },
    {
     "name": "stderr",
     "output_type": "stream",
     "text": [
      "[codecarbon INFO @ 15:36:38] Energy consumed for RAM : 0.001413 kWh. RAM Power : 11.698551177978516 W\n",
      "[codecarbon INFO @ 15:36:38] Energy consumed for all GPUs : 0.007965 kWh. Total GPU Power : 353.362 W\n",
      "[codecarbon INFO @ 15:36:38] Energy consumed for all CPUs : 0.005135 kWh. Total CPU Power : 42.5 W\n",
      "[codecarbon INFO @ 15:36:38] 0.014513 kWh of electricity used since the beginning.\n",
      "                                               \n",
      "  2%|▏         | 3/200 [00:09<10:10,  3.10s/it]"
     ]
    },
    {
     "name": "stdout",
     "output_type": "stream",
     "text": [
      "{'loss': 2.5419, 'learning_rate': 6e-06, 'epoch': 0.05}\n"
     ]
    },
    {
     "name": "stderr",
     "output_type": "stream",
     "text": [
      "                                               \n",
      "  2%|▏         | 4/200 [00:12<09:52,  3.02s/it]"
     ]
    },
    {
     "name": "stdout",
     "output_type": "stream",
     "text": [
      "{'loss': 2.6732, 'learning_rate': 8.000000000000001e-06, 'epoch': 0.06}\n"
     ]
    },
    {
     "name": "stderr",
     "output_type": "stream",
     "text": [
      "[codecarbon INFO @ 15:36:45] Energy consumed for RAM : 0.000049 kWh. RAM Power : 11.698551177978516 W\n",
      "[codecarbon INFO @ 15:36:45] Energy consumed for all GPUs : 0.001469 kWh. Total GPU Power : 352.41700000000003 W\n",
      "[codecarbon INFO @ 15:36:45] Energy consumed for all CPUs : 0.000177 kWh. Total CPU Power : 42.5 W\n",
      "[codecarbon INFO @ 15:36:45] 0.001694 kWh of electricity used since the beginning.\n",
      "                                               \n",
      "  2%|▎         | 5/200 [00:15<09:45,  3.00s/it]"
     ]
    },
    {
     "name": "stdout",
     "output_type": "stream",
     "text": [
      "{'loss': 2.705, 'learning_rate': 1e-05, 'epoch': 0.08}\n"
     ]
    },
    {
     "name": "stderr",
     "output_type": "stream",
     "text": [
      "[codecarbon INFO @ 15:36:46] Energy consumed for RAM : 0.001949 kWh. RAM Power : 11.698551177978516 W\n",
      "[codecarbon INFO @ 15:36:46] Energy consumed for all GPUs : 0.011589 kWh. Total GPU Power : 351.175 W\n",
      "[codecarbon INFO @ 15:36:46] Energy consumed for all CPUs : 0.007083 kWh. Total CPU Power : 42.5 W\n",
      "[codecarbon INFO @ 15:36:46] 0.020621 kWh of electricity used since the beginning.\n",
      "                                               \n",
      "  3%|▎         | 6/200 [00:18<09:43,  3.01s/it]"
     ]
    },
    {
     "name": "stdout",
     "output_type": "stream",
     "text": [
      "{'loss': 2.5208, 'learning_rate': 1.2e-05, 'epoch': 0.09}\n"
     ]
    },
    {
     "name": "stderr",
     "output_type": "stream",
     "text": [
      "[codecarbon INFO @ 15:36:49] Energy consumed for RAM : 0.001706 kWh. RAM Power : 11.698551177978516 W\n",
      "[codecarbon INFO @ 15:36:49] Energy consumed for all GPUs : 0.011070 kWh. Total GPU Power : 353.103 W\n",
      "[codecarbon INFO @ 15:36:49] Energy consumed for all CPUs : 0.006198 kWh. Total CPU Power : 42.5 W\n",
      "[codecarbon INFO @ 15:36:49] 0.018974 kWh of electricity used since the beginning.\n",
      "[codecarbon INFO @ 15:36:49] Energy consumed for RAM : 0.000146 kWh. RAM Power : 11.698551177978516 W\n",
      "[codecarbon INFO @ 15:36:49] Energy consumed for all GPUs : 0.003462 kWh. Total GPU Power : 352.205 W\n",
      "[codecarbon INFO @ 15:36:49] Energy consumed for all CPUs : 0.000531 kWh. Total CPU Power : 42.5 W\n",
      "[codecarbon INFO @ 15:36:49] 0.004139 kWh of electricity used since the beginning.\n",
      "                                               \n",
      "  4%|▎         | 7/200 [00:21<09:32,  2.97s/it]"
     ]
    },
    {
     "name": "stdout",
     "output_type": "stream",
     "text": [
      "{'loss': 2.6496, 'learning_rate': 1.4000000000000001e-05, 'epoch': 0.11}\n"
     ]
    },
    {
     "name": "stderr",
     "output_type": "stream",
     "text": [
      "[codecarbon INFO @ 15:36:53] Energy consumed for RAM : 0.001462 kWh. RAM Power : 11.698551177978516 W\n",
      "[codecarbon INFO @ 15:36:53] Energy consumed for all GPUs : 0.009431 kWh. Total GPU Power : 352.045 W\n",
      "[codecarbon INFO @ 15:36:53] Energy consumed for all CPUs : 0.005312 kWh. Total CPU Power : 42.5 W\n",
      "[codecarbon INFO @ 15:36:53] 0.016206 kWh of electricity used since the beginning.\n",
      "                                               \n",
      "  4%|▍         | 8/200 [00:24<09:34,  2.99s/it]"
     ]
    },
    {
     "name": "stdout",
     "output_type": "stream",
     "text": [
      "{'loss': 2.6661, 'learning_rate': 1.6000000000000003e-05, 'epoch': 0.12}\n"
     ]
    },
    {
     "name": "stderr",
     "output_type": "stream",
     "text": [
      "                                               \n",
      "  4%|▍         | 9/200 [00:27<09:26,  2.97s/it]"
     ]
    },
    {
     "name": "stdout",
     "output_type": "stream",
     "text": [
      "{'loss': 2.5096, 'learning_rate': 1.8e-05, 'epoch': 0.14}\n"
     ]
    },
    {
     "name": "stderr",
     "output_type": "stream",
     "text": [
      "                                                \n",
      "  5%|▌         | 10/200 [00:29<09:16,  2.93s/it][codecarbon INFO @ 15:37:00] Energy consumed for RAM : 0.000097 kWh. RAM Power : 11.698551177978516 W\n",
      "[codecarbon INFO @ 15:37:00] Energy consumed for all GPUs : 0.002933 kWh. Total GPU Power : 351.483 W\n",
      "[codecarbon INFO @ 15:37:00] Energy consumed for all CPUs : 0.000354 kWh. Total CPU Power : 42.5 W\n",
      "[codecarbon INFO @ 15:37:00] 0.003384 kWh of electricity used since the beginning.\n"
     ]
    },
    {
     "name": "stdout",
     "output_type": "stream",
     "text": [
      "{'loss': 2.5211, 'learning_rate': 2e-05, 'epoch': 0.15}\n"
     ]
    },
    {
     "name": "stderr",
     "output_type": "stream",
     "text": [
      "[codecarbon INFO @ 15:37:01] Energy consumed for RAM : 0.001998 kWh. RAM Power : 11.698551177978516 W\n",
      "[codecarbon INFO @ 15:37:01] Energy consumed for all GPUs : 0.013053 kWh. Total GPU Power : 351.503 W\n",
      "[codecarbon INFO @ 15:37:01] Energy consumed for all CPUs : 0.007260 kWh. Total CPU Power : 42.5 W\n",
      "[codecarbon INFO @ 15:37:01] 0.022311 kWh of electricity used since the beginning.\n",
      "                                                \n",
      "  6%|▌         | 11/200 [00:32<09:10,  2.91s/it]"
     ]
    },
    {
     "name": "stdout",
     "output_type": "stream",
     "text": [
      "{'loss': 2.5085, 'learning_rate': 2.2000000000000003e-05, 'epoch': 0.17}\n"
     ]
    },
    {
     "name": "stderr",
     "output_type": "stream",
     "text": [
      "[codecarbon INFO @ 15:37:04] Energy consumed for RAM : 0.001754 kWh. RAM Power : 11.698551177978516 W\n",
      "[codecarbon INFO @ 15:37:04] Energy consumed for all GPUs : 0.012533 kWh. Total GPU Power : 351.07 W\n",
      "[codecarbon INFO @ 15:37:04] Energy consumed for all CPUs : 0.006375 kWh. Total CPU Power : 42.5 W\n",
      "[codecarbon INFO @ 15:37:04] 0.020662 kWh of electricity used since the beginning.\n",
      "[codecarbon INFO @ 15:37:04] Energy consumed for RAM : 0.000195 kWh. RAM Power : 11.698551177978516 W\n",
      "[codecarbon INFO @ 15:37:04] Energy consumed for all GPUs : 0.004927 kWh. Total GPU Power : 351.606 W\n",
      "[codecarbon INFO @ 15:37:04] Energy consumed for all CPUs : 0.000708 kWh. Total CPU Power : 42.5 W\n",
      "[codecarbon INFO @ 15:37:04] 0.005830 kWh of electricity used since the beginning.\n",
      "                                                \n",
      "  6%|▌         | 12/200 [00:35<09:11,  2.93s/it]"
     ]
    },
    {
     "name": "stdout",
     "output_type": "stream",
     "text": [
      "{'loss': 2.4905, 'learning_rate': 2.4e-05, 'epoch': 0.18}\n"
     ]
    },
    {
     "name": "stderr",
     "output_type": "stream",
     "text": [
      "[codecarbon INFO @ 15:37:08] Energy consumed for RAM : 0.001511 kWh. RAM Power : 11.698551177978516 W\n",
      "[codecarbon INFO @ 15:37:08] Energy consumed for all GPUs : 0.010902 kWh. Total GPU Power : 352.992 W\n",
      "[codecarbon INFO @ 15:37:08] Energy consumed for all CPUs : 0.005490 kWh. Total CPU Power : 42.5 W\n",
      "[codecarbon INFO @ 15:37:08] 0.017902 kWh of electricity used since the beginning.\n",
      "                                                \n",
      "  6%|▋         | 13/200 [00:38<09:11,  2.95s/it]"
     ]
    },
    {
     "name": "stdout",
     "output_type": "stream",
     "text": [
      "{'loss': 2.2833, 'learning_rate': 2.6000000000000002e-05, 'epoch': 0.2}\n"
     ]
    },
    {
     "name": "stderr",
     "output_type": "stream",
     "text": [
      "                                                \n",
      "  7%|▋         | 14/200 [00:41<09:05,  2.94s/it]"
     ]
    },
    {
     "name": "stdout",
     "output_type": "stream",
     "text": [
      "{'loss': 2.3953, 'learning_rate': 2.8000000000000003e-05, 'epoch': 0.21}\n"
     ]
    },
    {
     "name": "stderr",
     "output_type": "stream",
     "text": [
      "                                                \n",
      "  8%|▊         | 15/200 [00:44<09:03,  2.94s/it]"
     ]
    },
    {
     "name": "stdout",
     "output_type": "stream",
     "text": [
      "{'loss': 2.385, 'learning_rate': 3e-05, 'epoch': 0.23}\n"
     ]
    },
    {
     "name": "stderr",
     "output_type": "stream",
     "text": [
      "[codecarbon INFO @ 15:37:15] Energy consumed for RAM : 0.000146 kWh. RAM Power : 11.698551177978516 W\n",
      "[codecarbon INFO @ 15:37:15] Energy consumed for all GPUs : 0.004403 kWh. Total GPU Power : 352.802 W\n",
      "[codecarbon INFO @ 15:37:15] Energy consumed for all CPUs : 0.000531 kWh. Total CPU Power : 42.5 W\n",
      "[codecarbon INFO @ 15:37:15] 0.005080 kWh of electricity used since the beginning.\n",
      "[codecarbon INFO @ 15:37:16] Energy consumed for RAM : 0.002047 kWh. RAM Power : 11.698551177978516 W\n",
      "[codecarbon INFO @ 15:37:16] Energy consumed for all GPUs : 0.014518 kWh. Total GPU Power : 351.605 W\n",
      "[codecarbon INFO @ 15:37:16] Energy consumed for all CPUs : 0.007438 kWh. Total CPU Power : 42.5 W\n",
      "[codecarbon INFO @ 15:37:16] 0.024002 kWh of electricity used since the beginning.\n",
      "                                                \n",
      "  8%|▊         | 16/200 [00:47<08:52,  2.89s/it]"
     ]
    },
    {
     "name": "stdout",
     "output_type": "stream",
     "text": [
      "{'loss': 2.2791, 'learning_rate': 3.2000000000000005e-05, 'epoch': 0.24}\n"
     ]
    },
    {
     "name": "stderr",
     "output_type": "stream",
     "text": [
      "[codecarbon INFO @ 15:37:19] Energy consumed for RAM : 0.001803 kWh. RAM Power : 11.698551177978516 W\n",
      "[codecarbon INFO @ 15:37:19] Energy consumed for all GPUs : 0.014004 kWh. Total GPU Power : 353.151 W\n",
      "[codecarbon INFO @ 15:37:19] Energy consumed for all CPUs : 0.006552 kWh. Total CPU Power : 42.5 W\n",
      "[codecarbon INFO @ 15:37:19] 0.022359 kWh of electricity used since the beginning.\n",
      "[codecarbon INFO @ 15:37:19] Energy consumed for RAM : 0.000244 kWh. RAM Power : 11.698551177978516 W\n",
      "[codecarbon INFO @ 15:37:19] Energy consumed for all GPUs : 0.006395 kWh. Total GPU Power : 352.413 W\n",
      "[codecarbon INFO @ 15:37:19] Energy consumed for all CPUs : 0.000885 kWh. Total CPU Power : 42.5 W\n",
      "[codecarbon INFO @ 15:37:19] 0.007524 kWh of electricity used since the beginning.\n",
      "                                                \n",
      "  8%|▊         | 17/200 [00:50<08:57,  2.94s/it]"
     ]
    },
    {
     "name": "stdout",
     "output_type": "stream",
     "text": [
      "{'loss': 2.1126, 'learning_rate': 3.4000000000000007e-05, 'epoch': 0.26}\n"
     ]
    },
    {
     "name": "stderr",
     "output_type": "stream",
     "text": [
      "[codecarbon INFO @ 15:37:23] Energy consumed for RAM : 0.001559 kWh. RAM Power : 11.698551177978516 W\n",
      "[codecarbon INFO @ 15:37:23] Energy consumed for all GPUs : 0.012372 kWh. Total GPU Power : 352.994 W\n",
      "[codecarbon INFO @ 15:37:23] Energy consumed for all CPUs : 0.005667 kWh. Total CPU Power : 42.5 W\n",
      "[codecarbon INFO @ 15:37:23] 0.019598 kWh of electricity used since the beginning.\n",
      "                                                \n",
      "  9%|▉         | 18/200 [00:53<08:42,  2.87s/it]"
     ]
    },
    {
     "name": "stdout",
     "output_type": "stream",
     "text": [
      "{'loss': 2.2582, 'learning_rate': 3.6e-05, 'epoch': 0.27}\n"
     ]
    },
    {
     "name": "stderr",
     "output_type": "stream",
     "text": [
      "                                                \n",
      " 10%|▉         | 19/200 [00:56<08:58,  2.98s/it]"
     ]
    },
    {
     "name": "stdout",
     "output_type": "stream",
     "text": [
      "{'loss': 1.9674, 'learning_rate': 3.8e-05, 'epoch': 0.29}\n"
     ]
    },
    {
     "name": "stderr",
     "output_type": "stream",
     "text": [
      "                                                \n",
      " 10%|█         | 20/200 [00:59<08:51,  2.95s/it]"
     ]
    },
    {
     "name": "stdout",
     "output_type": "stream",
     "text": [
      "{'loss': 1.9613, 'learning_rate': 4e-05, 'epoch': 0.3}\n"
     ]
    },
    {
     "name": "stderr",
     "output_type": "stream",
     "text": [
      "[codecarbon INFO @ 15:37:30] Energy consumed for RAM : 0.000195 kWh. RAM Power : 11.698551177978516 W\n",
      "[codecarbon INFO @ 15:37:30] Energy consumed for all GPUs : 0.005870 kWh. Total GPU Power : 352.142 W\n",
      "[codecarbon INFO @ 15:37:30] Energy consumed for all CPUs : 0.000708 kWh. Total CPU Power : 42.5 W\n",
      "[codecarbon INFO @ 15:37:30] 0.006773 kWh of electricity used since the beginning.\n",
      "[codecarbon INFO @ 15:37:31] Energy consumed for RAM : 0.002095 kWh. RAM Power : 11.698551177978516 W\n",
      "[codecarbon INFO @ 15:37:31] Energy consumed for all GPUs : 0.015987 kWh. Total GPU Power : 352.71500000000003 W\n",
      "[codecarbon INFO @ 15:37:31] Energy consumed for all CPUs : 0.007615 kWh. Total CPU Power : 42.5 W\n",
      "[codecarbon INFO @ 15:37:31] 0.025697 kWh of electricity used since the beginning.\n",
      "                                                \n",
      " 10%|█         | 21/200 [01:02<08:47,  2.95s/it]"
     ]
    },
    {
     "name": "stdout",
     "output_type": "stream",
     "text": [
      "{'loss': 1.902, 'learning_rate': 4.2e-05, 'epoch': 0.32}\n"
     ]
    },
    {
     "name": "stderr",
     "output_type": "stream",
     "text": [
      "[codecarbon INFO @ 15:37:34] Energy consumed for RAM : 0.001852 kWh. RAM Power : 11.698551177978516 W\n",
      "[codecarbon INFO @ 15:37:34] Energy consumed for all GPUs : 0.015470 kWh. Total GPU Power : 351.884 W\n",
      "[codecarbon INFO @ 15:37:34] Energy consumed for all CPUs : 0.006729 kWh. Total CPU Power : 42.5 W\n",
      "[codecarbon INFO @ 15:37:34] 0.024051 kWh of electricity used since the beginning.\n",
      "[codecarbon INFO @ 15:37:34] Energy consumed for RAM : 0.000292 kWh. RAM Power : 11.698551177978516 W\n",
      "[codecarbon INFO @ 15:37:34] Energy consumed for all GPUs : 0.007863 kWh. Total GPU Power : 352.594 W\n",
      "[codecarbon INFO @ 15:37:34] Energy consumed for all CPUs : 0.001063 kWh. Total CPU Power : 42.5 W\n",
      "[codecarbon INFO @ 15:37:34] 0.009218 kWh of electricity used since the beginning.\n",
      "                                                \n",
      " 11%|█         | 22/200 [01:05<08:50,  2.98s/it]"
     ]
    },
    {
     "name": "stdout",
     "output_type": "stream",
     "text": [
      "{'loss': 1.7601, 'learning_rate': 4.4000000000000006e-05, 'epoch': 0.33}\n"
     ]
    },
    {
     "name": "stderr",
     "output_type": "stream",
     "text": [
      "[codecarbon INFO @ 15:37:38] Energy consumed for RAM : 0.001608 kWh. RAM Power : 11.698551177978516 W\n",
      "[codecarbon INFO @ 15:37:38] Energy consumed for all GPUs : 0.013848 kWh. Total GPU Power : 354.1670000000001 W\n",
      "[codecarbon INFO @ 15:37:38] Energy consumed for all CPUs : 0.005844 kWh. Total CPU Power : 42.5 W\n",
      "[codecarbon INFO @ 15:37:38] 0.021300 kWh of electricity used since the beginning.\n",
      "                                                \n",
      " 12%|█▏        | 23/200 [01:08<08:55,  3.02s/it]"
     ]
    },
    {
     "name": "stdout",
     "output_type": "stream",
     "text": [
      "{'loss': 1.8715, 'learning_rate': 4.600000000000001e-05, 'epoch': 0.35}\n"
     ]
    },
    {
     "name": "stderr",
     "output_type": "stream",
     "text": [
      "                                                \n",
      " 12%|█▏        | 24/200 [01:11<08:54,  3.03s/it]"
     ]
    },
    {
     "name": "stdout",
     "output_type": "stream",
     "text": [
      "{'loss': 1.5854, 'learning_rate': 4.8e-05, 'epoch': 0.37}\n"
     ]
    },
    {
     "name": "stderr",
     "output_type": "stream",
     "text": [
      "                                                \n",
      " 12%|█▎        | 25/200 [01:14<08:41,  2.98s/it]"
     ]
    },
    {
     "name": "stdout",
     "output_type": "stream",
     "text": [
      "{'loss': 1.662, 'learning_rate': 5e-05, 'epoch': 0.38}\n"
     ]
    },
    {
     "name": "stderr",
     "output_type": "stream",
     "text": [
      "[codecarbon INFO @ 15:37:45] Energy consumed for RAM : 0.000244 kWh. RAM Power : 11.698551177978516 W\n",
      "[codecarbon INFO @ 15:37:45] Energy consumed for all GPUs : 0.007332 kWh. Total GPU Power : 351.015 W\n",
      "[codecarbon INFO @ 15:37:45] Energy consumed for all CPUs : 0.000885 kWh. Total CPU Power : 42.5 W\n",
      "[codecarbon INFO @ 15:37:45] 0.008461 kWh of electricity used since the beginning.\n",
      "[codecarbon INFO @ 15:37:46] Energy consumed for RAM : 0.002144 kWh. RAM Power : 11.698551177978516 W\n",
      "[codecarbon INFO @ 15:37:46] Energy consumed for all GPUs : 0.017451 kWh. Total GPU Power : 351.36 W\n",
      "[codecarbon INFO @ 15:37:46] Energy consumed for all CPUs : 0.007792 kWh. Total CPU Power : 42.5 W\n",
      "[codecarbon INFO @ 15:37:46] 0.027387 kWh of electricity used since the beginning.\n",
      "                                                \n",
      " 13%|█▎        | 26/200 [01:17<08:39,  2.99s/it]"
     ]
    },
    {
     "name": "stdout",
     "output_type": "stream",
     "text": [
      "{'loss': 1.492, 'learning_rate': 5.2000000000000004e-05, 'epoch': 0.4}\n"
     ]
    },
    {
     "name": "stderr",
     "output_type": "stream",
     "text": [
      "[codecarbon INFO @ 15:37:49] Energy consumed for RAM : 0.001901 kWh. RAM Power : 11.698551177978516 W\n",
      "[codecarbon INFO @ 15:37:49] Energy consumed for all GPUs : 0.016935 kWh. Total GPU Power : 351.692 W\n",
      "[codecarbon INFO @ 15:37:49] Energy consumed for all CPUs : 0.006906 kWh. Total CPU Power : 42.5 W\n",
      "[codecarbon INFO @ 15:37:49] 0.025742 kWh of electricity used since the beginning.\n",
      "[codecarbon INFO @ 15:37:49] Energy consumed for RAM : 0.000341 kWh. RAM Power : 11.698551177978516 W\n",
      "[codecarbon INFO @ 15:37:49] Energy consumed for all GPUs : 0.009333 kWh. Total GPU Power : 352.63100000000003 W\n",
      "[codecarbon INFO @ 15:37:49] Energy consumed for all CPUs : 0.001240 kWh. Total CPU Power : 42.5 W\n",
      "[codecarbon INFO @ 15:37:49] 0.010913 kWh of electricity used since the beginning.\n",
      "                                                \n",
      " 14%|█▎        | 27/200 [01:20<08:38,  3.00s/it]"
     ]
    },
    {
     "name": "stdout",
     "output_type": "stream",
     "text": [
      "{'loss': 1.3388, 'learning_rate': 5.4000000000000005e-05, 'epoch': 0.41}\n"
     ]
    },
    {
     "name": "stderr",
     "output_type": "stream",
     "text": [
      "[codecarbon INFO @ 15:37:53] Energy consumed for RAM : 0.001657 kWh. RAM Power : 11.698551177978516 W\n",
      "[codecarbon INFO @ 15:37:53] Energy consumed for all GPUs : 0.015315 kWh. Total GPU Power : 352.07 W\n",
      "[codecarbon INFO @ 15:37:53] Energy consumed for all CPUs : 0.006021 kWh. Total CPU Power : 42.5 W\n",
      "[codecarbon INFO @ 15:37:53] 0.022993 kWh of electricity used since the beginning.\n",
      "                                                \n",
      " 14%|█▍        | 28/200 [01:23<08:26,  2.95s/it]"
     ]
    },
    {
     "name": "stdout",
     "output_type": "stream",
     "text": [
      "{'loss': 1.3162, 'learning_rate': 5.6000000000000006e-05, 'epoch': 0.43}\n"
     ]
    },
    {
     "name": "stderr",
     "output_type": "stream",
     "text": [
      "                                                \n",
      " 14%|█▍        | 29/200 [01:26<08:24,  2.95s/it]"
     ]
    },
    {
     "name": "stdout",
     "output_type": "stream",
     "text": [
      "{'loss': 1.1971, 'learning_rate': 5.8e-05, 'epoch': 0.44}\n"
     ]
    },
    {
     "name": "stderr",
     "output_type": "stream",
     "text": [
      "                                                \n",
      " 15%|█▌        | 30/200 [01:28<08:14,  2.91s/it]"
     ]
    },
    {
     "name": "stdout",
     "output_type": "stream",
     "text": [
      "{'loss': 1.0948, 'learning_rate': 6e-05, 'epoch': 0.46}\n"
     ]
    },
    {
     "name": "stderr",
     "output_type": "stream",
     "text": [
      "[codecarbon INFO @ 15:38:00] Energy consumed for RAM : 0.000292 kWh. RAM Power : 11.698551177978516 W\n",
      "[codecarbon INFO @ 15:38:00] Energy consumed for all GPUs : 0.008803 kWh. Total GPU Power : 353.109 W\n",
      "[codecarbon INFO @ 15:38:00] Energy consumed for all CPUs : 0.001063 kWh. Total CPU Power : 42.5 W\n",
      "[codecarbon INFO @ 15:38:00] 0.010158 kWh of electricity used since the beginning.\n",
      "[codecarbon INFO @ 15:38:01] Energy consumed for RAM : 0.002193 kWh. RAM Power : 11.698551177978516 W\n",
      "[codecarbon INFO @ 15:38:01] Energy consumed for all GPUs : 0.018919 kWh. Total GPU Power : 352.366 W\n",
      "[codecarbon INFO @ 15:38:01] Energy consumed for all CPUs : 0.007969 kWh. Total CPU Power : 42.5 W\n",
      "[codecarbon INFO @ 15:38:01] 0.029081 kWh of electricity used since the beginning.\n",
      "                                                \n",
      " 16%|█▌        | 31/200 [01:31<08:12,  2.91s/it]"
     ]
    },
    {
     "name": "stdout",
     "output_type": "stream",
     "text": [
      "{'loss': 1.0032, 'learning_rate': 6.2e-05, 'epoch': 0.47}\n"
     ]
    },
    {
     "name": "stderr",
     "output_type": "stream",
     "text": [
      "[codecarbon INFO @ 15:38:04] Energy consumed for RAM : 0.001949 kWh. RAM Power : 11.698551177978516 W\n",
      "[codecarbon INFO @ 15:38:04] Energy consumed for all GPUs : 0.018413 kWh. Total GPU Power : 354.676 W\n",
      "[codecarbon INFO @ 15:38:04] Energy consumed for all CPUs : 0.007083 kWh. Total CPU Power : 42.5 W\n",
      "[codecarbon INFO @ 15:38:04] 0.027445 kWh of electricity used since the beginning.\n",
      "[codecarbon INFO @ 15:38:04] Energy consumed for RAM : 0.000390 kWh. RAM Power : 11.698551177978516 W\n",
      "[codecarbon INFO @ 15:38:04] Energy consumed for all GPUs : 0.010805 kWh. Total GPU Power : 353.374 W\n",
      "[codecarbon INFO @ 15:38:04] Energy consumed for all CPUs : 0.001417 kWh. Total CPU Power : 42.5 W\n",
      "[codecarbon INFO @ 15:38:04] 0.012611 kWh of electricity used since the beginning.\n",
      "                                                \n",
      " 16%|█▌        | 32/200 [01:34<08:09,  2.92s/it]"
     ]
    },
    {
     "name": "stdout",
     "output_type": "stream",
     "text": [
      "{'loss': 0.9976, 'learning_rate': 6.400000000000001e-05, 'epoch': 0.49}\n"
     ]
    },
    {
     "name": "stderr",
     "output_type": "stream",
     "text": [
      "[codecarbon INFO @ 15:38:08] Energy consumed for RAM : 0.001706 kWh. RAM Power : 11.698551177978516 W\n",
      "[codecarbon INFO @ 15:38:08] Energy consumed for all GPUs : 0.016791 kWh. Total GPU Power : 354.41700000000003 W\n",
      "[codecarbon INFO @ 15:38:08] Energy consumed for all CPUs : 0.006198 kWh. Total CPU Power : 42.5 W\n",
      "[codecarbon INFO @ 15:38:08] 0.024694 kWh of electricity used since the beginning.\n",
      "                                                \n",
      " 16%|█▋        | 33/200 [01:37<08:12,  2.95s/it]"
     ]
    },
    {
     "name": "stdout",
     "output_type": "stream",
     "text": [
      "{'loss': 1.0134, 'learning_rate': 6.6e-05, 'epoch': 0.5}\n"
     ]
    },
    {
     "name": "stderr",
     "output_type": "stream",
     "text": [
      "                                                \n",
      " 17%|█▋        | 34/200 [01:40<08:08,  2.94s/it]"
     ]
    },
    {
     "name": "stdout",
     "output_type": "stream",
     "text": [
      "{'loss': 0.8508, 'learning_rate': 6.800000000000001e-05, 'epoch': 0.52}\n"
     ]
    },
    {
     "name": "stderr",
     "output_type": "stream",
     "text": [
      "                                                \n",
      " 18%|█▊        | 35/200 [01:43<08:03,  2.93s/it]"
     ]
    },
    {
     "name": "stdout",
     "output_type": "stream",
     "text": [
      "{'loss': 0.821, 'learning_rate': 7e-05, 'epoch': 0.53}\n"
     ]
    },
    {
     "name": "stderr",
     "output_type": "stream",
     "text": [
      "[codecarbon INFO @ 15:38:15] Energy consumed for RAM : 0.000341 kWh. RAM Power : 11.698551177978516 W\n",
      "[codecarbon INFO @ 15:38:15] Energy consumed for all GPUs : 0.010266 kWh. Total GPU Power : 351.07800000000003 W\n",
      "[codecarbon INFO @ 15:38:15] Energy consumed for all CPUs : 0.001240 kWh. Total CPU Power : 42.5 W\n",
      "[codecarbon INFO @ 15:38:15] 0.011846 kWh of electricity used since the beginning.\n",
      "[codecarbon INFO @ 15:38:16] Energy consumed for RAM : 0.002242 kWh. RAM Power : 11.698551177978516 W\n",
      "[codecarbon INFO @ 15:38:16] Energy consumed for all GPUs : 0.020381 kWh. Total GPU Power : 350.926 W\n",
      "[codecarbon INFO @ 15:38:16] Energy consumed for all CPUs : 0.008146 kWh. Total CPU Power : 42.5 W\n",
      "[codecarbon INFO @ 15:38:16] 0.030769 kWh of electricity used since the beginning.\n",
      "                                                \n",
      " 18%|█▊        | 36/200 [01:46<08:03,  2.95s/it]"
     ]
    },
    {
     "name": "stdout",
     "output_type": "stream",
     "text": [
      "{'loss': 0.7572, 'learning_rate': 7.2e-05, 'epoch': 0.55}\n"
     ]
    },
    {
     "name": "stderr",
     "output_type": "stream",
     "text": [
      "[codecarbon INFO @ 15:38:19] Energy consumed for RAM : 0.001998 kWh. RAM Power : 11.698551177978516 W\n",
      "[codecarbon INFO @ 15:38:19] Energy consumed for all GPUs : 0.019878 kWh. Total GPU Power : 351.63800000000003 W\n",
      "[codecarbon INFO @ 15:38:19] Energy consumed for all CPUs : 0.007260 kWh. Total CPU Power : 42.5 W\n",
      "[codecarbon INFO @ 15:38:19] 0.029136 kWh of electricity used since the beginning.\n",
      "[codecarbon INFO @ 15:38:19] Energy consumed for RAM : 0.000439 kWh. RAM Power : 11.698551177978516 W\n",
      "[codecarbon INFO @ 15:38:19] Energy consumed for all GPUs : 0.012264 kWh. Total GPU Power : 350.339 W\n",
      "[codecarbon INFO @ 15:38:19] Energy consumed for all CPUs : 0.001594 kWh. Total CPU Power : 42.5 W\n",
      "[codecarbon INFO @ 15:38:19] 0.014297 kWh of electricity used since the beginning.\n",
      "                                                \n",
      " 18%|█▊        | 37/200 [01:49<08:04,  2.97s/it]"
     ]
    },
    {
     "name": "stdout",
     "output_type": "stream",
     "text": [
      "{'loss': 0.7858, 'learning_rate': 7.4e-05, 'epoch': 0.56}\n"
     ]
    },
    {
     "name": "stderr",
     "output_type": "stream",
     "text": [
      "[codecarbon INFO @ 15:38:23] Energy consumed for RAM : 0.001754 kWh. RAM Power : 11.698551177978516 W\n",
      "[codecarbon INFO @ 15:38:23] Energy consumed for all GPUs : 0.018251 kWh. Total GPU Power : 350.415 W\n",
      "[codecarbon INFO @ 15:38:23] Energy consumed for all CPUs : 0.006375 kWh. Total CPU Power : 42.5 W\n",
      "[codecarbon INFO @ 15:38:23] 0.026380 kWh of electricity used since the beginning.\n",
      "                                                \n",
      " 19%|█▉        | 38/200 [01:52<08:08,  3.01s/it]"
     ]
    },
    {
     "name": "stdout",
     "output_type": "stream",
     "text": [
      "{'loss': 0.6982, 'learning_rate': 7.6e-05, 'epoch': 0.58}\n"
     ]
    },
    {
     "name": "stderr",
     "output_type": "stream",
     "text": [
      "                                                \n",
      " 20%|█▉        | 39/200 [01:55<08:03,  3.00s/it]"
     ]
    },
    {
     "name": "stdout",
     "output_type": "stream",
     "text": [
      "{'loss': 0.689, 'learning_rate': 7.800000000000001e-05, 'epoch': 0.59}\n"
     ]
    },
    {
     "name": "stderr",
     "output_type": "stream",
     "text": [
      "                                                \n",
      " 20%|██        | 40/200 [01:58<07:54,  2.97s/it]"
     ]
    },
    {
     "name": "stdout",
     "output_type": "stream",
     "text": [
      "{'loss': 0.6492, 'learning_rate': 8e-05, 'epoch': 0.61}\n"
     ]
    },
    {
     "name": "stderr",
     "output_type": "stream",
     "text": [
      "[codecarbon INFO @ 15:38:30] Energy consumed for RAM : 0.000390 kWh. RAM Power : 11.698551177978516 W\n",
      "[codecarbon INFO @ 15:38:30] Energy consumed for all GPUs : 0.011732 kWh. Total GPU Power : 352.056 W\n",
      "[codecarbon INFO @ 15:38:30] Energy consumed for all CPUs : 0.001417 kWh. Total CPU Power : 42.5 W\n",
      "[codecarbon INFO @ 15:38:30] 0.013539 kWh of electricity used since the beginning.\n",
      "[codecarbon INFO @ 15:38:31] Energy consumed for RAM : 0.002290 kWh. RAM Power : 11.698551177978516 W\n",
      "[codecarbon INFO @ 15:38:31] Energy consumed for all GPUs : 0.021850 kWh. Total GPU Power : 352.55 W\n",
      "[codecarbon INFO @ 15:38:31] Energy consumed for all CPUs : 0.008323 kWh. Total CPU Power : 42.5 W\n",
      "[codecarbon INFO @ 15:38:31] 0.032463 kWh of electricity used since the beginning.\n",
      "                                                \n",
      " 20%|██        | 41/200 [02:01<07:51,  2.97s/it]"
     ]
    },
    {
     "name": "stdout",
     "output_type": "stream",
     "text": [
      "{'loss': 0.575, 'learning_rate': 8.2e-05, 'epoch': 0.62}\n"
     ]
    },
    {
     "name": "stderr",
     "output_type": "stream",
     "text": [
      "[codecarbon INFO @ 15:38:34] Energy consumed for RAM : 0.002047 kWh. RAM Power : 11.698551177978516 W\n",
      "[codecarbon INFO @ 15:38:34] Energy consumed for all GPUs : 0.021348 kWh. Total GPU Power : 352.84900000000005 W\n",
      "[codecarbon INFO @ 15:38:34] Energy consumed for all CPUs : 0.007437 kWh. Total CPU Power : 42.5 W\n",
      "[codecarbon INFO @ 15:38:34] 0.030832 kWh of electricity used since the beginning.\n",
      "[codecarbon INFO @ 15:38:34] Energy consumed for RAM : 0.000487 kWh. RAM Power : 11.698551177978516 W\n",
      "[codecarbon INFO @ 15:38:34] Energy consumed for all GPUs : 0.013725 kWh. Total GPU Power : 350.627 W\n",
      "[codecarbon INFO @ 15:38:34] Energy consumed for all CPUs : 0.001771 kWh. Total CPU Power : 42.5 W\n",
      "[codecarbon INFO @ 15:38:34] 0.015983 kWh of electricity used since the beginning.\n",
      "                                                \n",
      " 21%|██        | 42/200 [02:04<07:48,  2.96s/it]"
     ]
    },
    {
     "name": "stdout",
     "output_type": "stream",
     "text": [
      "{'loss': 0.654, 'learning_rate': 8.4e-05, 'epoch': 0.64}\n"
     ]
    },
    {
     "name": "stderr",
     "output_type": "stream",
     "text": [
      "[codecarbon INFO @ 15:38:38] Energy consumed for RAM : 0.001803 kWh. RAM Power : 11.698551177978516 W\n",
      "[codecarbon INFO @ 15:38:38] Energy consumed for all GPUs : 0.019703 kWh. Total GPU Power : 348.597 W\n",
      "[codecarbon INFO @ 15:38:38] Energy consumed for all CPUs : 0.006552 kWh. Total CPU Power : 42.5 W\n",
      "[codecarbon INFO @ 15:38:38] 0.028058 kWh of electricity used since the beginning.\n",
      "                                                \n",
      " 22%|██▏       | 43/200 [02:07<07:49,  2.99s/it]"
     ]
    },
    {
     "name": "stdout",
     "output_type": "stream",
     "text": [
      "{'loss': 0.649, 'learning_rate': 8.6e-05, 'epoch': 0.65}\n"
     ]
    },
    {
     "name": "stderr",
     "output_type": "stream",
     "text": [
      "                                                \n",
      " 22%|██▏       | 44/200 [02:10<07:42,  2.97s/it]"
     ]
    },
    {
     "name": "stdout",
     "output_type": "stream",
     "text": [
      "{'loss': 0.5707, 'learning_rate': 8.800000000000001e-05, 'epoch': 0.67}\n"
     ]
    },
    {
     "name": "stderr",
     "output_type": "stream",
     "text": [
      "                                                \n",
      " 22%|██▎       | 45/200 [02:13<07:42,  2.98s/it]"
     ]
    },
    {
     "name": "stdout",
     "output_type": "stream",
     "text": [
      "{'loss': 0.5626, 'learning_rate': 9e-05, 'epoch': 0.68}\n"
     ]
    },
    {
     "name": "stderr",
     "output_type": "stream",
     "text": [
      "[codecarbon INFO @ 15:38:45] Energy consumed for RAM : 0.000439 kWh. RAM Power : 11.698551177978516 W\n",
      "[codecarbon INFO @ 15:38:45] Energy consumed for all GPUs : 0.013194 kWh. Total GPU Power : 350.78000000000003 W\n",
      "[codecarbon INFO @ 15:38:45] Energy consumed for all CPUs : 0.001594 kWh. Total CPU Power : 42.5 W\n",
      "[codecarbon INFO @ 15:38:45] 0.015226 kWh of electricity used since the beginning.\n",
      "[codecarbon INFO @ 15:38:46] Energy consumed for RAM : 0.002339 kWh. RAM Power : 11.698551177978516 W\n",
      "[codecarbon INFO @ 15:38:46] Energy consumed for all GPUs : 0.023311 kWh. Total GPU Power : 350.71 W\n",
      "[codecarbon INFO @ 15:38:46] Energy consumed for all CPUs : 0.008500 kWh. Total CPU Power : 42.5 W\n",
      "[codecarbon INFO @ 15:38:46] 0.034150 kWh of electricity used since the beginning.\n",
      "                                                \n",
      " 23%|██▎       | 46/200 [02:16<07:42,  3.00s/it]"
     ]
    },
    {
     "name": "stdout",
     "output_type": "stream",
     "text": [
      "{'loss': 0.5159, 'learning_rate': 9.200000000000001e-05, 'epoch': 0.7}\n"
     ]
    },
    {
     "name": "stderr",
     "output_type": "stream",
     "text": [
      "[codecarbon INFO @ 15:38:49] Energy consumed for RAM : 0.002096 kWh. RAM Power : 11.698551177978516 W\n",
      "[codecarbon INFO @ 15:38:49] Energy consumed for all GPUs : 0.022813 kWh. Total GPU Power : 351.6820000000001 W\n",
      "[codecarbon INFO @ 15:38:49] Energy consumed for all CPUs : 0.007615 kWh. Total CPU Power : 42.5 W\n",
      "[codecarbon INFO @ 15:38:49] 0.032523 kWh of electricity used since the beginning.\n",
      "[codecarbon INFO @ 15:38:49] Energy consumed for RAM : 0.000536 kWh. RAM Power : 11.698551177978516 W\n",
      "[codecarbon INFO @ 15:38:49] Energy consumed for all GPUs : 0.015188 kWh. Total GPU Power : 351.28800000000007 W\n",
      "[codecarbon INFO @ 15:38:49] Energy consumed for all CPUs : 0.001948 kWh. Total CPU Power : 42.5 W\n",
      "[codecarbon INFO @ 15:38:49] 0.017672 kWh of electricity used since the beginning.\n",
      "                                                \n",
      " 24%|██▎       | 47/200 [02:19<07:42,  3.02s/it]"
     ]
    },
    {
     "name": "stdout",
     "output_type": "stream",
     "text": [
      "{'loss': 0.5618, 'learning_rate': 9.4e-05, 'epoch': 0.71}\n"
     ]
    },
    {
     "name": "stderr",
     "output_type": "stream",
     "text": [
      "[codecarbon INFO @ 15:38:53] Energy consumed for RAM : 0.001852 kWh. RAM Power : 11.698551177978516 W\n",
      "[codecarbon INFO @ 15:38:53] Energy consumed for all GPUs : 0.021168 kWh. Total GPU Power : 351.76300000000003 W\n",
      "[codecarbon INFO @ 15:38:53] Energy consumed for all CPUs : 0.006729 kWh. Total CPU Power : 42.5 W\n",
      "[codecarbon INFO @ 15:38:53] 0.029749 kWh of electricity used since the beginning.\n",
      "                                                \n",
      " 24%|██▍       | 48/200 [02:22<07:42,  3.04s/it]"
     ]
    },
    {
     "name": "stdout",
     "output_type": "stream",
     "text": [
      "{'loss': 0.5508, 'learning_rate': 9.6e-05, 'epoch': 0.73}\n"
     ]
    },
    {
     "name": "stderr",
     "output_type": "stream",
     "text": [
      "                                                \n",
      " 24%|██▍       | 49/200 [02:25<07:29,  2.98s/it]"
     ]
    },
    {
     "name": "stdout",
     "output_type": "stream",
     "text": [
      "{'loss': 0.4878, 'learning_rate': 9.8e-05, 'epoch': 0.75}\n"
     ]
    },
    {
     "name": "stderr",
     "output_type": "stream",
     "text": [
      "                                                \n",
      " 25%|██▌       | 50/200 [02:28<07:33,  3.03s/it]"
     ]
    },
    {
     "name": "stdout",
     "output_type": "stream",
     "text": [
      "{'loss': 0.5029, 'learning_rate': 0.0001, 'epoch': 0.76}\n"
     ]
    },
    {
     "name": "stderr",
     "output_type": "stream",
     "text": [
      "[codecarbon INFO @ 15:39:00] Energy consumed for RAM : 0.000487 kWh. RAM Power : 11.698551177978516 W\n",
      "[codecarbon INFO @ 15:39:00] Energy consumed for all GPUs : 0.014657 kWh. Total GPU Power : 351.293 W\n",
      "[codecarbon INFO @ 15:39:00] Energy consumed for all CPUs : 0.001771 kWh. Total CPU Power : 42.5 W\n",
      "[codecarbon INFO @ 15:39:00] 0.016916 kWh of electricity used since the beginning.\n",
      "[codecarbon INFO @ 15:39:01] Energy consumed for RAM : 0.002388 kWh. RAM Power : 11.698551177978516 W\n",
      "[codecarbon INFO @ 15:39:01] Energy consumed for all GPUs : 0.024769 kWh. Total GPU Power : 350.1070000000001 W\n",
      "[codecarbon INFO @ 15:39:01] Energy consumed for all CPUs : 0.008677 kWh. Total CPU Power : 42.5 W\n",
      "[codecarbon INFO @ 15:39:01] 0.035834 kWh of electricity used since the beginning.\n",
      "                                                \n",
      " 26%|██▌       | 51/200 [02:31<07:28,  3.01s/it]"
     ]
    },
    {
     "name": "stdout",
     "output_type": "stream",
     "text": [
      "{'loss': 0.4826, 'learning_rate': 0.00010200000000000001, 'epoch': 0.78}\n"
     ]
    },
    {
     "name": "stderr",
     "output_type": "stream",
     "text": [
      "[codecarbon INFO @ 15:39:04] Energy consumed for RAM : 0.002144 kWh. RAM Power : 11.698551177978516 W\n",
      "[codecarbon INFO @ 15:39:04] Energy consumed for all GPUs : 0.024278 kWh. Total GPU Power : 351.706 W\n",
      "[codecarbon INFO @ 15:39:04] Energy consumed for all CPUs : 0.007792 kWh. Total CPU Power : 42.5 W\n",
      "[codecarbon INFO @ 15:39:04] 0.034214 kWh of electricity used since the beginning.\n",
      "[codecarbon INFO @ 15:39:04] Energy consumed for RAM : 0.000585 kWh. RAM Power : 11.698551177978516 W\n",
      "[codecarbon INFO @ 15:39:04] Energy consumed for all GPUs : 0.016652 kWh. Total GPU Power : 351.252 W\n",
      "[codecarbon INFO @ 15:39:04] Energy consumed for all CPUs : 0.002125 kWh. Total CPU Power : 42.5 W\n",
      "[codecarbon INFO @ 15:39:04] 0.019362 kWh of electricity used since the beginning.\n",
      "                                                \n",
      " 26%|██▌       | 52/200 [02:34<07:23,  3.00s/it]"
     ]
    },
    {
     "name": "stdout",
     "output_type": "stream",
     "text": [
      "{'loss': 0.4939, 'learning_rate': 0.00010400000000000001, 'epoch': 0.79}\n"
     ]
    },
    {
     "name": "stderr",
     "output_type": "stream",
     "text": [
      "[codecarbon INFO @ 15:39:08] Energy consumed for RAM : 0.001901 kWh. RAM Power : 11.698551177978516 W\n",
      "[codecarbon INFO @ 15:39:08] Energy consumed for all GPUs : 0.022631 kWh. Total GPU Power : 351.142 W\n",
      "[codecarbon INFO @ 15:39:08] Energy consumed for all CPUs : 0.006906 kWh. Total CPU Power : 42.5 W\n",
      "[codecarbon INFO @ 15:39:08] 0.031438 kWh of electricity used since the beginning.\n",
      "                                                \n",
      " 26%|██▋       | 53/200 [02:37<07:19,  2.99s/it]"
     ]
    },
    {
     "name": "stdout",
     "output_type": "stream",
     "text": [
      "{'loss': 0.4436, 'learning_rate': 0.00010600000000000002, 'epoch': 0.81}\n"
     ]
    },
    {
     "name": "stderr",
     "output_type": "stream",
     "text": [
      "                                                \n",
      " 27%|██▋       | 54/200 [02:40<07:19,  3.01s/it]"
     ]
    },
    {
     "name": "stdout",
     "output_type": "stream",
     "text": [
      "{'loss': 0.3833, 'learning_rate': 0.00010800000000000001, 'epoch': 0.82}\n"
     ]
    },
    {
     "name": "stderr",
     "output_type": "stream",
     "text": [
      "                                                \n",
      " 28%|██▊       | 55/200 [02:43<07:09,  2.97s/it]"
     ]
    },
    {
     "name": "stdout",
     "output_type": "stream",
     "text": [
      "{'loss': 0.4455, 'learning_rate': 0.00011000000000000002, 'epoch': 0.84}\n"
     ]
    },
    {
     "name": "stderr",
     "output_type": "stream",
     "text": [
      "[codecarbon INFO @ 15:39:15] Energy consumed for RAM : 0.000536 kWh. RAM Power : 11.698551177978516 W\n",
      "[codecarbon INFO @ 15:39:15] Energy consumed for all GPUs : 0.016119 kWh. Total GPU Power : 350.861 W\n",
      "[codecarbon INFO @ 15:39:15] Energy consumed for all CPUs : 0.001948 kWh. Total CPU Power : 42.5 W\n",
      "[codecarbon INFO @ 15:39:15] 0.018603 kWh of electricity used since the beginning.\n",
      "[codecarbon INFO @ 15:39:16] Energy consumed for RAM : 0.002437 kWh. RAM Power : 11.698551177978516 W\n",
      "[codecarbon INFO @ 15:39:16] Energy consumed for all GPUs : 0.026237 kWh. Total GPU Power : 352.199 W\n",
      "[codecarbon INFO @ 15:39:16] Energy consumed for all CPUs : 0.008854 kWh. Total CPU Power : 42.5 W\n",
      "[codecarbon INFO @ 15:39:16] 0.037528 kWh of electricity used since the beginning.\n",
      "                                                \n",
      " 28%|██▊       | 56/200 [02:46<07:10,  2.99s/it]"
     ]
    },
    {
     "name": "stdout",
     "output_type": "stream",
     "text": [
      "{'loss': 0.4494, 'learning_rate': 0.00011200000000000001, 'epoch': 0.85}\n"
     ]
    },
    {
     "name": "stderr",
     "output_type": "stream",
     "text": [
      "[codecarbon INFO @ 15:39:19] Energy consumed for RAM : 0.002193 kWh. RAM Power : 11.698551177978516 W\n",
      "[codecarbon INFO @ 15:39:19] Energy consumed for all GPUs : 0.025741 kWh. Total GPU Power : 351.252 W\n",
      "[codecarbon INFO @ 15:39:19] Energy consumed for all CPUs : 0.007969 kWh. Total CPU Power : 42.5 W\n",
      "[codecarbon INFO @ 15:39:19] 0.035903 kWh of electricity used since the beginning.\n",
      "[codecarbon INFO @ 15:39:19] Energy consumed for RAM : 0.000634 kWh. RAM Power : 11.698551177978516 W\n",
      "[codecarbon INFO @ 15:39:19] Energy consumed for all GPUs : 0.018118 kWh. Total GPU Power : 351.839 W\n",
      "[codecarbon INFO @ 15:39:19] Energy consumed for all CPUs : 0.002302 kWh. Total CPU Power : 42.5 W\n",
      "[codecarbon INFO @ 15:39:19] 0.021053 kWh of electricity used since the beginning.\n",
      "                                                \n",
      " 28%|██▊       | 57/200 [02:49<07:08,  3.00s/it]"
     ]
    },
    {
     "name": "stdout",
     "output_type": "stream",
     "text": [
      "{'loss': 0.4436, 'learning_rate': 0.00011399999999999999, 'epoch': 0.87}\n"
     ]
    },
    {
     "name": "stderr",
     "output_type": "stream",
     "text": [
      "[codecarbon INFO @ 15:39:23] Energy consumed for RAM : 0.001949 kWh. RAM Power : 11.698551177978516 W\n",
      "[codecarbon INFO @ 15:39:23] Energy consumed for all GPUs : 0.024093 kWh. Total GPU Power : 350.796 W\n",
      "[codecarbon INFO @ 15:39:23] Energy consumed for all CPUs : 0.007083 kWh. Total CPU Power : 42.5 W\n",
      "[codecarbon INFO @ 15:39:23] 0.033125 kWh of electricity used since the beginning.\n",
      "                                                \n",
      " 29%|██▉       | 58/200 [02:52<07:07,  3.01s/it]"
     ]
    },
    {
     "name": "stdout",
     "output_type": "stream",
     "text": [
      "{'loss': 0.4765, 'learning_rate': 0.000116, 'epoch': 0.88}\n"
     ]
    },
    {
     "name": "stderr",
     "output_type": "stream",
     "text": [
      "                                                \n",
      " 30%|██▉       | 59/200 [02:55<07:03,  3.00s/it]"
     ]
    },
    {
     "name": "stdout",
     "output_type": "stream",
     "text": [
      "{'loss': 0.4605, 'learning_rate': 0.000118, 'epoch': 0.9}\n"
     ]
    },
    {
     "name": "stderr",
     "output_type": "stream",
     "text": [
      "                                                \n",
      " 30%|███       | 60/200 [02:58<06:59,  3.00s/it]"
     ]
    },
    {
     "name": "stdout",
     "output_type": "stream",
     "text": [
      "{'loss': 0.4408, 'learning_rate': 0.00012, 'epoch': 0.91}\n"
     ]
    },
    {
     "name": "stderr",
     "output_type": "stream",
     "text": [
      "[codecarbon INFO @ 15:39:30] Energy consumed for RAM : 0.000585 kWh. RAM Power : 11.698551177978516 W\n",
      "[codecarbon INFO @ 15:39:30] Energy consumed for all GPUs : 0.017576 kWh. Total GPU Power : 349.711 W\n",
      "[codecarbon INFO @ 15:39:30] Energy consumed for all CPUs : 0.002125 kWh. Total CPU Power : 42.5 W\n",
      "[codecarbon INFO @ 15:39:30] 0.020286 kWh of electricity used since the beginning.\n",
      "[codecarbon INFO @ 15:39:31] Energy consumed for RAM : 0.002485 kWh. RAM Power : 11.698551177978516 W\n",
      "[codecarbon INFO @ 15:39:31] Energy consumed for all GPUs : 0.027703 kWh. Total GPU Power : 351.996 W\n",
      "[codecarbon INFO @ 15:39:31] Energy consumed for all CPUs : 0.009031 kWh. Total CPU Power : 42.5 W\n",
      "[codecarbon INFO @ 15:39:31] 0.039220 kWh of electricity used since the beginning.\n",
      "                                                \n",
      " 30%|███       | 61/200 [03:01<06:55,  2.99s/it]"
     ]
    },
    {
     "name": "stdout",
     "output_type": "stream",
     "text": [
      "{'loss': 0.4211, 'learning_rate': 0.000122, 'epoch': 0.93}\n"
     ]
    },
    {
     "name": "stderr",
     "output_type": "stream",
     "text": [
      "[codecarbon INFO @ 15:39:34] Energy consumed for RAM : 0.002242 kWh. RAM Power : 11.698551177978516 W\n",
      "[codecarbon INFO @ 15:39:34] Energy consumed for all GPUs : 0.027216 kWh. Total GPU Power : 353.89300000000003 W\n",
      "[codecarbon INFO @ 15:39:34] Energy consumed for all CPUs : 0.008146 kWh. Total CPU Power : 42.5 W\n",
      "[codecarbon INFO @ 15:39:34] 0.037603 kWh of electricity used since the beginning.\n",
      "[codecarbon INFO @ 15:39:34] Energy consumed for RAM : 0.000682 kWh. RAM Power : 11.698551177978516 W\n",
      "[codecarbon INFO @ 15:39:34] Energy consumed for all GPUs : 0.019588 kWh. Total GPU Power : 352.884 W\n",
      "[codecarbon INFO @ 15:39:34] Energy consumed for all CPUs : 0.002479 kWh. Total CPU Power : 42.5 W\n",
      "[codecarbon INFO @ 15:39:34] 0.022749 kWh of electricity used since the beginning.\n",
      "                                                \n",
      " 31%|███       | 62/200 [03:04<06:54,  3.00s/it]"
     ]
    },
    {
     "name": "stdout",
     "output_type": "stream",
     "text": [
      "{'loss': 0.3935, 'learning_rate': 0.000124, 'epoch': 0.94}\n"
     ]
    },
    {
     "name": "stderr",
     "output_type": "stream",
     "text": [
      "                                                \n",
      " 32%|███▏      | 63/200 [03:07<06:46,  2.97s/it][codecarbon INFO @ 15:39:38] Energy consumed for RAM : 0.001998 kWh. RAM Power : 11.698551177978516 W\n",
      "[codecarbon INFO @ 15:39:38] Energy consumed for all GPUs : 0.025541 kWh. Total GPU Power : 347.683 W\n",
      "[codecarbon INFO @ 15:39:38] Energy consumed for all CPUs : 0.007260 kWh. Total CPU Power : 42.5 W\n",
      "[codecarbon INFO @ 15:39:38] 0.034800 kWh of electricity used since the beginning.\n"
     ]
    },
    {
     "name": "stdout",
     "output_type": "stream",
     "text": [
      "{'loss': 0.5054, 'learning_rate': 0.000126, 'epoch': 0.96}\n"
     ]
    },
    {
     "name": "stderr",
     "output_type": "stream",
     "text": [
      "                                                \n",
      " 32%|███▏      | 64/200 [03:10<06:46,  2.99s/it]"
     ]
    },
    {
     "name": "stdout",
     "output_type": "stream",
     "text": [
      "{'loss': 0.4633, 'learning_rate': 0.00012800000000000002, 'epoch': 0.97}\n"
     ]
    },
    {
     "name": "stderr",
     "output_type": "stream",
     "text": [
      "                                                \n",
      " 32%|███▎      | 65/200 [03:13<06:35,  2.93s/it]"
     ]
    },
    {
     "name": "stdout",
     "output_type": "stream",
     "text": [
      "{'loss': 0.3482, 'learning_rate': 0.00013000000000000002, 'epoch': 0.99}\n"
     ]
    },
    {
     "name": "stderr",
     "output_type": "stream",
     "text": [
      "[codecarbon INFO @ 15:39:45] Energy consumed for RAM : 0.000634 kWh. RAM Power : 11.698551177978516 W\n",
      "[codecarbon INFO @ 15:39:45] Energy consumed for all GPUs : 0.019040 kWh. Total GPU Power : 351.404 W\n",
      "[codecarbon INFO @ 15:39:45] Energy consumed for all CPUs : 0.002302 kWh. Total CPU Power : 42.5 W\n",
      "[codecarbon INFO @ 15:39:45] 0.021976 kWh of electricity used since the beginning.\n",
      "[codecarbon INFO @ 15:39:46] Energy consumed for RAM : 0.002534 kWh. RAM Power : 11.698551177978516 W\n",
      "[codecarbon INFO @ 15:39:46] Energy consumed for all GPUs : 0.029167 kWh. Total GPU Power : 351.265 W\n",
      "[codecarbon INFO @ 15:39:46] Energy consumed for all CPUs : 0.009208 kWh. Total CPU Power : 42.5 W\n",
      "[codecarbon INFO @ 15:39:46] 0.040909 kWh of electricity used since the beginning.\n",
      "                                                \n",
      " 33%|███▎      | 66/200 [03:16<06:28,  2.90s/it]"
     ]
    },
    {
     "name": "stdout",
     "output_type": "stream",
     "text": [
      "{'loss': 0.4033, 'learning_rate': 0.000132, 'epoch': 1.0}\n"
     ]
    },
    {
     "name": "stderr",
     "output_type": "stream",
     "text": [
      "[codecarbon INFO @ 15:39:49] Energy consumed for RAM : 0.002291 kWh. RAM Power : 11.698551177978516 W\n",
      "[codecarbon INFO @ 15:39:49] Energy consumed for all GPUs : 0.028679 kWh. Total GPU Power : 351.2270000000001 W\n",
      "[codecarbon INFO @ 15:39:49] Energy consumed for all CPUs : 0.008323 kWh. Total CPU Power : 42.5 W\n",
      "[codecarbon INFO @ 15:39:49] 0.039292 kWh of electricity used since the beginning.\n",
      "                                                \n",
      " 34%|███▎      | 67/200 [03:19<06:29,  2.93s/it][codecarbon INFO @ 15:39:49] Energy consumed for RAM : 0.000731 kWh. RAM Power : 11.698551177978516 W\n",
      "[codecarbon INFO @ 15:39:49] Energy consumed for all GPUs : 0.021046 kWh. Total GPU Power : 350.04900000000004 W\n",
      "[codecarbon INFO @ 15:39:49] Energy consumed for all CPUs : 0.002656 kWh. Total CPU Power : 42.5 W\n",
      "[codecarbon INFO @ 15:39:49] 0.024433 kWh of electricity used since the beginning.\n"
     ]
    },
    {
     "name": "stdout",
     "output_type": "stream",
     "text": [
      "{'loss': 0.4035, 'learning_rate': 0.000134, 'epoch': 1.02}\n"
     ]
    },
    {
     "name": "stderr",
     "output_type": "stream",
     "text": [
      "                                                \n",
      " 34%|███▍      | 68/200 [03:22<06:24,  2.91s/it]"
     ]
    },
    {
     "name": "stdout",
     "output_type": "stream",
     "text": [
      "{'loss': 0.4088, 'learning_rate': 0.00013600000000000003, 'epoch': 1.03}\n"
     ]
    },
    {
     "name": "stderr",
     "output_type": "stream",
     "text": [
      "[codecarbon INFO @ 15:39:53] Energy consumed for RAM : 0.002047 kWh. RAM Power : 11.698551177978516 W\n",
      "[codecarbon INFO @ 15:39:53] Energy consumed for all GPUs : 0.027003 kWh. Total GPU Power : 350.781 W\n",
      "[codecarbon INFO @ 15:39:53] Energy consumed for all CPUs : 0.007437 kWh. Total CPU Power : 42.5 W\n",
      "[codecarbon INFO @ 15:39:53] 0.036487 kWh of electricity used since the beginning.\n",
      "                                                \n",
      " 34%|███▍      | 69/200 [03:25<06:24,  2.93s/it]"
     ]
    },
    {
     "name": "stdout",
     "output_type": "stream",
     "text": [
      "{'loss': 0.3783, 'learning_rate': 0.000138, 'epoch': 1.05}\n"
     ]
    },
    {
     "name": "stderr",
     "output_type": "stream",
     "text": [
      "                                                \n",
      " 35%|███▌      | 70/200 [03:27<06:23,  2.95s/it]"
     ]
    },
    {
     "name": "stdout",
     "output_type": "stream",
     "text": [
      "{'loss': 0.4404, 'learning_rate': 0.00014, 'epoch': 1.06}\n"
     ]
    },
    {
     "name": "stderr",
     "output_type": "stream",
     "text": [
      "[codecarbon INFO @ 15:40:00] Energy consumed for RAM : 0.000682 kWh. RAM Power : 11.698551177978516 W\n",
      "[codecarbon INFO @ 15:40:00] Energy consumed for all GPUs : 0.020500 kWh. Total GPU Power : 350.374 W\n",
      "[codecarbon INFO @ 15:40:00] Energy consumed for all CPUs : 0.002479 kWh. Total CPU Power : 42.5 W\n",
      "[codecarbon INFO @ 15:40:00] 0.023661 kWh of electricity used since the beginning.\n",
      "                                                \n",
      " 36%|███▌      | 71/200 [03:30<06:22,  2.97s/it][codecarbon INFO @ 15:40:01] Energy consumed for RAM : 0.002583 kWh. RAM Power : 11.698551177978516 W\n",
      "[codecarbon INFO @ 15:40:01] Energy consumed for all GPUs : 0.030627 kWh. Total GPU Power : 350.66800000000006 W\n",
      "[codecarbon INFO @ 15:40:01] Energy consumed for all CPUs : 0.009385 kWh. Total CPU Power : 42.5 W\n",
      "[codecarbon INFO @ 15:40:01] 0.042596 kWh of electricity used since the beginning.\n"
     ]
    },
    {
     "name": "stdout",
     "output_type": "stream",
     "text": [
      "{'loss': 0.3516, 'learning_rate': 0.000142, 'epoch': 1.08}\n"
     ]
    },
    {
     "name": "stderr",
     "output_type": "stream",
     "text": [
      "[codecarbon INFO @ 15:40:04] Energy consumed for RAM : 0.002339 kWh. RAM Power : 11.698551177978516 W\n",
      "[codecarbon INFO @ 15:40:04] Energy consumed for all GPUs : 0.030145 kWh. Total GPU Power : 351.9700000000001 W\n",
      "[codecarbon INFO @ 15:40:04] Energy consumed for all CPUs : 0.008500 kWh. Total CPU Power : 42.5 W\n",
      "[codecarbon INFO @ 15:40:04] 0.040984 kWh of electricity used since the beginning.\n",
      "                                                \n",
      " 36%|███▌      | 72/200 [03:33<06:18,  2.95s/it]"
     ]
    },
    {
     "name": "stdout",
     "output_type": "stream",
     "text": [
      "{'loss': 0.3539, 'learning_rate': 0.000144, 'epoch': 1.1}\n"
     ]
    },
    {
     "name": "stderr",
     "output_type": "stream",
     "text": [
      "[codecarbon INFO @ 15:40:04] Energy consumed for RAM : 0.000780 kWh. RAM Power : 11.698551177978516 W\n",
      "[codecarbon INFO @ 15:40:04] Energy consumed for all GPUs : 0.022514 kWh. Total GPU Power : 352.269 W\n",
      "[codecarbon INFO @ 15:40:04] Energy consumed for all CPUs : 0.002833 kWh. Total CPU Power : 42.5 W\n",
      "[codecarbon INFO @ 15:40:04] 0.026127 kWh of electricity used since the beginning.\n",
      "                                                \n",
      " 36%|███▋      | 73/200 [03:36<06:10,  2.92s/it]"
     ]
    },
    {
     "name": "stdout",
     "output_type": "stream",
     "text": [
      "{'loss': 0.4197, 'learning_rate': 0.000146, 'epoch': 1.11}\n"
     ]
    },
    {
     "name": "stderr",
     "output_type": "stream",
     "text": [
      "[codecarbon INFO @ 15:40:08] Energy consumed for RAM : 0.002096 kWh. RAM Power : 11.698551177978516 W\n",
      "[codecarbon INFO @ 15:40:08] Energy consumed for all GPUs : 0.028467 kWh. Total GPU Power : 351.624 W\n",
      "[codecarbon INFO @ 15:40:08] Energy consumed for all CPUs : 0.007615 kWh. Total CPU Power : 42.5 W\n",
      "[codecarbon INFO @ 15:40:08] 0.038178 kWh of electricity used since the beginning.\n",
      "                                                \n",
      " 37%|███▋      | 74/200 [03:39<06:10,  2.94s/it]"
     ]
    },
    {
     "name": "stdout",
     "output_type": "stream",
     "text": [
      "{'loss': 0.3983, 'learning_rate': 0.000148, 'epoch': 1.13}\n"
     ]
    },
    {
     "name": "stderr",
     "output_type": "stream",
     "text": [
      "                                                \n",
      " 38%|███▊      | 75/200 [03:42<06:06,  2.93s/it]"
     ]
    },
    {
     "name": "stdout",
     "output_type": "stream",
     "text": [
      "{'loss': 0.3512, 'learning_rate': 0.00015000000000000001, 'epoch': 1.14}\n"
     ]
    },
    {
     "name": "stderr",
     "output_type": "stream",
     "text": [
      "[codecarbon INFO @ 15:40:15] Energy consumed for RAM : 0.000731 kWh. RAM Power : 11.698551177978516 W\n",
      "[codecarbon INFO @ 15:40:15] Energy consumed for all GPUs : 0.021964 kWh. Total GPU Power : 351.51 W\n",
      "[codecarbon INFO @ 15:40:15] Energy consumed for all CPUs : 0.002656 kWh. Total CPU Power : 42.5 W\n",
      "[codecarbon INFO @ 15:40:15] 0.025351 kWh of electricity used since the beginning.\n",
      "                                                \n",
      " 38%|███▊      | 76/200 [03:45<06:03,  2.93s/it]"
     ]
    },
    {
     "name": "stdout",
     "output_type": "stream",
     "text": [
      "{'loss': 0.3547, 'learning_rate': 0.000152, 'epoch': 1.16}\n"
     ]
    },
    {
     "name": "stderr",
     "output_type": "stream",
     "text": [
      "[codecarbon INFO @ 15:40:16] Energy consumed for RAM : 0.002631 kWh. RAM Power : 11.698551177978516 W\n",
      "[codecarbon INFO @ 15:40:16] Energy consumed for all GPUs : 0.032091 kWh. Total GPU Power : 351.177 W\n",
      "[codecarbon INFO @ 15:40:16] Energy consumed for all CPUs : 0.009562 kWh. Total CPU Power : 42.5 W\n",
      "[codecarbon INFO @ 15:40:16] 0.044285 kWh of electricity used since the beginning.\n",
      "[codecarbon INFO @ 15:40:19] Energy consumed for RAM : 0.002388 kWh. RAM Power : 11.698551177978516 W\n",
      "[codecarbon INFO @ 15:40:19] Energy consumed for all GPUs : 0.031612 kWh. Total GPU Power : 351.98600000000005 W\n",
      "[codecarbon INFO @ 15:40:19] Energy consumed for all CPUs : 0.008677 kWh. Total CPU Power : 42.5 W\n",
      "[codecarbon INFO @ 15:40:19] 0.042677 kWh of electricity used since the beginning.\n",
      "                                                \n",
      " 38%|███▊      | 77/200 [03:48<06:02,  2.95s/it]"
     ]
    },
    {
     "name": "stdout",
     "output_type": "stream",
     "text": [
      "{'loss': 0.3752, 'learning_rate': 0.000154, 'epoch': 1.17}\n"
     ]
    },
    {
     "name": "stderr",
     "output_type": "stream",
     "text": [
      "[codecarbon INFO @ 15:40:19] Energy consumed for RAM : 0.000828 kWh. RAM Power : 11.698551177978516 W\n",
      "[codecarbon INFO @ 15:40:19] Energy consumed for all GPUs : 0.023974 kWh. Total GPU Power : 350.57700000000006 W\n",
      "[codecarbon INFO @ 15:40:19] Energy consumed for all CPUs : 0.003010 kWh. Total CPU Power : 42.5 W\n",
      "[codecarbon INFO @ 15:40:19] 0.027813 kWh of electricity used since the beginning.\n",
      "                                                \n",
      " 39%|███▉      | 78/200 [03:51<06:00,  2.95s/it]"
     ]
    },
    {
     "name": "stdout",
     "output_type": "stream",
     "text": [
      "{'loss': 0.3736, 'learning_rate': 0.00015600000000000002, 'epoch': 1.19}\n"
     ]
    },
    {
     "name": "stderr",
     "output_type": "stream",
     "text": [
      "[codecarbon INFO @ 15:40:23] Energy consumed for RAM : 0.002144 kWh. RAM Power : 11.698551177978516 W\n",
      "[codecarbon INFO @ 15:40:23] Energy consumed for all GPUs : 0.029928 kWh. Total GPU Power : 350.498 W\n",
      "[codecarbon INFO @ 15:40:23] Energy consumed for all CPUs : 0.007792 kWh. Total CPU Power : 42.5 W\n",
      "[codecarbon INFO @ 15:40:23] 0.039864 kWh of electricity used since the beginning.\n",
      "                                                \n",
      " 40%|███▉      | 79/200 [03:54<05:56,  2.95s/it]"
     ]
    },
    {
     "name": "stdout",
     "output_type": "stream",
     "text": [
      "{'loss': 0.3867, 'learning_rate': 0.00015800000000000002, 'epoch': 1.2}\n"
     ]
    },
    {
     "name": "stderr",
     "output_type": "stream",
     "text": [
      "                                                \n",
      " 40%|████      | 80/200 [03:57<05:54,  2.95s/it]"
     ]
    },
    {
     "name": "stdout",
     "output_type": "stream",
     "text": [
      "{'loss': 0.3472, 'learning_rate': 0.00016, 'epoch': 1.22}\n"
     ]
    },
    {
     "name": "stderr",
     "output_type": "stream",
     "text": [
      "[codecarbon INFO @ 15:40:30] Energy consumed for RAM : 0.000780 kWh. RAM Power : 11.698551177978516 W\n",
      "[codecarbon INFO @ 15:40:30] Energy consumed for all GPUs : 0.023430 kWh. Total GPU Power : 351.89300000000003 W\n",
      "[codecarbon INFO @ 15:40:30] Energy consumed for all CPUs : 0.002833 kWh. Total CPU Power : 42.5 W\n",
      "[codecarbon INFO @ 15:40:30] 0.027043 kWh of electricity used since the beginning.\n",
      "                                                \n",
      " 40%|████      | 81/200 [04:00<05:51,  2.95s/it]"
     ]
    },
    {
     "name": "stdout",
     "output_type": "stream",
     "text": [
      "{'loss': 0.376, 'learning_rate': 0.000162, 'epoch': 1.23}\n"
     ]
    },
    {
     "name": "stderr",
     "output_type": "stream",
     "text": [
      "[codecarbon INFO @ 15:40:31] Energy consumed for RAM : 0.002680 kWh. RAM Power : 11.698551177978516 W\n",
      "[codecarbon INFO @ 15:40:31] Energy consumed for all GPUs : 0.033555 kWh. Total GPU Power : 351.4700000000001 W\n",
      "[codecarbon INFO @ 15:40:31] Energy consumed for all CPUs : 0.009740 kWh. Total CPU Power : 42.5 W\n",
      "[codecarbon INFO @ 15:40:31] 0.045975 kWh of electricity used since the beginning.\n",
      "                                                \n",
      " 41%|████      | 82/200 [04:03<05:41,  2.89s/it]"
     ]
    },
    {
     "name": "stdout",
     "output_type": "stream",
     "text": [
      "{'loss': 0.3542, 'learning_rate': 0.000164, 'epoch': 1.25}\n"
     ]
    },
    {
     "name": "stderr",
     "output_type": "stream",
     "text": [
      "[codecarbon INFO @ 15:40:34] Energy consumed for RAM : 0.002437 kWh. RAM Power : 11.698551177978516 W\n",
      "[codecarbon INFO @ 15:40:34] Energy consumed for all GPUs : 0.033079 kWh. Total GPU Power : 352.117 W\n",
      "[codecarbon INFO @ 15:40:34] Energy consumed for all CPUs : 0.008854 kWh. Total CPU Power : 42.5 W\n",
      "[codecarbon INFO @ 15:40:34] 0.044369 kWh of electricity used since the beginning.\n",
      "[codecarbon INFO @ 15:40:34] Energy consumed for RAM : 0.000877 kWh. RAM Power : 11.698551177978516 W\n",
      "[codecarbon INFO @ 15:40:34] Energy consumed for all GPUs : 0.025445 kWh. Total GPU Power : 353.04200000000003 W\n",
      "[codecarbon INFO @ 15:40:34] Energy consumed for all CPUs : 0.003187 kWh. Total CPU Power : 42.5 W\n",
      "[codecarbon INFO @ 15:40:34] 0.029510 kWh of electricity used since the beginning.\n",
      "                                                \n",
      " 42%|████▏     | 83/200 [04:06<05:38,  2.89s/it]"
     ]
    },
    {
     "name": "stdout",
     "output_type": "stream",
     "text": [
      "{'loss': 0.3668, 'learning_rate': 0.000166, 'epoch': 1.26}\n"
     ]
    },
    {
     "name": "stderr",
     "output_type": "stream",
     "text": [
      "[codecarbon INFO @ 15:40:38] Energy consumed for RAM : 0.002193 kWh. RAM Power : 11.698551177978516 W\n",
      "[codecarbon INFO @ 15:40:38] Energy consumed for all GPUs : 0.031394 kWh. Total GPU Power : 352.026 W\n",
      "[codecarbon INFO @ 15:40:38] Energy consumed for all CPUs : 0.007969 kWh. Total CPU Power : 42.5 W\n",
      "[codecarbon INFO @ 15:40:38] 0.041556 kWh of electricity used since the beginning.\n",
      "                                                \n",
      " 42%|████▏     | 84/200 [04:09<05:40,  2.94s/it]"
     ]
    },
    {
     "name": "stdout",
     "output_type": "stream",
     "text": [
      "{'loss': 0.362, 'learning_rate': 0.000168, 'epoch': 1.28}\n"
     ]
    },
    {
     "name": "stderr",
     "output_type": "stream",
     "text": [
      "                                                \n",
      " 42%|████▎     | 85/200 [04:12<05:44,  2.99s/it]"
     ]
    },
    {
     "name": "stdout",
     "output_type": "stream",
     "text": [
      "{'loss': 0.3751, 'learning_rate': 0.00017, 'epoch': 1.29}\n"
     ]
    },
    {
     "name": "stderr",
     "output_type": "stream",
     "text": [
      "[codecarbon INFO @ 15:40:45] Energy consumed for RAM : 0.000829 kWh. RAM Power : 11.698551177978516 W\n",
      "[codecarbon INFO @ 15:40:45] Energy consumed for all GPUs : 0.024893 kWh. Total GPU Power : 351.04200000000003 W\n",
      "[codecarbon INFO @ 15:40:45] Energy consumed for all CPUs : 0.003010 kWh. Total CPU Power : 42.5 W\n",
      "[codecarbon INFO @ 15:40:45] 0.028731 kWh of electricity used since the beginning.\n",
      "                                                \n",
      " 43%|████▎     | 86/200 [04:15<05:38,  2.97s/it]"
     ]
    },
    {
     "name": "stdout",
     "output_type": "stream",
     "text": [
      "{'loss': 0.3882, 'learning_rate': 0.000172, 'epoch': 1.31}\n"
     ]
    },
    {
     "name": "stderr",
     "output_type": "stream",
     "text": [
      "[codecarbon INFO @ 15:40:46] Energy consumed for RAM : 0.002729 kWh. RAM Power : 11.698551177978516 W\n",
      "[codecarbon INFO @ 15:40:46] Energy consumed for all GPUs : 0.035022 kWh. Total GPU Power : 352.10200000000003 W\n",
      "[codecarbon INFO @ 15:40:46] Energy consumed for all CPUs : 0.009917 kWh. Total CPU Power : 42.5 W\n",
      "[codecarbon INFO @ 15:40:46] 0.047667 kWh of electricity used since the beginning.\n",
      "                                                \n",
      " 44%|████▎     | 87/200 [04:18<05:33,  2.95s/it]"
     ]
    },
    {
     "name": "stdout",
     "output_type": "stream",
     "text": [
      "{'loss': 0.3845, 'learning_rate': 0.000174, 'epoch': 1.32}\n"
     ]
    },
    {
     "name": "stderr",
     "output_type": "stream",
     "text": [
      "[codecarbon INFO @ 15:40:49] Energy consumed for RAM : 0.002485 kWh. RAM Power : 11.698551177978516 W\n",
      "[codecarbon INFO @ 15:40:49] Energy consumed for all GPUs : 0.034550 kWh. Total GPU Power : 353.15000000000003 W\n",
      "[codecarbon INFO @ 15:40:49] Energy consumed for all CPUs : 0.009031 kWh. Total CPU Power : 42.5 W\n",
      "[codecarbon INFO @ 15:40:49] 0.046066 kWh of electricity used since the beginning.\n",
      "[codecarbon INFO @ 15:40:49] Energy consumed for RAM : 0.000926 kWh. RAM Power : 11.698551177978516 W\n",
      "[codecarbon INFO @ 15:40:49] Energy consumed for all GPUs : 0.026910 kWh. Total GPU Power : 351.62200000000007 W\n",
      "[codecarbon INFO @ 15:40:49] Energy consumed for all CPUs : 0.003365 kWh. Total CPU Power : 42.5 W\n",
      "[codecarbon INFO @ 15:40:49] 0.031200 kWh of electricity used since the beginning.\n",
      "                                                \n",
      " 44%|████▍     | 88/200 [04:21<05:40,  3.04s/it]"
     ]
    },
    {
     "name": "stdout",
     "output_type": "stream",
     "text": [
      "{'loss': 0.3652, 'learning_rate': 0.00017600000000000002, 'epoch': 1.34}\n"
     ]
    },
    {
     "name": "stderr",
     "output_type": "stream",
     "text": [
      "[codecarbon INFO @ 15:40:53] Energy consumed for RAM : 0.002242 kWh. RAM Power : 11.698551177978516 W\n",
      "[codecarbon INFO @ 15:40:53] Energy consumed for all GPUs : 0.032860 kWh. Total GPU Power : 351.885 W\n",
      "[codecarbon INFO @ 15:40:53] Energy consumed for all CPUs : 0.008146 kWh. Total CPU Power : 42.5 W\n",
      "[codecarbon INFO @ 15:40:53] 0.043248 kWh of electricity used since the beginning.\n",
      "                                                \n",
      " 44%|████▍     | 89/200 [04:24<05:36,  3.03s/it]"
     ]
    },
    {
     "name": "stdout",
     "output_type": "stream",
     "text": [
      "{'loss': 0.4025, 'learning_rate': 0.00017800000000000002, 'epoch': 1.35}\n"
     ]
    },
    {
     "name": "stderr",
     "output_type": "stream",
     "text": [
      "                                                \n",
      " 45%|████▌     | 90/200 [04:27<05:27,  2.98s/it]"
     ]
    },
    {
     "name": "stdout",
     "output_type": "stream",
     "text": [
      "{'loss': 0.3817, 'learning_rate': 0.00018, 'epoch': 1.37}\n"
     ]
    },
    {
     "name": "stderr",
     "output_type": "stream",
     "text": [
      "[codecarbon INFO @ 15:41:00] Energy consumed for RAM : 0.000877 kWh. RAM Power : 11.698551177978516 W\n",
      "[codecarbon INFO @ 15:41:00] Energy consumed for all GPUs : 0.026356 kWh. Total GPU Power : 351.177 W\n",
      "[codecarbon INFO @ 15:41:00] Energy consumed for all CPUs : 0.003187 kWh. Total CPU Power : 42.5 W\n",
      "[codecarbon INFO @ 15:41:00] 0.030420 kWh of electricity used since the beginning.\n",
      "                                                \n",
      " 46%|████▌     | 91/200 [04:30<05:26,  2.99s/it]"
     ]
    },
    {
     "name": "stdout",
     "output_type": "stream",
     "text": [
      "{'loss': 0.3538, 'learning_rate': 0.000182, 'epoch': 1.38}\n"
     ]
    },
    {
     "name": "stderr",
     "output_type": "stream",
     "text": [
      "[codecarbon INFO @ 15:41:01] Energy consumed for RAM : 0.002778 kWh. RAM Power : 11.698551177978516 W\n",
      "[codecarbon INFO @ 15:41:01] Energy consumed for all GPUs : 0.036484 kWh. Total GPU Power : 351.12600000000003 W\n",
      "[codecarbon INFO @ 15:41:01] Energy consumed for all CPUs : 0.010094 kWh. Total CPU Power : 42.5 W\n",
      "[codecarbon INFO @ 15:41:01] 0.049356 kWh of electricity used since the beginning.\n",
      "                                                \n",
      " 46%|████▌     | 92/200 [04:33<05:23,  2.99s/it]"
     ]
    },
    {
     "name": "stdout",
     "output_type": "stream",
     "text": [
      "{'loss': 0.3808, 'learning_rate': 0.00018400000000000003, 'epoch': 1.4}\n"
     ]
    },
    {
     "name": "stderr",
     "output_type": "stream",
     "text": [
      "[codecarbon INFO @ 15:41:04] Energy consumed for RAM : 0.002534 kWh. RAM Power : 11.698551177978516 W\n",
      "[codecarbon INFO @ 15:41:04] Energy consumed for all GPUs : 0.036018 kWh. Total GPU Power : 352.414 W\n",
      "[codecarbon INFO @ 15:41:04] Energy consumed for all CPUs : 0.009208 kWh. Total CPU Power : 42.5 W\n",
      "[codecarbon INFO @ 15:41:04] 0.047760 kWh of electricity used since the beginning.\n",
      "[codecarbon INFO @ 15:41:04] Energy consumed for RAM : 0.000975 kWh. RAM Power : 11.698551177978516 W\n",
      "[codecarbon INFO @ 15:41:04] Energy consumed for all GPUs : 0.028373 kWh. Total GPU Power : 351.294 W\n",
      "[codecarbon INFO @ 15:41:04] Energy consumed for all CPUs : 0.003542 kWh. Total CPU Power : 42.5 W\n",
      "[codecarbon INFO @ 15:41:04] 0.032890 kWh of electricity used since the beginning.\n",
      "                                                \n",
      " 46%|████▋     | 93/200 [04:36<05:20,  3.00s/it]"
     ]
    },
    {
     "name": "stdout",
     "output_type": "stream",
     "text": [
      "{'loss': 0.3766, 'learning_rate': 0.00018600000000000002, 'epoch': 1.41}\n"
     ]
    },
    {
     "name": "stderr",
     "output_type": "stream",
     "text": [
      "[codecarbon INFO @ 15:41:08] Energy consumed for RAM : 0.002290 kWh. RAM Power : 11.698551177978516 W\n",
      "[codecarbon INFO @ 15:41:08] Energy consumed for all GPUs : 0.034329 kWh. Total GPU Power : 352.553 W\n",
      "[codecarbon INFO @ 15:41:08] Energy consumed for all CPUs : 0.008323 kWh. Total CPU Power : 42.5 W\n",
      "[codecarbon INFO @ 15:41:08] 0.044942 kWh of electricity used since the beginning.\n",
      "                                                \n",
      " 47%|████▋     | 94/200 [04:39<05:18,  3.00s/it]"
     ]
    },
    {
     "name": "stdout",
     "output_type": "stream",
     "text": [
      "{'loss': 0.384, 'learning_rate': 0.000188, 'epoch': 1.43}\n"
     ]
    },
    {
     "name": "stderr",
     "output_type": "stream",
     "text": [
      "                                                \n",
      " 48%|████▊     | 95/200 [04:42<05:12,  2.98s/it]"
     ]
    },
    {
     "name": "stdout",
     "output_type": "stream",
     "text": [
      "{'loss': 0.3686, 'learning_rate': 0.00019, 'epoch': 1.44}\n"
     ]
    },
    {
     "name": "stderr",
     "output_type": "stream",
     "text": [
      "[codecarbon INFO @ 15:41:15] Energy consumed for RAM : 0.000926 kWh. RAM Power : 11.698551177978516 W\n",
      "[codecarbon INFO @ 15:41:15] Energy consumed for all GPUs : 0.027824 kWh. Total GPU Power : 352.473 W\n",
      "[codecarbon INFO @ 15:41:15] Energy consumed for all CPUs : 0.003365 kWh. Total CPU Power : 42.5 W\n",
      "[codecarbon INFO @ 15:41:15] 0.032115 kWh of electricity used since the beginning.\n",
      "                                                \n",
      " 48%|████▊     | 96/200 [04:45<05:13,  3.02s/it]"
     ]
    },
    {
     "name": "stdout",
     "output_type": "stream",
     "text": [
      "{'loss': 0.3413, 'learning_rate': 0.000192, 'epoch': 1.46}\n"
     ]
    },
    {
     "name": "stderr",
     "output_type": "stream",
     "text": [
      "[codecarbon INFO @ 15:41:16] Energy consumed for RAM : 0.002826 kWh. RAM Power : 11.698551177978516 W\n",
      "[codecarbon INFO @ 15:41:16] Energy consumed for all GPUs : 0.037949 kWh. Total GPU Power : 351.52 W\n",
      "[codecarbon INFO @ 15:41:16] Energy consumed for all CPUs : 0.010271 kWh. Total CPU Power : 42.5 W\n",
      "[codecarbon INFO @ 15:41:16] 0.051046 kWh of electricity used since the beginning.\n",
      "                                                \n",
      " 48%|████▊     | 97/200 [04:48<05:05,  2.97s/it]"
     ]
    },
    {
     "name": "stdout",
     "output_type": "stream",
     "text": [
      "{'loss': 0.3472, 'learning_rate': 0.000194, 'epoch': 1.48}\n"
     ]
    },
    {
     "name": "stderr",
     "output_type": "stream",
     "text": [
      "[codecarbon INFO @ 15:41:19] Energy consumed for RAM : 0.002583 kWh. RAM Power : 11.698551177978516 W\n",
      "[codecarbon INFO @ 15:41:19] Energy consumed for all GPUs : 0.037483 kWh. Total GPU Power : 351.748 W\n",
      "[codecarbon INFO @ 15:41:19] Energy consumed for all CPUs : 0.009385 kWh. Total CPU Power : 42.5 W\n",
      "[codecarbon INFO @ 15:41:19] 0.049452 kWh of electricity used since the beginning.\n",
      "[codecarbon INFO @ 15:41:19] Energy consumed for RAM : 0.001023 kWh. RAM Power : 11.698551177978516 W\n",
      "[codecarbon INFO @ 15:41:19] Energy consumed for all GPUs : 0.029837 kWh. Total GPU Power : 351.244 W\n",
      "[codecarbon INFO @ 15:41:19] Energy consumed for all CPUs : 0.003719 kWh. Total CPU Power : 42.5 W\n",
      "[codecarbon INFO @ 15:41:19] 0.034579 kWh of electricity used since the beginning.\n",
      "                                                \n",
      " 49%|████▉     | 98/200 [04:51<05:01,  2.96s/it]"
     ]
    },
    {
     "name": "stdout",
     "output_type": "stream",
     "text": [
      "{'loss': 0.3846, 'learning_rate': 0.000196, 'epoch': 1.49}\n"
     ]
    },
    {
     "name": "stderr",
     "output_type": "stream",
     "text": [
      "[codecarbon INFO @ 15:41:23] Energy consumed for RAM : 0.002339 kWh. RAM Power : 11.698551177978516 W\n",
      "[codecarbon INFO @ 15:41:23] Energy consumed for all GPUs : 0.035804 kWh. Total GPU Power : 354.118 W\n",
      "[codecarbon INFO @ 15:41:23] Energy consumed for all CPUs : 0.008500 kWh. Total CPU Power : 42.5 W\n",
      "[codecarbon INFO @ 15:41:23] 0.046643 kWh of electricity used since the beginning.\n",
      "                                                \n",
      " 50%|████▉     | 99/200 [04:53<04:58,  2.96s/it]"
     ]
    },
    {
     "name": "stdout",
     "output_type": "stream",
     "text": [
      "{'loss': 0.3256, 'learning_rate': 0.00019800000000000002, 'epoch': 1.51}\n"
     ]
    },
    {
     "name": "stderr",
     "output_type": "stream",
     "text": [
      "                                                 \n",
      " 50%|█████     | 100/200 [04:56<04:56,  2.96s/it]"
     ]
    },
    {
     "name": "stdout",
     "output_type": "stream",
     "text": [
      "{'loss': 0.3974, 'learning_rate': 0.0002, 'epoch': 1.52}\n"
     ]
    },
    {
     "name": "stderr",
     "output_type": "stream",
     "text": [
      "                                                 \n",
      " 50%|█████     | 101/200 [04:59<04:51,  2.95s/it][codecarbon INFO @ 15:41:30] Energy consumed for RAM : 0.000975 kWh. RAM Power : 11.698551177978516 W\n",
      "[codecarbon INFO @ 15:41:30] Energy consumed for all GPUs : 0.029283 kWh. Total GPU Power : 350.216 W\n",
      "[codecarbon INFO @ 15:41:30] Energy consumed for all CPUs : 0.003542 kWh. Total CPU Power : 42.5 W\n",
      "[codecarbon INFO @ 15:41:30] 0.033799 kWh of electricity used since the beginning.\n"
     ]
    },
    {
     "name": "stdout",
     "output_type": "stream",
     "text": [
      "{'loss': 0.3462, 'learning_rate': 0.00019800000000000002, 'epoch': 1.54}\n"
     ]
    },
    {
     "name": "stderr",
     "output_type": "stream",
     "text": [
      "[codecarbon INFO @ 15:41:31] Energy consumed for RAM : 0.002875 kWh. RAM Power : 11.698551177978516 W\n",
      "[codecarbon INFO @ 15:41:31] Energy consumed for all GPUs : 0.039411 kWh. Total GPU Power : 350.963 W\n",
      "[codecarbon INFO @ 15:41:31] Energy consumed for all CPUs : 0.010448 kWh. Total CPU Power : 42.5 W\n",
      "[codecarbon INFO @ 15:41:31] 0.052734 kWh of electricity used since the beginning.\n",
      "                                                 \n",
      " 51%|█████     | 102/200 [05:02<04:51,  2.97s/it]"
     ]
    },
    {
     "name": "stdout",
     "output_type": "stream",
     "text": [
      "{'loss': 0.3857, 'learning_rate': 0.000196, 'epoch': 1.55}\n"
     ]
    },
    {
     "name": "stderr",
     "output_type": "stream",
     "text": [
      "[codecarbon INFO @ 15:41:34] Energy consumed for RAM : 0.002632 kWh. RAM Power : 11.698551177978516 W\n",
      "[codecarbon INFO @ 15:41:34] Energy consumed for all GPUs : 0.038950 kWh. Total GPU Power : 352.056 W\n",
      "[codecarbon INFO @ 15:41:34] Energy consumed for all CPUs : 0.009562 kWh. Total CPU Power : 42.5 W\n",
      "[codecarbon INFO @ 15:41:34] 0.051144 kWh of electricity used since the beginning.\n",
      "[codecarbon INFO @ 15:41:34] Energy consumed for RAM : 0.001072 kWh. RAM Power : 11.698551177978516 W\n",
      "[codecarbon INFO @ 15:41:34] Energy consumed for all GPUs : 0.031302 kWh. Total GPU Power : 351.8 W\n",
      "[codecarbon INFO @ 15:41:34] Energy consumed for all CPUs : 0.003896 kWh. Total CPU Power : 42.5 W\n",
      "[codecarbon INFO @ 15:41:34] 0.036270 kWh of electricity used since the beginning.\n",
      "                                                 \n",
      " 52%|█████▏    | 103/200 [05:05<04:48,  2.97s/it]"
     ]
    },
    {
     "name": "stdout",
     "output_type": "stream",
     "text": [
      "{'loss': 0.3413, 'learning_rate': 0.000194, 'epoch': 1.57}\n"
     ]
    },
    {
     "name": "stderr",
     "output_type": "stream",
     "text": [
      "[codecarbon INFO @ 15:41:38] Energy consumed for RAM : 0.002388 kWh. RAM Power : 11.698551177978516 W\n",
      "[codecarbon INFO @ 15:41:38] Energy consumed for all GPUs : 0.037268 kWh. Total GPU Power : 351.382 W\n",
      "[codecarbon INFO @ 15:41:38] Energy consumed for all CPUs : 0.008677 kWh. Total CPU Power : 42.5 W\n",
      "[codecarbon INFO @ 15:41:38] 0.048333 kWh of electricity used since the beginning.\n",
      "                                                 \n",
      " 52%|█████▏    | 104/200 [05:08<04:46,  2.98s/it]"
     ]
    },
    {
     "name": "stdout",
     "output_type": "stream",
     "text": [
      "{'loss': 0.3588, 'learning_rate': 0.000192, 'epoch': 1.58}\n"
     ]
    },
    {
     "name": "stderr",
     "output_type": "stream",
     "text": [
      "                                                 \n",
      " 52%|█████▎    | 105/200 [05:11<04:44,  3.00s/it]"
     ]
    },
    {
     "name": "stdout",
     "output_type": "stream",
     "text": [
      "{'loss': 0.3369, 'learning_rate': 0.00019, 'epoch': 1.6}\n"
     ]
    },
    {
     "name": "stderr",
     "output_type": "stream",
     "text": [
      "                                                 \n",
      " 53%|█████▎    | 106/200 [05:14<04:41,  2.99s/it][codecarbon INFO @ 15:41:45] Energy consumed for RAM : 0.001023 kWh. RAM Power : 11.698551177978516 W\n",
      "[codecarbon INFO @ 15:41:45] Energy consumed for all GPUs : 0.030748 kWh. Total GPU Power : 351.704 W\n",
      "[codecarbon INFO @ 15:41:45] Energy consumed for all CPUs : 0.003719 kWh. Total CPU Power : 42.5 W\n",
      "[codecarbon INFO @ 15:41:45] 0.035490 kWh of electricity used since the beginning.\n"
     ]
    },
    {
     "name": "stdout",
     "output_type": "stream",
     "text": [
      "{'loss': 0.3435, 'learning_rate': 0.000188, 'epoch': 1.61}\n"
     ]
    },
    {
     "name": "stderr",
     "output_type": "stream",
     "text": [
      "[codecarbon INFO @ 15:41:46] Energy consumed for RAM : 0.002924 kWh. RAM Power : 11.698551177978516 W\n",
      "[codecarbon INFO @ 15:41:46] Energy consumed for all GPUs : 0.040883 kWh. Total GPU Power : 353.282 W\n",
      "[codecarbon INFO @ 15:41:46] Energy consumed for all CPUs : 0.010625 kWh. Total CPU Power : 42.5 W\n",
      "[codecarbon INFO @ 15:41:46] 0.054432 kWh of electricity used since the beginning.\n",
      "                                                 \n",
      " 54%|█████▎    | 107/200 [05:17<04:40,  3.02s/it]"
     ]
    },
    {
     "name": "stdout",
     "output_type": "stream",
     "text": [
      "{'loss': 0.3523, 'learning_rate': 0.00018600000000000002, 'epoch': 1.63}\n"
     ]
    },
    {
     "name": "stderr",
     "output_type": "stream",
     "text": [
      "[codecarbon INFO @ 15:41:49] Energy consumed for RAM : 0.002680 kWh. RAM Power : 11.698551177978516 W\n",
      "[codecarbon INFO @ 15:41:49] Energy consumed for all GPUs : 0.040418 kWh. Total GPU Power : 352.277 W\n",
      "[codecarbon INFO @ 15:41:49] Energy consumed for all CPUs : 0.009739 kWh. Total CPU Power : 42.5 W\n",
      "[codecarbon INFO @ 15:41:49] 0.052838 kWh of electricity used since the beginning.\n",
      "[codecarbon INFO @ 15:41:49] Energy consumed for RAM : 0.001121 kWh. RAM Power : 11.698551177978516 W\n",
      "[codecarbon INFO @ 15:41:49] Energy consumed for all GPUs : 0.032771 kWh. Total GPU Power : 352.64 W\n",
      "[codecarbon INFO @ 15:41:49] Energy consumed for all CPUs : 0.004073 kWh. Total CPU Power : 42.5 W\n",
      "[codecarbon INFO @ 15:41:49] 0.037965 kWh of electricity used since the beginning.\n",
      "                                                 \n",
      " 54%|█████▍    | 108/200 [05:20<04:36,  3.01s/it]"
     ]
    },
    {
     "name": "stdout",
     "output_type": "stream",
     "text": [
      "{'loss': 0.3496, 'learning_rate': 0.00018400000000000003, 'epoch': 1.64}\n"
     ]
    },
    {
     "name": "stderr",
     "output_type": "stream",
     "text": [
      "[codecarbon INFO @ 15:41:53] Energy consumed for RAM : 0.002437 kWh. RAM Power : 11.698551177978516 W\n",
      "[codecarbon INFO @ 15:41:53] Energy consumed for all GPUs : 0.038744 kWh. Total GPU Power : 354.291 W\n",
      "[codecarbon INFO @ 15:41:53] Energy consumed for all CPUs : 0.008854 kWh. Total CPU Power : 42.5 W\n",
      "[codecarbon INFO @ 15:41:53] 0.050035 kWh of electricity used since the beginning.\n",
      "                                                 \n",
      " 55%|█████▍    | 109/200 [05:23<04:29,  2.97s/it]"
     ]
    },
    {
     "name": "stdout",
     "output_type": "stream",
     "text": [
      "{'loss': 0.3764, 'learning_rate': 0.000182, 'epoch': 1.66}\n"
     ]
    },
    {
     "name": "stderr",
     "output_type": "stream",
     "text": [
      "                                                 \n",
      " 55%|█████▌    | 110/200 [05:26<04:26,  2.96s/it]"
     ]
    },
    {
     "name": "stdout",
     "output_type": "stream",
     "text": [
      "{'loss': 0.3122, 'learning_rate': 0.00018, 'epoch': 1.67}\n"
     ]
    },
    {
     "name": "stderr",
     "output_type": "stream",
     "text": [
      "                                                 \n",
      " 56%|█████▌    | 111/200 [05:29<04:24,  2.97s/it]"
     ]
    },
    {
     "name": "stdout",
     "output_type": "stream",
     "text": [
      "{'loss': 0.3225, 'learning_rate': 0.00017800000000000002, 'epoch': 1.69}\n"
     ]
    },
    {
     "name": "stderr",
     "output_type": "stream",
     "text": [
      "[codecarbon INFO @ 15:42:00] Energy consumed for RAM : 0.001072 kWh. RAM Power : 11.698551177978516 W\n",
      "[codecarbon INFO @ 15:42:00] Energy consumed for all GPUs : 0.032218 kWh. Total GPU Power : 352.84900000000005 W\n",
      "[codecarbon INFO @ 15:42:00] Energy consumed for all CPUs : 0.003896 kWh. Total CPU Power : 42.5 W\n",
      "[codecarbon INFO @ 15:42:00] 0.037186 kWh of electricity used since the beginning.\n",
      "[codecarbon INFO @ 15:42:01] Energy consumed for RAM : 0.002973 kWh. RAM Power : 11.698551177978516 W\n",
      "[codecarbon INFO @ 15:42:01] Energy consumed for all GPUs : 0.042349 kWh. Total GPU Power : 352.01300000000003 W\n",
      "[codecarbon INFO @ 15:42:01] Energy consumed for all CPUs : 0.010802 kWh. Total CPU Power : 42.5 W\n",
      "[codecarbon INFO @ 15:42:01] 0.056124 kWh of electricity used since the beginning.\n",
      "                                                 \n",
      " 56%|█████▌    | 112/200 [05:32<04:25,  3.02s/it]"
     ]
    },
    {
     "name": "stdout",
     "output_type": "stream",
     "text": [
      "{'loss': 0.3681, 'learning_rate': 0.00017600000000000002, 'epoch': 1.7}\n"
     ]
    },
    {
     "name": "stderr",
     "output_type": "stream",
     "text": [
      "[codecarbon INFO @ 15:42:04] Energy consumed for RAM : 0.002729 kWh. RAM Power : 11.698551177978516 W\n",
      "[codecarbon INFO @ 15:42:04] Energy consumed for all GPUs : 0.041883 kWh. Total GPU Power : 351.786 W\n",
      "[codecarbon INFO @ 15:42:04] Energy consumed for all CPUs : 0.009917 kWh. Total CPU Power : 42.5 W\n",
      "[codecarbon INFO @ 15:42:04] 0.054529 kWh of electricity used since the beginning.\n",
      "[codecarbon INFO @ 15:42:04] Energy consumed for RAM : 0.001170 kWh. RAM Power : 11.698551177978516 W\n",
      "[codecarbon INFO @ 15:42:04] Energy consumed for all GPUs : 0.034240 kWh. Total GPU Power : 352.54 W\n",
      "[codecarbon INFO @ 15:42:04] Energy consumed for all CPUs : 0.004250 kWh. Total CPU Power : 42.5 W\n",
      "[codecarbon INFO @ 15:42:04] 0.039660 kWh of electricity used since the beginning.\n",
      "                                                 \n",
      " 56%|█████▋    | 113/200 [05:35<04:21,  3.00s/it]"
     ]
    },
    {
     "name": "stdout",
     "output_type": "stream",
     "text": [
      "{'loss': 0.3455, 'learning_rate': 0.000174, 'epoch': 1.72}\n"
     ]
    },
    {
     "name": "stderr",
     "output_type": "stream",
     "text": [
      "[codecarbon INFO @ 15:42:08] Energy consumed for RAM : 0.002485 kWh. RAM Power : 11.698551177978516 W\n",
      "[codecarbon INFO @ 15:42:08] Energy consumed for all GPUs : 0.040214 kWh. Total GPU Power : 352.84900000000005 W\n",
      "[codecarbon INFO @ 15:42:08] Energy consumed for all CPUs : 0.009031 kWh. Total CPU Power : 42.5 W\n",
      "[codecarbon INFO @ 15:42:08] 0.051731 kWh of electricity used since the beginning.\n",
      "                                                 \n",
      " 57%|█████▋    | 114/200 [05:38<04:16,  2.99s/it]"
     ]
    },
    {
     "name": "stdout",
     "output_type": "stream",
     "text": [
      "{'loss': 0.3556, 'learning_rate': 0.000172, 'epoch': 1.73}\n"
     ]
    },
    {
     "name": "stderr",
     "output_type": "stream",
     "text": [
      "                                                 \n",
      " 57%|█████▊    | 115/200 [05:41<04:15,  3.00s/it]"
     ]
    },
    {
     "name": "stdout",
     "output_type": "stream",
     "text": [
      "{'loss': 0.3486, 'learning_rate': 0.00017, 'epoch': 1.75}\n"
     ]
    },
    {
     "name": "stderr",
     "output_type": "stream",
     "text": [
      "                                                 \n",
      " 58%|█████▊    | 116/200 [05:44<04:11,  3.00s/it][codecarbon INFO @ 15:42:15] Energy consumed for RAM : 0.001121 kWh. RAM Power : 11.698551177978516 W\n",
      "[codecarbon INFO @ 15:42:15] Energy consumed for all GPUs : 0.033687 kWh. Total GPU Power : 352.51300000000003 W\n",
      "[codecarbon INFO @ 15:42:15] Energy consumed for all CPUs : 0.004073 kWh. Total CPU Power : 42.5 W\n",
      "[codecarbon INFO @ 15:42:15] 0.038881 kWh of electricity used since the beginning.\n"
     ]
    },
    {
     "name": "stdout",
     "output_type": "stream",
     "text": [
      "{'loss': 0.3825, 'learning_rate': 0.000168, 'epoch': 1.76}\n"
     ]
    },
    {
     "name": "stderr",
     "output_type": "stream",
     "text": [
      "[codecarbon INFO @ 15:42:16] Energy consumed for RAM : 0.003021 kWh. RAM Power : 11.698551177978516 W\n",
      "[codecarbon INFO @ 15:42:16] Energy consumed for all GPUs : 0.043817 kWh. Total GPU Power : 352.4560000000001 W\n",
      "[codecarbon INFO @ 15:42:16] Energy consumed for all CPUs : 0.010979 kWh. Total CPU Power : 42.5 W\n",
      "[codecarbon INFO @ 15:42:16] 0.057818 kWh of electricity used since the beginning.\n",
      "                                                 \n",
      " 58%|█████▊    | 117/200 [05:47<04:08,  2.99s/it]"
     ]
    },
    {
     "name": "stdout",
     "output_type": "stream",
     "text": [
      "{'loss': 0.385, 'learning_rate': 0.000166, 'epoch': 1.78}\n"
     ]
    },
    {
     "name": "stderr",
     "output_type": "stream",
     "text": [
      "[codecarbon INFO @ 15:42:19] Energy consumed for RAM : 0.002778 kWh. RAM Power : 11.698551177978516 W\n",
      "[codecarbon INFO @ 15:42:19] Energy consumed for all GPUs : 0.043349 kWh. Total GPU Power : 351.889 W\n",
      "[codecarbon INFO @ 15:42:19] Energy consumed for all CPUs : 0.010094 kWh. Total CPU Power : 42.5 W\n",
      "[codecarbon INFO @ 15:42:19] 0.056221 kWh of electricity used since the beginning.\n",
      "[codecarbon INFO @ 15:42:19] Energy consumed for RAM : 0.001218 kWh. RAM Power : 11.698551177978516 W\n",
      "[codecarbon INFO @ 15:42:19] Energy consumed for all GPUs : 0.035706 kWh. Total GPU Power : 351.997 W\n",
      "[codecarbon INFO @ 15:42:19] Energy consumed for all CPUs : 0.004427 kWh. Total CPU Power : 42.5 W\n",
      "[codecarbon INFO @ 15:42:19] 0.041352 kWh of electricity used since the beginning.\n",
      "                                                 \n",
      " 59%|█████▉    | 118/200 [05:50<04:03,  2.97s/it]"
     ]
    },
    {
     "name": "stdout",
     "output_type": "stream",
     "text": [
      "{'loss': 0.3342, 'learning_rate': 0.000164, 'epoch': 1.79}\n"
     ]
    },
    {
     "name": "stderr",
     "output_type": "stream",
     "text": [
      "[codecarbon INFO @ 15:42:23] Energy consumed for RAM : 0.002534 kWh. RAM Power : 11.698551177978516 W\n",
      "[codecarbon INFO @ 15:42:23] Energy consumed for all GPUs : 0.041684 kWh. Total GPU Power : 352.812 W\n",
      "[codecarbon INFO @ 15:42:23] Energy consumed for all CPUs : 0.009208 kWh. Total CPU Power : 42.5 W\n",
      "[codecarbon INFO @ 15:42:23] 0.053426 kWh of electricity used since the beginning.\n",
      "                                                 \n",
      " 60%|█████▉    | 119/200 [05:53<03:59,  2.95s/it]"
     ]
    },
    {
     "name": "stdout",
     "output_type": "stream",
     "text": [
      "{'loss': 0.3352, 'learning_rate': 0.000162, 'epoch': 1.81}\n"
     ]
    },
    {
     "name": "stderr",
     "output_type": "stream",
     "text": [
      "                                                 \n",
      " 60%|██████    | 120/200 [05:56<03:57,  2.97s/it]"
     ]
    },
    {
     "name": "stdout",
     "output_type": "stream",
     "text": [
      "{'loss': 0.3077, 'learning_rate': 0.00016, 'epoch': 1.83}\n"
     ]
    },
    {
     "name": "stderr",
     "output_type": "stream",
     "text": [
      "                                                 \n",
      " 60%|██████    | 121/200 [05:59<03:54,  2.97s/it]"
     ]
    },
    {
     "name": "stdout",
     "output_type": "stream",
     "text": [
      "{'loss': 0.3176, 'learning_rate': 0.00015800000000000002, 'epoch': 1.84}\n"
     ]
    },
    {
     "name": "stderr",
     "output_type": "stream",
     "text": [
      "[codecarbon INFO @ 15:42:30] Energy consumed for RAM : 0.001170 kWh. RAM Power : 11.698551177978516 W\n",
      "[codecarbon INFO @ 15:42:30] Energy consumed for all GPUs : 0.035157 kWh. Total GPU Power : 352.898 W\n",
      "[codecarbon INFO @ 15:42:30] Energy consumed for all CPUs : 0.004250 kWh. Total CPU Power : 42.5 W\n",
      "[codecarbon INFO @ 15:42:30] 0.040577 kWh of electricity used since the beginning.\n",
      "[codecarbon INFO @ 15:42:31] Energy consumed for RAM : 0.003070 kWh. RAM Power : 11.698551177978516 W\n",
      "[codecarbon INFO @ 15:42:31] Energy consumed for all GPUs : 0.045287 kWh. Total GPU Power : 352.777 W\n",
      "[codecarbon INFO @ 15:42:31] Energy consumed for all CPUs : 0.011156 kWh. Total CPU Power : 42.5 W\n",
      "[codecarbon INFO @ 15:42:31] 0.059514 kWh of electricity used since the beginning.\n",
      "                                                 \n",
      " 61%|██████    | 122/200 [06:02<03:51,  2.97s/it]"
     ]
    },
    {
     "name": "stdout",
     "output_type": "stream",
     "text": [
      "{'loss': 0.3028, 'learning_rate': 0.00015600000000000002, 'epoch': 1.86}\n"
     ]
    },
    {
     "name": "stderr",
     "output_type": "stream",
     "text": [
      "[codecarbon INFO @ 15:42:34] Energy consumed for RAM : 0.002827 kWh. RAM Power : 11.698551177978516 W\n",
      "[codecarbon INFO @ 15:42:34] Energy consumed for all GPUs : 0.044817 kWh. Total GPU Power : 352.278 W\n",
      "[codecarbon INFO @ 15:42:34] Energy consumed for all CPUs : 0.010271 kWh. Total CPU Power : 42.5 W\n",
      "[codecarbon INFO @ 15:42:34] 0.057914 kWh of electricity used since the beginning.\n",
      "[codecarbon INFO @ 15:42:34] Energy consumed for RAM : 0.001267 kWh. RAM Power : 11.698551177978516 W\n",
      "[codecarbon INFO @ 15:42:34] Energy consumed for all GPUs : 0.037184 kWh. Total GPU Power : 354.72700000000003 W\n",
      "[codecarbon INFO @ 15:42:34] Energy consumed for all CPUs : 0.004604 kWh. Total CPU Power : 42.5 W\n",
      "[codecarbon INFO @ 15:42:34] 0.043055 kWh of electricity used since the beginning.\n",
      "                                                 \n",
      " 62%|██████▏   | 123/200 [06:05<03:43,  2.90s/it]"
     ]
    },
    {
     "name": "stdout",
     "output_type": "stream",
     "text": [
      "{'loss': 0.3386, 'learning_rate': 0.000154, 'epoch': 1.87}\n"
     ]
    },
    {
     "name": "stderr",
     "output_type": "stream",
     "text": [
      "[codecarbon INFO @ 15:42:38] Energy consumed for RAM : 0.002583 kWh. RAM Power : 11.698551177978516 W\n",
      "[codecarbon INFO @ 15:42:38] Energy consumed for all GPUs : 0.043155 kWh. Total GPU Power : 353.067 W\n",
      "[codecarbon INFO @ 15:42:38] Energy consumed for all CPUs : 0.009385 kWh. Total CPU Power : 42.5 W\n",
      "[codecarbon INFO @ 15:42:38] 0.055123 kWh of electricity used since the beginning.\n",
      "                                                 \n",
      " 62%|██████▏   | 124/200 [06:08<03:42,  2.92s/it]"
     ]
    },
    {
     "name": "stdout",
     "output_type": "stream",
     "text": [
      "{'loss': 0.3404, 'learning_rate': 0.000152, 'epoch': 1.89}\n"
     ]
    },
    {
     "name": "stderr",
     "output_type": "stream",
     "text": [
      "                                                 \n",
      " 62%|██████▎   | 125/200 [06:11<03:39,  2.92s/it]"
     ]
    },
    {
     "name": "stdout",
     "output_type": "stream",
     "text": [
      "{'loss': 0.3193, 'learning_rate': 0.00015000000000000001, 'epoch': 1.9}\n"
     ]
    },
    {
     "name": "stderr",
     "output_type": "stream",
     "text": [
      "                                                 \n",
      " 63%|██████▎   | 126/200 [06:14<03:36,  2.93s/it]"
     ]
    },
    {
     "name": "stdout",
     "output_type": "stream",
     "text": [
      "{'loss': 0.375, 'learning_rate': 0.000148, 'epoch': 1.92}\n"
     ]
    },
    {
     "name": "stderr",
     "output_type": "stream",
     "text": [
      "[codecarbon INFO @ 15:42:45] Energy consumed for RAM : 0.001218 kWh. RAM Power : 11.698551177978516 W\n",
      "[codecarbon INFO @ 15:42:45] Energy consumed for all GPUs : 0.036616 kWh. Total GPU Power : 350.189 W\n",
      "[codecarbon INFO @ 15:42:45] Energy consumed for all CPUs : 0.004427 kWh. Total CPU Power : 42.5 W\n",
      "[codecarbon INFO @ 15:42:45] 0.042261 kWh of electricity used since the beginning.\n",
      "[codecarbon INFO @ 15:42:46] Energy consumed for RAM : 0.003119 kWh. RAM Power : 11.698551177978516 W\n",
      "[codecarbon INFO @ 15:42:46] Energy consumed for all GPUs : 0.046753 kWh. Total GPU Power : 351.861 W\n",
      "[codecarbon INFO @ 15:42:46] Energy consumed for all CPUs : 0.011333 kWh. Total CPU Power : 42.5 W\n",
      "[codecarbon INFO @ 15:42:46] 0.061205 kWh of electricity used since the beginning.\n",
      "                                                 \n",
      " 64%|██████▎   | 127/200 [06:17<03:35,  2.95s/it]"
     ]
    },
    {
     "name": "stdout",
     "output_type": "stream",
     "text": [
      "{'loss': 0.3208, 'learning_rate': 0.000146, 'epoch': 1.93}\n"
     ]
    },
    {
     "name": "stderr",
     "output_type": "stream",
     "text": [
      "[codecarbon INFO @ 15:42:49] Energy consumed for RAM : 0.002875 kWh. RAM Power : 11.698551177978516 W\n",
      "[codecarbon INFO @ 15:42:49] Energy consumed for all GPUs : 0.046277 kWh. Total GPU Power : 350.421 W\n",
      "[codecarbon INFO @ 15:42:49] Energy consumed for all CPUs : 0.010448 kWh. Total CPU Power : 42.5 W\n",
      "[codecarbon INFO @ 15:42:49] 0.059600 kWh of electricity used since the beginning.\n",
      "[codecarbon INFO @ 15:42:49] Energy consumed for RAM : 0.001316 kWh. RAM Power : 11.698551177978516 W\n",
      "[codecarbon INFO @ 15:42:49] Energy consumed for all GPUs : 0.038650 kWh. Total GPU Power : 351.817 W\n",
      "[codecarbon INFO @ 15:42:49] Energy consumed for all CPUs : 0.004781 kWh. Total CPU Power : 42.5 W\n",
      "[codecarbon INFO @ 15:42:49] 0.044747 kWh of electricity used since the beginning.\n",
      "                                                 \n",
      " 64%|██████▍   | 128/200 [06:20<03:31,  2.93s/it]"
     ]
    },
    {
     "name": "stdout",
     "output_type": "stream",
     "text": [
      "{'loss': 0.3093, 'learning_rate': 0.000144, 'epoch': 1.95}\n"
     ]
    },
    {
     "name": "stderr",
     "output_type": "stream",
     "text": [
      "[codecarbon INFO @ 15:42:53] Energy consumed for RAM : 0.002632 kWh. RAM Power : 11.698551177978516 W\n",
      "[codecarbon INFO @ 15:42:53] Energy consumed for all GPUs : 0.044618 kWh. Total GPU Power : 351.195 W\n",
      "[codecarbon INFO @ 15:42:53] Energy consumed for all CPUs : 0.009562 kWh. Total CPU Power : 42.5 W\n",
      "[codecarbon INFO @ 15:42:53] 0.056812 kWh of electricity used since the beginning.\n",
      "                                                 \n",
      " 64%|██████▍   | 129/200 [06:23<03:30,  2.96s/it]"
     ]
    },
    {
     "name": "stdout",
     "output_type": "stream",
     "text": [
      "{'loss': 0.3841, 'learning_rate': 0.000142, 'epoch': 1.96}\n"
     ]
    },
    {
     "name": "stderr",
     "output_type": "stream",
     "text": [
      "                                                 \n",
      " 65%|██████▌   | 130/200 [06:26<03:27,  2.97s/it]"
     ]
    },
    {
     "name": "stdout",
     "output_type": "stream",
     "text": [
      "{'loss': 0.3008, 'learning_rate': 0.00014, 'epoch': 1.98}\n"
     ]
    },
    {
     "name": "stderr",
     "output_type": "stream",
     "text": [
      "                                                 \n",
      " 66%|██████▌   | 131/200 [06:29<03:25,  2.97s/it]"
     ]
    },
    {
     "name": "stdout",
     "output_type": "stream",
     "text": [
      "{'loss': 0.2909, 'learning_rate': 0.000138, 'epoch': 1.99}\n"
     ]
    },
    {
     "name": "stderr",
     "output_type": "stream",
     "text": [
      "[codecarbon INFO @ 15:43:00] Energy consumed for RAM : 0.001267 kWh. RAM Power : 11.698551177978516 W\n",
      "[codecarbon INFO @ 15:43:00] Energy consumed for all GPUs : 0.038081 kWh. Total GPU Power : 351.745 W\n",
      "[codecarbon INFO @ 15:43:00] Energy consumed for all CPUs : 0.004604 kWh. Total CPU Power : 42.5 W\n",
      "[codecarbon INFO @ 15:43:00] 0.043952 kWh of electricity used since the beginning.\n",
      "[codecarbon INFO @ 15:43:01] Energy consumed for RAM : 0.003168 kWh. RAM Power : 11.698551177978516 W\n",
      "[codecarbon INFO @ 15:43:01] Energy consumed for all GPUs : 0.048221 kWh. Total GPU Power : 352.476 W\n",
      "[codecarbon INFO @ 15:43:01] Energy consumed for all CPUs : 0.011510 kWh. Total CPU Power : 42.5 W\n",
      "[codecarbon INFO @ 15:43:01] 0.062899 kWh of electricity used since the beginning.\n",
      "                                                 \n",
      " 66%|██████▌   | 132/200 [06:32<03:27,  3.05s/it]"
     ]
    },
    {
     "name": "stdout",
     "output_type": "stream",
     "text": [
      "{'loss': 0.3028, 'learning_rate': 0.00013600000000000003, 'epoch': 2.01}\n"
     ]
    },
    {
     "name": "stderr",
     "output_type": "stream",
     "text": [
      "[codecarbon INFO @ 15:43:04] Energy consumed for RAM : 0.002924 kWh. RAM Power : 11.698551177978516 W\n",
      "[codecarbon INFO @ 15:43:04] Energy consumed for all GPUs : 0.047737 kWh. Total GPU Power : 350.45500000000004 W\n",
      "[codecarbon INFO @ 15:43:04] Energy consumed for all CPUs : 0.010625 kWh. Total CPU Power : 42.5 W\n",
      "[codecarbon INFO @ 15:43:04] 0.061286 kWh of electricity used since the beginning.\n",
      "[codecarbon INFO @ 15:43:04] Energy consumed for RAM : 0.001365 kWh. RAM Power : 11.698551177978516 W\n",
      "[codecarbon INFO @ 15:43:04] Energy consumed for all GPUs : 0.040109 kWh. Total GPU Power : 350.18 W\n",
      "[codecarbon INFO @ 15:43:04] Energy consumed for all CPUs : 0.004958 kWh. Total CPU Power : 42.5 W\n",
      "[codecarbon INFO @ 15:43:04] 0.046432 kWh of electricity used since the beginning.\n",
      "                                                 \n",
      " 66%|██████▋   | 133/200 [06:35<03:24,  3.05s/it]"
     ]
    },
    {
     "name": "stdout",
     "output_type": "stream",
     "text": [
      "{'loss': 0.2604, 'learning_rate': 0.000134, 'epoch': 2.02}\n"
     ]
    },
    {
     "name": "stderr",
     "output_type": "stream",
     "text": [
      "[codecarbon INFO @ 15:43:08] Energy consumed for RAM : 0.002680 kWh. RAM Power : 11.698551177978516 W\n",
      "[codecarbon INFO @ 15:43:08] Energy consumed for all GPUs : 0.046082 kWh. Total GPU Power : 351.428 W\n",
      "[codecarbon INFO @ 15:43:08] Energy consumed for all CPUs : 0.009739 kWh. Total CPU Power : 42.5 W\n",
      "[codecarbon INFO @ 15:43:08] 0.058502 kWh of electricity used since the beginning.\n",
      "                                                 \n",
      " 67%|██████▋   | 134/200 [06:38<03:15,  2.95s/it]"
     ]
    },
    {
     "name": "stdout",
     "output_type": "stream",
     "text": [
      "{'loss': 0.2694, 'learning_rate': 0.000132, 'epoch': 2.04}\n"
     ]
    },
    {
     "name": "stderr",
     "output_type": "stream",
     "text": [
      "                                                 \n",
      " 68%|██████▊   | 135/200 [06:41<03:14,  2.99s/it]"
     ]
    },
    {
     "name": "stdout",
     "output_type": "stream",
     "text": [
      "{'loss': 0.326, 'learning_rate': 0.00013000000000000002, 'epoch': 2.05}\n"
     ]
    },
    {
     "name": "stderr",
     "output_type": "stream",
     "text": [
      "                                                 \n",
      " 68%|██████▊   | 136/200 [06:44<03:12,  3.00s/it]"
     ]
    },
    {
     "name": "stdout",
     "output_type": "stream",
     "text": [
      "{'loss': 0.2712, 'learning_rate': 0.00012800000000000002, 'epoch': 2.07}\n"
     ]
    },
    {
     "name": "stderr",
     "output_type": "stream",
     "text": [
      "[codecarbon INFO @ 15:43:15] Energy consumed for RAM : 0.001316 kWh. RAM Power : 11.698551177978516 W\n",
      "[codecarbon INFO @ 15:43:15] Energy consumed for all GPUs : 0.039545 kWh. Total GPU Power : 351.294 W\n",
      "[codecarbon INFO @ 15:43:15] Energy consumed for all CPUs : 0.004781 kWh. Total CPU Power : 42.5 W\n",
      "[codecarbon INFO @ 15:43:15] 0.045642 kWh of electricity used since the beginning.\n",
      "[codecarbon INFO @ 15:43:16] Energy consumed for RAM : 0.003216 kWh. RAM Power : 11.698551177978516 W\n",
      "[codecarbon INFO @ 15:43:16] Energy consumed for all GPUs : 0.049689 kWh. Total GPU Power : 352.248 W\n",
      "[codecarbon INFO @ 15:43:16] Energy consumed for all CPUs : 0.011687 kWh. Total CPU Power : 42.5 W\n",
      "[codecarbon INFO @ 15:43:16] 0.064593 kWh of electricity used since the beginning.\n",
      "                                                 \n",
      " 68%|██████▊   | 137/200 [06:47<03:07,  2.98s/it]"
     ]
    },
    {
     "name": "stdout",
     "output_type": "stream",
     "text": [
      "{'loss': 0.2752, 'learning_rate': 0.000126, 'epoch': 2.08}\n"
     ]
    },
    {
     "name": "stderr",
     "output_type": "stream",
     "text": [
      "[codecarbon INFO @ 15:43:19] Energy consumed for RAM : 0.002973 kWh. RAM Power : 11.698551177978516 W\n",
      "[codecarbon INFO @ 15:43:19] Energy consumed for all GPUs : 0.049203 kWh. Total GPU Power : 351.98 W\n",
      "[codecarbon INFO @ 15:43:19] Energy consumed for all CPUs : 0.010802 kWh. Total CPU Power : 42.5 W\n",
      "[codecarbon INFO @ 15:43:19] 0.062978 kWh of electricity used since the beginning.\n",
      "[codecarbon INFO @ 15:43:19] Energy consumed for RAM : 0.001413 kWh. RAM Power : 11.698551177978516 W\n",
      "[codecarbon INFO @ 15:43:19] Energy consumed for all GPUs : 0.041569 kWh. Total GPU Power : 350.454 W\n",
      "[codecarbon INFO @ 15:43:19] Energy consumed for all CPUs : 0.005135 kWh. Total CPU Power : 42.5 W\n",
      "[codecarbon INFO @ 15:43:19] 0.048118 kWh of electricity used since the beginning.\n",
      "                                                 \n",
      " 69%|██████▉   | 138/200 [06:50<03:04,  2.97s/it]"
     ]
    },
    {
     "name": "stdout",
     "output_type": "stream",
     "text": [
      "{'loss': 0.2733, 'learning_rate': 0.000124, 'epoch': 2.1}\n"
     ]
    },
    {
     "name": "stderr",
     "output_type": "stream",
     "text": [
      "[codecarbon INFO @ 15:43:23] Energy consumed for RAM : 0.002729 kWh. RAM Power : 11.698551177978516 W\n",
      "[codecarbon INFO @ 15:43:23] Energy consumed for all GPUs : 0.047546 kWh. Total GPU Power : 351.30300000000005 W\n",
      "[codecarbon INFO @ 15:43:23] Energy consumed for all CPUs : 0.009917 kWh. Total CPU Power : 42.5 W\n",
      "[codecarbon INFO @ 15:43:23] 0.060191 kWh of electricity used since the beginning.\n",
      "                                                 \n",
      " 70%|██████▉   | 139/200 [06:52<02:59,  2.95s/it]"
     ]
    },
    {
     "name": "stdout",
     "output_type": "stream",
     "text": [
      "{'loss': 0.2729, 'learning_rate': 0.000122, 'epoch': 2.11}\n"
     ]
    },
    {
     "name": "stderr",
     "output_type": "stream",
     "text": [
      "                                                 \n",
      " 70%|███████   | 140/200 [06:55<02:57,  2.97s/it]"
     ]
    },
    {
     "name": "stdout",
     "output_type": "stream",
     "text": [
      "{'loss': 0.275, 'learning_rate': 0.00012, 'epoch': 2.13}\n"
     ]
    },
    {
     "name": "stderr",
     "output_type": "stream",
     "text": [
      "                                                 \n",
      " 70%|███████   | 141/200 [06:58<02:52,  2.93s/it]"
     ]
    },
    {
     "name": "stdout",
     "output_type": "stream",
     "text": [
      "{'loss': 0.2617, 'learning_rate': 0.000118, 'epoch': 2.14}\n"
     ]
    },
    {
     "name": "stderr",
     "output_type": "stream",
     "text": [
      "[codecarbon INFO @ 15:43:30] Energy consumed for RAM : 0.001365 kWh. RAM Power : 11.698551177978516 W\n",
      "[codecarbon INFO @ 15:43:30] Energy consumed for all GPUs : 0.041008 kWh. Total GPU Power : 351.361 W\n",
      "[codecarbon INFO @ 15:43:30] Energy consumed for all CPUs : 0.004958 kWh. Total CPU Power : 42.5 W\n",
      "[codecarbon INFO @ 15:43:30] 0.047331 kWh of electricity used since the beginning.\n",
      "[codecarbon INFO @ 15:43:31] Energy consumed for RAM : 0.003265 kWh. RAM Power : 11.698551177978516 W\n",
      "[codecarbon INFO @ 15:43:31] Energy consumed for all GPUs : 0.051151 kWh. Total GPU Power : 350.939 W\n",
      "[codecarbon INFO @ 15:43:31] Energy consumed for all CPUs : 0.011865 kWh. Total CPU Power : 42.5 W\n",
      "[codecarbon INFO @ 15:43:31] 0.066280 kWh of electricity used since the beginning.\n",
      "                                                 \n",
      " 71%|███████   | 142/200 [07:01<02:52,  2.97s/it]"
     ]
    },
    {
     "name": "stdout",
     "output_type": "stream",
     "text": [
      "{'loss': 0.2666, 'learning_rate': 0.000116, 'epoch': 2.16}\n"
     ]
    },
    {
     "name": "stderr",
     "output_type": "stream",
     "text": [
      "[codecarbon INFO @ 15:43:34] Energy consumed for RAM : 0.003022 kWh. RAM Power : 11.698551177978516 W\n",
      "[codecarbon INFO @ 15:43:34] Energy consumed for all GPUs : 0.050671 kWh. Total GPU Power : 352.415 W\n",
      "[codecarbon INFO @ 15:43:34] Energy consumed for all CPUs : 0.010979 kWh. Total CPU Power : 42.5 W\n",
      "[codecarbon INFO @ 15:43:34] 0.064672 kWh of electricity used since the beginning.\n",
      "[codecarbon INFO @ 15:43:34] Energy consumed for RAM : 0.001462 kWh. RAM Power : 11.698551177978516 W\n",
      "[codecarbon INFO @ 15:43:34] Energy consumed for all GPUs : 0.043032 kWh. Total GPU Power : 351.205 W\n",
      "[codecarbon INFO @ 15:43:34] Energy consumed for all CPUs : 0.005312 kWh. Total CPU Power : 42.5 W\n",
      "[codecarbon INFO @ 15:43:34] 0.049806 kWh of electricity used since the beginning.\n",
      "                                                 \n",
      " 72%|███████▏  | 143/200 [07:04<02:50,  3.00s/it]"
     ]
    },
    {
     "name": "stdout",
     "output_type": "stream",
     "text": [
      "{'loss': 0.2558, 'learning_rate': 0.00011399999999999999, 'epoch': 2.17}\n"
     ]
    },
    {
     "name": "stderr",
     "output_type": "stream",
     "text": [
      "[codecarbon INFO @ 15:43:38] Energy consumed for RAM : 0.002778 kWh. RAM Power : 11.698551177978516 W\n",
      "[codecarbon INFO @ 15:43:38] Energy consumed for all GPUs : 0.049018 kWh. Total GPU Power : 353.50200000000007 W\n",
      "[codecarbon INFO @ 15:43:38] Energy consumed for all CPUs : 0.010094 kWh. Total CPU Power : 42.5 W\n",
      "[codecarbon INFO @ 15:43:38] 0.061890 kWh of electricity used since the beginning.\n",
      "                                                 \n",
      " 72%|███████▏  | 144/200 [07:07<02:46,  2.98s/it]"
     ]
    },
    {
     "name": "stdout",
     "output_type": "stream",
     "text": [
      "{'loss': 0.259, 'learning_rate': 0.00011200000000000001, 'epoch': 2.19}\n"
     ]
    },
    {
     "name": "stderr",
     "output_type": "stream",
     "text": [
      "                                                 \n",
      " 72%|███████▎  | 145/200 [07:10<02:42,  2.96s/it]"
     ]
    },
    {
     "name": "stdout",
     "output_type": "stream",
     "text": [
      "{'loss': 0.25, 'learning_rate': 0.00011000000000000002, 'epoch': 2.21}\n"
     ]
    },
    {
     "name": "stderr",
     "output_type": "stream",
     "text": [
      "                                                 \n",
      " 73%|███████▎  | 146/200 [07:13<02:40,  2.96s/it]"
     ]
    },
    {
     "name": "stdout",
     "output_type": "stream",
     "text": [
      "{'loss': 0.2237, 'learning_rate': 0.00010800000000000001, 'epoch': 2.22}\n"
     ]
    },
    {
     "name": "stderr",
     "output_type": "stream",
     "text": [
      "[codecarbon INFO @ 15:43:45] Energy consumed for RAM : 0.001413 kWh. RAM Power : 11.698551177978516 W\n",
      "[codecarbon INFO @ 15:43:45] Energy consumed for all GPUs : 0.042472 kWh. Total GPU Power : 351.3190000000001 W\n",
      "[codecarbon INFO @ 15:43:45] Energy consumed for all CPUs : 0.005135 kWh. Total CPU Power : 42.5 W\n",
      "[codecarbon INFO @ 15:43:45] 0.049021 kWh of electricity used since the beginning.\n",
      "[codecarbon INFO @ 15:43:46] Energy consumed for RAM : 0.003314 kWh. RAM Power : 11.698551177978516 W\n",
      "[codecarbon INFO @ 15:43:46] Energy consumed for all GPUs : 0.052610 kWh. Total GPU Power : 350.331 W\n",
      "[codecarbon INFO @ 15:43:46] Energy consumed for all CPUs : 0.012042 kWh. Total CPU Power : 42.5 W\n",
      "[codecarbon INFO @ 15:43:46] 0.067966 kWh of electricity used since the beginning.\n",
      "                                                 \n",
      " 74%|███████▎  | 147/200 [07:16<02:36,  2.96s/it]"
     ]
    },
    {
     "name": "stdout",
     "output_type": "stream",
     "text": [
      "{'loss': 0.2011, 'learning_rate': 0.00010600000000000002, 'epoch': 2.24}\n"
     ]
    },
    {
     "name": "stderr",
     "output_type": "stream",
     "text": [
      "[codecarbon INFO @ 15:43:49] Energy consumed for RAM : 0.003070 kWh. RAM Power : 11.698551177978516 W\n",
      "[codecarbon INFO @ 15:43:49] Energy consumed for all GPUs : 0.052137 kWh. Total GPU Power : 351.718 W\n",
      "[codecarbon INFO @ 15:43:49] Energy consumed for all CPUs : 0.011156 kWh. Total CPU Power : 42.5 W\n",
      "[codecarbon INFO @ 15:43:49] 0.066363 kWh of electricity used since the beginning.\n",
      "[codecarbon INFO @ 15:43:49] Energy consumed for RAM : 0.001511 kWh. RAM Power : 11.698551177978516 W\n",
      "[codecarbon INFO @ 15:43:49] Energy consumed for all GPUs : 0.044498 kWh. Total GPU Power : 351.98900000000003 W\n",
      "[codecarbon INFO @ 15:43:49] Energy consumed for all CPUs : 0.005490 kWh. Total CPU Power : 42.5 W\n",
      "[codecarbon INFO @ 15:43:49] 0.051499 kWh of electricity used since the beginning.\n",
      "                                                 \n",
      " 74%|███████▍  | 148/200 [07:19<02:34,  2.97s/it]"
     ]
    },
    {
     "name": "stdout",
     "output_type": "stream",
     "text": [
      "{'loss': 0.2122, 'learning_rate': 0.00010400000000000001, 'epoch': 2.25}\n"
     ]
    },
    {
     "name": "stderr",
     "output_type": "stream",
     "text": [
      "                                                 \n",
      " 74%|███████▍  | 149/200 [07:22<02:29,  2.93s/it][codecarbon INFO @ 15:43:53] Energy consumed for RAM : 0.002827 kWh. RAM Power : 11.698551177978516 W\n",
      "[codecarbon INFO @ 15:43:53] Energy consumed for all GPUs : 0.050482 kWh. Total GPU Power : 351.502 W\n",
      "[codecarbon INFO @ 15:43:53] Energy consumed for all CPUs : 0.010271 kWh. Total CPU Power : 42.5 W\n",
      "[codecarbon INFO @ 15:43:53] 0.063580 kWh of electricity used since the beginning.\n"
     ]
    },
    {
     "name": "stdout",
     "output_type": "stream",
     "text": [
      "{'loss': 0.2174, 'learning_rate': 0.00010200000000000001, 'epoch': 2.27}\n"
     ]
    },
    {
     "name": "stderr",
     "output_type": "stream",
     "text": [
      "                                                 \n",
      " 75%|███████▌  | 150/200 [07:25<02:26,  2.92s/it]"
     ]
    },
    {
     "name": "stdout",
     "output_type": "stream",
     "text": [
      "{'loss': 0.2254, 'learning_rate': 0.0001, 'epoch': 2.28}\n"
     ]
    },
    {
     "name": "stderr",
     "output_type": "stream",
     "text": [
      "                                                 \n",
      " 76%|███████▌  | 151/200 [07:28<02:24,  2.94s/it]"
     ]
    },
    {
     "name": "stdout",
     "output_type": "stream",
     "text": [
      "{'loss': 0.2075, 'learning_rate': 9.8e-05, 'epoch': 2.3}\n"
     ]
    },
    {
     "name": "stderr",
     "output_type": "stream",
     "text": [
      "[codecarbon INFO @ 15:44:00] Energy consumed for RAM : 0.001462 kWh. RAM Power : 11.698551177978516 W\n",
      "[codecarbon INFO @ 15:44:00] Energy consumed for all GPUs : 0.043935 kWh. Total GPU Power : 351.099 W\n",
      "[codecarbon INFO @ 15:44:00] Energy consumed for all CPUs : 0.005312 kWh. Total CPU Power : 42.5 W\n",
      "[codecarbon INFO @ 15:44:00] 0.050709 kWh of electricity used since the beginning.\n",
      "[codecarbon INFO @ 15:44:01] Energy consumed for RAM : 0.003363 kWh. RAM Power : 11.698551177978516 W\n",
      "[codecarbon INFO @ 15:44:01] Energy consumed for all GPUs : 0.054071 kWh. Total GPU Power : 350.608 W\n",
      "[codecarbon INFO @ 15:44:01] Energy consumed for all CPUs : 0.012219 kWh. Total CPU Power : 42.5 W\n",
      "[codecarbon INFO @ 15:44:01] 0.069652 kWh of electricity used since the beginning.\n",
      "                                                 \n",
      " 76%|███████▌  | 152/200 [07:31<02:21,  2.95s/it]"
     ]
    },
    {
     "name": "stdout",
     "output_type": "stream",
     "text": [
      "{'loss': 0.2165, 'learning_rate': 9.6e-05, 'epoch': 2.31}\n"
     ]
    },
    {
     "name": "stderr",
     "output_type": "stream",
     "text": [
      "[codecarbon INFO @ 15:44:04] Energy consumed for RAM : 0.003119 kWh. RAM Power : 11.698551177978516 W\n",
      "[codecarbon INFO @ 15:44:04] Energy consumed for all GPUs : 0.053605 kWh. Total GPU Power : 352.541 W\n",
      "[codecarbon INFO @ 15:44:04] Energy consumed for all CPUs : 0.011333 kWh. Total CPU Power : 42.5 W\n",
      "[codecarbon INFO @ 15:44:04] 0.068058 kWh of electricity used since the beginning.\n",
      "                                                 \n",
      " 76%|███████▋  | 153/200 [07:34<02:18,  2.95s/it][codecarbon INFO @ 15:44:04] Energy consumed for RAM : 0.001560 kWh. RAM Power : 11.698551177978516 W\n",
      "[codecarbon INFO @ 15:44:04] Energy consumed for all GPUs : 0.045970 kWh. Total GPU Power : 353.31 W\n",
      "[codecarbon INFO @ 15:44:04] Energy consumed for all CPUs : 0.005667 kWh. Total CPU Power : 42.5 W\n",
      "[codecarbon INFO @ 15:44:04] 0.053196 kWh of electricity used since the beginning.\n"
     ]
    },
    {
     "name": "stdout",
     "output_type": "stream",
     "text": [
      "{'loss': 0.2106, 'learning_rate': 9.4e-05, 'epoch': 2.33}\n"
     ]
    },
    {
     "name": "stderr",
     "output_type": "stream",
     "text": [
      "                                                 \n",
      " 77%|███████▋  | 154/200 [07:37<02:15,  2.94s/it]"
     ]
    },
    {
     "name": "stdout",
     "output_type": "stream",
     "text": [
      "{'loss': 0.1999, 'learning_rate': 9.200000000000001e-05, 'epoch': 2.34}\n"
     ]
    },
    {
     "name": "stderr",
     "output_type": "stream",
     "text": [
      "[codecarbon INFO @ 15:44:08] Energy consumed for RAM : 0.002875 kWh. RAM Power : 11.698551177978516 W\n",
      "[codecarbon INFO @ 15:44:08] Energy consumed for all GPUs : 0.051951 kWh. Total GPU Power : 352.584 W\n",
      "[codecarbon INFO @ 15:44:08] Energy consumed for all CPUs : 0.010448 kWh. Total CPU Power : 42.5 W\n",
      "[codecarbon INFO @ 15:44:08] 0.065274 kWh of electricity used since the beginning.\n",
      "                                                 \n",
      " 78%|███████▊  | 155/200 [07:40<02:15,  3.00s/it]"
     ]
    },
    {
     "name": "stdout",
     "output_type": "stream",
     "text": [
      "{'loss': 0.2376, 'learning_rate': 9e-05, 'epoch': 2.36}\n"
     ]
    },
    {
     "name": "stderr",
     "output_type": "stream",
     "text": [
      "                                                 \n",
      " 78%|███████▊  | 156/200 [07:43<02:10,  2.96s/it]"
     ]
    },
    {
     "name": "stdout",
     "output_type": "stream",
     "text": [
      "{'loss': 0.1894, 'learning_rate': 8.800000000000001e-05, 'epoch': 2.37}\n"
     ]
    },
    {
     "name": "stderr",
     "output_type": "stream",
     "text": [
      "[codecarbon INFO @ 15:44:15] Energy consumed for RAM : 0.001511 kWh. RAM Power : 11.698551177978516 W\n",
      "[codecarbon INFO @ 15:44:15] Energy consumed for all GPUs : 0.045400 kWh. Total GPU Power : 351.684 W\n",
      "[codecarbon INFO @ 15:44:15] Energy consumed for all CPUs : 0.005490 kWh. Total CPU Power : 42.5 W\n",
      "[codecarbon INFO @ 15:44:15] 0.052400 kWh of electricity used since the beginning.\n",
      "[codecarbon INFO @ 15:44:16] Energy consumed for RAM : 0.003411 kWh. RAM Power : 11.698551177978516 W\n",
      "[codecarbon INFO @ 15:44:16] Energy consumed for all GPUs : 0.055540 kWh. Total GPU Power : 352.539 W\n",
      "[codecarbon INFO @ 15:44:16] Energy consumed for all CPUs : 0.012396 kWh. Total CPU Power : 42.5 W\n",
      "[codecarbon INFO @ 15:44:16] 0.071347 kWh of electricity used since the beginning.\n",
      "                                                 \n",
      " 78%|███████▊  | 157/200 [07:46<02:07,  2.97s/it]"
     ]
    },
    {
     "name": "stdout",
     "output_type": "stream",
     "text": [
      "{'loss': 0.2021, 'learning_rate': 8.6e-05, 'epoch': 2.39}\n"
     ]
    },
    {
     "name": "stderr",
     "output_type": "stream",
     "text": [
      "[codecarbon INFO @ 15:44:19] Energy consumed for RAM : 0.003168 kWh. RAM Power : 11.698551177978516 W\n",
      "[codecarbon INFO @ 15:44:19] Energy consumed for all GPUs : 0.055067 kWh. Total GPU Power : 350.86500000000007 W\n",
      "[codecarbon INFO @ 15:44:19] Energy consumed for all CPUs : 0.011510 kWh. Total CPU Power : 42.5 W\n",
      "[codecarbon INFO @ 15:44:19] 0.069745 kWh of electricity used since the beginning.\n",
      "                                                 \n",
      " 79%|███████▉  | 158/200 [07:49<02:03,  2.93s/it]"
     ]
    },
    {
     "name": "stdout",
     "output_type": "stream",
     "text": [
      "{'loss': 0.1987, 'learning_rate': 8.4e-05, 'epoch': 2.4}\n"
     ]
    },
    {
     "name": "stderr",
     "output_type": "stream",
     "text": [
      "[codecarbon INFO @ 15:44:19] Energy consumed for RAM : 0.001608 kWh. RAM Power : 11.698551177978516 W\n",
      "[codecarbon INFO @ 15:44:19] Energy consumed for all GPUs : 0.047434 kWh. Total GPU Power : 351.54900000000004 W\n",
      "[codecarbon INFO @ 15:44:19] Energy consumed for all CPUs : 0.005844 kWh. Total CPU Power : 42.5 W\n",
      "[codecarbon INFO @ 15:44:19] 0.054886 kWh of electricity used since the beginning.\n",
      "                                                 \n",
      " 80%|███████▉  | 159/200 [07:51<01:58,  2.89s/it]"
     ]
    },
    {
     "name": "stdout",
     "output_type": "stream",
     "text": [
      "{'loss': 0.1929, 'learning_rate': 8.2e-05, 'epoch': 2.42}\n"
     ]
    },
    {
     "name": "stderr",
     "output_type": "stream",
     "text": [
      "[codecarbon INFO @ 15:44:23] Energy consumed for RAM : 0.002924 kWh. RAM Power : 11.698551177978516 W\n",
      "[codecarbon INFO @ 15:44:23] Energy consumed for all GPUs : 0.053415 kWh. Total GPU Power : 351.387 W\n",
      "[codecarbon INFO @ 15:44:23] Energy consumed for all CPUs : 0.010625 kWh. Total CPU Power : 42.5 W\n",
      "[codecarbon INFO @ 15:44:23] 0.066964 kWh of electricity used since the beginning.\n",
      "                                                 \n",
      " 80%|████████  | 160/200 [07:54<01:56,  2.92s/it]"
     ]
    },
    {
     "name": "stdout",
     "output_type": "stream",
     "text": [
      "{'loss': 0.2242, 'learning_rate': 8e-05, 'epoch': 2.43}\n"
     ]
    },
    {
     "name": "stderr",
     "output_type": "stream",
     "text": [
      "                                                 \n",
      " 80%|████████  | 161/200 [07:57<01:54,  2.94s/it]"
     ]
    },
    {
     "name": "stdout",
     "output_type": "stream",
     "text": [
      "{'loss': 0.1787, 'learning_rate': 7.800000000000001e-05, 'epoch': 2.45}\n"
     ]
    },
    {
     "name": "stderr",
     "output_type": "stream",
     "text": [
      "[codecarbon INFO @ 15:44:30] Energy consumed for RAM : 0.001560 kWh. RAM Power : 11.698551177978516 W\n",
      "[codecarbon INFO @ 15:44:30] Energy consumed for all GPUs : 0.046860 kWh. Total GPU Power : 350.59000000000003 W\n",
      "[codecarbon INFO @ 15:44:30] Energy consumed for all CPUs : 0.005667 kWh. Total CPU Power : 42.5 W\n",
      "[codecarbon INFO @ 15:44:30] 0.054087 kWh of electricity used since the beginning.\n",
      "                                                 \n",
      " 81%|████████  | 162/200 [08:00<01:50,  2.91s/it]"
     ]
    },
    {
     "name": "stdout",
     "output_type": "stream",
     "text": [
      "{'loss': 0.221, 'learning_rate': 7.6e-05, 'epoch': 2.46}\n"
     ]
    },
    {
     "name": "stderr",
     "output_type": "stream",
     "text": [
      "[codecarbon INFO @ 15:44:31] Energy consumed for RAM : 0.003460 kWh. RAM Power : 11.698551177978516 W\n",
      "[codecarbon INFO @ 15:44:31] Energy consumed for all GPUs : 0.057004 kWh. Total GPU Power : 351.5010000000001 W\n",
      "[codecarbon INFO @ 15:44:31] Energy consumed for all CPUs : 0.012573 kWh. Total CPU Power : 42.5 W\n",
      "[codecarbon INFO @ 15:44:31] 0.073037 kWh of electricity used since the beginning.\n",
      "[codecarbon INFO @ 15:44:34] Energy consumed for RAM : 0.003216 kWh. RAM Power : 11.698551177978516 W\n",
      "[codecarbon INFO @ 15:44:34] Energy consumed for all GPUs : 0.056530 kWh. Total GPU Power : 351.322 W\n",
      "[codecarbon INFO @ 15:44:34] Energy consumed for all CPUs : 0.011687 kWh. Total CPU Power : 42.5 W\n",
      "[codecarbon INFO @ 15:44:34] 0.071434 kWh of electricity used since the beginning.\n",
      "                                                 \n",
      " 82%|████████▏ | 163/200 [08:03<01:46,  2.89s/it]"
     ]
    },
    {
     "name": "stdout",
     "output_type": "stream",
     "text": [
      "{'loss': 0.2179, 'learning_rate': 7.4e-05, 'epoch': 2.48}\n"
     ]
    },
    {
     "name": "stderr",
     "output_type": "stream",
     "text": [
      "[codecarbon INFO @ 15:44:34] Energy consumed for RAM : 0.001657 kWh. RAM Power : 11.698551177978516 W\n",
      "[codecarbon INFO @ 15:44:34] Energy consumed for all GPUs : 0.048906 kWh. Total GPU Power : 353.166 W\n",
      "[codecarbon INFO @ 15:44:34] Energy consumed for all CPUs : 0.006021 kWh. Total CPU Power : 42.5 W\n",
      "[codecarbon INFO @ 15:44:34] 0.056584 kWh of electricity used since the beginning.\n",
      "                                                 \n",
      " 82%|████████▏ | 164/200 [08:06<01:45,  2.94s/it]"
     ]
    },
    {
     "name": "stdout",
     "output_type": "stream",
     "text": [
      "{'loss': 0.2016, 'learning_rate': 7.2e-05, 'epoch': 2.49}\n"
     ]
    },
    {
     "name": "stderr",
     "output_type": "stream",
     "text": [
      "[codecarbon INFO @ 15:44:38] Energy consumed for RAM : 0.002973 kWh. RAM Power : 11.698551177978516 W\n",
      "[codecarbon INFO @ 15:44:38] Energy consumed for all GPUs : 0.054886 kWh. Total GPU Power : 353.059 W\n",
      "[codecarbon INFO @ 15:44:38] Energy consumed for all CPUs : 0.010802 kWh. Total CPU Power : 42.5 W\n",
      "[codecarbon INFO @ 15:44:38] 0.068661 kWh of electricity used since the beginning.\n",
      "                                                 \n",
      " 82%|████████▎ | 165/200 [08:09<01:43,  2.94s/it]"
     ]
    },
    {
     "name": "stdout",
     "output_type": "stream",
     "text": [
      "{'loss': 0.2131, 'learning_rate': 7e-05, 'epoch': 2.51}\n"
     ]
    },
    {
     "name": "stderr",
     "output_type": "stream",
     "text": [
      "                                                 \n",
      " 83%|████████▎ | 166/200 [08:12<01:43,  3.03s/it]"
     ]
    },
    {
     "name": "stdout",
     "output_type": "stream",
     "text": [
      "{'loss': 0.2011, 'learning_rate': 6.800000000000001e-05, 'epoch': 2.52}\n"
     ]
    },
    {
     "name": "stderr",
     "output_type": "stream",
     "text": [
      "[codecarbon INFO @ 15:44:45] Energy consumed for RAM : 0.001608 kWh. RAM Power : 11.698551177978516 W\n",
      "[codecarbon INFO @ 15:44:45] Energy consumed for all GPUs : 0.048324 kWh. Total GPU Power : 351.31600000000003 W\n",
      "[codecarbon INFO @ 15:44:45] Energy consumed for all CPUs : 0.005844 kWh. Total CPU Power : 42.5 W\n",
      "[codecarbon INFO @ 15:44:45] 0.055776 kWh of electricity used since the beginning.\n",
      "                                                 \n",
      " 84%|████████▎ | 167/200 [08:15<01:40,  3.03s/it][codecarbon INFO @ 15:44:46] Energy consumed for RAM : 0.003509 kWh. RAM Power : 11.698551177978516 W\n"
     ]
    },
    {
     "name": "stdout",
     "output_type": "stream",
     "text": [
      "{'loss': 0.1915, 'learning_rate': 6.6e-05, 'epoch': 2.54}\n"
     ]
    },
    {
     "name": "stderr",
     "output_type": "stream",
     "text": [
      "[codecarbon INFO @ 15:44:46] Energy consumed for all GPUs : 0.058463 kWh. Total GPU Power : 350.17900000000003 W\n",
      "[codecarbon INFO @ 15:44:46] Energy consumed for all CPUs : 0.012750 kWh. Total CPU Power : 42.5 W\n",
      "[codecarbon INFO @ 15:44:46] 0.074722 kWh of electricity used since the beginning.\n",
      "[codecarbon INFO @ 15:44:49] Energy consumed for RAM : 0.003265 kWh. RAM Power : 11.698551177978516 W\n",
      "[codecarbon INFO @ 15:44:49] Energy consumed for all GPUs : 0.058001 kWh. Total GPU Power : 353.02500000000003 W\n",
      "[codecarbon INFO @ 15:44:49] Energy consumed for all CPUs : 0.011864 kWh. Total CPU Power : 42.5 W\n",
      "[codecarbon INFO @ 15:44:49] 0.073131 kWh of electricity used since the beginning.\n",
      "                                                 \n",
      " 84%|████████▍ | 168/200 [08:18<01:36,  3.02s/it]"
     ]
    },
    {
     "name": "stdout",
     "output_type": "stream",
     "text": [
      "{'loss': 0.2027, 'learning_rate': 6.400000000000001e-05, 'epoch': 2.56}\n"
     ]
    },
    {
     "name": "stderr",
     "output_type": "stream",
     "text": [
      "[codecarbon INFO @ 15:44:49] Energy consumed for RAM : 0.001706 kWh. RAM Power : 11.698551177978516 W\n",
      "[codecarbon INFO @ 15:44:49] Energy consumed for all GPUs : 0.050368 kWh. Total GPU Power : 351.065 W\n",
      "[codecarbon INFO @ 15:44:49] Energy consumed for all CPUs : 0.006198 kWh. Total CPU Power : 42.5 W\n",
      "[codecarbon INFO @ 15:44:49] 0.058272 kWh of electricity used since the beginning.\n",
      "                                                 \n",
      " 84%|████████▍ | 169/200 [08:21<01:33,  3.03s/it]"
     ]
    },
    {
     "name": "stdout",
     "output_type": "stream",
     "text": [
      "{'loss': 0.2246, 'learning_rate': 6.2e-05, 'epoch': 2.57}\n"
     ]
    },
    {
     "name": "stderr",
     "output_type": "stream",
     "text": [
      "[codecarbon INFO @ 15:44:53] Energy consumed for RAM : 0.003021 kWh. RAM Power : 11.698551177978516 W\n",
      "[codecarbon INFO @ 15:44:53] Energy consumed for all GPUs : 0.056348 kWh. Total GPU Power : 350.94000000000005 W\n",
      "[codecarbon INFO @ 15:44:53] Energy consumed for all CPUs : 0.010979 kWh. Total CPU Power : 42.5 W\n",
      "[codecarbon INFO @ 15:44:53] 0.070349 kWh of electricity used since the beginning.\n",
      "                                                 \n",
      " 85%|████████▌ | 170/200 [08:24<01:31,  3.06s/it]"
     ]
    },
    {
     "name": "stdout",
     "output_type": "stream",
     "text": [
      "{'loss': 0.1814, 'learning_rate': 6e-05, 'epoch': 2.59}\n"
     ]
    },
    {
     "name": "stderr",
     "output_type": "stream",
     "text": [
      "                                                 \n",
      " 86%|████████▌ | 171/200 [08:27<01:27,  3.03s/it]"
     ]
    },
    {
     "name": "stdout",
     "output_type": "stream",
     "text": [
      "{'loss': 0.2237, 'learning_rate': 5.8e-05, 'epoch': 2.6}\n"
     ]
    },
    {
     "name": "stderr",
     "output_type": "stream",
     "text": [
      "[codecarbon INFO @ 15:45:00] Energy consumed for RAM : 0.001657 kWh. RAM Power : 11.698551177978516 W\n",
      "[codecarbon INFO @ 15:45:00] Energy consumed for all GPUs : 0.049784 kWh. Total GPU Power : 350.54 W\n",
      "[codecarbon INFO @ 15:45:00] Energy consumed for all CPUs : 0.006021 kWh. Total CPU Power : 42.5 W\n",
      "[codecarbon INFO @ 15:45:00] 0.057462 kWh of electricity used since the beginning.\n",
      "[codecarbon INFO @ 15:45:01] Energy consumed for RAM : 0.003557 kWh. RAM Power : 11.698551177978516 W\n",
      "[codecarbon INFO @ 15:45:01] Energy consumed for all GPUs : 0.059925 kWh. Total GPU Power : 350.901 W\n",
      "[codecarbon INFO @ 15:45:01] Energy consumed for all CPUs : 0.012927 kWh. Total CPU Power : 42.5 W\n",
      "[codecarbon INFO @ 15:45:01] 0.076409 kWh of electricity used since the beginning.\n",
      "                                                 \n",
      " 86%|████████▌ | 172/200 [08:31<01:25,  3.06s/it]"
     ]
    },
    {
     "name": "stdout",
     "output_type": "stream",
     "text": [
      "{'loss': 0.2073, 'learning_rate': 5.6000000000000006e-05, 'epoch': 2.62}\n"
     ]
    },
    {
     "name": "stderr",
     "output_type": "stream",
     "text": [
      "[codecarbon INFO @ 15:45:04] Energy consumed for RAM : 0.003314 kWh. RAM Power : 11.698551177978516 W\n",
      "[codecarbon INFO @ 15:45:04] Energy consumed for all GPUs : 0.059477 kWh. Total GPU Power : 354.19800000000004 W\n",
      "[codecarbon INFO @ 15:45:04] Energy consumed for all CPUs : 0.012042 kWh. Total CPU Power : 42.5 W\n",
      "[codecarbon INFO @ 15:45:04] 0.074832 kWh of electricity used since the beginning.\n",
      "                                                 \n",
      " 86%|████████▋ | 173/200 [08:34<01:22,  3.04s/it]"
     ]
    },
    {
     "name": "stdout",
     "output_type": "stream",
     "text": [
      "{'loss': 0.1955, 'learning_rate': 5.4000000000000005e-05, 'epoch': 2.63}\n"
     ]
    },
    {
     "name": "stderr",
     "output_type": "stream",
     "text": [
      "[codecarbon INFO @ 15:45:04] Energy consumed for RAM : 0.001754 kWh. RAM Power : 11.698551177978516 W\n",
      "[codecarbon INFO @ 15:45:04] Energy consumed for all GPUs : 0.051834 kWh. Total GPU Power : 351.767 W\n",
      "[codecarbon INFO @ 15:45:04] Energy consumed for all CPUs : 0.006375 kWh. Total CPU Power : 42.5 W\n",
      "[codecarbon INFO @ 15:45:04] 0.059963 kWh of electricity used since the beginning.\n",
      "                                                 \n",
      " 87%|████████▋ | 174/200 [08:37<01:19,  3.07s/it]"
     ]
    },
    {
     "name": "stdout",
     "output_type": "stream",
     "text": [
      "{'loss': 0.1874, 'learning_rate': 5.2000000000000004e-05, 'epoch': 2.65}\n"
     ]
    },
    {
     "name": "stderr",
     "output_type": "stream",
     "text": [
      "[codecarbon INFO @ 15:45:08] Energy consumed for RAM : 0.003070 kWh. RAM Power : 11.698551177978516 W\n",
      "[codecarbon INFO @ 15:45:08] Energy consumed for all GPUs : 0.057812 kWh. Total GPU Power : 351.278 W\n",
      "[codecarbon INFO @ 15:45:08] Energy consumed for all CPUs : 0.011156 kWh. Total CPU Power : 42.5 W\n",
      "[codecarbon INFO @ 15:45:08] 0.072038 kWh of electricity used since the beginning.\n",
      "                                                 \n",
      " 88%|████████▊ | 175/200 [08:40<01:17,  3.09s/it]"
     ]
    },
    {
     "name": "stdout",
     "output_type": "stream",
     "text": [
      "{'loss': 0.1789, 'learning_rate': 5e-05, 'epoch': 2.66}\n"
     ]
    },
    {
     "name": "stderr",
     "output_type": "stream",
     "text": [
      "                                                 \n",
      " 88%|████████▊ | 176/200 [08:43<01:13,  3.07s/it]"
     ]
    },
    {
     "name": "stdout",
     "output_type": "stream",
     "text": [
      "{'loss': 0.2043, 'learning_rate': 4.8e-05, 'epoch': 2.68}\n"
     ]
    },
    {
     "name": "stderr",
     "output_type": "stream",
     "text": [
      "[codecarbon INFO @ 15:45:15] Energy consumed for RAM : 0.001706 kWh. RAM Power : 11.698551177978516 W\n",
      "[codecarbon INFO @ 15:45:15] Energy consumed for all GPUs : 0.051247 kWh. Total GPU Power : 351.06600000000003 W\n",
      "[codecarbon INFO @ 15:45:15] Energy consumed for all CPUs : 0.006198 kWh. Total CPU Power : 42.5 W\n",
      "[codecarbon INFO @ 15:45:15] 0.059151 kWh of electricity used since the beginning.\n",
      "[codecarbon INFO @ 15:45:16] Energy consumed for RAM : 0.003606 kWh. RAM Power : 11.698551177978516 W\n",
      "[codecarbon INFO @ 15:45:16] Energy consumed for all GPUs : 0.061389 kWh. Total GPU Power : 351.494 W\n",
      "[codecarbon INFO @ 15:45:16] Energy consumed for all CPUs : 0.013104 kWh. Total CPU Power : 42.5 W\n",
      "[codecarbon INFO @ 15:45:16] 0.078099 kWh of electricity used since the beginning.\n",
      "                                                 \n",
      " 88%|████████▊ | 177/200 [08:46<01:10,  3.04s/it]"
     ]
    },
    {
     "name": "stdout",
     "output_type": "stream",
     "text": [
      "{'loss': 0.1781, 'learning_rate': 4.600000000000001e-05, 'epoch': 2.69}\n"
     ]
    },
    {
     "name": "stderr",
     "output_type": "stream",
     "text": [
      "[codecarbon INFO @ 15:45:19] Energy consumed for RAM : 0.003363 kWh. RAM Power : 11.698551177978516 W\n",
      "[codecarbon INFO @ 15:45:19] Energy consumed for all GPUs : 0.060938 kWh. Total GPU Power : 350.716 W\n",
      "[codecarbon INFO @ 15:45:19] Energy consumed for all CPUs : 0.012219 kWh. Total CPU Power : 42.5 W\n",
      "[codecarbon INFO @ 15:45:19] 0.076519 kWh of electricity used since the beginning.\n",
      "[codecarbon INFO @ 15:45:19] Energy consumed for RAM : 0.001803 kWh. RAM Power : 11.698551177978516 W\n",
      "[codecarbon INFO @ 15:45:19] Energy consumed for all GPUs : 0.053299 kWh. Total GPU Power : 351.663 W\n",
      "[codecarbon INFO @ 15:45:19] Energy consumed for all CPUs : 0.006552 kWh. Total CPU Power : 42.5 W\n",
      "[codecarbon INFO @ 15:45:19] 0.061654 kWh of electricity used since the beginning.\n",
      "                                                 \n",
      " 89%|████████▉ | 178/200 [08:49<01:06,  3.04s/it]"
     ]
    },
    {
     "name": "stdout",
     "output_type": "stream",
     "text": [
      "{'loss': 0.1894, 'learning_rate': 4.4000000000000006e-05, 'epoch': 2.71}\n"
     ]
    },
    {
     "name": "stderr",
     "output_type": "stream",
     "text": [
      "                                                 \n",
      " 90%|████████▉ | 179/200 [08:52<01:03,  3.03s/it][codecarbon INFO @ 15:45:23] Energy consumed for RAM : 0.003119 kWh. RAM Power : 11.698551177978516 W\n",
      "[codecarbon INFO @ 15:45:23] Energy consumed for all GPUs : 0.059279 kWh. Total GPU Power : 352.193 W\n",
      "[codecarbon INFO @ 15:45:23] Energy consumed for all CPUs : 0.011333 kWh. Total CPU Power : 42.5 W\n",
      "[codecarbon INFO @ 15:45:23] 0.073731 kWh of electricity used since the beginning.\n"
     ]
    },
    {
     "name": "stdout",
     "output_type": "stream",
     "text": [
      "{'loss': 0.2172, 'learning_rate': 4.2e-05, 'epoch': 2.72}\n"
     ]
    },
    {
     "name": "stderr",
     "output_type": "stream",
     "text": [
      "                                                 \n",
      " 90%|█████████ | 180/200 [08:55<01:00,  3.01s/it]"
     ]
    },
    {
     "name": "stdout",
     "output_type": "stream",
     "text": [
      "{'loss': 0.2083, 'learning_rate': 4e-05, 'epoch': 2.74}\n"
     ]
    },
    {
     "name": "stderr",
     "output_type": "stream",
     "text": [
      "                                                 \n",
      " 90%|█████████ | 181/200 [08:58<00:56,  3.00s/it]"
     ]
    },
    {
     "name": "stdout",
     "output_type": "stream",
     "text": [
      "{'loss': 0.1839, 'learning_rate': 3.8e-05, 'epoch': 2.75}\n"
     ]
    },
    {
     "name": "stderr",
     "output_type": "stream",
     "text": [
      "[codecarbon INFO @ 15:45:30] Energy consumed for RAM : 0.001754 kWh. RAM Power : 11.698551177978516 W\n",
      "[codecarbon INFO @ 15:45:30] Energy consumed for all GPUs : 0.052712 kWh. Total GPU Power : 351.709 W\n",
      "[codecarbon INFO @ 15:45:30] Energy consumed for all CPUs : 0.006375 kWh. Total CPU Power : 42.5 W\n",
      "[codecarbon INFO @ 15:45:30] 0.060842 kWh of electricity used since the beginning.\n",
      "[codecarbon INFO @ 15:45:31] Energy consumed for RAM : 0.003655 kWh. RAM Power : 11.698551177978516 W\n",
      "[codecarbon INFO @ 15:45:31] Energy consumed for all GPUs : 0.062856 kWh. Total GPU Power : 352.0470000000001 W\n",
      "[codecarbon INFO @ 15:45:31] Energy consumed for all CPUs : 0.013281 kWh. Total CPU Power : 42.5 W\n",
      "[codecarbon INFO @ 15:45:31] 0.079792 kWh of electricity used since the beginning.\n",
      "                                                 \n",
      " 91%|█████████ | 182/200 [09:01<00:54,  3.00s/it]"
     ]
    },
    {
     "name": "stdout",
     "output_type": "stream",
     "text": [
      "{'loss': 0.1939, 'learning_rate': 3.6e-05, 'epoch': 2.77}\n"
     ]
    },
    {
     "name": "stderr",
     "output_type": "stream",
     "text": [
      "[codecarbon INFO @ 15:45:34] Energy consumed for RAM : 0.003411 kWh. RAM Power : 11.698551177978516 W\n",
      "[codecarbon INFO @ 15:45:34] Energy consumed for all GPUs : 0.062400 kWh. Total GPU Power : 351.06600000000003 W\n",
      "[codecarbon INFO @ 15:45:34] Energy consumed for all CPUs : 0.012396 kWh. Total CPU Power : 42.5 W\n",
      "[codecarbon INFO @ 15:45:34] 0.078208 kWh of electricity used since the beginning.\n",
      "[codecarbon INFO @ 15:45:34] Energy consumed for RAM : 0.001852 kWh. RAM Power : 11.698551177978516 W\n",
      "[codecarbon INFO @ 15:45:34] Energy consumed for all GPUs : 0.054761 kWh. Total GPU Power : 351.09100000000007 W\n",
      "[codecarbon INFO @ 15:45:34] Energy consumed for all CPUs : 0.006729 kWh. Total CPU Power : 42.5 W\n",
      "[codecarbon INFO @ 15:45:34] 0.063342 kWh of electricity used since the beginning.\n",
      "                                                 \n",
      " 92%|█████████▏| 183/200 [09:04<00:51,  3.03s/it]"
     ]
    },
    {
     "name": "stdout",
     "output_type": "stream",
     "text": [
      "{'loss': 0.2131, 'learning_rate': 3.4000000000000007e-05, 'epoch': 2.78}\n"
     ]
    },
    {
     "name": "stderr",
     "output_type": "stream",
     "text": [
      "                                                 \n",
      " 92%|█████████▏| 184/200 [09:07<00:48,  3.02s/it][codecarbon INFO @ 15:45:38] Energy consumed for RAM : 0.003168 kWh. RAM Power : 11.698551177978516 W\n",
      "[codecarbon INFO @ 15:45:38] Energy consumed for all GPUs : 0.060743 kWh. Total GPU Power : 351.5760000000001 W\n",
      "[codecarbon INFO @ 15:45:38] Energy consumed for all CPUs : 0.011510 kWh. Total CPU Power : 42.5 W\n",
      "[codecarbon INFO @ 15:45:38] 0.075421 kWh of electricity used since the beginning.\n"
     ]
    },
    {
     "name": "stdout",
     "output_type": "stream",
     "text": [
      "{'loss': 0.1992, 'learning_rate': 3.2000000000000005e-05, 'epoch': 2.8}\n"
     ]
    },
    {
     "name": "stderr",
     "output_type": "stream",
     "text": [
      "                                                 \n",
      " 92%|█████████▎| 185/200 [09:10<00:45,  3.01s/it]"
     ]
    },
    {
     "name": "stdout",
     "output_type": "stream",
     "text": [
      "{'loss': 0.216, 'learning_rate': 3e-05, 'epoch': 2.81}\n"
     ]
    },
    {
     "name": "stderr",
     "output_type": "stream",
     "text": [
      "                                                 \n",
      " 93%|█████████▎| 186/200 [09:13<00:41,  3.00s/it]"
     ]
    },
    {
     "name": "stdout",
     "output_type": "stream",
     "text": [
      "{'loss': 0.2071, 'learning_rate': 2.8000000000000003e-05, 'epoch': 2.83}\n"
     ]
    },
    {
     "name": "stderr",
     "output_type": "stream",
     "text": [
      "[codecarbon INFO @ 15:45:45] Energy consumed for RAM : 0.001803 kWh. RAM Power : 11.698551177978516 W\n",
      "[codecarbon INFO @ 15:45:45] Energy consumed for all GPUs : 0.054178 kWh. Total GPU Power : 351.892 W\n",
      "[codecarbon INFO @ 15:45:45] Energy consumed for all CPUs : 0.006552 kWh. Total CPU Power : 42.5 W\n",
      "[codecarbon INFO @ 15:45:45] 0.062534 kWh of electricity used since the beginning.\n",
      "[codecarbon INFO @ 15:45:46] Energy consumed for RAM : 0.003704 kWh. RAM Power : 11.698551177978516 W\n",
      "[codecarbon INFO @ 15:45:46] Energy consumed for all GPUs : 0.064322 kWh. Total GPU Power : 351.88800000000003 W\n",
      "[codecarbon INFO @ 15:45:46] Energy consumed for all CPUs : 0.013458 kWh. Total CPU Power : 42.5 W\n",
      "[codecarbon INFO @ 15:45:46] 0.081484 kWh of electricity used since the beginning.\n",
      "                                                 \n",
      " 94%|█████████▎| 187/200 [09:16<00:39,  3.00s/it]"
     ]
    },
    {
     "name": "stdout",
     "output_type": "stream",
     "text": [
      "{'loss': 0.1964, 'learning_rate': 2.6000000000000002e-05, 'epoch': 2.84}\n"
     ]
    },
    {
     "name": "stderr",
     "output_type": "stream",
     "text": [
      "[codecarbon INFO @ 15:45:49] Energy consumed for RAM : 0.003460 kWh. RAM Power : 11.698551177978516 W\n",
      "[codecarbon INFO @ 15:45:49] Energy consumed for all GPUs : 0.063870 kWh. Total GPU Power : 352.673 W\n",
      "[codecarbon INFO @ 15:45:49] Energy consumed for all CPUs : 0.012573 kWh. Total CPU Power : 42.5 W\n",
      "[codecarbon INFO @ 15:45:49] 0.079903 kWh of electricity used since the beginning.\n",
      "[codecarbon INFO @ 15:45:49] Energy consumed for RAM : 0.001901 kWh. RAM Power : 11.698551177978516 W\n",
      "[codecarbon INFO @ 15:45:49] Energy consumed for all GPUs : 0.056224 kWh. Total GPU Power : 351.02 W\n",
      "[codecarbon INFO @ 15:45:49] Energy consumed for all CPUs : 0.006906 kWh. Total CPU Power : 42.5 W\n",
      "[codecarbon INFO @ 15:45:49] 0.065031 kWh of electricity used since the beginning.\n",
      "                                                 \n",
      " 94%|█████████▍| 188/200 [09:19<00:35,  2.98s/it]"
     ]
    },
    {
     "name": "stdout",
     "output_type": "stream",
     "text": [
      "{'loss': 0.198, 'learning_rate': 2.4e-05, 'epoch': 2.86}\n"
     ]
    },
    {
     "name": "stderr",
     "output_type": "stream",
     "text": [
      "                                                 \n",
      " 94%|█████████▍| 189/200 [09:22<00:33,  3.01s/it][codecarbon INFO @ 15:45:53] Energy consumed for RAM : 0.003216 kWh. RAM Power : 11.698551177978516 W\n",
      "[codecarbon INFO @ 15:45:53] Energy consumed for all GPUs : 0.062209 kWh. Total GPU Power : 351.684 W\n",
      "[codecarbon INFO @ 15:45:53] Energy consumed for all CPUs : 0.011687 kWh. Total CPU Power : 42.5 W\n",
      "[codecarbon INFO @ 15:45:53] 0.077112 kWh of electricity used since the beginning.\n"
     ]
    },
    {
     "name": "stdout",
     "output_type": "stream",
     "text": [
      "{'loss': 0.2134, 'learning_rate': 2.2000000000000003e-05, 'epoch': 2.87}\n"
     ]
    },
    {
     "name": "stderr",
     "output_type": "stream",
     "text": [
      "                                                 \n",
      " 95%|█████████▌| 190/200 [09:25<00:30,  3.01s/it]"
     ]
    },
    {
     "name": "stdout",
     "output_type": "stream",
     "text": [
      "{'loss': 0.1763, 'learning_rate': 2e-05, 'epoch': 2.89}\n"
     ]
    },
    {
     "name": "stderr",
     "output_type": "stream",
     "text": [
      "                                                 \n",
      " 96%|█████████▌| 191/200 [09:28<00:27,  3.04s/it]"
     ]
    },
    {
     "name": "stdout",
     "output_type": "stream",
     "text": [
      "{'loss': 0.2412, 'learning_rate': 1.8e-05, 'epoch': 2.9}\n"
     ]
    },
    {
     "name": "stderr",
     "output_type": "stream",
     "text": [
      "[codecarbon INFO @ 15:46:00] Energy consumed for RAM : 0.001852 kWh. RAM Power : 11.698551177978516 W\n",
      "[codecarbon INFO @ 15:46:00] Energy consumed for all GPUs : 0.055645 kWh. Total GPU Power : 352.166 W\n",
      "[codecarbon INFO @ 15:46:00] Energy consumed for all CPUs : 0.006729 kWh. Total CPU Power : 42.5 W\n",
      "[codecarbon INFO @ 15:46:00] 0.064226 kWh of electricity used since the beginning.\n",
      "[codecarbon INFO @ 15:46:01] Energy consumed for RAM : 0.003752 kWh. RAM Power : 11.698551177978516 W\n",
      "[codecarbon INFO @ 15:46:01] Energy consumed for all GPUs : 0.065788 kWh. Total GPU Power : 351.952 W\n",
      "[codecarbon INFO @ 15:46:01] Energy consumed for all CPUs : 0.013635 kWh. Total CPU Power : 42.5 W\n",
      "[codecarbon INFO @ 15:46:01] 0.083176 kWh of electricity used since the beginning.\n",
      "                                                 \n",
      " 96%|█████████▌| 192/200 [09:31<00:24,  3.01s/it]"
     ]
    },
    {
     "name": "stdout",
     "output_type": "stream",
     "text": [
      "{'loss': 0.2069, 'learning_rate': 1.6000000000000003e-05, 'epoch': 2.92}\n"
     ]
    },
    {
     "name": "stderr",
     "output_type": "stream",
     "text": [
      "[codecarbon INFO @ 15:46:04] Energy consumed for RAM : 0.003509 kWh. RAM Power : 11.698551177978516 W\n",
      "[codecarbon INFO @ 15:46:04] Energy consumed for all GPUs : 0.065330 kWh. Total GPU Power : 350.4100000000001 W\n",
      "[codecarbon INFO @ 15:46:04] Energy consumed for all CPUs : 0.012750 kWh. Total CPU Power : 42.5 W\n",
      "[codecarbon INFO @ 15:46:04] 0.081588 kWh of electricity used since the beginning.\n",
      "[codecarbon INFO @ 15:46:04] Energy consumed for RAM : 0.001949 kWh. RAM Power : 11.698551177978516 W\n",
      "[codecarbon INFO @ 15:46:04] Energy consumed for all GPUs : 0.057690 kWh. Total GPU Power : 351.938 W\n",
      "[codecarbon INFO @ 15:46:04] Energy consumed for all CPUs : 0.007083 kWh. Total CPU Power : 42.5 W\n",
      "[codecarbon INFO @ 15:46:04] 0.066723 kWh of electricity used since the beginning.\n",
      "                                                 \n",
      " 96%|█████████▋| 193/200 [09:34<00:21,  3.04s/it]"
     ]
    },
    {
     "name": "stdout",
     "output_type": "stream",
     "text": [
      "{'loss': 0.1916, 'learning_rate': 1.4000000000000001e-05, 'epoch': 2.94}\n"
     ]
    },
    {
     "name": "stderr",
     "output_type": "stream",
     "text": [
      "                                                 \n",
      " 97%|█████████▋| 194/200 [09:37<00:18,  3.00s/it][codecarbon INFO @ 15:46:08] Energy consumed for RAM : 0.003265 kWh. RAM Power : 11.698551177978516 W\n",
      "[codecarbon INFO @ 15:46:08] Energy consumed for all GPUs : 0.063666 kWh. Total GPU Power : 349.759 W\n",
      "[codecarbon INFO @ 15:46:08] Energy consumed for all CPUs : 0.011864 kWh. Total CPU Power : 42.5 W\n",
      "[codecarbon INFO @ 15:46:08] 0.078795 kWh of electricity used since the beginning.\n"
     ]
    },
    {
     "name": "stdout",
     "output_type": "stream",
     "text": [
      "{'loss': 0.1931, 'learning_rate': 1.2e-05, 'epoch': 2.95}\n"
     ]
    },
    {
     "name": "stderr",
     "output_type": "stream",
     "text": [
      "                                                 \n",
      " 98%|█████████▊| 195/200 [09:40<00:15,  3.01s/it]"
     ]
    },
    {
     "name": "stdout",
     "output_type": "stream",
     "text": [
      "{'loss': 0.2042, 'learning_rate': 1e-05, 'epoch': 2.97}\n"
     ]
    },
    {
     "name": "stderr",
     "output_type": "stream",
     "text": [
      "                                                 \n",
      " 98%|█████████▊| 196/200 [09:43<00:11,  2.98s/it]"
     ]
    },
    {
     "name": "stdout",
     "output_type": "stream",
     "text": [
      "{'loss': 0.19, 'learning_rate': 8.000000000000001e-06, 'epoch': 2.98}\n"
     ]
    },
    {
     "name": "stderr",
     "output_type": "stream",
     "text": [
      "[codecarbon INFO @ 15:46:15] Energy consumed for RAM : 0.001901 kWh. RAM Power : 11.698551177978516 W\n",
      "[codecarbon INFO @ 15:46:15] Energy consumed for all GPUs : 0.057105 kWh. Total GPU Power : 350.29200000000003 W\n",
      "[codecarbon INFO @ 15:46:15] Energy consumed for all CPUs : 0.006906 kWh. Total CPU Power : 42.5 W\n",
      "[codecarbon INFO @ 15:46:15] 0.065912 kWh of electricity used since the beginning.\n",
      "[codecarbon INFO @ 15:46:16] Energy consumed for RAM : 0.003801 kWh. RAM Power : 11.698551177978516 W\n",
      "[codecarbon INFO @ 15:46:16] Energy consumed for all GPUs : 0.067250 kWh. Total GPU Power : 351.04 W\n",
      "[codecarbon INFO @ 15:46:16] Energy consumed for all CPUs : 0.013812 kWh. Total CPU Power : 42.5 W\n",
      "[codecarbon INFO @ 15:46:16] 0.084864 kWh of electricity used since the beginning.\n",
      "                                                 \n",
      " 98%|█████████▊| 197/200 [09:46<00:08,  2.97s/it]"
     ]
    },
    {
     "name": "stdout",
     "output_type": "stream",
     "text": [
      "{'loss': 0.2147, 'learning_rate': 6e-06, 'epoch': 3.0}\n"
     ]
    },
    {
     "name": "stderr",
     "output_type": "stream",
     "text": [
      "[codecarbon INFO @ 15:46:19] Energy consumed for RAM : 0.003558 kWh. RAM Power : 11.698551177978516 W\n",
      "[codecarbon INFO @ 15:46:19] Energy consumed for all GPUs : 0.066794 kWh. Total GPU Power : 351.50600000000003 W\n",
      "[codecarbon INFO @ 15:46:19] Energy consumed for all CPUs : 0.012927 kWh. Total CPU Power : 42.5 W\n",
      "[codecarbon INFO @ 15:46:19] 0.083279 kWh of electricity used since the beginning.\n",
      "                                                 \n",
      " 99%|█████████▉| 198/200 [09:49<00:05,  2.93s/it][codecarbon INFO @ 15:46:19] Energy consumed for RAM : 0.001998 kWh. RAM Power : 11.698551177978516 W\n",
      "[codecarbon INFO @ 15:46:19] Energy consumed for all GPUs : 0.059148 kWh. Total GPU Power : 349.91700000000003 W\n",
      "[codecarbon INFO @ 15:46:19] Energy consumed for all CPUs : 0.007260 kWh. Total CPU Power : 42.5 W\n",
      "[codecarbon INFO @ 15:46:19] 0.068406 kWh of electricity used since the beginning.\n"
     ]
    },
    {
     "name": "stdout",
     "output_type": "stream",
     "text": [
      "{'loss': 0.1882, 'learning_rate': 4.000000000000001e-06, 'epoch': 3.01}\n"
     ]
    },
    {
     "name": "stderr",
     "output_type": "stream",
     "text": [
      "                                                 \n",
      "100%|█████████▉| 199/200 [09:52<00:02,  2.96s/it]"
     ]
    },
    {
     "name": "stdout",
     "output_type": "stream",
     "text": [
      "{'loss': 0.1845, 'learning_rate': 2.0000000000000003e-06, 'epoch': 3.03}\n"
     ]
    },
    {
     "name": "stderr",
     "output_type": "stream",
     "text": [
      "[codecarbon INFO @ 15:46:23] Energy consumed for RAM : 0.003314 kWh. RAM Power : 11.698551177978516 W\n",
      "[codecarbon INFO @ 15:46:23] Energy consumed for all GPUs : 0.065128 kWh. Total GPU Power : 350.932 W\n",
      "[codecarbon INFO @ 15:46:23] Energy consumed for all CPUs : 0.012042 kWh. Total CPU Power : 42.5 W\n",
      "[codecarbon INFO @ 15:46:23] 0.080483 kWh of electricity used since the beginning.\n",
      "                                                 \n",
      "                                                 \n",
      "100%|██████████| 200/200 [09:55<00:00,  2.97s/it][codecarbon INFO @ 15:46:25] Energy consumed for RAM : 0.001934 kWh. RAM Power : 11.698551177978516 W\n",
      "[codecarbon INFO @ 15:46:25] Energy consumed for all GPUs : 0.058098 kWh. Total GPU Power : 349.83400000000006 W\n",
      "[codecarbon INFO @ 15:46:25] Energy consumed for all CPUs : 0.007027 kWh. Total CPU Power : 42.5 W\n",
      "[codecarbon INFO @ 15:46:25] 0.067059 kWh of electricity used since the beginning.\n",
      "/home/ksaff/miniconda3/envs/llm_jupyter/lib/python3.10/site-packages/codecarbon/output.py:124: FutureWarning: The behavior of DataFrame concatenation with empty or all-NA entries is deprecated. In a future version, this will no longer exclude empty or all-NA columns when determining the result dtypes. To retain the old behavior, exclude the relevant entries before the concat operation.\n",
      "  df = pd.concat([df, pd.DataFrame.from_records([dict(data.values)])])\n",
      "100%|██████████| 200/200 [09:55<00:00,  2.98s/it]"
     ]
    },
    {
     "name": "stdout",
     "output_type": "stream",
     "text": [
      "{'loss': 0.2046, 'learning_rate': 0.0, 'epoch': 3.04}\n",
      "{'train_runtime': 595.2406, 'train_samples_per_second': 5.376, 'train_steps_per_second': 0.336, 'train_loss': 0.6169997519999743, 'epoch': 3.04}\n"
     ]
    },
    {
     "name": "stderr",
     "output_type": "stream",
     "text": [
      "\n"
     ]
    },
    {
     "data": {
      "text/plain": [
       "TrainOutput(global_step=200, training_loss=0.6169997519999743, metrics={'train_runtime': 595.2406, 'train_samples_per_second': 5.376, 'train_steps_per_second': 0.336, 'train_loss': 0.6169997519999743, 'epoch': 3.04})"
      ]
     },
     "execution_count": 39,
     "metadata": {},
     "output_type": "execute_result"
    },
    {
     "name": "stderr",
     "output_type": "stream",
     "text": [
      "[codecarbon INFO @ 15:46:31] Energy consumed for RAM : 0.003850 kWh. RAM Power : 11.698551177978516 W\n",
      "[codecarbon INFO @ 15:46:31] Energy consumed for all GPUs : 0.067800 kWh. Total GPU Power : 131.986 W\n",
      "[codecarbon INFO @ 15:46:31] Energy consumed for all CPUs : 0.013989 kWh. Total CPU Power : 42.5 W\n",
      "[codecarbon INFO @ 15:46:31] 0.085640 kWh of electricity used since the beginning.\n",
      "[codecarbon INFO @ 15:46:34] Energy consumed for RAM : 0.003606 kWh. RAM Power : 11.698551177978516 W\n",
      "[codecarbon INFO @ 15:46:34] Energy consumed for all GPUs : 0.067346 kWh. Total GPU Power : 132.439 W\n",
      "[codecarbon INFO @ 15:46:34] Energy consumed for all CPUs : 0.013104 kWh. Total CPU Power : 42.5 W\n",
      "[codecarbon INFO @ 15:46:34] 0.084056 kWh of electricity used since the beginning.\n",
      "[codecarbon INFO @ 15:46:34] Energy consumed for RAM : 0.002047 kWh. RAM Power : 11.698551177978516 W\n",
      "[codecarbon INFO @ 15:46:34] Energy consumed for all GPUs : 0.059707 kWh. Total GPU Power : 134.12 W\n",
      "[codecarbon INFO @ 15:46:34] Energy consumed for all CPUs : 0.007437 kWh. Total CPU Power : 42.5 W\n",
      "[codecarbon INFO @ 15:46:34] 0.069191 kWh of electricity used since the beginning.\n",
      "[codecarbon INFO @ 15:46:38] Energy consumed for RAM : 0.003363 kWh. RAM Power : 11.698551177978516 W\n",
      "[codecarbon INFO @ 15:46:38] Energy consumed for all GPUs : 0.065682 kWh. Total GPU Power : 133.03900000000002 W\n",
      "[codecarbon INFO @ 15:46:38] Energy consumed for all CPUs : 0.012219 kWh. Total CPU Power : 42.5 W\n",
      "[codecarbon INFO @ 15:46:38] 0.081263 kWh of electricity used since the beginning.\n",
      "[codecarbon INFO @ 15:46:46] Energy consumed for RAM : 0.003899 kWh. RAM Power : 11.698551177978516 W\n",
      "[codecarbon INFO @ 15:46:46] Energy consumed for all GPUs : 0.067990 kWh. Total GPU Power : 45.513 W\n",
      "[codecarbon INFO @ 15:46:46] Energy consumed for all CPUs : 0.014167 kWh. Total CPU Power : 42.5 W\n",
      "[codecarbon INFO @ 15:46:46] 0.086055 kWh of electricity used since the beginning.\n",
      "[codecarbon INFO @ 15:46:49] Energy consumed for RAM : 0.003655 kWh. RAM Power : 11.698551177978516 W\n",
      "[codecarbon INFO @ 15:46:49] Energy consumed for all GPUs : 0.067535 kWh. Total GPU Power : 45.510000000000005 W\n",
      "[codecarbon INFO @ 15:46:49] Energy consumed for all CPUs : 0.013281 kWh. Total CPU Power : 42.5 W\n",
      "[codecarbon INFO @ 15:46:49] 0.084472 kWh of electricity used since the beginning.\n",
      "[codecarbon INFO @ 15:46:49] Energy consumed for RAM : 0.002096 kWh. RAM Power : 11.698551177978516 W\n",
      "[codecarbon INFO @ 15:46:49] Energy consumed for all GPUs : 0.059896 kWh. Total GPU Power : 45.372 W\n",
      "[codecarbon INFO @ 15:46:49] Energy consumed for all CPUs : 0.007615 kWh. Total CPU Power : 42.5 W\n",
      "[codecarbon INFO @ 15:46:49] 0.069606 kWh of electricity used since the beginning.\n",
      "[codecarbon INFO @ 15:46:53] Energy consumed for RAM : 0.003411 kWh. RAM Power : 11.698551177978516 W\n",
      "[codecarbon INFO @ 15:46:53] Energy consumed for all GPUs : 0.065870 kWh. Total GPU Power : 45.081 W\n",
      "[codecarbon INFO @ 15:46:53] Energy consumed for all CPUs : 0.012396 kWh. Total CPU Power : 42.5 W\n",
      "[codecarbon INFO @ 15:46:53] 0.081677 kWh of electricity used since the beginning.\n",
      "[codecarbon INFO @ 15:47:01] Energy consumed for RAM : 0.003947 kWh. RAM Power : 11.698551177978516 W\n",
      "[codecarbon INFO @ 15:47:01] Energy consumed for all GPUs : 0.068180 kWh. Total GPU Power : 45.54400000000001 W\n",
      "[codecarbon INFO @ 15:47:01] Energy consumed for all CPUs : 0.014344 kWh. Total CPU Power : 42.5 W\n",
      "[codecarbon INFO @ 15:47:01] 0.086471 kWh of electricity used since the beginning.\n",
      "[codecarbon INFO @ 15:47:04] Energy consumed for RAM : 0.003704 kWh. RAM Power : 11.698551177978516 W\n",
      "[codecarbon INFO @ 15:47:04] Energy consumed for all GPUs : 0.067723 kWh. Total GPU Power : 45.095000000000006 W\n",
      "[codecarbon INFO @ 15:47:04] Energy consumed for all CPUs : 0.013458 kWh. Total CPU Power : 42.5 W\n",
      "[codecarbon INFO @ 15:47:04] 0.084885 kWh of electricity used since the beginning.\n",
      "[codecarbon INFO @ 15:47:04] Energy consumed for RAM : 0.002144 kWh. RAM Power : 11.698551177978516 W\n",
      "[codecarbon INFO @ 15:47:04] Energy consumed for all GPUs : 0.060082 kWh. Total GPU Power : 44.831 W\n",
      "[codecarbon INFO @ 15:47:04] Energy consumed for all CPUs : 0.007792 kWh. Total CPU Power : 42.5 W\n",
      "[codecarbon INFO @ 15:47:04] 0.070018 kWh of electricity used since the beginning.\n",
      "[codecarbon INFO @ 15:47:08] Energy consumed for RAM : 0.003460 kWh. RAM Power : 11.698551177978516 W\n",
      "[codecarbon INFO @ 15:47:08] Energy consumed for all GPUs : 0.066072 kWh. Total GPU Power : 48.546 W\n",
      "[codecarbon INFO @ 15:47:08] Energy consumed for all CPUs : 0.012573 kWh. Total CPU Power : 42.5 W\n",
      "[codecarbon INFO @ 15:47:08] 0.082105 kWh of electricity used since the beginning.\n",
      "[codecarbon INFO @ 15:47:16] Energy consumed for RAM : 0.003996 kWh. RAM Power : 11.698551177978516 W\n",
      "[codecarbon INFO @ 15:47:16] Energy consumed for all GPUs : 0.068366 kWh. Total GPU Power : 44.696 W\n",
      "[codecarbon INFO @ 15:47:16] Energy consumed for all CPUs : 0.014521 kWh. Total CPU Power : 42.5 W\n",
      "[codecarbon INFO @ 15:47:16] 0.086883 kWh of electricity used since the beginning.\n",
      "[codecarbon INFO @ 15:47:19] Energy consumed for RAM : 0.003753 kWh. RAM Power : 11.698551177978516 W\n",
      "[codecarbon INFO @ 15:47:19] Energy consumed for all GPUs : 0.067909 kWh. Total GPU Power : 44.634 W\n",
      "[codecarbon INFO @ 15:47:19] Energy consumed for all CPUs : 0.013635 kWh. Total CPU Power : 42.5 W\n",
      "[codecarbon INFO @ 15:47:19] 0.085297 kWh of electricity used since the beginning.\n",
      "[codecarbon INFO @ 15:47:19] Energy consumed for RAM : 0.002193 kWh. RAM Power : 11.698551177978516 W\n",
      "[codecarbon INFO @ 15:47:19] Energy consumed for all GPUs : 0.060281 kWh. Total GPU Power : 47.62 W\n",
      "[codecarbon INFO @ 15:47:19] Energy consumed for all CPUs : 0.007969 kWh. Total CPU Power : 42.5 W\n",
      "[codecarbon INFO @ 15:47:19] 0.070442 kWh of electricity used since the beginning.\n",
      "[codecarbon INFO @ 15:47:23] Energy consumed for RAM : 0.003509 kWh. RAM Power : 11.698551177978516 W\n",
      "[codecarbon INFO @ 15:47:23] Energy consumed for all GPUs : 0.066258 kWh. Total GPU Power : 44.619 W\n",
      "[codecarbon INFO @ 15:47:23] Energy consumed for all CPUs : 0.012750 kWh. Total CPU Power : 42.5 W\n",
      "[codecarbon INFO @ 15:47:23] 0.082517 kWh of electricity used since the beginning.\n",
      "[codecarbon INFO @ 15:47:31] Energy consumed for RAM : 0.004045 kWh. RAM Power : 11.698551177978516 W\n",
      "[codecarbon INFO @ 15:47:31] Energy consumed for all GPUs : 0.068568 kWh. Total GPU Power : 48.462 W\n",
      "[codecarbon INFO @ 15:47:31] Energy consumed for all CPUs : 0.014698 kWh. Total CPU Power : 42.5 W\n",
      "[codecarbon INFO @ 15:47:31] 0.087310 kWh of electricity used since the beginning.\n",
      "[codecarbon INFO @ 15:47:34] Energy consumed for RAM : 0.003801 kWh. RAM Power : 11.698551177978516 W\n",
      "[codecarbon INFO @ 15:47:34] Energy consumed for all GPUs : 0.068106 kWh. Total GPU Power : 47.164 W\n",
      "[codecarbon INFO @ 15:47:34] Energy consumed for all CPUs : 0.013812 kWh. Total CPU Power : 42.5 W\n",
      "[codecarbon INFO @ 15:47:34] 0.085719 kWh of electricity used since the beginning.\n",
      "[codecarbon INFO @ 15:47:34] Energy consumed for RAM : 0.002242 kWh. RAM Power : 11.698551177978516 W\n",
      "[codecarbon INFO @ 15:47:34] Energy consumed for all GPUs : 0.060488 kWh. Total GPU Power : 49.783 W\n",
      "[codecarbon INFO @ 15:47:34] Energy consumed for all CPUs : 0.008146 kWh. Total CPU Power : 42.5 W\n",
      "[codecarbon INFO @ 15:47:34] 0.070876 kWh of electricity used since the beginning.\n",
      "[codecarbon INFO @ 15:47:38] Energy consumed for RAM : 0.003558 kWh. RAM Power : 11.698551177978516 W\n",
      "[codecarbon INFO @ 15:47:38] Energy consumed for all GPUs : 0.066440 kWh. Total GPU Power : 43.779 W\n",
      "[codecarbon INFO @ 15:47:38] Energy consumed for all CPUs : 0.012927 kWh. Total CPU Power : 42.5 W\n",
      "[codecarbon INFO @ 15:47:38] 0.082925 kWh of electricity used since the beginning.\n",
      "[codecarbon INFO @ 15:47:46] Energy consumed for RAM : 0.004094 kWh. RAM Power : 11.698551177978516 W\n",
      "[codecarbon INFO @ 15:47:46] Energy consumed for all GPUs : 0.068756 kWh. Total GPU Power : 45.119 W\n",
      "[codecarbon INFO @ 15:47:46] Energy consumed for all CPUs : 0.014875 kWh. Total CPU Power : 42.5 W\n",
      "[codecarbon INFO @ 15:47:46] 0.087724 kWh of electricity used since the beginning.\n",
      "[codecarbon INFO @ 15:47:49] Energy consumed for RAM : 0.003850 kWh. RAM Power : 11.698551177978516 W\n",
      "[codecarbon INFO @ 15:47:49] Energy consumed for all GPUs : 0.068293 kWh. Total GPU Power : 45.052 W\n",
      "[codecarbon INFO @ 15:47:49] Energy consumed for all CPUs : 0.013989 kWh. Total CPU Power : 42.5 W\n",
      "[codecarbon INFO @ 15:47:49] 0.086133 kWh of electricity used since the beginning.\n",
      "[codecarbon INFO @ 15:47:49] Energy consumed for RAM : 0.002291 kWh. RAM Power : 11.698551177978516 W\n",
      "[codecarbon INFO @ 15:47:49] Energy consumed for all GPUs : 0.060687 kWh. Total GPU Power : 47.671 W\n",
      "[codecarbon INFO @ 15:47:49] Energy consumed for all CPUs : 0.008323 kWh. Total CPU Power : 42.5 W\n",
      "[codecarbon INFO @ 15:47:49] 0.071300 kWh of electricity used since the beginning.\n",
      "[codecarbon INFO @ 15:47:53] Energy consumed for RAM : 0.003606 kWh. RAM Power : 11.698551177978516 W\n",
      "[codecarbon INFO @ 15:47:53] Energy consumed for all GPUs : 0.066644 kWh. Total GPU Power : 48.948 W\n",
      "[codecarbon INFO @ 15:47:53] Energy consumed for all CPUs : 0.013104 kWh. Total CPU Power : 42.5 W\n",
      "[codecarbon INFO @ 15:47:53] 0.083354 kWh of electricity used since the beginning.\n"
     ]
    }
   ],
   "source": [
    "trainer = transformers.Trainer(\n",
    "    model=model,\n",
    "    train_dataset=data['train'],\n",
    "    args=transformers.TrainingArguments(\n",
    "        per_device_train_batch_size=4,\n",
    "        gradient_accumulation_steps=4,\n",
    "        warmup_steps=100,\n",
    "        max_steps=200,\n",
    "        learning_rate=2e-4,\n",
    "        fp16=True,\n",
    "        logging_steps=1,\n",
    "        output_dir=\"outputs\",\n",
    "    ),\n",
    "    data_collator=transformers.DataCollatorForLanguageModeling(tokenizer, mlm=False),\n",
    ")\n",
    "\n",
    "\n",
    "model.config.use_cache = False  # silence the warnings. Please re-enable for inference!\n",
    "trainer.train()"
   ]
  },
  {
   "cell_type": "code",
   "execution_count": null,
   "metadata": {},
   "outputs": [
    {
     "name": "stderr",
     "output_type": "stream",
     "text": [
      "[codecarbon INFO @ 15:57:01] Energy consumed for RAM : 0.005897 kWh. RAM Power : 11.698551177978516 W\n",
      "[codecarbon INFO @ 15:57:01] Energy consumed for all GPUs : 0.094413 kWh. Total GPU Power : 130.462 W\n",
      "[codecarbon INFO @ 15:57:01] Energy consumed for all CPUs : 0.021427 kWh. Total CPU Power : 42.5 W\n",
      "[codecarbon INFO @ 15:57:01] 0.121737 kWh of electricity used since the beginning.\n",
      "[codecarbon INFO @ 15:57:04] Energy consumed for RAM : 0.005653 kWh. RAM Power : 11.698551177978516 W\n",
      "[codecarbon INFO @ 15:57:04] Energy consumed for all GPUs : 0.093262 kWh. Total GPU Power : 132.933 W\n",
      "[codecarbon INFO @ 15:57:04] Energy consumed for all CPUs : 0.020541 kWh. Total CPU Power : 42.5 W\n",
      "[codecarbon INFO @ 15:57:04] 0.119457 kWh of electricity used since the beginning.\n",
      "[codecarbon INFO @ 15:57:04] Energy consumed for RAM : 0.004094 kWh. RAM Power : 11.698551177978516 W\n",
      "[codecarbon INFO @ 15:57:04] Energy consumed for all GPUs : 0.085377 kWh. Total GPU Power : 132.51 W\n",
      "[codecarbon INFO @ 15:57:04] Energy consumed for all CPUs : 0.014875 kWh. Total CPU Power : 42.5 W\n",
      "[codecarbon INFO @ 15:57:04] 0.104345 kWh of electricity used since the beginning.\n",
      "[codecarbon INFO @ 15:57:08] Energy consumed for RAM : 0.005409 kWh. RAM Power : 11.698551177978516 W\n",
      "[codecarbon INFO @ 15:57:08] Energy consumed for all GPUs : 0.091437 kWh. Total GPU Power : 128.519 W\n",
      "[codecarbon INFO @ 15:57:08] Energy consumed for all CPUs : 0.019656 kWh. Total CPU Power : 42.5 W\n",
      "[codecarbon INFO @ 15:57:08] 0.116503 kWh of electricity used since the beginning.\n",
      "[codecarbon INFO @ 15:57:16] Energy consumed for RAM : 0.005945 kWh. RAM Power : 11.698551177978516 W\n",
      "[codecarbon INFO @ 15:57:16] Energy consumed for all GPUs : 0.094765 kWh. Total GPU Power : 84.47800000000001 W\n",
      "[codecarbon INFO @ 15:57:16] Energy consumed for all CPUs : 0.021604 kWh. Total CPU Power : 42.5 W\n",
      "[codecarbon INFO @ 15:57:16] 0.122314 kWh of electricity used since the beginning.\n",
      "[codecarbon INFO @ 15:57:19] Energy consumed for RAM : 0.005702 kWh. RAM Power : 11.698551177978516 W\n",
      "[codecarbon INFO @ 15:57:19] Energy consumed for all GPUs : 0.093442 kWh. Total GPU Power : 43.285000000000004 W\n",
      "[codecarbon INFO @ 15:57:19] Energy consumed for all CPUs : 0.020718 kWh. Total CPU Power : 42.5 W\n",
      "[codecarbon INFO @ 15:57:19] 0.119863 kWh of electricity used since the beginning.\n",
      "[codecarbon INFO @ 15:57:19] Energy consumed for RAM : 0.004142 kWh. RAM Power : 11.698551177978516 W\n",
      "[codecarbon INFO @ 15:57:19] Energy consumed for all GPUs : 0.085569 kWh. Total GPU Power : 46.08 W\n",
      "[codecarbon INFO @ 15:57:19] Energy consumed for all CPUs : 0.015052 kWh. Total CPU Power : 42.5 W\n",
      "[codecarbon INFO @ 15:57:19] 0.104763 kWh of electricity used since the beginning.\n",
      "[codecarbon INFO @ 15:57:23] Energy consumed for RAM : 0.005458 kWh. RAM Power : 11.698551177978516 W\n",
      "[codecarbon INFO @ 15:57:23] Energy consumed for all GPUs : 0.091648 kWh. Total GPU Power : 50.67400000000001 W\n",
      "[codecarbon INFO @ 15:57:23] Energy consumed for all CPUs : 0.019833 kWh. Total CPU Power : 42.5 W\n",
      "[codecarbon INFO @ 15:57:23] 0.116940 kWh of electricity used since the beginning.\n"
     ]
    }
   ],
   "source": [
    "trainer.save_model(\"1st_try\")"
   ]
  }
 ],
 "metadata": {
  "kernelspec": {
   "display_name": "llm_jupyter",
   "language": "python",
   "name": "python3"
  },
  "language_info": {
   "codemirror_mode": {
    "name": "ipython",
    "version": 3
   },
   "file_extension": ".py",
   "mimetype": "text/x-python",
   "name": "python",
   "nbconvert_exporter": "python",
   "pygments_lexer": "ipython3",
   "version": "3.10.13"
  }
 },
 "nbformat": 4,
 "nbformat_minor": 2
}
