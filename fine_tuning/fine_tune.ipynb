{
 "cells": [
  {
   "cell_type": "code",
   "execution_count": 1,
   "metadata": {},
   "outputs": [
    {
     "name": "stderr",
     "output_type": "stream",
     "text": [
      "/home/ksaff/miniconda3/envs/llm_jupyter/lib/python3.10/site-packages/tqdm/auto.py:21: TqdmWarning: IProgress not found. Please update jupyter and ipywidgets. See https://ipywidgets.readthedocs.io/en/stable/user_install.html\n",
      "  from .autonotebook import tqdm as notebook_tqdm\n"
     ]
    },
    {
     "name": "stdout",
     "output_type": "stream",
     "text": [
      "/home/ksaff/.cache/huggingface/hub/models--codellama--CodeLlama-34b-hf/snapshots/82128714b6174570a64b3dd1f3e9c146bda26cf9/model.safetensors.index.json\n",
      "['/home/ksaff/.cache/huggingface/hub/models--codellama--CodeLlama-34b-hf/snapshots/82128714b6174570a64b3dd1f3e9c146bda26cf9/model-00001-of-00007.safetensors', '/home/ksaff/.cache/huggingface/hub/models--codellama--CodeLlama-34b-hf/snapshots/82128714b6174570a64b3dd1f3e9c146bda26cf9/model-00002-of-00007.safetensors', '/home/ksaff/.cache/huggingface/hub/models--codellama--CodeLlama-34b-hf/snapshots/82128714b6174570a64b3dd1f3e9c146bda26cf9/model-00003-of-00007.safetensors', '/home/ksaff/.cache/huggingface/hub/models--codellama--CodeLlama-34b-hf/snapshots/82128714b6174570a64b3dd1f3e9c146bda26cf9/model-00004-of-00007.safetensors', '/home/ksaff/.cache/huggingface/hub/models--codellama--CodeLlama-34b-hf/snapshots/82128714b6174570a64b3dd1f3e9c146bda26cf9/model-00005-of-00007.safetensors', '/home/ksaff/.cache/huggingface/hub/models--codellama--CodeLlama-34b-hf/snapshots/82128714b6174570a64b3dd1f3e9c146bda26cf9/model-00006-of-00007.safetensors', '/home/ksaff/.cache/huggingface/hub/models--codellama--CodeLlama-34b-hf/snapshots/82128714b6174570a64b3dd1f3e9c146bda26cf9/model-00007-of-00007.safetensors']\n"
     ]
    },
    {
     "name": "stderr",
     "output_type": "stream",
     "text": [
      "Loading checkpoint shards: 100%|██████████| 7/7 [00:19<00:00,  2.77s/it]\n"
     ]
    }
   ],
   "source": [
    "import os\n",
    "import torch\n",
    "import torch.nn as nn\n",
    "import bitsandbytes as bnb\n",
    "from transformers import AutoTokenizer, AutoConfig, AutoModelForCausalLM, BitsAndBytesConfig\n",
    "\n",
    "model_id = \"codellama/CodeLlama-34b-hf\"\n",
    "os.environ[\"report_to\"] = \"None\"\n",
    "\n",
    "\n",
    "bnb_config = BitsAndBytesConfig(\n",
    "                                load_in_4bit=True,\n",
    "                                bnb_4bit_use_double_quant=True,\n",
    "                                bnb_4bit_quant_type=\"nf4\",\n",
    "                                bnb_4bit_compute_dtype=torch.bfloat16\n",
    "                                )\n",
    "\n",
    "model = AutoModelForCausalLM.from_pretrained(model_id, quantization_config=bnb_config, device_map={'': 0})\n",
    "tokenizer = AutoTokenizer.from_pretrained(model_id, padding='max_length')"
   ]
  },
  {
   "cell_type": "code",
   "execution_count": 2,
   "metadata": {},
   "outputs": [],
   "source": [
    "from peft import prepare_model_for_kbit_training\n",
    "\n",
    "model = prepare_model_for_kbit_training(model)"
   ]
  },
  {
   "cell_type": "code",
   "execution_count": 3,
   "metadata": {},
   "outputs": [],
   "source": [
    "def print_trainable_parameters(model):\n",
    "    \"\"\"\n",
    "    Prints the number of trainable parameters in the model.\n",
    "    \"\"\"\n",
    "    trainable_params = 0\n",
    "    all_param = 0\n",
    "    for _, param in model.named_parameters():\n",
    "        all_param += param.numel()\n",
    "        if param.requires_grad:\n",
    "            trainable_params += param.numel()\n",
    "    print(\n",
    "        f\"trainable params: {trainable_params} || all params: {all_param} || trainable%: {100 * trainable_params / all_param}\"\n",
    "    )"
   ]
  },
  {
   "cell_type": "code",
   "execution_count": 4,
   "metadata": {},
   "outputs": [
    {
     "name": "stdout",
     "output_type": "stream",
     "text": [
      "trainable params: 19660800 || all params: 17154187264 || trainable%: 0.11461225004381531\n"
     ]
    }
   ],
   "source": [
    "from peft import LoraConfig, get_peft_model\n",
    "\n",
    "config = LoraConfig(\n",
    "    r=16, lora_alpha=32, target_modules=[\"q_proj\", \"v_proj\"], lora_dropout=0.05, bias=\"none\", task_type=\"CAUSAL_LM\"\n",
    ")\n",
    "\n",
    "model = get_peft_model(model, config)\n",
    "print_trainable_parameters(model)"
   ]
  },
  {
   "cell_type": "code",
   "execution_count": 5,
   "metadata": {},
   "outputs": [],
   "source": [
    "from datasets import load_dataset\n",
    "\n",
    "data = load_dataset(\"/home/ksaff/Desktop/ttyd/fine_tuning/dataset/\", 'csv')\n",
    "\n",
    "data = data.map(lambda samples: tokenizer(samples[\"text\"]), batched=True)"
   ]
  },
  {
   "cell_type": "code",
   "execution_count": 6,
   "metadata": {},
   "outputs": [
    {
     "name": "stderr",
     "output_type": "stream",
     "text": [
      "[codecarbon INFO @ 22:51:11] [setup] RAM Tracking...\n",
      "[codecarbon INFO @ 22:51:11] [setup] GPU Tracking...\n",
      "[codecarbon INFO @ 22:51:11] Tracking Nvidia GPU via pynvml\n",
      "[codecarbon INFO @ 22:51:11] [setup] CPU Tracking...\n",
      "[codecarbon WARNING @ 22:51:11] No CPU tracking mode found. Falling back on CPU constant mode.\n",
      "[codecarbon WARNING @ 22:51:12] We saw that you have a 13th Gen Intel(R) Core(TM) i5-13600KF but we don't know it. Please contact us.\n",
      "[codecarbon INFO @ 22:51:12] CPU Model on constant consumption mode: 13th Gen Intel(R) Core(TM) i5-13600KF\n",
      "[codecarbon INFO @ 22:51:12] >>> Tracker's metadata:\n",
      "[codecarbon INFO @ 22:51:12]   Platform system: Linux-6.5.0-14-generic-x86_64-with-glibc2.35\n",
      "[codecarbon INFO @ 22:51:12]   Python version: 3.10.13\n",
      "[codecarbon INFO @ 22:51:12]   CodeCarbon version: 2.2.3\n",
      "[codecarbon INFO @ 22:51:12]   Available RAM : 31.196 GB\n",
      "[codecarbon INFO @ 22:51:12]   CPU count: 20\n",
      "[codecarbon INFO @ 22:51:12]   CPU model: 13th Gen Intel(R) Core(TM) i5-13600KF\n",
      "[codecarbon INFO @ 22:51:12]   GPU count: 1\n",
      "[codecarbon INFO @ 22:51:12]   GPU model: 1 x NVIDIA GeForce RTX 3090\n",
      "  0%|          | 0/200 [00:00<?, ?it/s]You're using a CodeLlamaTokenizerFast tokenizer. Please note that with a fast tokenizer, using the `__call__` method is faster than using a method to encode the text followed by a call to the `pad` method to get a padded encoding.\n",
      "/home/ksaff/miniconda3/envs/llm_jupyter/lib/python3.10/site-packages/torch/utils/checkpoint.py:429: UserWarning: torch.utils.checkpoint: please pass in use_reentrant=True or use_reentrant=False explicitly. The default value of use_reentrant will be updated to be False in the future. To maintain current behavior, pass use_reentrant=True. It is recommended that you use use_reentrant=False. Refer to docs for more details on the differences between the two variants.\n",
      "  warnings.warn(\n",
      "[codecarbon INFO @ 22:51:31] Energy consumed for RAM : 0.000049 kWh. RAM Power : 11.698370933532715 W\n",
      "[codecarbon INFO @ 22:51:31] Energy consumed for all GPUs : 0.001474 kWh. Total GPU Power : 353.575 W\n",
      "[codecarbon INFO @ 22:51:31] Energy consumed for all CPUs : 0.000177 kWh. Total CPU Power : 42.5 W\n",
      "[codecarbon INFO @ 22:51:31] 0.001700 kWh of electricity used since the beginning.\n",
      "  0%|          | 1/200 [00:16<56:13, 16.95s/it]"
     ]
    },
    {
     "name": "stdout",
     "output_type": "stream",
     "text": [
      "{'loss': 1.4805, 'learning_rate': 2.0000000000000003e-06, 'epoch': 0.01}\n"
     ]
    },
    {
     "name": "stderr",
     "output_type": "stream",
     "text": [
      "[codecarbon INFO @ 22:51:46] Energy consumed for RAM : 0.000097 kWh. RAM Power : 11.698370933532715 W\n",
      "[codecarbon INFO @ 22:51:46] Energy consumed for all GPUs : 0.002944 kWh. Total GPU Power : 353.064 W\n",
      "[codecarbon INFO @ 22:51:46] Energy consumed for all CPUs : 0.000354 kWh. Total CPU Power : 42.5 W\n",
      "[codecarbon INFO @ 22:51:46] 0.003396 kWh of electricity used since the beginning.\n",
      "  1%|          | 2/200 [00:33<54:49, 16.61s/it]"
     ]
    },
    {
     "name": "stdout",
     "output_type": "stream",
     "text": [
      "{'loss': 1.4462, 'learning_rate': 4.000000000000001e-06, 'epoch': 0.02}\n"
     ]
    },
    {
     "name": "stderr",
     "output_type": "stream",
     "text": [
      "[codecarbon INFO @ 22:52:01] Energy consumed for RAM : 0.000146 kWh. RAM Power : 11.698370933532715 W\n",
      "[codecarbon INFO @ 22:52:01] Energy consumed for all GPUs : 0.004413 kWh. Total GPU Power : 352.57 W\n",
      "[codecarbon INFO @ 22:52:01] Energy consumed for all CPUs : 0.000531 kWh. Total CPU Power : 42.5 W\n",
      "[codecarbon INFO @ 22:52:01] 0.005091 kWh of electricity used since the beginning.\n",
      "  2%|▏         | 3/200 [00:50<54:47, 16.69s/it]"
     ]
    },
    {
     "name": "stdout",
     "output_type": "stream",
     "text": [
      "{'loss': 1.4282, 'learning_rate': 6e-06, 'epoch': 0.02}\n"
     ]
    },
    {
     "name": "stderr",
     "output_type": "stream",
     "text": [
      "[codecarbon INFO @ 22:52:16] Energy consumed for RAM : 0.000195 kWh. RAM Power : 11.698370933532715 W\n",
      "[codecarbon INFO @ 22:52:16] Energy consumed for all GPUs : 0.005884 kWh. Total GPU Power : 352.998 W\n",
      "[codecarbon INFO @ 22:52:16] Energy consumed for all CPUs : 0.000708 kWh. Total CPU Power : 42.5 W\n",
      "[codecarbon INFO @ 22:52:16] 0.006787 kWh of electricity used since the beginning.\n",
      "  2%|▏         | 4/200 [01:06<54:15, 16.61s/it]"
     ]
    },
    {
     "name": "stdout",
     "output_type": "stream",
     "text": [
      "{'loss': 1.4361, 'learning_rate': 8.000000000000001e-06, 'epoch': 0.03}\n"
     ]
    },
    {
     "name": "stderr",
     "output_type": "stream",
     "text": [
      "[codecarbon INFO @ 22:52:31] Energy consumed for RAM : 0.000244 kWh. RAM Power : 11.698370933532715 W\n",
      "[codecarbon INFO @ 22:52:31] Energy consumed for all GPUs : 0.007350 kWh. Total GPU Power : 352.029 W\n",
      "[codecarbon INFO @ 22:52:31] Energy consumed for all CPUs : 0.000885 kWh. Total CPU Power : 42.5 W\n",
      "[codecarbon INFO @ 22:52:31] 0.008479 kWh of electricity used since the beginning.\n",
      "  2%|▎         | 5/200 [01:23<54:00, 16.62s/it]"
     ]
    },
    {
     "name": "stdout",
     "output_type": "stream",
     "text": [
      "{'loss': 1.4503, 'learning_rate': 1e-05, 'epoch': 0.04}\n"
     ]
    },
    {
     "name": "stderr",
     "output_type": "stream",
     "text": [
      "[codecarbon INFO @ 22:52:46] Energy consumed for RAM : 0.000292 kWh. RAM Power : 11.698370933532715 W\n",
      "[codecarbon INFO @ 22:52:46] Energy consumed for all GPUs : 0.008814 kWh. Total GPU Power : 351.451 W\n",
      "[codecarbon INFO @ 22:52:46] Energy consumed for all CPUs : 0.001063 kWh. Total CPU Power : 42.5 W\n",
      "[codecarbon INFO @ 22:52:46] 0.010169 kWh of electricity used since the beginning.\n",
      "  3%|▎         | 6/200 [01:40<53:59, 16.70s/it]"
     ]
    },
    {
     "name": "stdout",
     "output_type": "stream",
     "text": [
      "{'loss': 1.4064, 'learning_rate': 1.2e-05, 'epoch': 0.05}\n"
     ]
    },
    {
     "name": "stderr",
     "output_type": "stream",
     "text": [
      "[codecarbon INFO @ 22:53:01] Energy consumed for RAM : 0.000341 kWh. RAM Power : 11.698370933532715 W\n",
      "[codecarbon INFO @ 22:53:01] Energy consumed for all GPUs : 0.010286 kWh. Total GPU Power : 353.342 W\n",
      "[codecarbon INFO @ 22:53:01] Energy consumed for all CPUs : 0.001240 kWh. Total CPU Power : 42.5 W\n",
      "[codecarbon INFO @ 22:53:01] 0.011867 kWh of electricity used since the beginning.\n",
      "  4%|▎         | 7/200 [01:56<53:30, 16.64s/it]"
     ]
    },
    {
     "name": "stdout",
     "output_type": "stream",
     "text": [
      "{'loss': 1.4134, 'learning_rate': 1.4000000000000001e-05, 'epoch': 0.05}\n"
     ]
    },
    {
     "name": "stderr",
     "output_type": "stream",
     "text": [
      "[codecarbon INFO @ 22:53:16] Energy consumed for RAM : 0.000390 kWh. RAM Power : 11.698370933532715 W\n",
      "[codecarbon INFO @ 22:53:16] Energy consumed for all GPUs : 0.011747 kWh. Total GPU Power : 350.572 W\n",
      "[codecarbon INFO @ 22:53:16] Energy consumed for all CPUs : 0.001417 kWh. Total CPU Power : 42.5 W\n",
      "[codecarbon INFO @ 22:53:16] 0.013553 kWh of electricity used since the beginning.\n",
      "  4%|▍         | 8/200 [02:13<53:13, 16.63s/it]"
     ]
    },
    {
     "name": "stdout",
     "output_type": "stream",
     "text": [
      "{'loss': 1.4594, 'learning_rate': 1.6000000000000003e-05, 'epoch': 0.06}\n"
     ]
    },
    {
     "name": "stderr",
     "output_type": "stream",
     "text": [
      "[codecarbon INFO @ 22:53:31] Energy consumed for RAM : 0.000439 kWh. RAM Power : 11.698370933532715 W\n",
      "[codecarbon INFO @ 22:53:31] Energy consumed for all GPUs : 0.013216 kWh. Total GPU Power : 352.597 W\n",
      "[codecarbon INFO @ 22:53:31] Energy consumed for all CPUs : 0.001594 kWh. Total CPU Power : 42.5 W\n",
      "[codecarbon INFO @ 22:53:31] 0.015248 kWh of electricity used since the beginning.\n",
      "  4%|▍         | 9/200 [02:29<52:29, 16.49s/it]"
     ]
    },
    {
     "name": "stdout",
     "output_type": "stream",
     "text": [
      "{'loss': 1.4634, 'learning_rate': 1.8e-05, 'epoch': 0.07}\n"
     ]
    },
    {
     "name": "stderr",
     "output_type": "stream",
     "text": [
      "[codecarbon INFO @ 22:53:46] Energy consumed for RAM : 0.000487 kWh. RAM Power : 11.698370933532715 W\n",
      "[codecarbon INFO @ 22:53:46] Energy consumed for all GPUs : 0.014683 kWh. Total GPU Power : 352.139 W\n",
      "[codecarbon INFO @ 22:53:46] Energy consumed for all CPUs : 0.001771 kWh. Total CPU Power : 42.5 W\n",
      "[codecarbon INFO @ 22:53:46] 0.016941 kWh of electricity used since the beginning.\n",
      "[codecarbon INFO @ 22:54:01] Energy consumed for RAM : 0.000536 kWh. RAM Power : 11.698370933532715 W\n",
      "[codecarbon INFO @ 22:54:01] Energy consumed for all GPUs : 0.016145 kWh. Total GPU Power : 350.863 W\n",
      "[codecarbon INFO @ 22:54:01] Energy consumed for all CPUs : 0.001948 kWh. Total CPU Power : 42.5 W\n",
      "[codecarbon INFO @ 22:54:01] 0.018629 kWh of electricity used since the beginning.\n",
      "  5%|▌         | 10/200 [02:45<52:16, 16.51s/it]"
     ]
    },
    {
     "name": "stdout",
     "output_type": "stream",
     "text": [
      "{'loss': 1.4361, 'learning_rate': 2e-05, 'epoch': 0.08}\n"
     ]
    },
    {
     "name": "stderr",
     "output_type": "stream",
     "text": [
      "[codecarbon INFO @ 22:54:16] Energy consumed for RAM : 0.000585 kWh. RAM Power : 11.698370933532715 W\n",
      "[codecarbon INFO @ 22:54:16] Energy consumed for all GPUs : 0.017612 kWh. Total GPU Power : 352.151 W\n",
      "[codecarbon INFO @ 22:54:16] Energy consumed for all CPUs : 0.002125 kWh. Total CPU Power : 42.5 W\n",
      "[codecarbon INFO @ 22:54:16] 0.020322 kWh of electricity used since the beginning.\n",
      "  6%|▌         | 11/200 [03:03<52:49, 16.77s/it]"
     ]
    },
    {
     "name": "stdout",
     "output_type": "stream",
     "text": [
      "{'loss': 1.3799, 'learning_rate': 2.2000000000000003e-05, 'epoch': 0.08}\n"
     ]
    },
    {
     "name": "stderr",
     "output_type": "stream",
     "text": [
      "[codecarbon INFO @ 22:54:31] Energy consumed for RAM : 0.000634 kWh. RAM Power : 11.698370933532715 W\n",
      "[codecarbon INFO @ 22:54:31] Energy consumed for all GPUs : 0.019073 kWh. Total GPU Power : 350.915 W\n",
      "[codecarbon INFO @ 22:54:31] Energy consumed for all CPUs : 0.002302 kWh. Total CPU Power : 42.5 W\n",
      "[codecarbon INFO @ 22:54:31] 0.022009 kWh of electricity used since the beginning.\n",
      "  6%|▌         | 12/200 [03:19<52:11, 16.66s/it]"
     ]
    },
    {
     "name": "stdout",
     "output_type": "stream",
     "text": [
      "{'loss': 1.4128, 'learning_rate': 2.4e-05, 'epoch': 0.09}\n"
     ]
    },
    {
     "name": "stderr",
     "output_type": "stream",
     "text": [
      "[codecarbon INFO @ 22:54:46] Energy consumed for RAM : 0.000682 kWh. RAM Power : 11.698370933532715 W\n",
      "[codecarbon INFO @ 22:54:46] Energy consumed for all GPUs : 0.020544 kWh. Total GPU Power : 352.961 W\n",
      "[codecarbon INFO @ 22:54:46] Energy consumed for all CPUs : 0.002479 kWh. Total CPU Power : 42.5 W\n",
      "[codecarbon INFO @ 22:54:46] 0.023705 kWh of electricity used since the beginning.\n",
      "  6%|▋         | 13/200 [03:36<51:47, 16.62s/it]"
     ]
    },
    {
     "name": "stdout",
     "output_type": "stream",
     "text": [
      "{'loss': 1.3757, 'learning_rate': 2.6000000000000002e-05, 'epoch': 0.1}\n"
     ]
    },
    {
     "name": "stderr",
     "output_type": "stream",
     "text": [
      "[codecarbon INFO @ 22:55:01] Energy consumed for RAM : 0.000731 kWh. RAM Power : 11.698370933532715 W\n",
      "[codecarbon INFO @ 22:55:01] Energy consumed for all GPUs : 0.022012 kWh. Total GPU Power : 352.459 W\n",
      "[codecarbon INFO @ 22:55:01] Energy consumed for all CPUs : 0.002656 kWh. Total CPU Power : 42.5 W\n",
      "[codecarbon INFO @ 22:55:01] 0.025400 kWh of electricity used since the beginning.\n",
      "  7%|▋         | 14/200 [03:53<51:39, 16.66s/it]"
     ]
    },
    {
     "name": "stdout",
     "output_type": "stream",
     "text": [
      "{'loss': 1.4408, 'learning_rate': 2.8000000000000003e-05, 'epoch': 0.11}\n"
     ]
    },
    {
     "name": "stderr",
     "output_type": "stream",
     "text": [
      "[codecarbon INFO @ 22:55:16] Energy consumed for RAM : 0.000780 kWh. RAM Power : 11.698370933532715 W\n",
      "[codecarbon INFO @ 22:55:16] Energy consumed for all GPUs : 0.023475 kWh. Total GPU Power : 351.051 W\n",
      "[codecarbon INFO @ 22:55:16] Energy consumed for all CPUs : 0.002833 kWh. Total CPU Power : 42.5 W\n",
      "[codecarbon INFO @ 22:55:16] 0.027088 kWh of electricity used since the beginning.\n",
      "  8%|▊         | 15/200 [04:09<51:16, 16.63s/it]"
     ]
    },
    {
     "name": "stdout",
     "output_type": "stream",
     "text": [
      "{'loss': 1.4121, 'learning_rate': 3e-05, 'epoch': 0.11}\n"
     ]
    },
    {
     "name": "stderr",
     "output_type": "stream",
     "text": [
      "[codecarbon INFO @ 22:55:31] Energy consumed for RAM : 0.000828 kWh. RAM Power : 11.698370933532715 W\n",
      "[codecarbon INFO @ 22:55:31] Energy consumed for all GPUs : 0.024946 kWh. Total GPU Power : 353.0160000000001 W\n",
      "[codecarbon INFO @ 22:55:31] Energy consumed for all CPUs : 0.003010 kWh. Total CPU Power : 42.5 W\n",
      "[codecarbon INFO @ 22:55:31] 0.028784 kWh of electricity used since the beginning.\n",
      "  8%|▊         | 16/200 [04:25<50:41, 16.53s/it]"
     ]
    },
    {
     "name": "stdout",
     "output_type": "stream",
     "text": [
      "{'loss': 1.4079, 'learning_rate': 3.2000000000000005e-05, 'epoch': 0.12}\n"
     ]
    },
    {
     "name": "stderr",
     "output_type": "stream",
     "text": [
      "[codecarbon INFO @ 22:55:46] Energy consumed for RAM : 0.000877 kWh. RAM Power : 11.698370933532715 W\n",
      "[codecarbon INFO @ 22:55:46] Energy consumed for all GPUs : 0.026405 kWh. Total GPU Power : 350.234 W\n",
      "[codecarbon INFO @ 22:55:46] Energy consumed for all CPUs : 0.003187 kWh. Total CPU Power : 42.5 W\n",
      "[codecarbon INFO @ 22:55:46] 0.030469 kWh of electricity used since the beginning.\n",
      "  8%|▊         | 17/200 [04:42<50:22, 16.52s/it]"
     ]
    },
    {
     "name": "stdout",
     "output_type": "stream",
     "text": [
      "{'loss': 1.371, 'learning_rate': 3.4000000000000007e-05, 'epoch': 0.13}\n"
     ]
    },
    {
     "name": "stderr",
     "output_type": "stream",
     "text": [
      "[codecarbon INFO @ 22:56:01] Energy consumed for RAM : 0.000926 kWh. RAM Power : 11.698370933532715 W\n",
      "[codecarbon INFO @ 22:56:01] Energy consumed for all GPUs : 0.027867 kWh. Total GPU Power : 351.04600000000005 W\n",
      "[codecarbon INFO @ 22:56:01] Energy consumed for all CPUs : 0.003365 kWh. Total CPU Power : 42.5 W\n",
      "[codecarbon INFO @ 22:56:01] 0.032158 kWh of electricity used since the beginning.\n",
      "  9%|▉         | 18/200 [04:58<50:10, 16.54s/it]"
     ]
    },
    {
     "name": "stdout",
     "output_type": "stream",
     "text": [
      "{'loss': 1.3703, 'learning_rate': 3.6e-05, 'epoch': 0.14}\n"
     ]
    },
    {
     "name": "stderr",
     "output_type": "stream",
     "text": [
      "[codecarbon INFO @ 22:56:16] Energy consumed for RAM : 0.000975 kWh. RAM Power : 11.698370933532715 W\n",
      "[codecarbon INFO @ 22:56:16] Energy consumed for all GPUs : 0.029331 kWh. Total GPU Power : 351.281 W\n",
      "[codecarbon INFO @ 22:56:16] Energy consumed for all CPUs : 0.003542 kWh. Total CPU Power : 42.5 W\n",
      "[codecarbon INFO @ 22:56:16] 0.033847 kWh of electricity used since the beginning.\n",
      "[codecarbon INFO @ 22:56:31] Energy consumed for RAM : 0.001023 kWh. RAM Power : 11.698370933532715 W\n",
      "[codecarbon INFO @ 22:56:31] Energy consumed for all GPUs : 0.030789 kWh. Total GPU Power : 350.07800000000003 W\n",
      "[codecarbon INFO @ 22:56:31] Energy consumed for all CPUs : 0.003719 kWh. Total CPU Power : 42.5 W\n",
      "[codecarbon INFO @ 22:56:31] 0.035531 kWh of electricity used since the beginning.\n",
      " 10%|▉         | 19/200 [05:15<49:47, 16.50s/it]"
     ]
    },
    {
     "name": "stdout",
     "output_type": "stream",
     "text": [
      "{'loss': 1.3697, 'learning_rate': 3.8e-05, 'epoch': 0.14}\n"
     ]
    },
    {
     "name": "stderr",
     "output_type": "stream",
     "text": [
      "[codecarbon INFO @ 22:56:46] Energy consumed for RAM : 0.001072 kWh. RAM Power : 11.698370933532715 W\n",
      "[codecarbon INFO @ 22:56:46] Energy consumed for all GPUs : 0.032260 kWh. Total GPU Power : 353.028 W\n",
      "[codecarbon INFO @ 22:56:46] Energy consumed for all CPUs : 0.003896 kWh. Total CPU Power : 42.5 W\n",
      "[codecarbon INFO @ 22:56:46] 0.037228 kWh of electricity used since the beginning.\n",
      " 10%|█         | 20/200 [05:31<49:37, 16.54s/it]"
     ]
    },
    {
     "name": "stdout",
     "output_type": "stream",
     "text": [
      "{'loss': 1.3334, 'learning_rate': 4e-05, 'epoch': 0.15}\n"
     ]
    },
    {
     "name": "stderr",
     "output_type": "stream",
     "text": [
      "[codecarbon INFO @ 22:57:01] Energy consumed for RAM : 0.001121 kWh. RAM Power : 11.698370933532715 W\n",
      "[codecarbon INFO @ 22:57:01] Energy consumed for all GPUs : 0.033725 kWh. Total GPU Power : 351.753 W\n",
      "[codecarbon INFO @ 22:57:01] Energy consumed for all CPUs : 0.004073 kWh. Total CPU Power : 42.5 W\n",
      "[codecarbon INFO @ 22:57:01] 0.038919 kWh of electricity used since the beginning.\n",
      " 10%|█         | 21/200 [05:48<49:10, 16.48s/it]"
     ]
    },
    {
     "name": "stdout",
     "output_type": "stream",
     "text": [
      "{'loss': 1.3496, 'learning_rate': 4.2e-05, 'epoch': 0.16}\n"
     ]
    },
    {
     "name": "stderr",
     "output_type": "stream",
     "text": [
      "[codecarbon INFO @ 22:57:16] Energy consumed for RAM : 0.001170 kWh. RAM Power : 11.698370933532715 W\n",
      "[codecarbon INFO @ 22:57:16] Energy consumed for all GPUs : 0.035187 kWh. Total GPU Power : 350.86500000000007 W\n",
      "[codecarbon INFO @ 22:57:16] Energy consumed for all CPUs : 0.004250 kWh. Total CPU Power : 42.5 W\n",
      "[codecarbon INFO @ 22:57:16] 0.040607 kWh of electricity used since the beginning.\n",
      " 11%|█         | 22/200 [06:04<48:52, 16.48s/it]"
     ]
    },
    {
     "name": "stdout",
     "output_type": "stream",
     "text": [
      "{'loss': 1.3084, 'learning_rate': 4.4000000000000006e-05, 'epoch': 0.17}\n"
     ]
    },
    {
     "name": "stderr",
     "output_type": "stream",
     "text": [
      "[codecarbon INFO @ 22:57:31] Energy consumed for RAM : 0.001218 kWh. RAM Power : 11.698370933532715 W\n",
      "[codecarbon INFO @ 22:57:31] Energy consumed for all GPUs : 0.036660 kWh. Total GPU Power : 353.548 W\n",
      "[codecarbon INFO @ 22:57:31] Energy consumed for all CPUs : 0.004427 kWh. Total CPU Power : 42.5 W\n",
      "[codecarbon INFO @ 22:57:31] 0.042305 kWh of electricity used since the beginning.\n",
      " 12%|█▏        | 23/200 [06:21<48:51, 16.56s/it]"
     ]
    },
    {
     "name": "stdout",
     "output_type": "stream",
     "text": [
      "{'loss': 1.359, 'learning_rate': 4.600000000000001e-05, 'epoch': 0.17}\n"
     ]
    },
    {
     "name": "stderr",
     "output_type": "stream",
     "text": [
      "[codecarbon INFO @ 22:57:46] Energy consumed for RAM : 0.001267 kWh. RAM Power : 11.698370933532715 W\n",
      "[codecarbon INFO @ 22:57:46] Energy consumed for all GPUs : 0.038124 kWh. Total GPU Power : 351.385 W\n",
      "[codecarbon INFO @ 22:57:46] Energy consumed for all CPUs : 0.004604 kWh. Total CPU Power : 42.5 W\n",
      "[codecarbon INFO @ 22:57:46] 0.043995 kWh of electricity used since the beginning.\n",
      " 12%|█▏        | 24/200 [06:38<48:35, 16.57s/it]"
     ]
    },
    {
     "name": "stdout",
     "output_type": "stream",
     "text": [
      "{'loss': 1.252, 'learning_rate': 4.8e-05, 'epoch': 0.18}\n"
     ]
    },
    {
     "name": "stderr",
     "output_type": "stream",
     "text": [
      "[codecarbon INFO @ 22:58:01] Energy consumed for RAM : 0.001316 kWh. RAM Power : 11.698370933532715 W\n",
      "[codecarbon INFO @ 22:58:01] Energy consumed for all GPUs : 0.039588 kWh. Total GPU Power : 351.51800000000003 W\n",
      "[codecarbon INFO @ 22:58:01] Energy consumed for all CPUs : 0.004781 kWh. Total CPU Power : 42.5 W\n",
      "[codecarbon INFO @ 22:58:01] 0.045685 kWh of electricity used since the beginning.\n",
      " 12%|█▎        | 25/200 [06:54<48:14, 16.54s/it]"
     ]
    },
    {
     "name": "stdout",
     "output_type": "stream",
     "text": [
      "{'loss': 1.2424, 'learning_rate': 5e-05, 'epoch': 0.19}\n"
     ]
    },
    {
     "name": "stderr",
     "output_type": "stream",
     "text": [
      "[codecarbon INFO @ 22:58:16] Energy consumed for RAM : 0.001365 kWh. RAM Power : 11.698370933532715 W\n",
      "[codecarbon INFO @ 22:58:16] Energy consumed for all GPUs : 0.041059 kWh. Total GPU Power : 352.945 W\n",
      "[codecarbon INFO @ 22:58:16] Energy consumed for all CPUs : 0.004958 kWh. Total CPU Power : 42.5 W\n",
      "[codecarbon INFO @ 22:58:16] 0.047382 kWh of electricity used since the beginning.\n",
      " 13%|█▎        | 26/200 [07:11<48:06, 16.59s/it]"
     ]
    },
    {
     "name": "stdout",
     "output_type": "stream",
     "text": [
      "{'loss': 1.2392, 'learning_rate': 5.2000000000000004e-05, 'epoch': 0.2}\n"
     ]
    },
    {
     "name": "stderr",
     "output_type": "stream",
     "text": [
      "[codecarbon INFO @ 22:58:31] Energy consumed for RAM : 0.001413 kWh. RAM Power : 11.698370933532715 W\n",
      "[codecarbon INFO @ 22:58:31] Energy consumed for all GPUs : 0.042521 kWh. Total GPU Power : 351.06600000000003 W\n",
      "[codecarbon INFO @ 22:58:31] Energy consumed for all CPUs : 0.005135 kWh. Total CPU Power : 42.5 W\n",
      "[codecarbon INFO @ 22:58:31] 0.049070 kWh of electricity used since the beginning.\n",
      " 14%|█▎        | 27/200 [07:27<47:40, 16.54s/it]"
     ]
    },
    {
     "name": "stdout",
     "output_type": "stream",
     "text": [
      "{'loss': 1.2351, 'learning_rate': 5.4000000000000005e-05, 'epoch': 0.21}\n"
     ]
    },
    {
     "name": "stderr",
     "output_type": "stream",
     "text": [
      "[codecarbon INFO @ 22:58:46] Energy consumed for RAM : 0.001462 kWh. RAM Power : 11.698370933532715 W\n",
      "[codecarbon INFO @ 22:58:46] Energy consumed for all GPUs : 0.043992 kWh. Total GPU Power : 353.148 W\n",
      "[codecarbon INFO @ 22:58:46] Energy consumed for all CPUs : 0.005312 kWh. Total CPU Power : 42.5 W\n",
      "[codecarbon INFO @ 22:58:46] 0.050767 kWh of electricity used since the beginning.\n",
      " 14%|█▍        | 28/200 [07:44<47:24, 16.53s/it]"
     ]
    },
    {
     "name": "stdout",
     "output_type": "stream",
     "text": [
      "{'loss': 1.1911, 'learning_rate': 5.6000000000000006e-05, 'epoch': 0.21}\n"
     ]
    },
    {
     "name": "stderr",
     "output_type": "stream",
     "text": [
      "[codecarbon INFO @ 22:59:01] Energy consumed for RAM : 0.001511 kWh. RAM Power : 11.698370933532715 W\n",
      "[codecarbon INFO @ 22:59:01] Energy consumed for all GPUs : 0.045468 kWh. Total GPU Power : 354.247 W\n",
      "[codecarbon INFO @ 22:59:01] Energy consumed for all CPUs : 0.005490 kWh. Total CPU Power : 42.5 W\n",
      "[codecarbon INFO @ 22:59:01] 0.052469 kWh of electricity used since the beginning.\n",
      "[codecarbon INFO @ 22:59:16] Energy consumed for RAM : 0.001559 kWh. RAM Power : 11.698370933532715 W\n",
      "[codecarbon INFO @ 22:59:16] Energy consumed for all GPUs : 0.046931 kWh. Total GPU Power : 351.194 W\n",
      "[codecarbon INFO @ 22:59:16] Energy consumed for all CPUs : 0.005667 kWh. Total CPU Power : 42.5 W\n",
      "[codecarbon INFO @ 22:59:16] 0.054158 kWh of electricity used since the beginning.\n",
      " 14%|█▍        | 29/200 [08:00<47:11, 16.56s/it]"
     ]
    },
    {
     "name": "stdout",
     "output_type": "stream",
     "text": [
      "{'loss': 1.1806, 'learning_rate': 5.8e-05, 'epoch': 0.22}\n"
     ]
    },
    {
     "name": "stderr",
     "output_type": "stream",
     "text": [
      "[codecarbon INFO @ 22:59:31] Energy consumed for RAM : 0.001608 kWh. RAM Power : 11.698370933532715 W\n",
      "[codecarbon INFO @ 22:59:31] Energy consumed for all GPUs : 0.048399 kWh. Total GPU Power : 352.27 W\n",
      "[codecarbon INFO @ 22:59:31] Energy consumed for all CPUs : 0.005844 kWh. Total CPU Power : 42.5 W\n",
      "[codecarbon INFO @ 22:59:31] 0.055851 kWh of electricity used since the beginning.\n",
      " 15%|█▌        | 30/200 [08:17<46:47, 16.51s/it]"
     ]
    },
    {
     "name": "stdout",
     "output_type": "stream",
     "text": [
      "{'loss': 1.2054, 'learning_rate': 6e-05, 'epoch': 0.23}\n"
     ]
    },
    {
     "name": "stderr",
     "output_type": "stream",
     "text": [
      "[codecarbon INFO @ 22:59:46] Energy consumed for RAM : 0.001657 kWh. RAM Power : 11.698370933532715 W\n",
      "[codecarbon INFO @ 22:59:46] Energy consumed for all GPUs : 0.049860 kWh. Total GPU Power : 350.696 W\n",
      "[codecarbon INFO @ 22:59:46] Energy consumed for all CPUs : 0.006021 kWh. Total CPU Power : 42.5 W\n",
      "[codecarbon INFO @ 22:59:46] 0.057538 kWh of electricity used since the beginning.\n",
      " 16%|█▌        | 31/200 [08:34<46:53, 16.65s/it]"
     ]
    },
    {
     "name": "stdout",
     "output_type": "stream",
     "text": [
      "{'loss': 1.1199, 'learning_rate': 6.2e-05, 'epoch': 0.24}\n"
     ]
    },
    {
     "name": "stderr",
     "output_type": "stream",
     "text": [
      "[codecarbon INFO @ 23:00:01] Energy consumed for RAM : 0.001706 kWh. RAM Power : 11.698370933532715 W\n",
      "[codecarbon INFO @ 23:00:01] Energy consumed for all GPUs : 0.051324 kWh. Total GPU Power : 351.298 W\n",
      "[codecarbon INFO @ 23:00:01] Energy consumed for all CPUs : 0.006198 kWh. Total CPU Power : 42.5 W\n",
      "[codecarbon INFO @ 23:00:01] 0.059227 kWh of electricity used since the beginning.\n",
      " 16%|█▌        | 32/200 [08:50<46:20, 16.55s/it]"
     ]
    },
    {
     "name": "stdout",
     "output_type": "stream",
     "text": [
      "{'loss': 1.1006, 'learning_rate': 6.400000000000001e-05, 'epoch': 0.24}\n"
     ]
    },
    {
     "name": "stderr",
     "output_type": "stream",
     "text": [
      "[codecarbon INFO @ 23:00:16] Energy consumed for RAM : 0.001754 kWh. RAM Power : 11.698370933532715 W\n",
      "[codecarbon INFO @ 23:00:16] Energy consumed for all GPUs : 0.052795 kWh. Total GPU Power : 353.26800000000003 W\n",
      "[codecarbon INFO @ 23:00:16] Energy consumed for all CPUs : 0.006375 kWh. Total CPU Power : 42.5 W\n",
      "[codecarbon INFO @ 23:00:16] 0.060925 kWh of electricity used since the beginning.\n",
      " 16%|█▋        | 33/200 [09:06<45:50, 16.47s/it]"
     ]
    },
    {
     "name": "stdout",
     "output_type": "stream",
     "text": [
      "{'loss': 1.0386, 'learning_rate': 6.6e-05, 'epoch': 0.25}\n"
     ]
    },
    {
     "name": "stderr",
     "output_type": "stream",
     "text": [
      "[codecarbon INFO @ 23:00:31] Energy consumed for RAM : 0.001803 kWh. RAM Power : 11.698370933532715 W\n",
      "[codecarbon INFO @ 23:00:31] Energy consumed for all GPUs : 0.054254 kWh. Total GPU Power : 350.219 W\n",
      "[codecarbon INFO @ 23:00:31] Energy consumed for all CPUs : 0.006552 kWh. Total CPU Power : 42.5 W\n",
      "[codecarbon INFO @ 23:00:31] 0.062610 kWh of electricity used since the beginning.\n",
      " 17%|█▋        | 34/200 [09:23<45:45, 16.54s/it]"
     ]
    },
    {
     "name": "stdout",
     "output_type": "stream",
     "text": [
      "{'loss': 0.987, 'learning_rate': 6.800000000000001e-05, 'epoch': 0.26}\n"
     ]
    },
    {
     "name": "stderr",
     "output_type": "stream",
     "text": [
      "[codecarbon INFO @ 23:00:46] Energy consumed for RAM : 0.001852 kWh. RAM Power : 11.698370933532715 W\n",
      "[codecarbon INFO @ 23:00:46] Energy consumed for all GPUs : 0.055717 kWh. Total GPU Power : 351.0610000000001 W\n",
      "[codecarbon INFO @ 23:00:46] Energy consumed for all CPUs : 0.006729 kWh. Total CPU Power : 42.5 W\n",
      "[codecarbon INFO @ 23:00:46] 0.064298 kWh of electricity used since the beginning.\n",
      " 18%|█▊        | 35/200 [09:39<45:06, 16.41s/it]"
     ]
    },
    {
     "name": "stdout",
     "output_type": "stream",
     "text": [
      "{'loss': 0.9928, 'learning_rate': 7e-05, 'epoch': 0.27}\n"
     ]
    },
    {
     "name": "stderr",
     "output_type": "stream",
     "text": [
      "[codecarbon INFO @ 23:01:01] Energy consumed for RAM : 0.001901 kWh. RAM Power : 11.698370933532715 W\n",
      "[codecarbon INFO @ 23:01:01] Energy consumed for all GPUs : 0.057189 kWh. Total GPU Power : 353.267 W\n",
      "[codecarbon INFO @ 23:01:01] Energy consumed for all CPUs : 0.006906 kWh. Total CPU Power : 42.5 W\n",
      "[codecarbon INFO @ 23:01:01] 0.065995 kWh of electricity used since the beginning.\n",
      " 18%|█▊        | 36/200 [09:55<44:40, 16.34s/it]"
     ]
    },
    {
     "name": "stdout",
     "output_type": "stream",
     "text": [
      "{'loss': 0.8709, 'learning_rate': 7.2e-05, 'epoch': 0.27}\n"
     ]
    },
    {
     "name": "stderr",
     "output_type": "stream",
     "text": [
      "[codecarbon INFO @ 23:01:16] Energy consumed for RAM : 0.001949 kWh. RAM Power : 11.698370933532715 W\n",
      "[codecarbon INFO @ 23:01:16] Energy consumed for all GPUs : 0.058653 kWh. Total GPU Power : 351.605 W\n",
      "[codecarbon INFO @ 23:01:16] Energy consumed for all CPUs : 0.007083 kWh. Total CPU Power : 42.5 W\n",
      "[codecarbon INFO @ 23:01:16] 0.067686 kWh of electricity used since the beginning.\n",
      " 18%|█▊        | 37/200 [10:12<44:51, 16.51s/it]"
     ]
    },
    {
     "name": "stdout",
     "output_type": "stream",
     "text": [
      "{'loss': 0.8558, 'learning_rate': 7.4e-05, 'epoch': 0.28}\n"
     ]
    },
    {
     "name": "stderr",
     "output_type": "stream",
     "text": [
      "[codecarbon INFO @ 23:01:31] Energy consumed for RAM : 0.001998 kWh. RAM Power : 11.698370933532715 W\n",
      "[codecarbon INFO @ 23:01:31] Energy consumed for all GPUs : 0.060123 kWh. Total GPU Power : 352.62200000000007 W\n",
      "[codecarbon INFO @ 23:01:31] Energy consumed for all CPUs : 0.007260 kWh. Total CPU Power : 42.5 W\n",
      "[codecarbon INFO @ 23:01:31] 0.069381 kWh of electricity used since the beginning.\n",
      " 19%|█▉        | 38/200 [10:28<44:19, 16.42s/it]"
     ]
    },
    {
     "name": "stdout",
     "output_type": "stream",
     "text": [
      "{'loss': 0.8226, 'learning_rate': 7.6e-05, 'epoch': 0.29}\n"
     ]
    },
    {
     "name": "stderr",
     "output_type": "stream",
     "text": [
      "[codecarbon INFO @ 23:01:46] Energy consumed for RAM : 0.002047 kWh. RAM Power : 11.698370933532715 W\n",
      "[codecarbon INFO @ 23:01:46] Energy consumed for all GPUs : 0.061589 kWh. Total GPU Power : 352.11400000000003 W\n",
      "[codecarbon INFO @ 23:01:46] Energy consumed for all CPUs : 0.007437 kWh. Total CPU Power : 42.5 W\n",
      "[codecarbon INFO @ 23:01:46] 0.071074 kWh of electricity used since the beginning.\n",
      "[codecarbon INFO @ 23:02:01] Energy consumed for RAM : 0.002096 kWh. RAM Power : 11.698370933532715 W\n",
      "[codecarbon INFO @ 23:02:01] Energy consumed for all GPUs : 0.063054 kWh. Total GPU Power : 351.539 W\n",
      "[codecarbon INFO @ 23:02:01] Energy consumed for all CPUs : 0.007615 kWh. Total CPU Power : 42.5 W\n",
      "[codecarbon INFO @ 23:02:01] 0.072764 kWh of electricity used since the beginning.\n",
      " 20%|█▉        | 39/200 [10:45<43:59, 16.39s/it]"
     ]
    },
    {
     "name": "stdout",
     "output_type": "stream",
     "text": [
      "{'loss': 0.7441, 'learning_rate': 7.800000000000001e-05, 'epoch': 0.3}\n"
     ]
    },
    {
     "name": "stderr",
     "output_type": "stream",
     "text": [
      "[codecarbon INFO @ 23:02:16] Energy consumed for RAM : 0.002144 kWh. RAM Power : 11.698370933532715 W\n",
      "[codecarbon INFO @ 23:02:16] Energy consumed for all GPUs : 0.064518 kWh. Total GPU Power : 351.45 W\n",
      "[codecarbon INFO @ 23:02:16] Energy consumed for all CPUs : 0.007792 kWh. Total CPU Power : 42.5 W\n",
      "[codecarbon INFO @ 23:02:16] 0.074454 kWh of electricity used since the beginning.\n",
      " 20%|██        | 40/200 [11:01<43:39, 16.37s/it]"
     ]
    },
    {
     "name": "stdout",
     "output_type": "stream",
     "text": [
      "{'loss': 0.6974, 'learning_rate': 8e-05, 'epoch': 0.3}\n"
     ]
    },
    {
     "name": "stderr",
     "output_type": "stream",
     "text": [
      "[codecarbon INFO @ 23:02:31] Energy consumed for RAM : 0.002193 kWh. RAM Power : 11.698370933532715 W\n",
      "[codecarbon INFO @ 23:02:31] Energy consumed for all GPUs : 0.065991 kWh. Total GPU Power : 353.583 W\n",
      "[codecarbon INFO @ 23:02:31] Energy consumed for all CPUs : 0.007969 kWh. Total CPU Power : 42.5 W\n",
      "[codecarbon INFO @ 23:02:31] 0.076153 kWh of electricity used since the beginning.\n",
      " 20%|██        | 41/200 [11:18<43:25, 16.38s/it]"
     ]
    },
    {
     "name": "stdout",
     "output_type": "stream",
     "text": [
      "{'loss': 0.6436, 'learning_rate': 8.2e-05, 'epoch': 0.31}\n"
     ]
    },
    {
     "name": "stderr",
     "output_type": "stream",
     "text": [
      "[codecarbon INFO @ 23:02:46] Energy consumed for RAM : 0.002242 kWh. RAM Power : 11.698370933532715 W\n",
      "[codecarbon INFO @ 23:02:46] Energy consumed for all GPUs : 0.067460 kWh. Total GPU Power : 352.583 W\n",
      "[codecarbon INFO @ 23:02:46] Energy consumed for all CPUs : 0.008146 kWh. Total CPU Power : 42.5 W\n",
      "[codecarbon INFO @ 23:02:46] 0.077848 kWh of electricity used since the beginning.\n",
      " 21%|██        | 42/200 [11:34<43:09, 16.39s/it]"
     ]
    },
    {
     "name": "stdout",
     "output_type": "stream",
     "text": [
      "{'loss': 0.5594, 'learning_rate': 8.4e-05, 'epoch': 0.32}\n"
     ]
    },
    {
     "name": "stderr",
     "output_type": "stream",
     "text": [
      "[codecarbon INFO @ 23:03:01] Energy consumed for RAM : 0.002290 kWh. RAM Power : 11.698370933532715 W\n",
      "[codecarbon INFO @ 23:03:01] Energy consumed for all GPUs : 0.068925 kWh. Total GPU Power : 351.65000000000003 W\n",
      "[codecarbon INFO @ 23:03:01] Energy consumed for all CPUs : 0.008323 kWh. Total CPU Power : 42.5 W\n",
      "[codecarbon INFO @ 23:03:01] 0.079538 kWh of electricity used since the beginning.\n",
      " 22%|██▏       | 43/200 [11:51<43:02, 16.45s/it]"
     ]
    },
    {
     "name": "stdout",
     "output_type": "stream",
     "text": [
      "{'loss': 0.5045, 'learning_rate': 8.6e-05, 'epoch': 0.33}\n"
     ]
    },
    {
     "name": "stderr",
     "output_type": "stream",
     "text": [
      "[codecarbon INFO @ 23:03:16] Energy consumed for RAM : 0.002339 kWh. RAM Power : 11.698370933532715 W\n",
      "[codecarbon INFO @ 23:03:16] Energy consumed for all GPUs : 0.070395 kWh. Total GPU Power : 352.738 W\n",
      "[codecarbon INFO @ 23:03:16] Energy consumed for all CPUs : 0.008500 kWh. Total CPU Power : 42.5 W\n",
      "[codecarbon INFO @ 23:03:16] 0.081234 kWh of electricity used since the beginning.\n",
      " 22%|██▏       | 44/200 [12:07<42:53, 16.50s/it]"
     ]
    },
    {
     "name": "stdout",
     "output_type": "stream",
     "text": [
      "{'loss': 0.4566, 'learning_rate': 8.800000000000001e-05, 'epoch': 0.33}\n"
     ]
    },
    {
     "name": "stderr",
     "output_type": "stream",
     "text": [
      "[codecarbon INFO @ 23:03:31] Energy consumed for RAM : 0.002388 kWh. RAM Power : 11.698370933532715 W\n",
      "[codecarbon INFO @ 23:03:31] Energy consumed for all GPUs : 0.071859 kWh. Total GPU Power : 351.478 W\n",
      "[codecarbon INFO @ 23:03:31] Energy consumed for all CPUs : 0.008677 kWh. Total CPU Power : 42.5 W\n",
      "[codecarbon INFO @ 23:03:31] 0.082924 kWh of electricity used since the beginning.\n",
      " 22%|██▎       | 45/200 [12:24<42:36, 16.49s/it]"
     ]
    },
    {
     "name": "stdout",
     "output_type": "stream",
     "text": [
      "{'loss': 0.4184, 'learning_rate': 9e-05, 'epoch': 0.34}\n"
     ]
    },
    {
     "name": "stderr",
     "output_type": "stream",
     "text": [
      "[codecarbon INFO @ 23:03:46] Energy consumed for RAM : 0.002437 kWh. RAM Power : 11.698370933532715 W\n",
      "[codecarbon INFO @ 23:03:46] Energy consumed for all GPUs : 0.073330 kWh. Total GPU Power : 353.17900000000003 W\n",
      "[codecarbon INFO @ 23:03:46] Energy consumed for all CPUs : 0.008854 kWh. Total CPU Power : 42.5 W\n",
      "[codecarbon INFO @ 23:03:46] 0.084621 kWh of electricity used since the beginning.\n",
      " 23%|██▎       | 46/200 [12:40<42:19, 16.49s/it]"
     ]
    },
    {
     "name": "stdout",
     "output_type": "stream",
     "text": [
      "{'loss': 0.3629, 'learning_rate': 9.200000000000001e-05, 'epoch': 0.35}\n"
     ]
    },
    {
     "name": "stderr",
     "output_type": "stream",
     "text": [
      "[codecarbon INFO @ 23:04:01] Energy consumed for RAM : 0.002485 kWh. RAM Power : 11.698370933532715 W\n",
      "[codecarbon INFO @ 23:04:01] Energy consumed for all GPUs : 0.074798 kWh. Total GPU Power : 352.306 W\n",
      "[codecarbon INFO @ 23:04:01] Energy consumed for all CPUs : 0.009031 kWh. Total CPU Power : 42.5 W\n",
      "[codecarbon INFO @ 23:04:01] 0.086315 kWh of electricity used since the beginning.\n",
      " 24%|██▎       | 47/200 [12:57<42:04, 16.50s/it]"
     ]
    },
    {
     "name": "stdout",
     "output_type": "stream",
     "text": [
      "{'loss': 0.2979, 'learning_rate': 9.4e-05, 'epoch': 0.36}\n"
     ]
    },
    {
     "name": "stderr",
     "output_type": "stream",
     "text": [
      "[codecarbon INFO @ 23:04:16] Energy consumed for RAM : 0.002534 kWh. RAM Power : 11.698370933532715 W\n",
      "[codecarbon INFO @ 23:04:16] Energy consumed for all GPUs : 0.076257 kWh. Total GPU Power : 350.109 W\n",
      "[codecarbon INFO @ 23:04:16] Energy consumed for all CPUs : 0.009208 kWh. Total CPU Power : 42.5 W\n",
      "[codecarbon INFO @ 23:04:16] 0.087999 kWh of electricity used since the beginning.\n",
      " 24%|██▍       | 48/200 [13:13<41:54, 16.54s/it]"
     ]
    },
    {
     "name": "stdout",
     "output_type": "stream",
     "text": [
      "{'loss': 0.2948, 'learning_rate': 9.6e-05, 'epoch': 0.37}\n"
     ]
    },
    {
     "name": "stderr",
     "output_type": "stream",
     "text": [
      "[codecarbon INFO @ 23:04:31] Energy consumed for RAM : 0.002583 kWh. RAM Power : 11.698370933532715 W\n",
      "[codecarbon INFO @ 23:04:31] Energy consumed for all GPUs : 0.077727 kWh. Total GPU Power : 353.0010000000001 W\n",
      "[codecarbon INFO @ 23:04:31] Energy consumed for all CPUs : 0.009385 kWh. Total CPU Power : 42.5 W\n",
      "[codecarbon INFO @ 23:04:31] 0.089696 kWh of electricity used since the beginning.\n",
      " 24%|██▍       | 49/200 [13:29<41:14, 16.39s/it]"
     ]
    },
    {
     "name": "stdout",
     "output_type": "stream",
     "text": [
      "{'loss': 0.2619, 'learning_rate': 9.8e-05, 'epoch': 0.37}\n"
     ]
    },
    {
     "name": "stderr",
     "output_type": "stream",
     "text": [
      "[codecarbon INFO @ 23:04:46] Energy consumed for RAM : 0.002632 kWh. RAM Power : 11.698370933532715 W\n",
      "[codecarbon INFO @ 23:04:46] Energy consumed for all GPUs : 0.079190 kWh. Total GPU Power : 351.25900000000007 W\n",
      "[codecarbon INFO @ 23:04:46] Energy consumed for all CPUs : 0.009562 kWh. Total CPU Power : 42.5 W\n",
      "[codecarbon INFO @ 23:04:46] 0.091384 kWh of electricity used since the beginning.\n",
      "[codecarbon INFO @ 23:05:01] Energy consumed for RAM : 0.002680 kWh. RAM Power : 11.698370933532715 W\n",
      "[codecarbon INFO @ 23:05:01] Energy consumed for all GPUs : 0.080648 kWh. Total GPU Power : 349.89300000000003 W\n",
      "[codecarbon INFO @ 23:05:01] Energy consumed for all CPUs : 0.009739 kWh. Total CPU Power : 42.5 W\n",
      "[codecarbon INFO @ 23:05:01] 0.093068 kWh of electricity used since the beginning.\n",
      " 25%|██▌       | 50/200 [13:46<40:58, 16.39s/it]"
     ]
    },
    {
     "name": "stdout",
     "output_type": "stream",
     "text": [
      "{'loss': 0.295, 'learning_rate': 0.0001, 'epoch': 0.38}\n"
     ]
    },
    {
     "name": "stderr",
     "output_type": "stream",
     "text": [
      "[codecarbon INFO @ 23:05:16] Energy consumed for RAM : 0.002729 kWh. RAM Power : 11.698370933532715 W\n",
      "[codecarbon INFO @ 23:05:16] Energy consumed for all GPUs : 0.082116 kWh. Total GPU Power : 352.42400000000004 W\n",
      "[codecarbon INFO @ 23:05:16] Energy consumed for all CPUs : 0.009917 kWh. Total CPU Power : 42.5 W\n",
      "[codecarbon INFO @ 23:05:16] 0.094762 kWh of electricity used since the beginning.\n",
      " 26%|██▌       | 51/200 [14:02<40:45, 16.41s/it]"
     ]
    },
    {
     "name": "stdout",
     "output_type": "stream",
     "text": [
      "{'loss': 0.2882, 'learning_rate': 0.00010200000000000001, 'epoch': 0.39}\n"
     ]
    },
    {
     "name": "stderr",
     "output_type": "stream",
     "text": [
      "[codecarbon INFO @ 23:05:31] Energy consumed for RAM : 0.002778 kWh. RAM Power : 11.698370933532715 W\n",
      "[codecarbon INFO @ 23:05:31] Energy consumed for all GPUs : 0.083581 kWh. Total GPU Power : 351.7130000000001 W\n",
      "[codecarbon INFO @ 23:05:31] Energy consumed for all CPUs : 0.010094 kWh. Total CPU Power : 42.5 W\n",
      "[codecarbon INFO @ 23:05:31] 0.096453 kWh of electricity used since the beginning.\n",
      " 26%|██▌       | 52/200 [14:18<40:25, 16.39s/it]"
     ]
    },
    {
     "name": "stdout",
     "output_type": "stream",
     "text": [
      "{'loss': 0.2473, 'learning_rate': 0.00010400000000000001, 'epoch': 0.4}\n"
     ]
    },
    {
     "name": "stderr",
     "output_type": "stream",
     "text": [
      "[codecarbon INFO @ 23:05:46] Energy consumed for RAM : 0.002827 kWh. RAM Power : 11.698370933532715 W\n",
      "[codecarbon INFO @ 23:05:46] Energy consumed for all GPUs : 0.085044 kWh. Total GPU Power : 351.11 W\n",
      "[codecarbon INFO @ 23:05:46] Energy consumed for all CPUs : 0.010271 kWh. Total CPU Power : 42.5 W\n",
      "[codecarbon INFO @ 23:05:46] 0.098141 kWh of electricity used since the beginning.\n",
      " 26%|██▋       | 53/200 [14:35<40:01, 16.34s/it]"
     ]
    },
    {
     "name": "stdout",
     "output_type": "stream",
     "text": [
      "{'loss': 0.2232, 'learning_rate': 0.00010600000000000002, 'epoch': 0.4}\n"
     ]
    },
    {
     "name": "stderr",
     "output_type": "stream",
     "text": [
      "[codecarbon INFO @ 23:06:01] Energy consumed for RAM : 0.002875 kWh. RAM Power : 11.698370933532715 W\n",
      "[codecarbon INFO @ 23:06:01] Energy consumed for all GPUs : 0.086515 kWh. Total GPU Power : 353.109 W\n",
      "[codecarbon INFO @ 23:06:01] Energy consumed for all CPUs : 0.010448 kWh. Total CPU Power : 42.5 W\n",
      "[codecarbon INFO @ 23:06:01] 0.099838 kWh of electricity used since the beginning.\n",
      " 27%|██▋       | 54/200 [14:51<39:40, 16.31s/it]"
     ]
    },
    {
     "name": "stdout",
     "output_type": "stream",
     "text": [
      "{'loss': 0.2143, 'learning_rate': 0.00010800000000000001, 'epoch': 0.41}\n"
     ]
    },
    {
     "name": "stderr",
     "output_type": "stream",
     "text": [
      "[codecarbon INFO @ 23:06:16] Energy consumed for RAM : 0.002924 kWh. RAM Power : 11.698370933532715 W\n",
      "[codecarbon INFO @ 23:06:16] Energy consumed for all GPUs : 0.087982 kWh. Total GPU Power : 352.223 W\n",
      "[codecarbon INFO @ 23:06:16] Energy consumed for all CPUs : 0.010625 kWh. Total CPU Power : 42.5 W\n",
      "[codecarbon INFO @ 23:06:16] 0.101531 kWh of electricity used since the beginning.\n",
      " 28%|██▊       | 55/200 [15:07<39:21, 16.29s/it]"
     ]
    },
    {
     "name": "stdout",
     "output_type": "stream",
     "text": [
      "{'loss': 0.2342, 'learning_rate': 0.00011000000000000002, 'epoch': 0.42}\n"
     ]
    },
    {
     "name": "stderr",
     "output_type": "stream",
     "text": [
      "[codecarbon INFO @ 23:06:31] Energy consumed for RAM : 0.002973 kWh. RAM Power : 11.698370933532715 W\n",
      "[codecarbon INFO @ 23:06:31] Energy consumed for all GPUs : 0.089450 kWh. Total GPU Power : 352.19100000000003 W\n",
      "[codecarbon INFO @ 23:06:31] Energy consumed for all CPUs : 0.010802 kWh. Total CPU Power : 42.5 W\n",
      "[codecarbon INFO @ 23:06:31] 0.103224 kWh of electricity used since the beginning.\n",
      " 28%|██▊       | 56/200 [15:24<39:07, 16.31s/it]"
     ]
    },
    {
     "name": "stdout",
     "output_type": "stream",
     "text": [
      "{'loss': 0.1926, 'learning_rate': 0.00011200000000000001, 'epoch': 0.43}\n"
     ]
    },
    {
     "name": "stderr",
     "output_type": "stream",
     "text": [
      "[codecarbon INFO @ 23:06:46] Energy consumed for RAM : 0.003021 kWh. RAM Power : 11.698370933532715 W\n",
      "[codecarbon INFO @ 23:06:46] Energy consumed for all GPUs : 0.090913 kWh. Total GPU Power : 351.354 W\n",
      "[codecarbon INFO @ 23:06:46] Energy consumed for all CPUs : 0.010979 kWh. Total CPU Power : 42.5 W\n",
      "[codecarbon INFO @ 23:06:46] 0.104914 kWh of electricity used since the beginning.\n",
      " 28%|██▊       | 57/200 [15:40<38:49, 16.29s/it]"
     ]
    },
    {
     "name": "stdout",
     "output_type": "stream",
     "text": [
      "{'loss': 0.1844, 'learning_rate': 0.00011399999999999999, 'epoch': 0.43}\n"
     ]
    },
    {
     "name": "stderr",
     "output_type": "stream",
     "text": [
      "[codecarbon INFO @ 23:07:01] Energy consumed for RAM : 0.003070 kWh. RAM Power : 11.698370933532715 W\n",
      "[codecarbon INFO @ 23:07:01] Energy consumed for all GPUs : 0.092383 kWh. Total GPU Power : 352.717 W\n",
      "[codecarbon INFO @ 23:07:01] Energy consumed for all CPUs : 0.011156 kWh. Total CPU Power : 42.5 W\n",
      "[codecarbon INFO @ 23:07:01] 0.106609 kWh of electricity used since the beginning.\n",
      " 29%|██▉       | 58/200 [15:56<38:34, 16.30s/it]"
     ]
    },
    {
     "name": "stdout",
     "output_type": "stream",
     "text": [
      "{'loss': 0.172, 'learning_rate': 0.000116, 'epoch': 0.44}\n"
     ]
    },
    {
     "name": "stderr",
     "output_type": "stream",
     "text": [
      "[codecarbon INFO @ 23:07:16] Energy consumed for RAM : 0.003119 kWh. RAM Power : 11.698370933532715 W\n",
      "[codecarbon INFO @ 23:07:16] Energy consumed for all GPUs : 0.093852 kWh. Total GPU Power : 352.583 W\n",
      "[codecarbon INFO @ 23:07:16] Energy consumed for all CPUs : 0.011333 kWh. Total CPU Power : 42.5 W\n",
      "[codecarbon INFO @ 23:07:16] 0.108304 kWh of electricity used since the beginning.\n",
      " 30%|██▉       | 59/200 [16:12<38:22, 16.33s/it]"
     ]
    },
    {
     "name": "stdout",
     "output_type": "stream",
     "text": [
      "{'loss': 0.187, 'learning_rate': 0.000118, 'epoch': 0.45}\n"
     ]
    },
    {
     "name": "stderr",
     "output_type": "stream",
     "text": [
      "[codecarbon INFO @ 23:07:31] Energy consumed for RAM : 0.003168 kWh. RAM Power : 11.698370933532715 W\n",
      "[codecarbon INFO @ 23:07:31] Energy consumed for all GPUs : 0.095315 kWh. Total GPU Power : 351.148 W\n",
      "[codecarbon INFO @ 23:07:31] Energy consumed for all CPUs : 0.011510 kWh. Total CPU Power : 42.5 W\n",
      "[codecarbon INFO @ 23:07:31] 0.109993 kWh of electricity used since the beginning.\n",
      " 30%|███       | 60/200 [16:29<38:00, 16.29s/it]"
     ]
    },
    {
     "name": "stdout",
     "output_type": "stream",
     "text": [
      "{'loss': 0.1439, 'learning_rate': 0.00012, 'epoch': 0.46}\n"
     ]
    },
    {
     "name": "stderr",
     "output_type": "stream",
     "text": [
      "[codecarbon INFO @ 23:07:46] Energy consumed for RAM : 0.003216 kWh. RAM Power : 11.698370933532715 W\n",
      "[codecarbon INFO @ 23:07:46] Energy consumed for all GPUs : 0.096780 kWh. Total GPU Power : 351.874 W\n",
      "[codecarbon INFO @ 23:07:46] Energy consumed for all CPUs : 0.011687 kWh. Total CPU Power : 42.5 W\n",
      "[codecarbon INFO @ 23:07:46] 0.111684 kWh of electricity used since the beginning.\n",
      "[codecarbon INFO @ 23:08:01] Energy consumed for RAM : 0.003265 kWh. RAM Power : 11.698370933532715 W\n",
      "[codecarbon INFO @ 23:08:01] Energy consumed for all GPUs : 0.098239 kWh. Total GPU Power : 350.058 W\n",
      "[codecarbon INFO @ 23:08:01] Energy consumed for all CPUs : 0.011864 kWh. Total CPU Power : 42.5 W\n",
      "[codecarbon INFO @ 23:08:01] 0.113368 kWh of electricity used since the beginning.\n",
      " 30%|███       | 61/200 [16:45<37:46, 16.31s/it]"
     ]
    },
    {
     "name": "stdout",
     "output_type": "stream",
     "text": [
      "{'loss': 0.167, 'learning_rate': 0.000122, 'epoch': 0.46}\n"
     ]
    },
    {
     "name": "stderr",
     "output_type": "stream",
     "text": [
      "[codecarbon INFO @ 23:08:16] Energy consumed for RAM : 0.003314 kWh. RAM Power : 11.698370933532715 W\n",
      "[codecarbon INFO @ 23:08:16] Energy consumed for all GPUs : 0.099706 kWh. Total GPU Power : 352.254 W\n",
      "[codecarbon INFO @ 23:08:16] Energy consumed for all CPUs : 0.012042 kWh. Total CPU Power : 42.5 W\n",
      "[codecarbon INFO @ 23:08:16] 0.115062 kWh of electricity used since the beginning.\n",
      " 31%|███       | 62/200 [17:01<37:31, 16.31s/it]"
     ]
    },
    {
     "name": "stdout",
     "output_type": "stream",
     "text": [
      "{'loss': 0.1432, 'learning_rate': 0.000124, 'epoch': 0.47}\n"
     ]
    },
    {
     "name": "stderr",
     "output_type": "stream",
     "text": [
      "[codecarbon INFO @ 23:08:31] Energy consumed for RAM : 0.003363 kWh. RAM Power : 11.698370933532715 W\n",
      "[codecarbon INFO @ 23:08:31] Energy consumed for all GPUs : 0.101172 kWh. Total GPU Power : 351.803 W\n",
      "[codecarbon INFO @ 23:08:31] Energy consumed for all CPUs : 0.012219 kWh. Total CPU Power : 42.5 W\n",
      "[codecarbon INFO @ 23:08:31] 0.116753 kWh of electricity used since the beginning.\n",
      " 32%|███▏      | 63/200 [17:18<37:17, 16.33s/it]"
     ]
    },
    {
     "name": "stdout",
     "output_type": "stream",
     "text": [
      "{'loss': 0.1902, 'learning_rate': 0.000126, 'epoch': 0.48}\n"
     ]
    },
    {
     "name": "stderr",
     "output_type": "stream",
     "text": [
      "[codecarbon INFO @ 23:08:46] Energy consumed for RAM : 0.003411 kWh. RAM Power : 11.698370933532715 W\n",
      "[codecarbon INFO @ 23:08:46] Energy consumed for all GPUs : 0.102633 kWh. Total GPU Power : 350.632 W\n",
      "[codecarbon INFO @ 23:08:46] Energy consumed for all CPUs : 0.012396 kWh. Total CPU Power : 42.5 W\n",
      "[codecarbon INFO @ 23:08:46] 0.118440 kWh of electricity used since the beginning.\n",
      " 32%|███▏      | 64/200 [17:34<37:06, 16.37s/it]"
     ]
    },
    {
     "name": "stdout",
     "output_type": "stream",
     "text": [
      "{'loss': 0.1568, 'learning_rate': 0.00012800000000000002, 'epoch': 0.49}\n"
     ]
    },
    {
     "name": "stderr",
     "output_type": "stream",
     "text": [
      "[codecarbon INFO @ 23:09:01] Energy consumed for RAM : 0.003460 kWh. RAM Power : 11.698370933532715 W\n",
      "[codecarbon INFO @ 23:09:01] Energy consumed for all GPUs : 0.104095 kWh. Total GPU Power : 351.09000000000003 W\n",
      "[codecarbon INFO @ 23:09:01] Energy consumed for all CPUs : 0.012573 kWh. Total CPU Power : 42.5 W\n",
      "[codecarbon INFO @ 23:09:01] 0.120128 kWh of electricity used since the beginning.\n",
      " 32%|███▎      | 65/200 [17:51<36:49, 16.37s/it]"
     ]
    },
    {
     "name": "stdout",
     "output_type": "stream",
     "text": [
      "{'loss': 0.1763, 'learning_rate': 0.00013000000000000002, 'epoch': 0.49}\n"
     ]
    },
    {
     "name": "stderr",
     "output_type": "stream",
     "text": [
      "[codecarbon INFO @ 23:09:16] Energy consumed for RAM : 0.003509 kWh. RAM Power : 11.698370933532715 W\n",
      "[codecarbon INFO @ 23:09:16] Energy consumed for all GPUs : 0.105564 kWh. Total GPU Power : 352.521 W\n",
      "[codecarbon INFO @ 23:09:16] Energy consumed for all CPUs : 0.012750 kWh. Total CPU Power : 42.5 W\n",
      "[codecarbon INFO @ 23:09:16] 0.121823 kWh of electricity used since the beginning.\n",
      " 33%|███▎      | 66/200 [18:07<36:24, 16.30s/it]"
     ]
    },
    {
     "name": "stdout",
     "output_type": "stream",
     "text": [
      "{'loss': 0.1562, 'learning_rate': 0.000132, 'epoch': 0.5}\n"
     ]
    },
    {
     "name": "stderr",
     "output_type": "stream",
     "text": [
      "[codecarbon INFO @ 23:09:31] Energy consumed for RAM : 0.003558 kWh. RAM Power : 11.698370933532715 W\n",
      "[codecarbon INFO @ 23:09:31] Energy consumed for all GPUs : 0.107026 kWh. Total GPU Power : 351.038 W\n",
      "[codecarbon INFO @ 23:09:31] Energy consumed for all CPUs : 0.012927 kWh. Total CPU Power : 42.5 W\n",
      "[codecarbon INFO @ 23:09:31] 0.123511 kWh of electricity used since the beginning.\n",
      " 34%|███▎      | 67/200 [18:23<36:06, 16.29s/it]"
     ]
    },
    {
     "name": "stdout",
     "output_type": "stream",
     "text": [
      "{'loss': 0.1452, 'learning_rate': 0.000134, 'epoch': 0.51}\n"
     ]
    },
    {
     "name": "stderr",
     "output_type": "stream",
     "text": [
      "[codecarbon INFO @ 23:09:46] Energy consumed for RAM : 0.003606 kWh. RAM Power : 11.698370933532715 W\n",
      "[codecarbon INFO @ 23:09:46] Energy consumed for all GPUs : 0.108486 kWh. Total GPU Power : 350.389 W\n",
      "[codecarbon INFO @ 23:09:46] Energy consumed for all CPUs : 0.013104 kWh. Total CPU Power : 42.5 W\n",
      "[codecarbon INFO @ 23:09:46] 0.125196 kWh of electricity used since the beginning.\n",
      " 34%|███▍      | 68/200 [18:39<35:48, 16.28s/it]"
     ]
    },
    {
     "name": "stdout",
     "output_type": "stream",
     "text": [
      "{'loss': 0.1308, 'learning_rate': 0.00013600000000000003, 'epoch': 0.52}\n"
     ]
    },
    {
     "name": "stderr",
     "output_type": "stream",
     "text": [
      "[codecarbon INFO @ 23:10:01] Energy consumed for RAM : 0.003655 kWh. RAM Power : 11.698370933532715 W\n",
      "[codecarbon INFO @ 23:10:01] Energy consumed for all GPUs : 0.109959 kWh. Total GPU Power : 353.671 W\n",
      "[codecarbon INFO @ 23:10:01] Energy consumed for all CPUs : 0.013281 kWh. Total CPU Power : 42.5 W\n",
      "[codecarbon INFO @ 23:10:01] 0.126896 kWh of electricity used since the beginning.\n",
      " 34%|███▍      | 69/200 [18:55<35:25, 16.23s/it]"
     ]
    },
    {
     "name": "stdout",
     "output_type": "stream",
     "text": [
      "{'loss': 0.1186, 'learning_rate': 0.000138, 'epoch': 0.52}\n"
     ]
    },
    {
     "name": "stderr",
     "output_type": "stream",
     "text": [
      "[codecarbon INFO @ 23:10:16] Energy consumed for RAM : 0.003704 kWh. RAM Power : 11.698370933532715 W\n",
      "[codecarbon INFO @ 23:10:16] Energy consumed for all GPUs : 0.111418 kWh. Total GPU Power : 350.11400000000003 W\n",
      "[codecarbon INFO @ 23:10:16] Energy consumed for all CPUs : 0.013458 kWh. Total CPU Power : 42.5 W\n",
      "[codecarbon INFO @ 23:10:16] 0.128580 kWh of electricity used since the beginning.\n",
      " 35%|███▌      | 70/200 [19:12<35:17, 16.29s/it]"
     ]
    },
    {
     "name": "stdout",
     "output_type": "stream",
     "text": [
      "{'loss': 0.1441, 'learning_rate': 0.00014, 'epoch': 0.53}\n"
     ]
    },
    {
     "name": "stderr",
     "output_type": "stream",
     "text": [
      "[codecarbon INFO @ 23:10:31] Energy consumed for RAM : 0.003752 kWh. RAM Power : 11.698370933532715 W\n",
      "[codecarbon INFO @ 23:10:31] Energy consumed for all GPUs : 0.112879 kWh. Total GPU Power : 350.696 W\n",
      "[codecarbon INFO @ 23:10:31] Energy consumed for all CPUs : 0.013635 kWh. Total CPU Power : 42.5 W\n",
      "[codecarbon INFO @ 23:10:31] 0.130267 kWh of electricity used since the beginning.\n",
      " 36%|███▌      | 71/200 [19:28<35:01, 16.29s/it]"
     ]
    },
    {
     "name": "stdout",
     "output_type": "stream",
     "text": [
      "{'loss': 0.1071, 'learning_rate': 0.000142, 'epoch': 0.54}\n"
     ]
    },
    {
     "name": "stderr",
     "output_type": "stream",
     "text": [
      "[codecarbon INFO @ 23:10:46] Energy consumed for RAM : 0.003801 kWh. RAM Power : 11.698370933532715 W\n",
      "[codecarbon INFO @ 23:10:46] Energy consumed for all GPUs : 0.114353 kWh. Total GPU Power : 353.831 W\n",
      "[codecarbon INFO @ 23:10:46] Energy consumed for all CPUs : 0.013812 kWh. Total CPU Power : 42.5 W\n",
      "[codecarbon INFO @ 23:10:46] 0.131967 kWh of electricity used since the beginning.\n",
      " 36%|███▌      | 72/200 [19:44<34:47, 16.31s/it][codecarbon INFO @ 23:11:01] Energy consumed for RAM : 0.003850 kWh. RAM Power : 11.698370933532715 W\n",
      "[codecarbon INFO @ 23:11:01] Energy consumed for all GPUs : 0.115817 kWh. Total GPU Power : 351.463 W\n",
      "[codecarbon INFO @ 23:11:01] Energy consumed for all CPUs : 0.013989 kWh. Total CPU Power : 42.5 W\n",
      "[codecarbon INFO @ 23:11:01] 0.133657 kWh of electricity used since the beginning.\n"
     ]
    },
    {
     "name": "stdout",
     "output_type": "stream",
     "text": [
      "{'loss': 0.1479, 'learning_rate': 0.000144, 'epoch': 0.55}\n"
     ]
    },
    {
     "name": "stderr",
     "output_type": "stream",
     "text": [
      "[codecarbon INFO @ 23:11:16] Energy consumed for RAM : 0.003899 kWh. RAM Power : 11.698370933532715 W\n",
      "[codecarbon INFO @ 23:11:16] Energy consumed for all GPUs : 0.117276 kWh. Total GPU Power : 350.217 W\n",
      "[codecarbon INFO @ 23:11:16] Energy consumed for all CPUs : 0.014166 kWh. Total CPU Power : 42.5 W\n",
      "[codecarbon INFO @ 23:11:16] 0.135342 kWh of electricity used since the beginning.\n",
      " 36%|███▋      | 73/200 [20:01<34:34, 16.33s/it]"
     ]
    },
    {
     "name": "stdout",
     "output_type": "stream",
     "text": [
      "{'loss': 0.138, 'learning_rate': 0.000146, 'epoch': 0.56}\n"
     ]
    },
    {
     "name": "stderr",
     "output_type": "stream",
     "text": [
      "[codecarbon INFO @ 23:11:31] Energy consumed for RAM : 0.003947 kWh. RAM Power : 11.698370933532715 W\n",
      "[codecarbon INFO @ 23:11:31] Energy consumed for all GPUs : 0.118750 kWh. Total GPU Power : 353.633 W\n",
      "[codecarbon INFO @ 23:11:31] Energy consumed for all CPUs : 0.014344 kWh. Total CPU Power : 42.5 W\n",
      "[codecarbon INFO @ 23:11:31] 0.137041 kWh of electricity used since the beginning.\n",
      " 37%|███▋      | 74/200 [20:17<34:19, 16.35s/it]"
     ]
    },
    {
     "name": "stdout",
     "output_type": "stream",
     "text": [
      "{'loss': 0.1289, 'learning_rate': 0.000148, 'epoch': 0.56}\n"
     ]
    },
    {
     "name": "stderr",
     "output_type": "stream",
     "text": [
      "[codecarbon INFO @ 23:11:46] Energy consumed for RAM : 0.003996 kWh. RAM Power : 11.698370933532715 W\n",
      "[codecarbon INFO @ 23:11:46] Energy consumed for all GPUs : 0.120212 kWh. Total GPU Power : 351.085 W\n",
      "[codecarbon INFO @ 23:11:46] Energy consumed for all CPUs : 0.014521 kWh. Total CPU Power : 42.5 W\n",
      "[codecarbon INFO @ 23:11:46] 0.138729 kWh of electricity used since the beginning.\n",
      " 38%|███▊      | 75/200 [20:33<34:02, 16.34s/it]"
     ]
    },
    {
     "name": "stdout",
     "output_type": "stream",
     "text": [
      "{'loss': 0.0979, 'learning_rate': 0.00015000000000000001, 'epoch': 0.57}\n"
     ]
    },
    {
     "name": "stderr",
     "output_type": "stream",
     "text": [
      "[codecarbon INFO @ 23:12:01] Energy consumed for RAM : 0.004045 kWh. RAM Power : 11.698370933532715 W\n",
      "[codecarbon INFO @ 23:12:01] Energy consumed for all GPUs : 0.121671 kWh. Total GPU Power : 350.214 W\n",
      "[codecarbon INFO @ 23:12:01] Energy consumed for all CPUs : 0.014698 kWh. Total CPU Power : 42.5 W\n",
      "[codecarbon INFO @ 23:12:01] 0.140414 kWh of electricity used since the beginning.\n",
      " 38%|███▊      | 76/200 [20:50<33:45, 16.34s/it]"
     ]
    },
    {
     "name": "stdout",
     "output_type": "stream",
     "text": [
      "{'loss': 0.1277, 'learning_rate': 0.000152, 'epoch': 0.58}\n"
     ]
    },
    {
     "name": "stderr",
     "output_type": "stream",
     "text": [
      "[codecarbon INFO @ 23:12:16] Energy consumed for RAM : 0.004094 kWh. RAM Power : 11.698370933532715 W\n",
      "[codecarbon INFO @ 23:12:16] Energy consumed for all GPUs : 0.123143 kWh. Total GPU Power : 353.29 W\n",
      "[codecarbon INFO @ 23:12:16] Energy consumed for all CPUs : 0.014875 kWh. Total CPU Power : 42.5 W\n",
      "[codecarbon INFO @ 23:12:16] 0.142112 kWh of electricity used since the beginning.\n",
      " 38%|███▊      | 77/200 [21:06<33:25, 16.30s/it]"
     ]
    },
    {
     "name": "stdout",
     "output_type": "stream",
     "text": [
      "{'loss': 0.1102, 'learning_rate': 0.000154, 'epoch': 0.59}\n"
     ]
    },
    {
     "name": "stderr",
     "output_type": "stream",
     "text": [
      "[codecarbon INFO @ 23:12:31] Energy consumed for RAM : 0.004142 kWh. RAM Power : 11.698370933532715 W\n",
      "[codecarbon INFO @ 23:12:31] Energy consumed for all GPUs : 0.124611 kWh. Total GPU Power : 352.418 W\n",
      "[codecarbon INFO @ 23:12:31] Energy consumed for all CPUs : 0.015052 kWh. Total CPU Power : 42.5 W\n",
      "[codecarbon INFO @ 23:12:31] 0.143806 kWh of electricity used since the beginning.\n",
      " 39%|███▉      | 78/200 [21:22<33:02, 16.25s/it]"
     ]
    },
    {
     "name": "stdout",
     "output_type": "stream",
     "text": [
      "{'loss': 0.0889, 'learning_rate': 0.00015600000000000002, 'epoch': 0.59}\n"
     ]
    },
    {
     "name": "stderr",
     "output_type": "stream",
     "text": [
      "[codecarbon INFO @ 23:12:46] Energy consumed for RAM : 0.004191 kWh. RAM Power : 11.698370933532715 W\n",
      "[codecarbon INFO @ 23:12:46] Energy consumed for all GPUs : 0.126070 kWh. Total GPU Power : 350.075 W\n",
      "[codecarbon INFO @ 23:12:46] Energy consumed for all CPUs : 0.015229 kWh. Total CPU Power : 42.5 W\n",
      "[codecarbon INFO @ 23:12:46] 0.145490 kWh of electricity used since the beginning.\n",
      " 40%|███▉      | 79/200 [21:38<32:40, 16.21s/it]"
     ]
    },
    {
     "name": "stdout",
     "output_type": "stream",
     "text": [
      "{'loss': 0.0841, 'learning_rate': 0.00015800000000000002, 'epoch': 0.6}\n"
     ]
    },
    {
     "name": "stderr",
     "output_type": "stream",
     "text": [
      "[codecarbon INFO @ 23:13:01] Energy consumed for RAM : 0.004240 kWh. RAM Power : 11.698370933532715 W\n",
      "[codecarbon INFO @ 23:13:01] Energy consumed for all GPUs : 0.127541 kWh. Total GPU Power : 353.234 W\n",
      "[codecarbon INFO @ 23:13:01] Energy consumed for all CPUs : 0.015406 kWh. Total CPU Power : 42.5 W\n",
      "[codecarbon INFO @ 23:13:01] 0.147187 kWh of electricity used since the beginning.\n",
      " 40%|████      | 80/200 [21:54<32:24, 16.20s/it]"
     ]
    },
    {
     "name": "stdout",
     "output_type": "stream",
     "text": [
      "{'loss': 0.0865, 'learning_rate': 0.00016, 'epoch': 0.61}\n"
     ]
    },
    {
     "name": "stderr",
     "output_type": "stream",
     "text": [
      "[codecarbon INFO @ 23:13:16] Energy consumed for RAM : 0.004289 kWh. RAM Power : 11.698370933532715 W\n",
      "[codecarbon INFO @ 23:13:16] Energy consumed for all GPUs : 0.129012 kWh. Total GPU Power : 353.121 W\n",
      "[codecarbon INFO @ 23:13:16] Energy consumed for all CPUs : 0.015583 kWh. Total CPU Power : 42.5 W\n",
      "[codecarbon INFO @ 23:13:16] 0.148884 kWh of electricity used since the beginning.\n",
      " 40%|████      | 81/200 [22:11<32:23, 16.33s/it]"
     ]
    },
    {
     "name": "stdout",
     "output_type": "stream",
     "text": [
      "{'loss': 0.0714, 'learning_rate': 0.000162, 'epoch': 0.62}\n"
     ]
    },
    {
     "name": "stderr",
     "output_type": "stream",
     "text": [
      "[codecarbon INFO @ 23:13:31] Energy consumed for RAM : 0.004337 kWh. RAM Power : 11.698370933532715 W\n",
      "[codecarbon INFO @ 23:13:31] Energy consumed for all GPUs : 0.130479 kWh. Total GPU Power : 351.973 W\n",
      "[codecarbon INFO @ 23:13:31] Energy consumed for all CPUs : 0.015760 kWh. Total CPU Power : 42.5 W\n",
      "[codecarbon INFO @ 23:13:31] 0.150576 kWh of electricity used since the beginning.\n",
      " 41%|████      | 82/200 [22:27<32:06, 16.33s/it]"
     ]
    },
    {
     "name": "stdout",
     "output_type": "stream",
     "text": [
      "{'loss': 0.0826, 'learning_rate': 0.000164, 'epoch': 0.62}\n"
     ]
    },
    {
     "name": "stderr",
     "output_type": "stream",
     "text": [
      "[codecarbon INFO @ 23:13:46] Energy consumed for RAM : 0.004386 kWh. RAM Power : 11.698370933532715 W\n",
      "[codecarbon INFO @ 23:13:46] Energy consumed for all GPUs : 0.131949 kWh. Total GPU Power : 353.033 W\n",
      "[codecarbon INFO @ 23:13:46] Energy consumed for all CPUs : 0.015937 kWh. Total CPU Power : 42.5 W\n",
      "[codecarbon INFO @ 23:13:46] 0.152273 kWh of electricity used since the beginning.\n",
      " 42%|████▏     | 83/200 [22:44<31:46, 16.30s/it]"
     ]
    },
    {
     "name": "stdout",
     "output_type": "stream",
     "text": [
      "{'loss': 0.0802, 'learning_rate': 0.000166, 'epoch': 0.63}\n"
     ]
    },
    {
     "name": "stderr",
     "output_type": "stream",
     "text": [
      "[codecarbon INFO @ 23:14:01] Energy consumed for RAM : 0.004435 kWh. RAM Power : 11.698370933532715 W\n",
      "[codecarbon INFO @ 23:14:01] Energy consumed for all GPUs : 0.133421 kWh. Total GPU Power : 353.224 W\n",
      "[codecarbon INFO @ 23:14:01] Energy consumed for all CPUs : 0.016114 kWh. Total CPU Power : 42.5 W\n",
      "[codecarbon INFO @ 23:14:01] 0.153970 kWh of electricity used since the beginning.\n",
      "[codecarbon INFO @ 23:14:16] Energy consumed for RAM : 0.004483 kWh. RAM Power : 11.698370933532715 W\n",
      "[codecarbon INFO @ 23:14:16] Energy consumed for all GPUs : 0.134885 kWh. Total GPU Power : 351.337 W\n",
      "[codecarbon INFO @ 23:14:16] Energy consumed for all CPUs : 0.016291 kWh. Total CPU Power : 42.5 W\n",
      "[codecarbon INFO @ 23:14:16] 0.155660 kWh of electricity used since the beginning.\n",
      " 42%|████▏     | 84/200 [23:00<31:34, 16.33s/it]"
     ]
    },
    {
     "name": "stdout",
     "output_type": "stream",
     "text": [
      "{'loss': 0.1125, 'learning_rate': 0.000168, 'epoch': 0.64}\n"
     ]
    },
    {
     "name": "stderr",
     "output_type": "stream",
     "text": [
      "[codecarbon INFO @ 23:14:31] Energy consumed for RAM : 0.004532 kWh. RAM Power : 11.698370933532715 W\n",
      "[codecarbon INFO @ 23:14:31] Energy consumed for all GPUs : 0.136357 kWh. Total GPU Power : 353.351 W\n",
      "[codecarbon INFO @ 23:14:31] Energy consumed for all CPUs : 0.016469 kWh. Total CPU Power : 42.5 W\n",
      "[codecarbon INFO @ 23:14:31] 0.157358 kWh of electricity used since the beginning.\n",
      " 42%|████▎     | 85/200 [23:16<31:20, 16.35s/it]"
     ]
    },
    {
     "name": "stdout",
     "output_type": "stream",
     "text": [
      "{'loss': 0.0923, 'learning_rate': 0.00017, 'epoch': 0.65}\n"
     ]
    },
    {
     "name": "stderr",
     "output_type": "stream",
     "text": [
      "[codecarbon INFO @ 23:14:46] Energy consumed for RAM : 0.004581 kWh. RAM Power : 11.698370933532715 W\n",
      "[codecarbon INFO @ 23:14:46] Energy consumed for all GPUs : 0.137825 kWh. Total GPU Power : 352.298 W\n",
      "[codecarbon INFO @ 23:14:46] Energy consumed for all CPUs : 0.016646 kWh. Total CPU Power : 42.5 W\n",
      "[codecarbon INFO @ 23:14:46] 0.159051 kWh of electricity used since the beginning.\n",
      " 43%|████▎     | 86/200 [23:33<31:03, 16.34s/it]"
     ]
    },
    {
     "name": "stdout",
     "output_type": "stream",
     "text": [
      "{'loss': 0.0828, 'learning_rate': 0.000172, 'epoch': 0.65}\n"
     ]
    },
    {
     "name": "stderr",
     "output_type": "stream",
     "text": [
      "[codecarbon INFO @ 23:15:01] Energy consumed for RAM : 0.004630 kWh. RAM Power : 11.698370933532715 W\n",
      "[codecarbon INFO @ 23:15:01] Energy consumed for all GPUs : 0.139287 kWh. Total GPU Power : 350.932 W\n",
      "[codecarbon INFO @ 23:15:01] Energy consumed for all CPUs : 0.016823 kWh. Total CPU Power : 42.5 W\n",
      "[codecarbon INFO @ 23:15:01] 0.160739 kWh of electricity used since the beginning.\n",
      " 44%|████▎     | 87/200 [23:49<30:50, 16.38s/it]"
     ]
    },
    {
     "name": "stdout",
     "output_type": "stream",
     "text": [
      "{'loss': 0.0966, 'learning_rate': 0.000174, 'epoch': 0.66}\n"
     ]
    },
    {
     "name": "stderr",
     "output_type": "stream",
     "text": [
      "[codecarbon INFO @ 23:15:16] Energy consumed for RAM : 0.004678 kWh. RAM Power : 11.698370933532715 W\n",
      "[codecarbon INFO @ 23:15:16] Energy consumed for all GPUs : 0.140756 kWh. Total GPU Power : 352.803 W\n",
      "[codecarbon INFO @ 23:15:16] Energy consumed for all CPUs : 0.017000 kWh. Total CPU Power : 42.5 W\n",
      "[codecarbon INFO @ 23:15:16] 0.162435 kWh of electricity used since the beginning.\n",
      " 44%|████▍     | 88/200 [24:06<30:34, 16.38s/it]"
     ]
    },
    {
     "name": "stdout",
     "output_type": "stream",
     "text": [
      "{'loss': 0.0959, 'learning_rate': 0.00017600000000000002, 'epoch': 0.67}\n"
     ]
    },
    {
     "name": "stderr",
     "output_type": "stream",
     "text": [
      "[codecarbon INFO @ 23:15:31] Energy consumed for RAM : 0.004727 kWh. RAM Power : 11.698370933532715 W\n",
      "[codecarbon INFO @ 23:15:31] Energy consumed for all GPUs : 0.142224 kWh. Total GPU Power : 352.333 W\n",
      "[codecarbon INFO @ 23:15:31] Energy consumed for all CPUs : 0.017177 kWh. Total CPU Power : 42.5 W\n",
      "[codecarbon INFO @ 23:15:31] 0.164128 kWh of electricity used since the beginning.\n",
      " 44%|████▍     | 89/200 [24:22<30:22, 16.42s/it]"
     ]
    },
    {
     "name": "stdout",
     "output_type": "stream",
     "text": [
      "{'loss': 0.0854, 'learning_rate': 0.00017800000000000002, 'epoch': 0.68}\n"
     ]
    },
    {
     "name": "stderr",
     "output_type": "stream",
     "text": [
      "[codecarbon INFO @ 23:15:46] Energy consumed for RAM : 0.004776 kWh. RAM Power : 11.698370933532715 W\n",
      "[codecarbon INFO @ 23:15:46] Energy consumed for all GPUs : 0.143693 kWh. Total GPU Power : 352.451 W\n",
      "[codecarbon INFO @ 23:15:46] Energy consumed for all CPUs : 0.017354 kWh. Total CPU Power : 42.5 W\n",
      "[codecarbon INFO @ 23:15:46] 0.165822 kWh of electricity used since the beginning.\n",
      " 45%|████▌     | 90/200 [24:39<30:11, 16.47s/it]"
     ]
    },
    {
     "name": "stdout",
     "output_type": "stream",
     "text": [
      "{'loss': 0.0996, 'learning_rate': 0.00018, 'epoch': 0.68}\n"
     ]
    },
    {
     "name": "stderr",
     "output_type": "stream",
     "text": [
      "[codecarbon INFO @ 23:16:01] Energy consumed for RAM : 0.004825 kWh. RAM Power : 11.698370933532715 W\n",
      "[codecarbon INFO @ 23:16:01] Energy consumed for all GPUs : 0.145166 kWh. Total GPU Power : 353.641 W\n",
      "[codecarbon INFO @ 23:16:01] Energy consumed for all CPUs : 0.017531 kWh. Total CPU Power : 42.5 W\n",
      "[codecarbon INFO @ 23:16:01] 0.167522 kWh of electricity used since the beginning.\n",
      " 46%|████▌     | 91/200 [24:55<29:55, 16.47s/it]"
     ]
    },
    {
     "name": "stdout",
     "output_type": "stream",
     "text": [
      "{'loss': 0.0754, 'learning_rate': 0.000182, 'epoch': 0.69}\n"
     ]
    },
    {
     "name": "stderr",
     "output_type": "stream",
     "text": [
      "[codecarbon INFO @ 23:16:16] Energy consumed for RAM : 0.004873 kWh. RAM Power : 11.698370933532715 W\n",
      "[codecarbon INFO @ 23:16:16] Energy consumed for all GPUs : 0.146628 kWh. Total GPU Power : 351.07 W\n",
      "[codecarbon INFO @ 23:16:16] Energy consumed for all CPUs : 0.017708 kWh. Total CPU Power : 42.5 W\n",
      "[codecarbon INFO @ 23:16:16] 0.169210 kWh of electricity used since the beginning.\n",
      " 46%|████▌     | 92/200 [25:12<29:37, 16.46s/it]"
     ]
    },
    {
     "name": "stdout",
     "output_type": "stream",
     "text": [
      "{'loss': 0.0707, 'learning_rate': 0.00018400000000000003, 'epoch': 0.7}\n"
     ]
    },
    {
     "name": "stderr",
     "output_type": "stream",
     "text": [
      "[codecarbon INFO @ 23:16:31] Energy consumed for RAM : 0.004922 kWh. RAM Power : 11.698370933532715 W\n",
      "[codecarbon INFO @ 23:16:31] Energy consumed for all GPUs : 0.148090 kWh. Total GPU Power : 350.753 W\n",
      "[codecarbon INFO @ 23:16:31] Energy consumed for all CPUs : 0.017885 kWh. Total CPU Power : 42.5 W\n",
      "[codecarbon INFO @ 23:16:31] 0.170897 kWh of electricity used since the beginning.\n",
      " 46%|████▋     | 93/200 [25:29<29:35, 16.59s/it]"
     ]
    },
    {
     "name": "stdout",
     "output_type": "stream",
     "text": [
      "{'loss': 0.0813, 'learning_rate': 0.00018600000000000002, 'epoch': 0.71}\n"
     ]
    },
    {
     "name": "stderr",
     "output_type": "stream",
     "text": [
      "[codecarbon INFO @ 23:16:46] Energy consumed for RAM : 0.004971 kWh. RAM Power : 11.698370933532715 W\n",
      "[codecarbon INFO @ 23:16:46] Energy consumed for all GPUs : 0.149558 kWh. Total GPU Power : 352.342 W\n",
      "[codecarbon INFO @ 23:16:46] Energy consumed for all CPUs : 0.018062 kWh. Total CPU Power : 42.5 W\n",
      "[codecarbon INFO @ 23:16:46] 0.172591 kWh of electricity used since the beginning.\n",
      "[codecarbon INFO @ 23:17:01] Energy consumed for RAM : 0.005020 kWh. RAM Power : 11.698370933532715 W\n",
      "[codecarbon INFO @ 23:17:01] Energy consumed for all GPUs : 0.151017 kWh. Total GPU Power : 350.369 W\n",
      "[codecarbon INFO @ 23:17:01] Energy consumed for all CPUs : 0.018239 kWh. Total CPU Power : 42.5 W\n",
      "[codecarbon INFO @ 23:17:01] 0.174276 kWh of electricity used since the beginning.\n",
      " 47%|████▋     | 94/200 [25:45<29:15, 16.56s/it]"
     ]
    },
    {
     "name": "stdout",
     "output_type": "stream",
     "text": [
      "{'loss': 0.0923, 'learning_rate': 0.000188, 'epoch': 0.71}\n"
     ]
    },
    {
     "name": "stderr",
     "output_type": "stream",
     "text": [
      "[codecarbon INFO @ 23:17:16] Energy consumed for RAM : 0.005068 kWh. RAM Power : 11.698370933532715 W\n",
      "[codecarbon INFO @ 23:17:16] Energy consumed for all GPUs : 0.152480 kWh. Total GPU Power : 351.19100000000003 W\n",
      "[codecarbon INFO @ 23:17:16] Energy consumed for all CPUs : 0.018416 kWh. Total CPU Power : 42.5 W\n",
      "[codecarbon INFO @ 23:17:16] 0.175965 kWh of electricity used since the beginning.\n",
      " 48%|████▊     | 95/200 [26:01<28:50, 16.48s/it]"
     ]
    },
    {
     "name": "stdout",
     "output_type": "stream",
     "text": [
      "{'loss': 0.0937, 'learning_rate': 0.00019, 'epoch': 0.72}\n"
     ]
    },
    {
     "name": "stderr",
     "output_type": "stream",
     "text": [
      "[codecarbon INFO @ 23:17:31] Energy consumed for RAM : 0.005117 kWh. RAM Power : 11.698370933532715 W\n",
      "[codecarbon INFO @ 23:17:31] Energy consumed for all GPUs : 0.153951 kWh. Total GPU Power : 352.998 W\n",
      "[codecarbon INFO @ 23:17:31] Energy consumed for all CPUs : 0.018593 kWh. Total CPU Power : 42.5 W\n",
      "[codecarbon INFO @ 23:17:31] 0.177662 kWh of electricity used since the beginning.\n",
      " 48%|████▊     | 96/200 [26:18<28:28, 16.42s/it]"
     ]
    },
    {
     "name": "stdout",
     "output_type": "stream",
     "text": [
      "{'loss': 0.0813, 'learning_rate': 0.000192, 'epoch': 0.73}\n"
     ]
    },
    {
     "name": "stderr",
     "output_type": "stream",
     "text": [
      "[codecarbon INFO @ 23:17:46] Energy consumed for RAM : 0.005166 kWh. RAM Power : 11.698370933532715 W\n",
      "[codecarbon INFO @ 23:17:46] Energy consumed for all GPUs : 0.155417 kWh. Total GPU Power : 351.915 W\n",
      "[codecarbon INFO @ 23:17:46] Energy consumed for all CPUs : 0.018771 kWh. Total CPU Power : 42.5 W\n",
      "[codecarbon INFO @ 23:17:46] 0.179353 kWh of electricity used since the beginning.\n",
      " 48%|████▊     | 97/200 [26:34<28:04, 16.36s/it]"
     ]
    },
    {
     "name": "stdout",
     "output_type": "stream",
     "text": [
      "{'loss': 0.0682, 'learning_rate': 0.000194, 'epoch': 0.74}\n"
     ]
    },
    {
     "name": "stderr",
     "output_type": "stream",
     "text": [
      "[codecarbon INFO @ 23:18:01] Energy consumed for RAM : 0.005215 kWh. RAM Power : 11.698370933532715 W\n",
      "[codecarbon INFO @ 23:18:01] Energy consumed for all GPUs : 0.156887 kWh. Total GPU Power : 352.882 W\n",
      "[codecarbon INFO @ 23:18:01] Energy consumed for all CPUs : 0.018948 kWh. Total CPU Power : 42.5 W\n",
      "[codecarbon INFO @ 23:18:01] 0.181049 kWh of electricity used since the beginning.\n",
      " 49%|████▉     | 98/200 [26:51<28:02, 16.49s/it]"
     ]
    },
    {
     "name": "stdout",
     "output_type": "stream",
     "text": [
      "{'loss': 0.0647, 'learning_rate': 0.000196, 'epoch': 0.75}\n"
     ]
    },
    {
     "name": "stderr",
     "output_type": "stream",
     "text": [
      "[codecarbon INFO @ 23:18:16] Energy consumed for RAM : 0.005263 kWh. RAM Power : 11.698370933532715 W\n",
      "[codecarbon INFO @ 23:18:16] Energy consumed for all GPUs : 0.158352 kWh. Total GPU Power : 351.515 W\n",
      "[codecarbon INFO @ 23:18:16] Energy consumed for all CPUs : 0.019125 kWh. Total CPU Power : 42.5 W\n",
      "[codecarbon INFO @ 23:18:16] 0.182740 kWh of electricity used since the beginning.\n",
      " 50%|████▉     | 99/200 [27:07<27:56, 16.60s/it]"
     ]
    },
    {
     "name": "stdout",
     "output_type": "stream",
     "text": [
      "{'loss': 0.0788, 'learning_rate': 0.00019800000000000002, 'epoch': 0.75}\n"
     ]
    },
    {
     "name": "stderr",
     "output_type": "stream",
     "text": [
      "[codecarbon INFO @ 23:18:31] Energy consumed for RAM : 0.005312 kWh. RAM Power : 11.698370933532715 W\n",
      "[codecarbon INFO @ 23:18:31] Energy consumed for all GPUs : 0.159813 kWh. Total GPU Power : 350.79 W\n",
      "[codecarbon INFO @ 23:18:31] Energy consumed for all CPUs : 0.019302 kWh. Total CPU Power : 42.5 W\n",
      "[codecarbon INFO @ 23:18:31] 0.184427 kWh of electricity used since the beginning.\n",
      " 50%|█████     | 100/200 [27:24<27:27, 16.48s/it]"
     ]
    },
    {
     "name": "stdout",
     "output_type": "stream",
     "text": [
      "{'loss': 0.0657, 'learning_rate': 0.0002, 'epoch': 0.76}\n"
     ]
    },
    {
     "name": "stderr",
     "output_type": "stream",
     "text": [
      "[codecarbon INFO @ 23:18:46] Energy consumed for RAM : 0.005361 kWh. RAM Power : 11.698370933532715 W\n",
      "[codecarbon INFO @ 23:18:46] Energy consumed for all GPUs : 0.161285 kWh. Total GPU Power : 353.237 W\n",
      "[codecarbon INFO @ 23:18:46] Energy consumed for all CPUs : 0.019479 kWh. Total CPU Power : 42.5 W\n",
      "[codecarbon INFO @ 23:18:46] 0.186124 kWh of electricity used since the beginning.\n",
      " 50%|█████     | 101/200 [27:40<27:03, 16.40s/it]"
     ]
    },
    {
     "name": "stdout",
     "output_type": "stream",
     "text": [
      "{'loss': 0.0708, 'learning_rate': 0.00019800000000000002, 'epoch': 0.77}\n"
     ]
    },
    {
     "name": "stderr",
     "output_type": "stream",
     "text": [
      "[codecarbon INFO @ 23:19:01] Energy consumed for RAM : 0.005409 kWh. RAM Power : 11.698370933532715 W\n",
      "[codecarbon INFO @ 23:19:01] Energy consumed for all GPUs : 0.162749 kWh. Total GPU Power : 351.423 W\n",
      "[codecarbon INFO @ 23:19:01] Energy consumed for all CPUs : 0.019656 kWh. Total CPU Power : 42.5 W\n",
      "[codecarbon INFO @ 23:19:01] 0.187814 kWh of electricity used since the beginning.\n",
      " 51%|█████     | 102/200 [27:56<26:42, 16.35s/it]"
     ]
    },
    {
     "name": "stdout",
     "output_type": "stream",
     "text": [
      "{'loss': 0.0741, 'learning_rate': 0.000196, 'epoch': 0.78}\n"
     ]
    },
    {
     "name": "stderr",
     "output_type": "stream",
     "text": [
      "[codecarbon INFO @ 23:19:16] Energy consumed for RAM : 0.005458 kWh. RAM Power : 11.698370933532715 W\n",
      "[codecarbon INFO @ 23:19:16] Energy consumed for all GPUs : 0.164214 kWh. Total GPU Power : 351.61400000000003 W\n",
      "[codecarbon INFO @ 23:19:16] Energy consumed for all CPUs : 0.019833 kWh. Total CPU Power : 42.5 W\n",
      "[codecarbon INFO @ 23:19:16] 0.189505 kWh of electricity used since the beginning.\n",
      " 52%|█████▏    | 103/200 [28:12<26:22, 16.31s/it]"
     ]
    },
    {
     "name": "stdout",
     "output_type": "stream",
     "text": [
      "{'loss': 0.0783, 'learning_rate': 0.000194, 'epoch': 0.78}\n"
     ]
    },
    {
     "name": "stderr",
     "output_type": "stream",
     "text": [
      "[codecarbon INFO @ 23:19:31] Energy consumed for RAM : 0.005507 kWh. RAM Power : 11.698370933532715 W\n",
      "[codecarbon INFO @ 23:19:31] Energy consumed for all GPUs : 0.165683 kWh. Total GPU Power : 352.731 W\n",
      "[codecarbon INFO @ 23:19:31] Energy consumed for all CPUs : 0.020010 kWh. Total CPU Power : 42.5 W\n",
      "[codecarbon INFO @ 23:19:31] 0.191200 kWh of electricity used since the beginning.\n",
      " 52%|█████▏    | 104/200 [28:29<26:09, 16.35s/it]"
     ]
    },
    {
     "name": "stdout",
     "output_type": "stream",
     "text": [
      "{'loss': 0.0773, 'learning_rate': 0.000192, 'epoch': 0.79}\n"
     ]
    },
    {
     "name": "stderr",
     "output_type": "stream",
     "text": [
      "[codecarbon INFO @ 23:19:46] Energy consumed for RAM : 0.005556 kWh. RAM Power : 11.698370933532715 W\n",
      "[codecarbon INFO @ 23:19:46] Energy consumed for all GPUs : 0.167152 kWh. Total GPU Power : 352.639 W\n",
      "[codecarbon INFO @ 23:19:46] Energy consumed for all CPUs : 0.020187 kWh. Total CPU Power : 42.5 W\n",
      "[codecarbon INFO @ 23:19:46] 0.192895 kWh of electricity used since the beginning.\n",
      "[codecarbon INFO @ 23:20:01] Energy consumed for RAM : 0.005604 kWh. RAM Power : 11.698370933532715 W\n",
      "[codecarbon INFO @ 23:20:01] Energy consumed for all GPUs : 0.168616 kWh. Total GPU Power : 351.4100000000001 W\n",
      "[codecarbon INFO @ 23:20:01] Energy consumed for all CPUs : 0.020364 kWh. Total CPU Power : 42.5 W\n",
      "[codecarbon INFO @ 23:20:01] 0.194585 kWh of electricity used since the beginning.\n",
      " 52%|█████▎    | 105/200 [28:45<26:00, 16.43s/it]"
     ]
    },
    {
     "name": "stdout",
     "output_type": "stream",
     "text": [
      "{'loss': 0.0765, 'learning_rate': 0.00019, 'epoch': 0.8}\n"
     ]
    },
    {
     "name": "stderr",
     "output_type": "stream",
     "text": [
      "[codecarbon INFO @ 23:20:16] Energy consumed for RAM : 0.005653 kWh. RAM Power : 11.698370933532715 W\n",
      "[codecarbon INFO @ 23:20:16] Energy consumed for all GPUs : 0.170087 kWh. Total GPU Power : 352.9700000000001 W\n",
      "[codecarbon INFO @ 23:20:16] Energy consumed for all CPUs : 0.020541 kWh. Total CPU Power : 42.5 W\n",
      "[codecarbon INFO @ 23:20:16] 0.196281 kWh of electricity used since the beginning.\n",
      " 53%|█████▎    | 106/200 [29:02<25:46, 16.45s/it]"
     ]
    },
    {
     "name": "stdout",
     "output_type": "stream",
     "text": [
      "{'loss': 0.0696, 'learning_rate': 0.000188, 'epoch': 0.81}\n"
     ]
    },
    {
     "name": "stderr",
     "output_type": "stream",
     "text": [
      "[codecarbon INFO @ 23:20:31] Energy consumed for RAM : 0.005702 kWh. RAM Power : 11.698370933532715 W\n",
      "[codecarbon INFO @ 23:20:31] Energy consumed for all GPUs : 0.171558 kWh. Total GPU Power : 353.06200000000007 W\n",
      "[codecarbon INFO @ 23:20:31] Energy consumed for all CPUs : 0.020718 kWh. Total CPU Power : 42.5 W\n",
      "[codecarbon INFO @ 23:20:31] 0.197978 kWh of electricity used since the beginning.\n",
      " 54%|█████▎    | 107/200 [29:18<25:30, 16.46s/it]"
     ]
    },
    {
     "name": "stdout",
     "output_type": "stream",
     "text": [
      "{'loss': 0.0603, 'learning_rate': 0.00018600000000000002, 'epoch': 0.81}\n"
     ]
    },
    {
     "name": "stderr",
     "output_type": "stream",
     "text": [
      "[codecarbon INFO @ 23:20:46] Energy consumed for RAM : 0.005751 kWh. RAM Power : 11.698370933532715 W\n",
      "[codecarbon INFO @ 23:20:46] Energy consumed for all GPUs : 0.173024 kWh. Total GPU Power : 352.08 W\n",
      "[codecarbon INFO @ 23:20:46] Energy consumed for all CPUs : 0.020896 kWh. Total CPU Power : 42.5 W\n",
      "[codecarbon INFO @ 23:20:46] 0.199670 kWh of electricity used since the beginning.\n",
      " 54%|█████▍    | 108/200 [29:35<25:15, 16.47s/it]"
     ]
    },
    {
     "name": "stdout",
     "output_type": "stream",
     "text": [
      "{'loss': 0.0533, 'learning_rate': 0.00018400000000000003, 'epoch': 0.82}\n"
     ]
    },
    {
     "name": "stderr",
     "output_type": "stream",
     "text": [
      "[codecarbon INFO @ 23:21:01] Energy consumed for RAM : 0.005799 kWh. RAM Power : 11.698370933532715 W\n",
      "[codecarbon INFO @ 23:21:01] Energy consumed for all GPUs : 0.174494 kWh. Total GPU Power : 352.746 W\n",
      "[codecarbon INFO @ 23:21:01] Energy consumed for all CPUs : 0.021073 kWh. Total CPU Power : 42.5 W\n",
      "[codecarbon INFO @ 23:21:01] 0.201366 kWh of electricity used since the beginning.\n",
      " 55%|█████▍    | 109/200 [29:51<24:54, 16.42s/it]"
     ]
    },
    {
     "name": "stdout",
     "output_type": "stream",
     "text": [
      "{'loss': 0.0816, 'learning_rate': 0.000182, 'epoch': 0.83}\n"
     ]
    },
    {
     "name": "stderr",
     "output_type": "stream",
     "text": [
      "[codecarbon INFO @ 23:21:16] Energy consumed for RAM : 0.005848 kWh. RAM Power : 11.698370933532715 W\n",
      "[codecarbon INFO @ 23:21:16] Energy consumed for all GPUs : 0.175961 kWh. Total GPU Power : 352.095 W\n",
      "[codecarbon INFO @ 23:21:16] Energy consumed for all CPUs : 0.021250 kWh. Total CPU Power : 42.5 W\n",
      "[codecarbon INFO @ 23:21:16] 0.203059 kWh of electricity used since the beginning.\n",
      " 55%|█████▌    | 110/200 [30:08<24:38, 16.43s/it]"
     ]
    },
    {
     "name": "stdout",
     "output_type": "stream",
     "text": [
      "{'loss': 0.0584, 'learning_rate': 0.00018, 'epoch': 0.84}\n"
     ]
    },
    {
     "name": "stderr",
     "output_type": "stream",
     "text": [
      "[codecarbon INFO @ 23:21:31] Energy consumed for RAM : 0.005897 kWh. RAM Power : 11.698370933532715 W\n",
      "[codecarbon INFO @ 23:21:31] Energy consumed for all GPUs : 0.177424 kWh. Total GPU Power : 351.25 W\n",
      "[codecarbon INFO @ 23:21:31] Energy consumed for all CPUs : 0.021427 kWh. Total CPU Power : 42.5 W\n",
      "[codecarbon INFO @ 23:21:31] 0.204748 kWh of electricity used since the beginning.\n",
      " 56%|█████▌    | 111/200 [30:24<24:26, 16.48s/it]"
     ]
    },
    {
     "name": "stdout",
     "output_type": "stream",
     "text": [
      "{'loss': 0.0794, 'learning_rate': 0.00017800000000000002, 'epoch': 0.84}\n"
     ]
    },
    {
     "name": "stderr",
     "output_type": "stream",
     "text": [
      "[codecarbon INFO @ 23:21:46] Energy consumed for RAM : 0.005946 kWh. RAM Power : 11.698370933532715 W\n",
      "[codecarbon INFO @ 23:21:46] Energy consumed for all GPUs : 0.178898 kWh. Total GPU Power : 353.7 W\n",
      "[codecarbon INFO @ 23:21:46] Energy consumed for all CPUs : 0.021604 kWh. Total CPU Power : 42.5 W\n",
      "[codecarbon INFO @ 23:21:46] 0.206447 kWh of electricity used since the beginning.\n",
      " 56%|█████▌    | 112/200 [30:41<24:11, 16.49s/it]"
     ]
    },
    {
     "name": "stdout",
     "output_type": "stream",
     "text": [
      "{'loss': 0.0662, 'learning_rate': 0.00017600000000000002, 'epoch': 0.85}\n"
     ]
    },
    {
     "name": "stderr",
     "output_type": "stream",
     "text": [
      "[codecarbon INFO @ 23:22:01] Energy consumed for RAM : 0.005994 kWh. RAM Power : 11.698370933532715 W\n",
      "[codecarbon INFO @ 23:22:01] Energy consumed for all GPUs : 0.180358 kWh. Total GPU Power : 350.5010000000001 W\n",
      "[codecarbon INFO @ 23:22:01] Energy consumed for all CPUs : 0.021781 kWh. Total CPU Power : 42.5 W\n",
      "[codecarbon INFO @ 23:22:01] 0.208133 kWh of electricity used since the beginning.\n",
      " 56%|█████▋    | 113/200 [30:57<23:51, 16.45s/it]"
     ]
    },
    {
     "name": "stdout",
     "output_type": "stream",
     "text": [
      "{'loss': 0.0577, 'learning_rate': 0.000174, 'epoch': 0.86}\n"
     ]
    },
    {
     "name": "stderr",
     "output_type": "stream",
     "text": [
      "[codecarbon INFO @ 23:22:16] Energy consumed for RAM : 0.006043 kWh. RAM Power : 11.698370933532715 W\n",
      "[codecarbon INFO @ 23:22:16] Energy consumed for all GPUs : 0.181820 kWh. Total GPU Power : 350.98900000000003 W\n",
      "[codecarbon INFO @ 23:22:16] Energy consumed for all CPUs : 0.021958 kWh. Total CPU Power : 42.5 W\n",
      "[codecarbon INFO @ 23:22:16] 0.209821 kWh of electricity used since the beginning.\n",
      " 57%|█████▋    | 114/200 [31:13<23:32, 16.42s/it]"
     ]
    },
    {
     "name": "stdout",
     "output_type": "stream",
     "text": [
      "{'loss': 0.0777, 'learning_rate': 0.000172, 'epoch': 0.87}\n"
     ]
    },
    {
     "name": "stderr",
     "output_type": "stream",
     "text": [
      "[codecarbon INFO @ 23:22:31] Energy consumed for RAM : 0.006092 kWh. RAM Power : 11.698370933532715 W\n",
      "[codecarbon INFO @ 23:22:31] Energy consumed for all GPUs : 0.183287 kWh. Total GPU Power : 352.07 W\n",
      "[codecarbon INFO @ 23:22:31] Energy consumed for all CPUs : 0.022135 kWh. Total CPU Power : 42.5 W\n",
      "[codecarbon INFO @ 23:22:31] 0.211514 kWh of electricity used since the beginning.\n",
      "[codecarbon INFO @ 23:22:46] Energy consumed for RAM : 0.006140 kWh. RAM Power : 11.698370933532715 W\n",
      "[codecarbon INFO @ 23:22:46] Energy consumed for all GPUs : 0.184753 kWh. Total GPU Power : 351.866 W\n",
      "[codecarbon INFO @ 23:22:46] Energy consumed for all CPUs : 0.022312 kWh. Total CPU Power : 42.5 W\n",
      "[codecarbon INFO @ 23:22:46] 0.213205 kWh of electricity used since the beginning.\n",
      " 57%|█████▊    | 115/200 [31:30<23:10, 16.36s/it]"
     ]
    },
    {
     "name": "stdout",
     "output_type": "stream",
     "text": [
      "{'loss': 0.0682, 'learning_rate': 0.00017, 'epoch': 0.87}\n"
     ]
    },
    {
     "name": "stderr",
     "output_type": "stream",
     "text": [
      "[codecarbon INFO @ 23:23:01] Energy consumed for RAM : 0.006189 kWh. RAM Power : 11.698370933532715 W\n",
      "[codecarbon INFO @ 23:23:01] Energy consumed for all GPUs : 0.186217 kWh. Total GPU Power : 351.413 W\n",
      "[codecarbon INFO @ 23:23:01] Energy consumed for all CPUs : 0.022489 kWh. Total CPU Power : 42.5 W\n",
      "[codecarbon INFO @ 23:23:01] 0.214895 kWh of electricity used since the beginning.\n",
      " 58%|█████▊    | 116/200 [31:46<22:49, 16.30s/it]"
     ]
    },
    {
     "name": "stdout",
     "output_type": "stream",
     "text": [
      "{'loss': 0.0745, 'learning_rate': 0.000168, 'epoch': 0.88}\n"
     ]
    },
    {
     "name": "stderr",
     "output_type": "stream",
     "text": [
      "[codecarbon INFO @ 23:23:16] Energy consumed for RAM : 0.006238 kWh. RAM Power : 11.698370933532715 W\n",
      "[codecarbon INFO @ 23:23:16] Energy consumed for all GPUs : 0.187684 kWh. Total GPU Power : 352.25900000000007 W\n",
      "[codecarbon INFO @ 23:23:16] Energy consumed for all CPUs : 0.022666 kWh. Total CPU Power : 42.5 W\n",
      "[codecarbon INFO @ 23:23:16] 0.216589 kWh of electricity used since the beginning.\n",
      " 58%|█████▊    | 117/200 [32:02<22:31, 16.28s/it]"
     ]
    },
    {
     "name": "stdout",
     "output_type": "stream",
     "text": [
      "{'loss': 0.0898, 'learning_rate': 0.000166, 'epoch': 0.89}\n"
     ]
    },
    {
     "name": "stderr",
     "output_type": "stream",
     "text": [
      "[codecarbon INFO @ 23:23:31] Energy consumed for RAM : 0.006287 kWh. RAM Power : 11.698370933532715 W\n",
      "[codecarbon INFO @ 23:23:31] Energy consumed for all GPUs : 0.189143 kWh. Total GPU Power : 350.043 W\n",
      "[codecarbon INFO @ 23:23:31] Energy consumed for all CPUs : 0.022843 kWh. Total CPU Power : 42.5 W\n",
      "[codecarbon INFO @ 23:23:31] 0.218273 kWh of electricity used since the beginning.\n",
      " 59%|█████▉    | 118/200 [32:19<22:27, 16.43s/it]"
     ]
    },
    {
     "name": "stdout",
     "output_type": "stream",
     "text": [
      "{'loss': 0.0652, 'learning_rate': 0.000164, 'epoch': 0.9}\n"
     ]
    },
    {
     "name": "stderr",
     "output_type": "stream",
     "text": [
      "[codecarbon INFO @ 23:23:46] Energy consumed for RAM : 0.006335 kWh. RAM Power : 11.698370933532715 W\n",
      "[codecarbon INFO @ 23:23:46] Energy consumed for all GPUs : 0.190607 kWh. Total GPU Power : 351.432 W\n",
      "[codecarbon INFO @ 23:23:46] Energy consumed for all CPUs : 0.023020 kWh. Total CPU Power : 42.5 W\n",
      "[codecarbon INFO @ 23:23:46] 0.219963 kWh of electricity used since the beginning.\n",
      " 60%|█████▉    | 119/200 [32:35<22:08, 16.41s/it]"
     ]
    },
    {
     "name": "stdout",
     "output_type": "stream",
     "text": [
      "{'loss': 0.0609, 'learning_rate': 0.000162, 'epoch': 0.9}\n"
     ]
    },
    {
     "name": "stderr",
     "output_type": "stream",
     "text": [
      "[codecarbon INFO @ 23:24:01] Energy consumed for RAM : 0.006384 kWh. RAM Power : 11.698370933532715 W\n",
      "[codecarbon INFO @ 23:24:01] Energy consumed for all GPUs : 0.192081 kWh. Total GPU Power : 353.886 W\n",
      "[codecarbon INFO @ 23:24:01] Energy consumed for all CPUs : 0.023198 kWh. Total CPU Power : 42.5 W\n",
      "[codecarbon INFO @ 23:24:01] 0.221663 kWh of electricity used since the beginning.\n",
      " 60%|██████    | 120/200 [32:51<21:49, 16.37s/it]"
     ]
    },
    {
     "name": "stdout",
     "output_type": "stream",
     "text": [
      "{'loss': 0.084, 'learning_rate': 0.00016, 'epoch': 0.91}\n"
     ]
    },
    {
     "name": "stderr",
     "output_type": "stream",
     "text": [
      "[codecarbon INFO @ 23:24:16] Energy consumed for RAM : 0.006433 kWh. RAM Power : 11.698370933532715 W\n",
      "[codecarbon INFO @ 23:24:16] Energy consumed for all GPUs : 0.193540 kWh. Total GPU Power : 350.096 W\n",
      "[codecarbon INFO @ 23:24:16] Energy consumed for all CPUs : 0.023375 kWh. Total CPU Power : 42.5 W\n",
      "[codecarbon INFO @ 23:24:16] 0.223347 kWh of electricity used since the beginning.\n",
      " 60%|██████    | 121/200 [33:08<21:36, 16.41s/it]"
     ]
    },
    {
     "name": "stdout",
     "output_type": "stream",
     "text": [
      "{'loss': 0.0567, 'learning_rate': 0.00015800000000000002, 'epoch': 0.92}\n"
     ]
    },
    {
     "name": "stderr",
     "output_type": "stream",
     "text": [
      "[codecarbon INFO @ 23:24:31] Energy consumed for RAM : 0.006482 kWh. RAM Power : 11.698370933532715 W\n",
      "[codecarbon INFO @ 23:24:31] Energy consumed for all GPUs : 0.195005 kWh. Total GPU Power : 351.766 W\n",
      "[codecarbon INFO @ 23:24:31] Energy consumed for all CPUs : 0.023552 kWh. Total CPU Power : 42.5 W\n",
      "[codecarbon INFO @ 23:24:31] 0.225038 kWh of electricity used since the beginning.\n",
      " 61%|██████    | 122/200 [33:24<21:16, 16.36s/it]"
     ]
    },
    {
     "name": "stdout",
     "output_type": "stream",
     "text": [
      "{'loss': 0.0643, 'learning_rate': 0.00015600000000000002, 'epoch': 0.93}\n"
     ]
    },
    {
     "name": "stderr",
     "output_type": "stream",
     "text": [
      "[codecarbon INFO @ 23:24:46] Energy consumed for RAM : 0.006530 kWh. RAM Power : 11.698370933532715 W\n",
      "[codecarbon INFO @ 23:24:46] Energy consumed for all GPUs : 0.196483 kWh. Total GPU Power : 354.81 W\n",
      "[codecarbon INFO @ 23:24:46] Energy consumed for all CPUs : 0.023729 kWh. Total CPU Power : 42.5 W\n",
      "[codecarbon INFO @ 23:24:46] 0.226742 kWh of electricity used since the beginning.\n",
      " 62%|██████▏   | 123/200 [33:41<21:02, 16.39s/it]"
     ]
    },
    {
     "name": "stdout",
     "output_type": "stream",
     "text": [
      "{'loss': 0.0654, 'learning_rate': 0.000154, 'epoch': 0.94}\n"
     ]
    },
    {
     "name": "stderr",
     "output_type": "stream",
     "text": [
      "[codecarbon INFO @ 23:25:01] Energy consumed for RAM : 0.006579 kWh. RAM Power : 11.698370933532715 W\n",
      "[codecarbon INFO @ 23:25:01] Energy consumed for all GPUs : 0.197942 kWh. Total GPU Power : 350.253 W\n",
      "[codecarbon INFO @ 23:25:01] Energy consumed for all CPUs : 0.023906 kWh. Total CPU Power : 42.5 W\n",
      "[codecarbon INFO @ 23:25:01] 0.228427 kWh of electricity used since the beginning.\n",
      " 62%|██████▏   | 124/200 [33:57<20:40, 16.33s/it]"
     ]
    },
    {
     "name": "stdout",
     "output_type": "stream",
     "text": [
      "{'loss': 0.0588, 'learning_rate': 0.000152, 'epoch': 0.94}\n"
     ]
    },
    {
     "name": "stderr",
     "output_type": "stream",
     "text": [
      "[codecarbon INFO @ 23:25:16] Energy consumed for RAM : 0.006628 kWh. RAM Power : 11.698370933532715 W\n",
      "[codecarbon INFO @ 23:25:16] Energy consumed for all GPUs : 0.199406 kWh. Total GPU Power : 351.338 W\n",
      "[codecarbon INFO @ 23:25:16] Energy consumed for all CPUs : 0.024083 kWh. Total CPU Power : 42.5 W\n",
      "[codecarbon INFO @ 23:25:16] 0.230117 kWh of electricity used since the beginning.\n",
      " 62%|██████▎   | 125/200 [34:13<20:21, 16.29s/it]"
     ]
    },
    {
     "name": "stdout",
     "output_type": "stream",
     "text": [
      "{'loss': 0.1013, 'learning_rate': 0.00015000000000000001, 'epoch': 0.95}\n"
     ]
    },
    {
     "name": "stderr",
     "output_type": "stream",
     "text": [
      "[codecarbon INFO @ 23:25:31] Energy consumed for RAM : 0.006677 kWh. RAM Power : 11.698370933532715 W\n",
      "[codecarbon INFO @ 23:25:31] Energy consumed for all GPUs : 0.200874 kWh. Total GPU Power : 352.447 W\n",
      "[codecarbon INFO @ 23:25:31] Energy consumed for all CPUs : 0.024260 kWh. Total CPU Power : 42.5 W\n",
      "[codecarbon INFO @ 23:25:31] 0.231811 kWh of electricity used since the beginning.\n",
      " 63%|██████▎   | 126/200 [34:29<20:00, 16.23s/it]"
     ]
    },
    {
     "name": "stdout",
     "output_type": "stream",
     "text": [
      "{'loss': 0.072, 'learning_rate': 0.000148, 'epoch': 0.96}\n"
     ]
    },
    {
     "name": "stderr",
     "output_type": "stream",
     "text": [
      "[codecarbon INFO @ 23:25:46] Energy consumed for RAM : 0.006725 kWh. RAM Power : 11.698370933532715 W\n",
      "[codecarbon INFO @ 23:25:46] Energy consumed for all GPUs : 0.202338 kWh. Total GPU Power : 351.469 W\n",
      "[codecarbon INFO @ 23:25:46] Energy consumed for all CPUs : 0.024437 kWh. Total CPU Power : 42.5 W\n",
      "[codecarbon INFO @ 23:25:46] 0.233501 kWh of electricity used since the beginning.\n",
      "[codecarbon INFO @ 23:26:01] Energy consumed for RAM : 0.006774 kWh. RAM Power : 11.698370933532715 W\n",
      "[codecarbon INFO @ 23:26:01] Energy consumed for all GPUs : 0.203801 kWh. Total GPU Power : 351.132 W\n",
      "[codecarbon INFO @ 23:26:01] Energy consumed for all CPUs : 0.024614 kWh. Total CPU Power : 42.5 W\n",
      "[codecarbon INFO @ 23:26:01] 0.235190 kWh of electricity used since the beginning.\n",
      " 64%|██████▎   | 127/200 [34:45<19:47, 16.26s/it]"
     ]
    },
    {
     "name": "stdout",
     "output_type": "stream",
     "text": [
      "{'loss': 0.0772, 'learning_rate': 0.000146, 'epoch': 0.97}\n"
     ]
    },
    {
     "name": "stderr",
     "output_type": "stream",
     "text": [
      "[codecarbon INFO @ 23:26:16] Energy consumed for RAM : 0.006823 kWh. RAM Power : 11.698370933532715 W\n",
      "[codecarbon INFO @ 23:26:16] Energy consumed for all GPUs : 0.205264 kWh. Total GPU Power : 351.019 W\n",
      "[codecarbon INFO @ 23:26:16] Energy consumed for all CPUs : 0.024791 kWh. Total CPU Power : 42.5 W\n",
      "[codecarbon INFO @ 23:26:16] 0.236878 kWh of electricity used since the beginning.\n",
      " 64%|██████▍   | 128/200 [35:02<19:31, 16.27s/it]"
     ]
    },
    {
     "name": "stdout",
     "output_type": "stream",
     "text": [
      "{'loss': 0.0723, 'learning_rate': 0.000144, 'epoch': 0.97}\n"
     ]
    },
    {
     "name": "stderr",
     "output_type": "stream",
     "text": [
      "[codecarbon INFO @ 23:26:31] Energy consumed for RAM : 0.006871 kWh. RAM Power : 11.698370933532715 W\n",
      "[codecarbon INFO @ 23:26:31] Energy consumed for all GPUs : 0.206730 kWh. Total GPU Power : 351.97700000000003 W\n",
      "[codecarbon INFO @ 23:26:31] Energy consumed for all CPUs : 0.024968 kWh. Total CPU Power : 42.5 W\n",
      "[codecarbon INFO @ 23:26:31] 0.238570 kWh of electricity used since the beginning.\n",
      " 64%|██████▍   | 129/200 [35:18<19:16, 16.29s/it]"
     ]
    },
    {
     "name": "stdout",
     "output_type": "stream",
     "text": [
      "{'loss': 0.0514, 'learning_rate': 0.000142, 'epoch': 0.98}\n"
     ]
    },
    {
     "name": "stderr",
     "output_type": "stream",
     "text": [
      "[codecarbon INFO @ 23:26:46] Energy consumed for RAM : 0.006920 kWh. RAM Power : 11.698370933532715 W\n",
      "[codecarbon INFO @ 23:26:46] Energy consumed for all GPUs : 0.208196 kWh. Total GPU Power : 351.786 W\n",
      "[codecarbon INFO @ 23:26:46] Energy consumed for all CPUs : 0.025145 kWh. Total CPU Power : 42.5 W\n",
      "[codecarbon INFO @ 23:26:46] 0.240261 kWh of electricity used since the beginning.\n",
      " 65%|██████▌   | 130/200 [35:34<18:57, 16.25s/it]"
     ]
    },
    {
     "name": "stdout",
     "output_type": "stream",
     "text": [
      "{'loss': 0.0496, 'learning_rate': 0.00014, 'epoch': 0.99}\n"
     ]
    },
    {
     "name": "stderr",
     "output_type": "stream",
     "text": [
      "[codecarbon INFO @ 23:27:01] Energy consumed for RAM : 0.006969 kWh. RAM Power : 11.698370933532715 W\n",
      "[codecarbon INFO @ 23:27:01] Energy consumed for all GPUs : 0.209664 kWh. Total GPU Power : 352.33500000000004 W\n",
      "[codecarbon INFO @ 23:27:01] Energy consumed for all CPUs : 0.025323 kWh. Total CPU Power : 42.5 W\n",
      "[codecarbon INFO @ 23:27:01] 0.241955 kWh of electricity used since the beginning.\n",
      " 66%|██████▌   | 131/200 [35:51<18:41, 16.26s/it]"
     ]
    },
    {
     "name": "stdout",
     "output_type": "stream",
     "text": [
      "{'loss': 0.0517, 'learning_rate': 0.000138, 'epoch': 1.0}\n"
     ]
    },
    {
     "name": "stderr",
     "output_type": "stream",
     "text": [
      "[codecarbon INFO @ 23:27:16] Energy consumed for RAM : 0.007018 kWh. RAM Power : 11.698370933532715 W\n",
      "[codecarbon INFO @ 23:27:16] Energy consumed for all GPUs : 0.211133 kWh. Total GPU Power : 352.645 W\n",
      "[codecarbon INFO @ 23:27:16] Energy consumed for all CPUs : 0.025500 kWh. Total CPU Power : 42.5 W\n",
      "[codecarbon INFO @ 23:27:16] 0.243650 kWh of electricity used since the beginning.\n",
      " 66%|██████▌   | 132/200 [36:06<18:06, 15.98s/it]"
     ]
    },
    {
     "name": "stdout",
     "output_type": "stream",
     "text": [
      "{'loss': 0.0686, 'learning_rate': 0.00013600000000000003, 'epoch': 1.0}\n"
     ]
    },
    {
     "name": "stderr",
     "output_type": "stream",
     "text": [
      "[codecarbon INFO @ 23:27:31] Energy consumed for RAM : 0.007066 kWh. RAM Power : 11.698370933532715 W\n",
      "[codecarbon INFO @ 23:27:31] Energy consumed for all GPUs : 0.212602 kWh. Total GPU Power : 352.782 W\n",
      "[codecarbon INFO @ 23:27:31] Energy consumed for all CPUs : 0.025677 kWh. Total CPU Power : 42.5 W\n",
      "[codecarbon INFO @ 23:27:31] 0.245346 kWh of electricity used since the beginning.\n",
      " 66%|██████▋   | 133/200 [36:22<18:02, 16.15s/it]"
     ]
    },
    {
     "name": "stdout",
     "output_type": "stream",
     "text": [
      "{'loss': 0.0646, 'learning_rate': 0.000134, 'epoch': 1.01}\n"
     ]
    },
    {
     "name": "stderr",
     "output_type": "stream",
     "text": [
      "[codecarbon INFO @ 23:27:46] Energy consumed for RAM : 0.007115 kWh. RAM Power : 11.698370933532715 W\n",
      "[codecarbon INFO @ 23:27:46] Energy consumed for all GPUs : 0.214067 kWh. Total GPU Power : 351.587 W\n",
      "[codecarbon INFO @ 23:27:46] Energy consumed for all CPUs : 0.025854 kWh. Total CPU Power : 42.5 W\n",
      "[codecarbon INFO @ 23:27:46] 0.247036 kWh of electricity used since the beginning.\n",
      " 67%|██████▋   | 134/200 [36:39<17:53, 16.27s/it]"
     ]
    },
    {
     "name": "stdout",
     "output_type": "stream",
     "text": [
      "{'loss': 0.0655, 'learning_rate': 0.000132, 'epoch': 1.02}\n"
     ]
    },
    {
     "name": "stderr",
     "output_type": "stream",
     "text": [
      "[codecarbon INFO @ 23:28:01] Energy consumed for RAM : 0.007164 kWh. RAM Power : 11.698370933532715 W\n",
      "[codecarbon INFO @ 23:28:01] Energy consumed for all GPUs : 0.215540 kWh. Total GPU Power : 353.61400000000003 W\n",
      "[codecarbon INFO @ 23:28:01] Energy consumed for all CPUs : 0.026031 kWh. Total CPU Power : 42.5 W\n",
      "[codecarbon INFO @ 23:28:01] 0.248735 kWh of electricity used since the beginning.\n",
      " 68%|██████▊   | 135/200 [36:55<17:38, 16.29s/it]"
     ]
    },
    {
     "name": "stdout",
     "output_type": "stream",
     "text": [
      "{'loss': 0.0636, 'learning_rate': 0.00013000000000000002, 'epoch': 1.03}\n"
     ]
    },
    {
     "name": "stderr",
     "output_type": "stream",
     "text": [
      "[codecarbon INFO @ 23:28:16] Energy consumed for RAM : 0.007213 kWh. RAM Power : 11.698370933532715 W\n",
      "[codecarbon INFO @ 23:28:16] Energy consumed for all GPUs : 0.217004 kWh. Total GPU Power : 351.377 W\n",
      "[codecarbon INFO @ 23:28:16] Energy consumed for all CPUs : 0.026208 kWh. Total CPU Power : 42.5 W\n",
      "[codecarbon INFO @ 23:28:16] 0.250425 kWh of electricity used since the beginning.\n",
      " 68%|██████▊   | 136/200 [37:12<17:24, 16.33s/it]"
     ]
    },
    {
     "name": "stdout",
     "output_type": "stream",
     "text": [
      "{'loss': 0.0645, 'learning_rate': 0.00012800000000000002, 'epoch': 1.03}\n"
     ]
    },
    {
     "name": "stderr",
     "output_type": "stream",
     "text": [
      "[codecarbon INFO @ 23:28:31] Energy consumed for RAM : 0.007261 kWh. RAM Power : 11.698370933532715 W\n",
      "[codecarbon INFO @ 23:28:31] Energy consumed for all GPUs : 0.218463 kWh. Total GPU Power : 350.265 W\n",
      "[codecarbon INFO @ 23:28:31] Energy consumed for all CPUs : 0.026385 kWh. Total CPU Power : 42.5 W\n",
      "[codecarbon INFO @ 23:28:31] 0.252110 kWh of electricity used since the beginning.\n",
      " 68%|██████▊   | 137/200 [37:28<17:10, 16.36s/it]"
     ]
    },
    {
     "name": "stdout",
     "output_type": "stream",
     "text": [
      "{'loss': 0.0648, 'learning_rate': 0.000126, 'epoch': 1.04}\n"
     ]
    },
    {
     "name": "stderr",
     "output_type": "stream",
     "text": [
      "[codecarbon INFO @ 23:28:46] Energy consumed for RAM : 0.007310 kWh. RAM Power : 11.698370933532715 W\n",
      "[codecarbon INFO @ 23:28:46] Energy consumed for all GPUs : 0.219936 kWh. Total GPU Power : 353.433 W\n",
      "[codecarbon INFO @ 23:28:46] Energy consumed for all CPUs : 0.026562 kWh. Total CPU Power : 42.5 W\n",
      "[codecarbon INFO @ 23:28:46] 0.253808 kWh of electricity used since the beginning.\n",
      " 69%|██████▉   | 138/200 [37:44<16:53, 16.35s/it][codecarbon INFO @ 23:29:01] Energy consumed for RAM : 0.007359 kWh. RAM Power : 11.698370933532715 W\n",
      "[codecarbon INFO @ 23:29:01] Energy consumed for all GPUs : 0.221402 kWh. Total GPU Power : 351.913 W\n",
      "[codecarbon INFO @ 23:29:01] Energy consumed for all CPUs : 0.026739 kWh. Total CPU Power : 42.5 W\n",
      "[codecarbon INFO @ 23:29:01] 0.255500 kWh of electricity used since the beginning.\n"
     ]
    },
    {
     "name": "stdout",
     "output_type": "stream",
     "text": [
      "{'loss': 0.0622, 'learning_rate': 0.000124, 'epoch': 1.05}\n"
     ]
    },
    {
     "name": "stderr",
     "output_type": "stream",
     "text": [
      "[codecarbon INFO @ 23:29:16] Energy consumed for RAM : 0.007408 kWh. RAM Power : 11.698370933532715 W\n",
      "[codecarbon INFO @ 23:29:16] Energy consumed for all GPUs : 0.222863 kWh. Total GPU Power : 350.705 W\n",
      "[codecarbon INFO @ 23:29:16] Energy consumed for all CPUs : 0.026916 kWh. Total CPU Power : 42.5 W\n",
      "[codecarbon INFO @ 23:29:16] 0.257187 kWh of electricity used since the beginning.\n",
      " 70%|██████▉   | 139/200 [38:01<16:35, 16.31s/it]"
     ]
    },
    {
     "name": "stdout",
     "output_type": "stream",
     "text": [
      "{'loss': 0.064, 'learning_rate': 0.000122, 'epoch': 1.06}\n"
     ]
    },
    {
     "name": "stderr",
     "output_type": "stream",
     "text": [
      "[codecarbon INFO @ 23:29:31] Energy consumed for RAM : 0.007456 kWh. RAM Power : 11.698370933532715 W\n",
      "[codecarbon INFO @ 23:29:31] Energy consumed for all GPUs : 0.224326 kWh. Total GPU Power : 351.17400000000004 W\n",
      "[codecarbon INFO @ 23:29:31] Energy consumed for all CPUs : 0.027093 kWh. Total CPU Power : 42.5 W\n",
      "[codecarbon INFO @ 23:29:31] 0.258876 kWh of electricity used since the beginning.\n",
      " 70%|███████   | 140/200 [38:17<16:17, 16.29s/it]"
     ]
    },
    {
     "name": "stdout",
     "output_type": "stream",
     "text": [
      "{'loss': 0.0802, 'learning_rate': 0.00012, 'epoch': 1.06}\n"
     ]
    },
    {
     "name": "stderr",
     "output_type": "stream",
     "text": [
      "[codecarbon INFO @ 23:29:46] Energy consumed for RAM : 0.007505 kWh. RAM Power : 11.698370933532715 W\n",
      "[codecarbon INFO @ 23:29:46] Energy consumed for all GPUs : 0.225797 kWh. Total GPU Power : 353.04200000000003 W\n",
      "[codecarbon INFO @ 23:29:46] Energy consumed for all CPUs : 0.027270 kWh. Total CPU Power : 42.5 W\n",
      "[codecarbon INFO @ 23:29:46] 0.260572 kWh of electricity used since the beginning.\n",
      " 70%|███████   | 141/200 [38:33<16:00, 16.27s/it]"
     ]
    },
    {
     "name": "stdout",
     "output_type": "stream",
     "text": [
      "{'loss': 0.055, 'learning_rate': 0.000118, 'epoch': 1.07}\n"
     ]
    },
    {
     "name": "stderr",
     "output_type": "stream",
     "text": [
      "[codecarbon INFO @ 23:30:01] Energy consumed for RAM : 0.007554 kWh. RAM Power : 11.698370933532715 W\n",
      "[codecarbon INFO @ 23:30:01] Energy consumed for all GPUs : 0.227255 kWh. Total GPU Power : 350.06 W\n",
      "[codecarbon INFO @ 23:30:01] Energy consumed for all CPUs : 0.027448 kWh. Total CPU Power : 42.5 W\n",
      "[codecarbon INFO @ 23:30:01] 0.262256 kWh of electricity used since the beginning.\n",
      " 71%|███████   | 142/200 [38:49<15:43, 16.27s/it]"
     ]
    },
    {
     "name": "stdout",
     "output_type": "stream",
     "text": [
      "{'loss': 0.0552, 'learning_rate': 0.000116, 'epoch': 1.08}\n"
     ]
    },
    {
     "name": "stderr",
     "output_type": "stream",
     "text": [
      "[codecarbon INFO @ 23:30:16] Energy consumed for RAM : 0.007602 kWh. RAM Power : 11.698370933532715 W\n",
      "[codecarbon INFO @ 23:30:16] Energy consumed for all GPUs : 0.228722 kWh. Total GPU Power : 352.12200000000007 W\n",
      "[codecarbon INFO @ 23:30:16] Energy consumed for all CPUs : 0.027625 kWh. Total CPU Power : 42.5 W\n",
      "[codecarbon INFO @ 23:30:16] 0.263949 kWh of electricity used since the beginning.\n",
      " 72%|███████▏  | 143/200 [39:06<15:26, 16.26s/it]"
     ]
    },
    {
     "name": "stdout",
     "output_type": "stream",
     "text": [
      "{'loss': 0.0521, 'learning_rate': 0.00011399999999999999, 'epoch': 1.09}\n"
     ]
    },
    {
     "name": "stderr",
     "output_type": "stream",
     "text": [
      "[codecarbon INFO @ 23:30:31] Energy consumed for RAM : 0.007651 kWh. RAM Power : 11.698370933532715 W\n",
      "[codecarbon INFO @ 23:30:31] Energy consumed for all GPUs : 0.230189 kWh. Total GPU Power : 352.064 W\n",
      "[codecarbon INFO @ 23:30:31] Energy consumed for all CPUs : 0.027802 kWh. Total CPU Power : 42.5 W\n",
      "[codecarbon INFO @ 23:30:31] 0.265642 kWh of electricity used since the beginning.\n",
      " 72%|███████▏  | 144/200 [39:22<15:11, 16.28s/it]"
     ]
    },
    {
     "name": "stdout",
     "output_type": "stream",
     "text": [
      "{'loss': 0.0548, 'learning_rate': 0.00011200000000000001, 'epoch': 1.1}\n"
     ]
    },
    {
     "name": "stderr",
     "output_type": "stream",
     "text": [
      "[codecarbon INFO @ 23:30:46] Energy consumed for RAM : 0.007700 kWh. RAM Power : 11.698370933532715 W\n",
      "[codecarbon INFO @ 23:30:46] Energy consumed for all GPUs : 0.231652 kWh. Total GPU Power : 351.19100000000003 W\n",
      "[codecarbon INFO @ 23:30:46] Energy consumed for all CPUs : 0.027979 kWh. Total CPU Power : 42.5 W\n",
      "[codecarbon INFO @ 23:30:46] 0.267331 kWh of electricity used since the beginning.\n",
      " 72%|███████▎  | 145/200 [39:38<14:55, 16.28s/it]"
     ]
    },
    {
     "name": "stdout",
     "output_type": "stream",
     "text": [
      "{'loss': 0.0608, 'learning_rate': 0.00011000000000000002, 'epoch': 1.1}\n"
     ]
    },
    {
     "name": "stderr",
     "output_type": "stream",
     "text": [
      "[codecarbon INFO @ 23:31:01] Energy consumed for RAM : 0.007749 kWh. RAM Power : 11.698370933532715 W\n",
      "[codecarbon INFO @ 23:31:01] Energy consumed for all GPUs : 0.233117 kWh. Total GPU Power : 351.62200000000007 W\n",
      "[codecarbon INFO @ 23:31:01] Energy consumed for all CPUs : 0.028156 kWh. Total CPU Power : 42.5 W\n",
      "[codecarbon INFO @ 23:31:01] 0.269021 kWh of electricity used since the beginning.\n",
      " 73%|███████▎  | 146/200 [39:55<14:43, 16.35s/it]"
     ]
    },
    {
     "name": "stdout",
     "output_type": "stream",
     "text": [
      "{'loss': 0.0746, 'learning_rate': 0.00010800000000000001, 'epoch': 1.11}\n"
     ]
    },
    {
     "name": "stderr",
     "output_type": "stream",
     "text": [
      "[codecarbon INFO @ 23:31:16] Energy consumed for RAM : 0.007797 kWh. RAM Power : 11.698370933532715 W\n",
      "[codecarbon INFO @ 23:31:16] Energy consumed for all GPUs : 0.234585 kWh. Total GPU Power : 352.502 W\n",
      "[codecarbon INFO @ 23:31:16] Energy consumed for all CPUs : 0.028333 kWh. Total CPU Power : 42.5 W\n",
      "[codecarbon INFO @ 23:31:16] 0.270716 kWh of electricity used since the beginning.\n",
      " 74%|███████▎  | 147/200 [40:11<14:24, 16.31s/it]"
     ]
    },
    {
     "name": "stdout",
     "output_type": "stream",
     "text": [
      "{'loss': 0.0582, 'learning_rate': 0.00010600000000000002, 'epoch': 1.12}\n"
     ]
    },
    {
     "name": "stderr",
     "output_type": "stream",
     "text": [
      "[codecarbon INFO @ 23:31:31] Energy consumed for RAM : 0.007846 kWh. RAM Power : 11.698370933532715 W\n",
      "[codecarbon INFO @ 23:31:31] Energy consumed for all GPUs : 0.236046 kWh. Total GPU Power : 350.564 W\n",
      "[codecarbon INFO @ 23:31:31] Energy consumed for all CPUs : 0.028510 kWh. Total CPU Power : 42.5 W\n",
      "[codecarbon INFO @ 23:31:31] 0.272402 kWh of electricity used since the beginning.\n",
      " 74%|███████▍  | 148/200 [40:27<14:08, 16.32s/it]"
     ]
    },
    {
     "name": "stdout",
     "output_type": "stream",
     "text": [
      "{'loss': 0.0744, 'learning_rate': 0.00010400000000000001, 'epoch': 1.13}\n"
     ]
    },
    {
     "name": "stderr",
     "output_type": "stream",
     "text": [
      "[codecarbon INFO @ 23:31:46] Energy consumed for RAM : 0.007895 kWh. RAM Power : 11.698370933532715 W\n",
      "[codecarbon INFO @ 23:31:46] Energy consumed for all GPUs : 0.237512 kWh. Total GPU Power : 351.79200000000003 W\n",
      "[codecarbon INFO @ 23:31:46] Energy consumed for all CPUs : 0.028687 kWh. Total CPU Power : 42.5 W\n",
      "[codecarbon INFO @ 23:31:46] 0.274094 kWh of electricity used since the beginning.\n",
      " 74%|███████▍  | 149/200 [40:44<13:51, 16.30s/it]"
     ]
    },
    {
     "name": "stdout",
     "output_type": "stream",
     "text": [
      "{'loss': 0.0466, 'learning_rate': 0.00010200000000000001, 'epoch': 1.13}\n"
     ]
    },
    {
     "name": "stderr",
     "output_type": "stream",
     "text": [
      "[codecarbon INFO @ 23:32:01] Energy consumed for RAM : 0.007944 kWh. RAM Power : 11.698370933532715 W\n",
      "[codecarbon INFO @ 23:32:01] Energy consumed for all GPUs : 0.238980 kWh. Total GPU Power : 352.502 W\n",
      "[codecarbon INFO @ 23:32:01] Energy consumed for all CPUs : 0.028864 kWh. Total CPU Power : 42.5 W\n",
      "[codecarbon INFO @ 23:32:01] 0.275788 kWh of electricity used since the beginning.\n",
      "[codecarbon INFO @ 23:32:16] Energy consumed for RAM : 0.007992 kWh. RAM Power : 11.698370933532715 W\n",
      "[codecarbon INFO @ 23:32:16] Energy consumed for all GPUs : 0.240446 kWh. Total GPU Power : 351.908 W\n",
      "[codecarbon INFO @ 23:32:16] Energy consumed for all CPUs : 0.029041 kWh. Total CPU Power : 42.5 W\n",
      "[codecarbon INFO @ 23:32:16] 0.277480 kWh of electricity used since the beginning.\n",
      " 75%|███████▌  | 150/200 [41:00<13:34, 16.29s/it]"
     ]
    },
    {
     "name": "stdout",
     "output_type": "stream",
     "text": [
      "{'loss': 0.063, 'learning_rate': 0.0001, 'epoch': 1.14}\n"
     ]
    },
    {
     "name": "stderr",
     "output_type": "stream",
     "text": [
      "[codecarbon INFO @ 23:32:31] Energy consumed for RAM : 0.008041 kWh. RAM Power : 11.698370933532715 W\n",
      "[codecarbon INFO @ 23:32:31] Energy consumed for all GPUs : 0.241917 kWh. Total GPU Power : 352.995 W\n",
      "[codecarbon INFO @ 23:32:31] Energy consumed for all CPUs : 0.029218 kWh. Total CPU Power : 42.5 W\n",
      "[codecarbon INFO @ 23:32:31] 0.279176 kWh of electricity used since the beginning.\n",
      " 76%|███████▌  | 151/200 [41:16<13:19, 16.32s/it]"
     ]
    },
    {
     "name": "stdout",
     "output_type": "stream",
     "text": [
      "{'loss': 0.0523, 'learning_rate': 9.8e-05, 'epoch': 1.15}\n"
     ]
    },
    {
     "name": "stderr",
     "output_type": "stream",
     "text": [
      "[codecarbon INFO @ 23:32:46] Energy consumed for RAM : 0.008090 kWh. RAM Power : 11.698370933532715 W\n",
      "[codecarbon INFO @ 23:32:46] Energy consumed for all GPUs : 0.243390 kWh. Total GPU Power : 353.568 W\n",
      "[codecarbon INFO @ 23:32:46] Energy consumed for all CPUs : 0.029395 kWh. Total CPU Power : 42.5 W\n",
      "[codecarbon INFO @ 23:32:46] 0.280875 kWh of electricity used since the beginning.\n",
      " 76%|███████▌  | 152/200 [41:33<13:04, 16.35s/it]"
     ]
    },
    {
     "name": "stdout",
     "output_type": "stream",
     "text": [
      "{'loss': 0.0532, 'learning_rate': 9.6e-05, 'epoch': 1.16}\n"
     ]
    },
    {
     "name": "stderr",
     "output_type": "stream",
     "text": [
      "[codecarbon INFO @ 23:33:01] Energy consumed for RAM : 0.008139 kWh. RAM Power : 11.698370933532715 W\n",
      "[codecarbon INFO @ 23:33:01] Energy consumed for all GPUs : 0.244852 kWh. Total GPU Power : 350.96 W\n",
      "[codecarbon INFO @ 23:33:01] Energy consumed for all CPUs : 0.029572 kWh. Total CPU Power : 42.5 W\n",
      "[codecarbon INFO @ 23:33:01] 0.282563 kWh of electricity used since the beginning.\n",
      " 76%|███████▋  | 153/200 [41:49<12:46, 16.31s/it]"
     ]
    },
    {
     "name": "stdout",
     "output_type": "stream",
     "text": [
      "{'loss': 0.0537, 'learning_rate': 9.4e-05, 'epoch': 1.16}\n"
     ]
    },
    {
     "name": "stderr",
     "output_type": "stream",
     "text": [
      "[codecarbon INFO @ 23:33:16] Energy consumed for RAM : 0.008187 kWh. RAM Power : 11.698370933532715 W\n",
      "[codecarbon INFO @ 23:33:16] Energy consumed for all GPUs : 0.246316 kWh. Total GPU Power : 351.363 W\n",
      "[codecarbon INFO @ 23:33:16] Energy consumed for all CPUs : 0.029750 kWh. Total CPU Power : 42.5 W\n",
      "[codecarbon INFO @ 23:33:16] 0.284253 kWh of electricity used since the beginning.\n",
      " 77%|███████▋  | 154/200 [42:05<12:29, 16.30s/it]"
     ]
    },
    {
     "name": "stdout",
     "output_type": "stream",
     "text": [
      "{'loss': 0.0515, 'learning_rate': 9.200000000000001e-05, 'epoch': 1.17}\n"
     ]
    },
    {
     "name": "stderr",
     "output_type": "stream",
     "text": [
      "[codecarbon INFO @ 23:33:31] Energy consumed for RAM : 0.008236 kWh. RAM Power : 11.698370933532715 W\n",
      "[codecarbon INFO @ 23:33:31] Energy consumed for all GPUs : 0.247785 kWh. Total GPU Power : 352.72800000000007 W\n",
      "[codecarbon INFO @ 23:33:31] Energy consumed for all CPUs : 0.029927 kWh. Total CPU Power : 42.5 W\n",
      "[codecarbon INFO @ 23:33:31] 0.285948 kWh of electricity used since the beginning.\n",
      " 78%|███████▊  | 155/200 [42:22<12:17, 16.38s/it]"
     ]
    },
    {
     "name": "stdout",
     "output_type": "stream",
     "text": [
      "{'loss': 0.0477, 'learning_rate': 9e-05, 'epoch': 1.18}\n"
     ]
    },
    {
     "name": "stderr",
     "output_type": "stream",
     "text": [
      "[codecarbon INFO @ 23:33:46] Energy consumed for RAM : 0.008285 kWh. RAM Power : 11.698370933532715 W\n",
      "[codecarbon INFO @ 23:33:46] Energy consumed for all GPUs : 0.249252 kWh. Total GPU Power : 352.103 W\n",
      "[codecarbon INFO @ 23:33:46] Energy consumed for all CPUs : 0.030104 kWh. Total CPU Power : 42.5 W\n",
      "[codecarbon INFO @ 23:33:46] 0.287641 kWh of electricity used since the beginning.\n",
      " 78%|███████▊  | 156/200 [42:38<12:00, 16.38s/it]"
     ]
    },
    {
     "name": "stdout",
     "output_type": "stream",
     "text": [
      "{'loss': 0.0649, 'learning_rate': 8.800000000000001e-05, 'epoch': 1.19}\n"
     ]
    },
    {
     "name": "stderr",
     "output_type": "stream",
     "text": [
      "[codecarbon INFO @ 23:34:01] Energy consumed for RAM : 0.008333 kWh. RAM Power : 11.698370933532715 W\n",
      "[codecarbon INFO @ 23:34:01] Energy consumed for all GPUs : 0.250720 kWh. Total GPU Power : 352.44000000000005 W\n",
      "[codecarbon INFO @ 23:34:01] Energy consumed for all CPUs : 0.030281 kWh. Total CPU Power : 42.5 W\n",
      "[codecarbon INFO @ 23:34:01] 0.289335 kWh of electricity used since the beginning.\n",
      " 78%|███████▊  | 157/200 [42:55<11:44, 16.39s/it]"
     ]
    },
    {
     "name": "stdout",
     "output_type": "stream",
     "text": [
      "{'loss': 0.0607, 'learning_rate': 8.6e-05, 'epoch': 1.19}\n"
     ]
    },
    {
     "name": "stderr",
     "output_type": "stream",
     "text": [
      "[codecarbon INFO @ 23:34:16] Energy consumed for RAM : 0.008382 kWh. RAM Power : 11.698370933532715 W\n",
      "[codecarbon INFO @ 23:34:16] Energy consumed for all GPUs : 0.252195 kWh. Total GPU Power : 353.995 W\n",
      "[codecarbon INFO @ 23:34:16] Energy consumed for all CPUs : 0.030458 kWh. Total CPU Power : 42.5 W\n",
      "[codecarbon INFO @ 23:34:16] 0.291035 kWh of electricity used since the beginning.\n",
      " 79%|███████▉  | 158/200 [43:11<11:26, 16.34s/it]"
     ]
    },
    {
     "name": "stdout",
     "output_type": "stream",
     "text": [
      "{'loss': 0.0491, 'learning_rate': 8.4e-05, 'epoch': 1.2}\n"
     ]
    },
    {
     "name": "stderr",
     "output_type": "stream",
     "text": [
      "[codecarbon INFO @ 23:34:31] Energy consumed for RAM : 0.008431 kWh. RAM Power : 11.698370933532715 W\n",
      "[codecarbon INFO @ 23:34:31] Energy consumed for all GPUs : 0.253663 kWh. Total GPU Power : 352.27 W\n",
      "[codecarbon INFO @ 23:34:31] Energy consumed for all CPUs : 0.030635 kWh. Total CPU Power : 42.5 W\n",
      "[codecarbon INFO @ 23:34:31] 0.292729 kWh of electricity used since the beginning.\n",
      " 80%|███████▉  | 159/200 [43:27<11:10, 16.35s/it]"
     ]
    },
    {
     "name": "stdout",
     "output_type": "stream",
     "text": [
      "{'loss': 0.0611, 'learning_rate': 8.2e-05, 'epoch': 1.21}\n"
     ]
    },
    {
     "name": "stderr",
     "output_type": "stream",
     "text": [
      "[codecarbon INFO @ 23:34:46] Energy consumed for RAM : 0.008480 kWh. RAM Power : 11.698370933532715 W\n",
      "[codecarbon INFO @ 23:34:46] Energy consumed for all GPUs : 0.255126 kWh. Total GPU Power : 351.342 W\n",
      "[codecarbon INFO @ 23:34:46] Energy consumed for all CPUs : 0.030812 kWh. Total CPU Power : 42.5 W\n",
      "[codecarbon INFO @ 23:34:46] 0.294418 kWh of electricity used since the beginning.\n",
      " 80%|████████  | 160/200 [43:44<11:00, 16.50s/it]"
     ]
    },
    {
     "name": "stdout",
     "output_type": "stream",
     "text": [
      "{'loss': 0.058, 'learning_rate': 8e-05, 'epoch': 1.22}\n"
     ]
    },
    {
     "name": "stderr",
     "output_type": "stream",
     "text": [
      "[codecarbon INFO @ 23:35:01] Energy consumed for RAM : 0.008528 kWh. RAM Power : 11.698370933532715 W\n",
      "[codecarbon INFO @ 23:35:01] Energy consumed for all GPUs : 0.256594 kWh. Total GPU Power : 352.3640000000001 W\n",
      "[codecarbon INFO @ 23:35:01] Energy consumed for all CPUs : 0.030989 kWh. Total CPU Power : 42.5 W\n",
      "[codecarbon INFO @ 23:35:01] 0.296112 kWh of electricity used since the beginning.\n",
      "[codecarbon INFO @ 23:35:16] Energy consumed for RAM : 0.008577 kWh. RAM Power : 11.698370933532715 W\n",
      "[codecarbon INFO @ 23:35:16] Energy consumed for all GPUs : 0.258060 kWh. Total GPU Power : 351.711 W\n",
      "[codecarbon INFO @ 23:35:16] Energy consumed for all CPUs : 0.031166 kWh. Total CPU Power : 42.5 W\n",
      "[codecarbon INFO @ 23:35:16] 0.297803 kWh of electricity used since the beginning.\n",
      " 80%|████████  | 161/200 [44:00<10:40, 16.43s/it]"
     ]
    },
    {
     "name": "stdout",
     "output_type": "stream",
     "text": [
      "{'loss': 0.054, 'learning_rate': 7.800000000000001e-05, 'epoch': 1.22}\n"
     ]
    },
    {
     "name": "stderr",
     "output_type": "stream",
     "text": [
      "[codecarbon INFO @ 23:35:31] Energy consumed for RAM : 0.008626 kWh. RAM Power : 11.698370933532715 W\n",
      "[codecarbon INFO @ 23:35:31] Energy consumed for all GPUs : 0.259521 kWh. Total GPU Power : 350.78900000000004 W\n",
      "[codecarbon INFO @ 23:35:31] Energy consumed for all CPUs : 0.031343 kWh. Total CPU Power : 42.5 W\n",
      "[codecarbon INFO @ 23:35:31] 0.299490 kWh of electricity used since the beginning.\n",
      " 81%|████████  | 162/200 [44:17<10:24, 16.44s/it]"
     ]
    },
    {
     "name": "stdout",
     "output_type": "stream",
     "text": [
      "{'loss': 0.0565, 'learning_rate': 7.6e-05, 'epoch': 1.23}\n"
     ]
    },
    {
     "name": "stderr",
     "output_type": "stream",
     "text": [
      "[codecarbon INFO @ 23:35:46] Energy consumed for RAM : 0.008675 kWh. RAM Power : 11.698370933532715 W\n",
      "[codecarbon INFO @ 23:35:46] Energy consumed for all GPUs : 0.260987 kWh. Total GPU Power : 351.93 W\n",
      "[codecarbon INFO @ 23:35:46] Energy consumed for all CPUs : 0.031520 kWh. Total CPU Power : 42.5 W\n",
      "[codecarbon INFO @ 23:35:46] 0.301182 kWh of electricity used since the beginning.\n",
      " 82%|████████▏ | 163/200 [44:33<10:08, 16.43s/it]"
     ]
    },
    {
     "name": "stdout",
     "output_type": "stream",
     "text": [
      "{'loss': 0.0454, 'learning_rate': 7.4e-05, 'epoch': 1.24}\n"
     ]
    },
    {
     "name": "stderr",
     "output_type": "stream",
     "text": [
      "[codecarbon INFO @ 23:36:01] Energy consumed for RAM : 0.008723 kWh. RAM Power : 11.698370933532715 W\n",
      "[codecarbon INFO @ 23:36:01] Energy consumed for all GPUs : 0.262448 kWh. Total GPU Power : 350.8330000000001 W\n",
      "[codecarbon INFO @ 23:36:01] Energy consumed for all CPUs : 0.031697 kWh. Total CPU Power : 42.5 W\n",
      "[codecarbon INFO @ 23:36:01] 0.302869 kWh of electricity used since the beginning.\n",
      " 82%|████████▏ | 164/200 [44:49<09:48, 16.34s/it]"
     ]
    },
    {
     "name": "stdout",
     "output_type": "stream",
     "text": [
      "{'loss': 0.05, 'learning_rate': 7.2e-05, 'epoch': 1.25}\n"
     ]
    },
    {
     "name": "stderr",
     "output_type": "stream",
     "text": [
      "[codecarbon INFO @ 23:36:16] Energy consumed for RAM : 0.008772 kWh. RAM Power : 11.698370933532715 W\n",
      "[codecarbon INFO @ 23:36:16] Energy consumed for all GPUs : 0.263914 kWh. Total GPU Power : 351.71500000000003 W\n",
      "[codecarbon INFO @ 23:36:16] Energy consumed for all CPUs : 0.031875 kWh. Total CPU Power : 42.5 W\n",
      "[codecarbon INFO @ 23:36:16] 0.304560 kWh of electricity used since the beginning.\n",
      " 82%|████████▎ | 165/200 [45:05<09:28, 16.25s/it]"
     ]
    },
    {
     "name": "stdout",
     "output_type": "stream",
     "text": [
      "{'loss': 0.0521, 'learning_rate': 7e-05, 'epoch': 1.25}\n"
     ]
    },
    {
     "name": "stderr",
     "output_type": "stream",
     "text": [
      "[codecarbon INFO @ 23:36:31] Energy consumed for RAM : 0.008821 kWh. RAM Power : 11.698370933532715 W\n",
      "[codecarbon INFO @ 23:36:31] Energy consumed for all GPUs : 0.265384 kWh. Total GPU Power : 352.89500000000004 W\n",
      "[codecarbon INFO @ 23:36:31] Energy consumed for all CPUs : 0.032052 kWh. Total CPU Power : 42.5 W\n",
      "[codecarbon INFO @ 23:36:31] 0.306256 kWh of electricity used since the beginning.\n",
      " 83%|████████▎ | 166/200 [45:22<09:13, 16.28s/it]"
     ]
    },
    {
     "name": "stdout",
     "output_type": "stream",
     "text": [
      "{'loss': 0.0581, 'learning_rate': 6.800000000000001e-05, 'epoch': 1.26}\n"
     ]
    },
    {
     "name": "stderr",
     "output_type": "stream",
     "text": [
      "[codecarbon INFO @ 23:36:46] Energy consumed for RAM : 0.008870 kWh. RAM Power : 11.698370933532715 W\n",
      "[codecarbon INFO @ 23:36:46] Energy consumed for all GPUs : 0.266851 kWh. Total GPU Power : 352.17 W\n",
      "[codecarbon INFO @ 23:36:46] Energy consumed for all CPUs : 0.032229 kWh. Total CPU Power : 42.5 W\n",
      "[codecarbon INFO @ 23:36:46] 0.307949 kWh of electricity used since the beginning.\n",
      " 84%|████████▎ | 167/200 [45:38<08:56, 16.27s/it]"
     ]
    },
    {
     "name": "stdout",
     "output_type": "stream",
     "text": [
      "{'loss': 0.0588, 'learning_rate': 6.6e-05, 'epoch': 1.27}\n"
     ]
    },
    {
     "name": "stderr",
     "output_type": "stream",
     "text": [
      "[codecarbon INFO @ 23:37:01] Energy consumed for RAM : 0.008918 kWh. RAM Power : 11.698370933532715 W\n",
      "[codecarbon INFO @ 23:37:01] Energy consumed for all GPUs : 0.268319 kWh. Total GPU Power : 352.276 W\n",
      "[codecarbon INFO @ 23:37:01] Energy consumed for all CPUs : 0.032406 kWh. Total CPU Power : 42.5 W\n",
      "[codecarbon INFO @ 23:37:01] 0.309643 kWh of electricity used since the beginning.\n",
      " 84%|████████▍ | 168/200 [45:54<08:40, 16.26s/it]"
     ]
    },
    {
     "name": "stdout",
     "output_type": "stream",
     "text": [
      "{'loss': 0.0551, 'learning_rate': 6.400000000000001e-05, 'epoch': 1.28}\n"
     ]
    },
    {
     "name": "stderr",
     "output_type": "stream",
     "text": [
      "[codecarbon INFO @ 23:37:16] Energy consumed for RAM : 0.008967 kWh. RAM Power : 11.698370933532715 W\n",
      "[codecarbon INFO @ 23:37:16] Energy consumed for all GPUs : 0.269787 kWh. Total GPU Power : 352.534 W\n",
      "[codecarbon INFO @ 23:37:16] Energy consumed for all CPUs : 0.032583 kWh. Total CPU Power : 42.5 W\n",
      "[codecarbon INFO @ 23:37:16] 0.311337 kWh of electricity used since the beginning.\n",
      " 84%|████████▍ | 169/200 [46:10<08:24, 16.28s/it]"
     ]
    },
    {
     "name": "stdout",
     "output_type": "stream",
     "text": [
      "{'loss': 0.0574, 'learning_rate': 6.2e-05, 'epoch': 1.29}\n"
     ]
    },
    {
     "name": "stderr",
     "output_type": "stream",
     "text": [
      "[codecarbon INFO @ 23:37:31] Energy consumed for RAM : 0.009016 kWh. RAM Power : 11.698370933532715 W\n",
      "[codecarbon INFO @ 23:37:31] Energy consumed for all GPUs : 0.271249 kWh. Total GPU Power : 350.89 W\n",
      "[codecarbon INFO @ 23:37:31] Energy consumed for all CPUs : 0.032760 kWh. Total CPU Power : 42.5 W\n",
      "[codecarbon INFO @ 23:37:31] 0.313025 kWh of electricity used since the beginning.\n",
      " 85%|████████▌ | 170/200 [46:27<08:10, 16.33s/it]"
     ]
    },
    {
     "name": "stdout",
     "output_type": "stream",
     "text": [
      "{'loss': 0.0697, 'learning_rate': 6e-05, 'epoch': 1.29}\n"
     ]
    },
    {
     "name": "stderr",
     "output_type": "stream",
     "text": [
      "[codecarbon INFO @ 23:37:46] Energy consumed for RAM : 0.009064 kWh. RAM Power : 11.698370933532715 W\n",
      "[codecarbon INFO @ 23:37:46] Energy consumed for all GPUs : 0.272710 kWh. Total GPU Power : 350.648 W\n",
      "[codecarbon INFO @ 23:37:46] Energy consumed for all CPUs : 0.032937 kWh. Total CPU Power : 42.5 W\n",
      "[codecarbon INFO @ 23:37:46] 0.314711 kWh of electricity used since the beginning.\n",
      " 86%|████████▌ | 171/200 [46:43<07:53, 16.34s/it]"
     ]
    },
    {
     "name": "stdout",
     "output_type": "stream",
     "text": [
      "{'loss': 0.0615, 'learning_rate': 5.8e-05, 'epoch': 1.3}\n"
     ]
    },
    {
     "name": "stderr",
     "output_type": "stream",
     "text": [
      "[codecarbon INFO @ 23:38:01] Energy consumed for RAM : 0.009113 kWh. RAM Power : 11.698370933532715 W\n",
      "[codecarbon INFO @ 23:38:01] Energy consumed for all GPUs : 0.274181 kWh. Total GPU Power : 353.154 W\n",
      "[codecarbon INFO @ 23:38:01] Energy consumed for all CPUs : 0.033114 kWh. Total CPU Power : 42.5 W\n",
      "[codecarbon INFO @ 23:38:01] 0.316408 kWh of electricity used since the beginning.\n",
      " 86%|████████▌ | 172/200 [46:59<07:35, 16.27s/it][codecarbon INFO @ 23:38:16] Energy consumed for RAM : 0.009162 kWh. RAM Power : 11.698370933532715 W\n",
      "[codecarbon INFO @ 23:38:16] Energy consumed for all GPUs : 0.275646 kWh. Total GPU Power : 351.705 W\n",
      "[codecarbon INFO @ 23:38:16] Energy consumed for all CPUs : 0.033291 kWh. Total CPU Power : 42.5 W\n",
      "[codecarbon INFO @ 23:38:16] 0.318100 kWh of electricity used since the beginning.\n"
     ]
    },
    {
     "name": "stdout",
     "output_type": "stream",
     "text": [
      "{'loss': 0.0554, 'learning_rate': 5.6000000000000006e-05, 'epoch': 1.31}\n"
     ]
    },
    {
     "name": "stderr",
     "output_type": "stream",
     "text": [
      "[codecarbon INFO @ 23:38:31] Energy consumed for RAM : 0.009211 kWh. RAM Power : 11.698370933532715 W\n",
      "[codecarbon INFO @ 23:38:31] Energy consumed for all GPUs : 0.277113 kWh. Total GPU Power : 351.998 W\n",
      "[codecarbon INFO @ 23:38:31] Energy consumed for all CPUs : 0.033468 kWh. Total CPU Power : 42.5 W\n",
      "[codecarbon INFO @ 23:38:31] 0.319792 kWh of electricity used since the beginning.\n",
      " 86%|████████▋ | 173/200 [47:16<07:20, 16.31s/it]"
     ]
    },
    {
     "name": "stdout",
     "output_type": "stream",
     "text": [
      "{'loss': 0.0517, 'learning_rate': 5.4000000000000005e-05, 'epoch': 1.32}\n"
     ]
    },
    {
     "name": "stderr",
     "output_type": "stream",
     "text": [
      "[codecarbon INFO @ 23:38:46] Energy consumed for RAM : 0.009259 kWh. RAM Power : 11.698370933532715 W\n",
      "[codecarbon INFO @ 23:38:46] Energy consumed for all GPUs : 0.278577 kWh. Total GPU Power : 351.433 W\n",
      "[codecarbon INFO @ 23:38:46] Energy consumed for all CPUs : 0.033645 kWh. Total CPU Power : 42.5 W\n",
      "[codecarbon INFO @ 23:38:46] 0.321482 kWh of electricity used since the beginning.\n",
      " 87%|████████▋ | 174/200 [47:32<07:03, 16.27s/it]"
     ]
    },
    {
     "name": "stdout",
     "output_type": "stream",
     "text": [
      "{'loss': 0.057, 'learning_rate': 5.2000000000000004e-05, 'epoch': 1.32}\n"
     ]
    },
    {
     "name": "stderr",
     "output_type": "stream",
     "text": [
      "[codecarbon INFO @ 23:39:01] Energy consumed for RAM : 0.009308 kWh. RAM Power : 11.698370933532715 W\n",
      "[codecarbon INFO @ 23:39:01] Energy consumed for all GPUs : 0.280041 kWh. Total GPU Power : 351.555 W\n",
      "[codecarbon INFO @ 23:39:01] Energy consumed for all CPUs : 0.033822 kWh. Total CPU Power : 42.5 W\n",
      "[codecarbon INFO @ 23:39:01] 0.323172 kWh of electricity used since the beginning.\n",
      " 88%|████████▊ | 175/200 [47:48<06:48, 16.33s/it]"
     ]
    },
    {
     "name": "stdout",
     "output_type": "stream",
     "text": [
      "{'loss': 0.0575, 'learning_rate': 5e-05, 'epoch': 1.33}\n"
     ]
    },
    {
     "name": "stderr",
     "output_type": "stream",
     "text": [
      "[codecarbon INFO @ 23:39:16] Energy consumed for RAM : 0.009357 kWh. RAM Power : 11.698370933532715 W\n",
      "[codecarbon INFO @ 23:39:16] Energy consumed for all GPUs : 0.281503 kWh. Total GPU Power : 350.78000000000003 W\n",
      "[codecarbon INFO @ 23:39:16] Energy consumed for all CPUs : 0.033999 kWh. Total CPU Power : 42.5 W\n",
      "[codecarbon INFO @ 23:39:16] 0.324859 kWh of electricity used since the beginning.\n",
      " 88%|████████▊ | 176/200 [48:05<06:35, 16.46s/it]"
     ]
    },
    {
     "name": "stdout",
     "output_type": "stream",
     "text": [
      "{'loss': 0.0638, 'learning_rate': 4.8e-05, 'epoch': 1.34}\n"
     ]
    },
    {
     "name": "stderr",
     "output_type": "stream",
     "text": [
      "[codecarbon INFO @ 23:39:31] Energy consumed for RAM : 0.009406 kWh. RAM Power : 11.698370933532715 W\n",
      "[codecarbon INFO @ 23:39:31] Energy consumed for all GPUs : 0.282979 kWh. Total GPU Power : 354.384 W\n",
      "[codecarbon INFO @ 23:39:31] Energy consumed for all CPUs : 0.034177 kWh. Total CPU Power : 42.5 W\n",
      "[codecarbon INFO @ 23:39:31] 0.326562 kWh of electricity used since the beginning.\n",
      " 88%|████████▊ | 177/200 [48:21<06:17, 16.41s/it]"
     ]
    },
    {
     "name": "stdout",
     "output_type": "stream",
     "text": [
      "{'loss': 0.0847, 'learning_rate': 4.600000000000001e-05, 'epoch': 1.35}\n"
     ]
    },
    {
     "name": "stderr",
     "output_type": "stream",
     "text": [
      "[codecarbon INFO @ 23:39:46] Energy consumed for RAM : 0.009454 kWh. RAM Power : 11.698370933532715 W\n",
      "[codecarbon INFO @ 23:39:46] Energy consumed for all GPUs : 0.284435 kWh. Total GPU Power : 349.52500000000003 W\n",
      "[codecarbon INFO @ 23:39:46] Energy consumed for all CPUs : 0.034354 kWh. Total CPU Power : 42.5 W\n",
      "[codecarbon INFO @ 23:39:46] 0.328244 kWh of electricity used since the beginning.\n",
      " 89%|████████▉ | 178/200 [48:37<05:58, 16.28s/it]"
     ]
    },
    {
     "name": "stdout",
     "output_type": "stream",
     "text": [
      "{'loss': 0.0494, 'learning_rate': 4.4000000000000006e-05, 'epoch': 1.35}\n"
     ]
    },
    {
     "name": "stderr",
     "output_type": "stream",
     "text": [
      "[codecarbon INFO @ 23:40:01] Energy consumed for RAM : 0.009503 kWh. RAM Power : 11.698370933532715 W\n",
      "[codecarbon INFO @ 23:40:01] Energy consumed for all GPUs : 0.285900 kWh. Total GPU Power : 351.46500000000003 W\n",
      "[codecarbon INFO @ 23:40:01] Energy consumed for all CPUs : 0.034531 kWh. Total CPU Power : 42.5 W\n",
      "[codecarbon INFO @ 23:40:01] 0.329933 kWh of electricity used since the beginning.\n",
      " 90%|████████▉ | 179/200 [48:54<05:41, 16.26s/it]"
     ]
    },
    {
     "name": "stdout",
     "output_type": "stream",
     "text": [
      "{'loss': 0.0529, 'learning_rate': 4.2e-05, 'epoch': 1.36}\n"
     ]
    },
    {
     "name": "stderr",
     "output_type": "stream",
     "text": [
      "[codecarbon INFO @ 23:40:16] Energy consumed for RAM : 0.009552 kWh. RAM Power : 11.698370933532715 W\n",
      "[codecarbon INFO @ 23:40:16] Energy consumed for all GPUs : 0.287370 kWh. Total GPU Power : 353.03200000000004 W\n",
      "[codecarbon INFO @ 23:40:16] Energy consumed for all CPUs : 0.034708 kWh. Total CPU Power : 42.5 W\n",
      "[codecarbon INFO @ 23:40:16] 0.331630 kWh of electricity used since the beginning.\n",
      " 90%|█████████ | 180/200 [49:10<05:24, 16.23s/it]"
     ]
    },
    {
     "name": "stdout",
     "output_type": "stream",
     "text": [
      "{'loss': 0.0576, 'learning_rate': 4e-05, 'epoch': 1.37}\n"
     ]
    },
    {
     "name": "stderr",
     "output_type": "stream",
     "text": [
      "[codecarbon INFO @ 23:40:31] Energy consumed for RAM : 0.009601 kWh. RAM Power : 11.698370933532715 W\n",
      "[codecarbon INFO @ 23:40:31] Energy consumed for all GPUs : 0.288837 kWh. Total GPU Power : 351.939 W\n",
      "[codecarbon INFO @ 23:40:31] Energy consumed for all CPUs : 0.034885 kWh. Total CPU Power : 42.5 W\n",
      "[codecarbon INFO @ 23:40:31] 0.333322 kWh of electricity used since the beginning.\n",
      " 90%|█████████ | 181/200 [49:26<05:07, 16.20s/it]"
     ]
    },
    {
     "name": "stdout",
     "output_type": "stream",
     "text": [
      "{'loss': 0.051, 'learning_rate': 3.8e-05, 'epoch': 1.38}\n"
     ]
    },
    {
     "name": "stderr",
     "output_type": "stream",
     "text": [
      "[codecarbon INFO @ 23:40:46] Energy consumed for RAM : 0.009649 kWh. RAM Power : 11.698370933532715 W\n",
      "[codecarbon INFO @ 23:40:46] Energy consumed for all GPUs : 0.290303 kWh. Total GPU Power : 352.01 W\n",
      "[codecarbon INFO @ 23:40:46] Energy consumed for all CPUs : 0.035062 kWh. Total CPU Power : 42.5 W\n",
      "[codecarbon INFO @ 23:40:46] 0.335014 kWh of electricity used since the beginning.\n",
      " 91%|█████████ | 182/200 [49:42<04:51, 16.22s/it]"
     ]
    },
    {
     "name": "stdout",
     "output_type": "stream",
     "text": [
      "{'loss': 0.0526, 'learning_rate': 3.6e-05, 'epoch': 1.38}\n"
     ]
    },
    {
     "name": "stderr",
     "output_type": "stream",
     "text": [
      "[codecarbon INFO @ 23:41:01] Energy consumed for RAM : 0.009698 kWh. RAM Power : 11.698370933532715 W\n",
      "[codecarbon INFO @ 23:41:01] Energy consumed for all GPUs : 0.291767 kWh. Total GPU Power : 351.359 W\n",
      "[codecarbon INFO @ 23:41:01] Energy consumed for all CPUs : 0.035239 kWh. Total CPU Power : 42.5 W\n",
      "[codecarbon INFO @ 23:41:01] 0.336704 kWh of electricity used since the beginning.\n",
      " 92%|█████████▏| 183/200 [49:59<04:36, 16.25s/it]"
     ]
    },
    {
     "name": "stdout",
     "output_type": "stream",
     "text": [
      "{'loss': 0.0742, 'learning_rate': 3.4000000000000007e-05, 'epoch': 1.39}\n"
     ]
    },
    {
     "name": "stderr",
     "output_type": "stream",
     "text": [
      "[codecarbon INFO @ 23:41:16] Energy consumed for RAM : 0.009747 kWh. RAM Power : 11.698370933532715 W\n",
      "[codecarbon INFO @ 23:41:16] Energy consumed for all GPUs : 0.293227 kWh. Total GPU Power : 350.53700000000003 W\n",
      "[codecarbon INFO @ 23:41:16] Energy consumed for all CPUs : 0.035416 kWh. Total CPU Power : 42.5 W\n",
      "[codecarbon INFO @ 23:41:16] 0.338390 kWh of electricity used since the beginning.\n",
      "[codecarbon INFO @ 23:41:31] Energy consumed for RAM : 0.009795 kWh. RAM Power : 11.698370933532715 W\n",
      "[codecarbon INFO @ 23:41:31] Energy consumed for all GPUs : 0.294693 kWh. Total GPU Power : 351.722 W\n",
      "[codecarbon INFO @ 23:41:31] Energy consumed for all CPUs : 0.035593 kWh. Total CPU Power : 42.5 W\n",
      "[codecarbon INFO @ 23:41:31] 0.340081 kWh of electricity used since the beginning.\n",
      " 92%|█████████▏| 184/200 [50:15<04:21, 16.32s/it]"
     ]
    },
    {
     "name": "stdout",
     "output_type": "stream",
     "text": [
      "{'loss': 0.0545, 'learning_rate': 3.2000000000000005e-05, 'epoch': 1.4}\n"
     ]
    },
    {
     "name": "stderr",
     "output_type": "stream",
     "text": [
      "[codecarbon INFO @ 23:41:46] Energy consumed for RAM : 0.009844 kWh. RAM Power : 11.698370933532715 W\n",
      "[codecarbon INFO @ 23:41:46] Energy consumed for all GPUs : 0.296162 kWh. Total GPU Power : 352.76300000000003 W\n",
      "[codecarbon INFO @ 23:41:46] Energy consumed for all CPUs : 0.035770 kWh. Total CPU Power : 42.5 W\n",
      "[codecarbon INFO @ 23:41:46] 0.341777 kWh of electricity used since the beginning.\n",
      " 92%|█████████▎| 185/200 [50:31<04:04, 16.31s/it]"
     ]
    },
    {
     "name": "stdout",
     "output_type": "stream",
     "text": [
      "{'loss': 0.0673, 'learning_rate': 3e-05, 'epoch': 1.41}\n"
     ]
    },
    {
     "name": "stderr",
     "output_type": "stream",
     "text": [
      "[codecarbon INFO @ 23:42:01] Energy consumed for RAM : 0.009893 kWh. RAM Power : 11.698370933532715 W\n",
      "[codecarbon INFO @ 23:42:01] Energy consumed for all GPUs : 0.297630 kWh. Total GPU Power : 352.17 W\n",
      "[codecarbon INFO @ 23:42:01] Energy consumed for all CPUs : 0.035947 kWh. Total CPU Power : 42.5 W\n",
      "[codecarbon INFO @ 23:42:01] 0.343470 kWh of electricity used since the beginning.\n",
      " 93%|█████████▎| 186/200 [50:48<03:48, 16.31s/it]"
     ]
    },
    {
     "name": "stdout",
     "output_type": "stream",
     "text": [
      "{'loss': 0.0584, 'learning_rate': 2.8000000000000003e-05, 'epoch': 1.41}\n"
     ]
    },
    {
     "name": "stderr",
     "output_type": "stream",
     "text": [
      "[codecarbon INFO @ 23:42:16] Energy consumed for RAM : 0.009942 kWh. RAM Power : 11.698370933532715 W\n",
      "[codecarbon INFO @ 23:42:16] Energy consumed for all GPUs : 0.299093 kWh. Total GPU Power : 351.25900000000007 W\n",
      "[codecarbon INFO @ 23:42:16] Energy consumed for all CPUs : 0.036124 kWh. Total CPU Power : 42.5 W\n",
      "[codecarbon INFO @ 23:42:16] 0.345159 kWh of electricity used since the beginning.\n",
      " 94%|█████████▎| 187/200 [51:04<03:31, 16.27s/it]"
     ]
    },
    {
     "name": "stdout",
     "output_type": "stream",
     "text": [
      "{'loss': 0.0557, 'learning_rate': 2.6000000000000002e-05, 'epoch': 1.42}\n"
     ]
    },
    {
     "name": "stderr",
     "output_type": "stream",
     "text": [
      "[codecarbon INFO @ 23:42:31] Energy consumed for RAM : 0.009990 kWh. RAM Power : 11.698370933532715 W\n",
      "[codecarbon INFO @ 23:42:31] Energy consumed for all GPUs : 0.300560 kWh. Total GPU Power : 352.165 W\n",
      "[codecarbon INFO @ 23:42:31] Energy consumed for all CPUs : 0.036302 kWh. Total CPU Power : 42.5 W\n",
      "[codecarbon INFO @ 23:42:31] 0.346852 kWh of electricity used since the beginning.\n",
      " 94%|█████████▍| 188/200 [51:20<03:14, 16.23s/it]"
     ]
    },
    {
     "name": "stdout",
     "output_type": "stream",
     "text": [
      "{'loss': 0.0615, 'learning_rate': 2.4e-05, 'epoch': 1.43}\n"
     ]
    },
    {
     "name": "stderr",
     "output_type": "stream",
     "text": [
      "[codecarbon INFO @ 23:42:46] Energy consumed for RAM : 0.010039 kWh. RAM Power : 11.698370933532715 W\n",
      "[codecarbon INFO @ 23:42:46] Energy consumed for all GPUs : 0.302032 kWh. Total GPU Power : 353.224 W\n",
      "[codecarbon INFO @ 23:42:46] Energy consumed for all CPUs : 0.036479 kWh. Total CPU Power : 42.5 W\n",
      "[codecarbon INFO @ 23:42:46] 0.348549 kWh of electricity used since the beginning.\n",
      " 94%|█████████▍| 189/200 [51:36<02:57, 16.18s/it]"
     ]
    },
    {
     "name": "stdout",
     "output_type": "stream",
     "text": [
      "{'loss': 0.0532, 'learning_rate': 2.2000000000000003e-05, 'epoch': 1.44}\n"
     ]
    },
    {
     "name": "stderr",
     "output_type": "stream",
     "text": [
      "[codecarbon INFO @ 23:43:01] Energy consumed for RAM : 0.010088 kWh. RAM Power : 11.698370933532715 W\n",
      "[codecarbon INFO @ 23:43:01] Energy consumed for all GPUs : 0.303500 kWh. Total GPU Power : 352.377 W\n",
      "[codecarbon INFO @ 23:43:01] Energy consumed for all CPUs : 0.036656 kWh. Total CPU Power : 42.5 W\n",
      "[codecarbon INFO @ 23:43:01] 0.350243 kWh of electricity used since the beginning.\n",
      " 95%|█████████▌| 190/200 [51:52<02:41, 16.16s/it]"
     ]
    },
    {
     "name": "stdout",
     "output_type": "stream",
     "text": [
      "{'loss': 0.0598, 'learning_rate': 2e-05, 'epoch': 1.44}\n"
     ]
    },
    {
     "name": "stderr",
     "output_type": "stream",
     "text": [
      "[codecarbon INFO @ 23:43:16] Energy consumed for RAM : 0.010137 kWh. RAM Power : 11.698370933532715 W\n",
      "[codecarbon INFO @ 23:43:16] Energy consumed for all GPUs : 0.304966 kWh. Total GPU Power : 352.005 W\n",
      "[codecarbon INFO @ 23:43:16] Energy consumed for all CPUs : 0.036833 kWh. Total CPU Power : 42.5 W\n",
      "[codecarbon INFO @ 23:43:16] 0.351936 kWh of electricity used since the beginning.\n",
      " 96%|█████████▌| 191/200 [52:08<02:26, 16.22s/it]"
     ]
    },
    {
     "name": "stdout",
     "output_type": "stream",
     "text": [
      "{'loss': 0.0465, 'learning_rate': 1.8e-05, 'epoch': 1.45}\n"
     ]
    },
    {
     "name": "stderr",
     "output_type": "stream",
     "text": [
      "[codecarbon INFO @ 23:43:31] Energy consumed for RAM : 0.010185 kWh. RAM Power : 11.698370933532715 W\n",
      "[codecarbon INFO @ 23:43:31] Energy consumed for all GPUs : 0.306436 kWh. Total GPU Power : 352.688 W\n",
      "[codecarbon INFO @ 23:43:31] Energy consumed for all CPUs : 0.037010 kWh. Total CPU Power : 42.5 W\n",
      "[codecarbon INFO @ 23:43:31] 0.353631 kWh of electricity used since the beginning.\n",
      " 96%|█████████▌| 192/200 [52:25<02:09, 16.25s/it]"
     ]
    },
    {
     "name": "stdout",
     "output_type": "stream",
     "text": [
      "{'loss': 0.0682, 'learning_rate': 1.6000000000000003e-05, 'epoch': 1.46}\n"
     ]
    },
    {
     "name": "stderr",
     "output_type": "stream",
     "text": [
      "[codecarbon INFO @ 23:43:46] Energy consumed for RAM : 0.010234 kWh. RAM Power : 11.698370933532715 W\n",
      "[codecarbon INFO @ 23:43:46] Energy consumed for all GPUs : 0.307906 kWh. Total GPU Power : 352.949 W\n",
      "[codecarbon INFO @ 23:43:46] Energy consumed for all CPUs : 0.037187 kWh. Total CPU Power : 42.5 W\n",
      "[codecarbon INFO @ 23:43:46] 0.355327 kWh of electricity used since the beginning.\n",
      " 96%|█████████▋| 193/200 [52:41<01:53, 16.23s/it]"
     ]
    },
    {
     "name": "stdout",
     "output_type": "stream",
     "text": [
      "{'loss': 0.0512, 'learning_rate': 1.4000000000000001e-05, 'epoch': 1.47}\n"
     ]
    },
    {
     "name": "stderr",
     "output_type": "stream",
     "text": [
      "[codecarbon INFO @ 23:44:01] Energy consumed for RAM : 0.010283 kWh. RAM Power : 11.698370933532715 W\n",
      "[codecarbon INFO @ 23:44:01] Energy consumed for all GPUs : 0.309376 kWh. Total GPU Power : 352.833 W\n",
      "[codecarbon INFO @ 23:44:01] Energy consumed for all CPUs : 0.037364 kWh. Total CPU Power : 42.5 W\n",
      "[codecarbon INFO @ 23:44:01] 0.357023 kWh of electricity used since the beginning.\n",
      " 97%|█████████▋| 194/200 [52:57<01:37, 16.26s/it]"
     ]
    },
    {
     "name": "stdout",
     "output_type": "stream",
     "text": [
      "{'loss': 0.0623, 'learning_rate': 1.2e-05, 'epoch': 1.48}\n"
     ]
    },
    {
     "name": "stderr",
     "output_type": "stream",
     "text": [
      "[codecarbon INFO @ 23:44:16] Energy consumed for RAM : 0.010332 kWh. RAM Power : 11.698370933532715 W\n",
      "[codecarbon INFO @ 23:44:16] Energy consumed for all GPUs : 0.310845 kWh. Total GPU Power : 352.692 W\n",
      "[codecarbon INFO @ 23:44:16] Energy consumed for all CPUs : 0.037541 kWh. Total CPU Power : 42.5 W\n",
      "[codecarbon INFO @ 23:44:16] 0.358718 kWh of electricity used since the beginning.\n",
      " 98%|█████████▊| 195/200 [53:14<01:21, 16.26s/it]"
     ]
    },
    {
     "name": "stdout",
     "output_type": "stream",
     "text": [
      "{'loss': 0.052, 'learning_rate': 1e-05, 'epoch': 1.48}\n"
     ]
    },
    {
     "name": "stderr",
     "output_type": "stream",
     "text": [
      "[codecarbon INFO @ 23:44:31] Energy consumed for RAM : 0.010380 kWh. RAM Power : 11.698370933532715 W\n",
      "[codecarbon INFO @ 23:44:31] Energy consumed for all GPUs : 0.312315 kWh. Total GPU Power : 352.748 W\n",
      "[codecarbon INFO @ 23:44:31] Energy consumed for all CPUs : 0.037718 kWh. Total CPU Power : 42.5 W\n",
      "[codecarbon INFO @ 23:44:31] 0.360413 kWh of electricity used since the beginning.\n",
      "[codecarbon INFO @ 23:44:46] Energy consumed for RAM : 0.010429 kWh. RAM Power : 11.698370933532715 W\n",
      "[codecarbon INFO @ 23:44:46] Energy consumed for all GPUs : 0.313776 kWh. Total GPU Power : 350.796 W\n",
      "[codecarbon INFO @ 23:44:46] Energy consumed for all CPUs : 0.037895 kWh. Total CPU Power : 42.5 W\n",
      "[codecarbon INFO @ 23:44:46] 0.362100 kWh of electricity used since the beginning.\n",
      " 98%|█████████▊| 196/200 [53:30<01:05, 16.26s/it]"
     ]
    },
    {
     "name": "stdout",
     "output_type": "stream",
     "text": [
      "{'loss': 0.0642, 'learning_rate': 8.000000000000001e-06, 'epoch': 1.49}\n"
     ]
    },
    {
     "name": "stderr",
     "output_type": "stream",
     "text": [
      "[codecarbon INFO @ 23:45:01] Energy consumed for RAM : 0.010478 kWh. RAM Power : 11.698370933532715 W\n",
      "[codecarbon INFO @ 23:45:01] Energy consumed for all GPUs : 0.315237 kWh. Total GPU Power : 350.716 W\n",
      "[codecarbon INFO @ 23:45:01] Energy consumed for all CPUs : 0.038072 kWh. Total CPU Power : 42.5 W\n",
      "[codecarbon INFO @ 23:45:01] 0.363787 kWh of electricity used since the beginning.\n",
      " 98%|█████████▊| 197/200 [53:46<00:48, 16.25s/it]"
     ]
    },
    {
     "name": "stdout",
     "output_type": "stream",
     "text": [
      "{'loss': 0.0443, 'learning_rate': 6e-06, 'epoch': 1.5}\n"
     ]
    },
    {
     "name": "stderr",
     "output_type": "stream",
     "text": [
      "[codecarbon INFO @ 23:45:16] Energy consumed for RAM : 0.010527 kWh. RAM Power : 11.698370933532715 W\n",
      "[codecarbon INFO @ 23:45:16] Energy consumed for all GPUs : 0.316703 kWh. Total GPU Power : 351.915 W\n",
      "[codecarbon INFO @ 23:45:16] Energy consumed for all CPUs : 0.038249 kWh. Total CPU Power : 42.5 W\n",
      "[codecarbon INFO @ 23:45:16] 0.365479 kWh of electricity used since the beginning.\n",
      " 99%|█████████▉| 198/200 [54:02<00:32, 16.30s/it]"
     ]
    },
    {
     "name": "stdout",
     "output_type": "stream",
     "text": [
      "{'loss': 0.057, 'learning_rate': 4.000000000000001e-06, 'epoch': 1.51}\n"
     ]
    },
    {
     "name": "stderr",
     "output_type": "stream",
     "text": [
      "[codecarbon INFO @ 23:45:31] Energy consumed for RAM : 0.010575 kWh. RAM Power : 11.698370933532715 W\n",
      "[codecarbon INFO @ 23:45:31] Energy consumed for all GPUs : 0.318166 kWh. Total GPU Power : 351.13800000000003 W\n",
      "[codecarbon INFO @ 23:45:31] Energy consumed for all CPUs : 0.038427 kWh. Total CPU Power : 42.5 W\n",
      "[codecarbon INFO @ 23:45:31] 0.367168 kWh of electricity used since the beginning.\n",
      "100%|█████████▉| 199/200 [54:19<00:16, 16.31s/it]"
     ]
    },
    {
     "name": "stdout",
     "output_type": "stream",
     "text": [
      "{'loss': 0.0573, 'learning_rate': 2.0000000000000003e-06, 'epoch': 1.51}\n"
     ]
    },
    {
     "name": "stderr",
     "output_type": "stream",
     "text": [
      "[codecarbon INFO @ 23:45:46] Energy consumed for RAM : 0.010624 kWh. RAM Power : 11.698370933532715 W\n",
      "[codecarbon INFO @ 23:45:46] Energy consumed for all GPUs : 0.319633 kWh. Total GPU Power : 352.156 W\n",
      "[codecarbon INFO @ 23:45:46] Energy consumed for all CPUs : 0.038604 kWh. Total CPU Power : 42.5 W\n",
      "[codecarbon INFO @ 23:45:46] 0.368861 kWh of electricity used since the beginning.\n",
      "100%|██████████| 200/200 [54:36<00:00, 16.43s/it][codecarbon INFO @ 23:45:52] Energy consumed for RAM : 0.010643 kWh. RAM Power : 11.698370933532715 W\n",
      "[codecarbon INFO @ 23:45:52] Energy consumed for all GPUs : 0.320218 kWh. Total GPU Power : 352.372 W\n",
      "[codecarbon INFO @ 23:45:52] Energy consumed for all CPUs : 0.038674 kWh. Total CPU Power : 42.5 W\n",
      "[codecarbon INFO @ 23:45:52] 0.369535 kWh of electricity used since the beginning.\n",
      "100%|██████████| 200/200 [54:36<00:00, 16.38s/it]"
     ]
    },
    {
     "name": "stdout",
     "output_type": "stream",
     "text": [
      "{'loss': 0.0727, 'learning_rate': 0.0, 'epoch': 1.52}\n",
      "{'train_runtime': 3276.0179, 'train_samples_per_second': 0.488, 'train_steps_per_second': 0.061, 'train_loss': 0.33393447525799275, 'epoch': 1.52}\n"
     ]
    },
    {
     "name": "stderr",
     "output_type": "stream",
     "text": [
      "\n"
     ]
    },
    {
     "data": {
      "text/plain": [
       "TrainOutput(global_step=200, training_loss=0.33393447525799275, metrics={'train_runtime': 3276.0179, 'train_samples_per_second': 0.488, 'train_steps_per_second': 0.061, 'train_loss': 0.33393447525799275, 'epoch': 1.52})"
      ]
     },
     "execution_count": 6,
     "metadata": {},
     "output_type": "execute_result"
    }
   ],
   "source": [
    "import logging\n",
    "import transformers\n",
    "\n",
    "tokenizer.pad_token = tokenizer.eos_token\n",
    "logging.getLogger('codecarbon').setLevel(logging.WARNING)\n",
    "\n",
    "trainer = transformers.Trainer(\n",
    "    model=model,\n",
    "    train_dataset=data['train'],\n",
    "    args=transformers.TrainingArguments(\n",
    "        per_device_train_batch_size=2,\n",
    "        gradient_accumulation_steps=4,\n",
    "        warmup_steps=100,\n",
    "        max_steps=200,\n",
    "        learning_rate=2e-4,\n",
    "        fp16=True,\n",
    "        logging_steps=1,\n",
    "        output_dir=\"outputs\",\n",
    "    ),\n",
    "    data_collator=transformers.DataCollatorForLanguageModeling(tokenizer, mlm=False),\n",
    ")\n",
    "\n",
    "model.config.use_cache = False  # silence the warnings. Please re-enable for inference!\n",
    "trainer.train()"
   ]
  },
  {
   "cell_type": "code",
   "execution_count": 7,
   "metadata": {},
   "outputs": [],
   "source": [
    "trainer.save_model(\"2nd_try\")"
   ]
  }
 ],
 "metadata": {
  "kernelspec": {
   "display_name": "llm_jupyter",
   "language": "python",
   "name": "python3"
  },
  "language_info": {
   "codemirror_mode": {
    "name": "ipython",
    "version": 3
   },
   "file_extension": ".py",
   "mimetype": "text/x-python",
   "name": "python",
   "nbconvert_exporter": "python",
   "pygments_lexer": "ipython3",
   "version": "3.10.13"
  }
 },
 "nbformat": 4,
 "nbformat_minor": 2
}
