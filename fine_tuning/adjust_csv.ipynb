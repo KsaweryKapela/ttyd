{
 "cells": [
  {
   "cell_type": "code",
   "execution_count": 40,
   "metadata": {},
   "outputs": [],
   "source": [
    "import os\n",
    "import pandas as pd\n",
    "\n",
    "df = pd.read_csv(os.environ.get('FINETUNE_CSV_PATH'))"
   ]
  },
  {
   "cell_type": "code",
   "execution_count": 41,
   "metadata": {},
   "outputs": [
    {
     "data": {
      "text/html": [
       "<div>\n",
       "<style scoped>\n",
       "    .dataframe tbody tr th:only-of-type {\n",
       "        vertical-align: middle;\n",
       "    }\n",
       "\n",
       "    .dataframe tbody tr th {\n",
       "        vertical-align: top;\n",
       "    }\n",
       "\n",
       "    .dataframe thead th {\n",
       "        text-align: right;\n",
       "    }\n",
       "</style>\n",
       "<table border=\"1\" class=\"dataframe\">\n",
       "  <thead>\n",
       "    <tr style=\"text-align: right;\">\n",
       "      <th></th>\n",
       "      <th>instruction</th>\n",
       "      <th>output</th>\n",
       "    </tr>\n",
       "  </thead>\n",
       "  <tbody>\n",
       "    <tr>\n",
       "      <th>0</th>\n",
       "      <td>give me purchase id from 10th of may</td>\n",
       "      <td>SELECT PURCHASE_ID FROM VAT_PURCHASE WHERE PUR...</td>\n",
       "    </tr>\n",
       "    <tr>\n",
       "      <th>1</th>\n",
       "      <td>find the first name and last name of entities ...</td>\n",
       "      <td>SELECT FIRST_NAME, LAST_NAME FROM JPK_ENTITY W...</td>\n",
       "    </tr>\n",
       "    <tr>\n",
       "      <th>2</th>\n",
       "      <td>show all headers sent after 1st January 2023</td>\n",
       "      <td>SELECT * FROM JPK_HEADER WHERE SEND_TIME &gt; '20...</td>\n",
       "    </tr>\n",
       "    <tr>\n",
       "      <th>3</th>\n",
       "      <td>get all supplier numbers who have a purchase d...</td>\n",
       "      <td>SELECT SUPPLIER_NUMBER FROM VAT_PURCHASE WHERE...</td>\n",
       "    </tr>\n",
       "    <tr>\n",
       "      <th>4</th>\n",
       "      <td>fetch all purchases from supplier number 12345</td>\n",
       "      <td>SELECT * FROM VAT_PURCHASE WHERE SUPPLIER_NUMB...</td>\n",
       "    </tr>\n",
       "  </tbody>\n",
       "</table>\n",
       "</div>"
      ],
      "text/plain": [
       "                                         instruction  \\\n",
       "0               give me purchase id from 10th of may   \n",
       "1  find the first name and last name of entities ...   \n",
       "2       show all headers sent after 1st January 2023   \n",
       "3  get all supplier numbers who have a purchase d...   \n",
       "4     fetch all purchases from supplier number 12345   \n",
       "\n",
       "                                              output  \n",
       "0  SELECT PURCHASE_ID FROM VAT_PURCHASE WHERE PUR...  \n",
       "1  SELECT FIRST_NAME, LAST_NAME FROM JPK_ENTITY W...  \n",
       "2  SELECT * FROM JPK_HEADER WHERE SEND_TIME > '20...  \n",
       "3  SELECT SUPPLIER_NUMBER FROM VAT_PURCHASE WHERE...  \n",
       "4  SELECT * FROM VAT_PURCHASE WHERE SUPPLIER_NUMB...  "
      ]
     },
     "execution_count": 41,
     "metadata": {},
     "output_type": "execute_result"
    }
   ],
   "source": [
    "df = df.T.reset_index().T\n",
    "new_columns = ['instruction', 'output']\n",
    "df.columns = new_columns\n",
    "df.index = range(0, len(df))\n",
    "df.head()"
   ]
  },
  {
   "cell_type": "code",
   "execution_count": 51,
   "metadata": {},
   "outputs": [],
   "source": [
    "with open(f\"{os.environ.get('SQL_FILES_PATH')}/ddl.sql\", \"r\") as file:\n",
    "    ddl = file.read()\n",
    "df['input'] = ddl"
   ]
  },
  {
   "cell_type": "code",
   "execution_count": 63,
   "metadata": {},
   "outputs": [],
   "source": [
    "text_col = []\n",
    "\n",
    "for _, row in df.iterrows():\n",
    "    prompt = 'Below is an instruction which needs to be turned into SQL query, paired with input that consists of build of this database. Respond with appropriate SQL query for described database'\n",
    "    instruction = row['instruction']\n",
    "    input_query = row['input']\n",
    "    response = row['output']\n",
    "\n",
    "    text = (\n",
    "        prompt\n",
    "        + '### Instruction:\\n'\n",
    "        + instruction\n",
    "        + '### Input:\\n'\n",
    "        + input_query\n",
    "        + '### Response:\\n'\n",
    "        + response\n",
    "    )\n",
    "\n",
    "    text_col.append(text)\n",
    "\n",
    "df['text'] = text_col"
   ]
  },
  {
   "cell_type": "code",
   "execution_count": 67,
   "metadata": {},
   "outputs": [],
   "source": [
    "df[20:].to_csv('train.csv', index=False)\n",
    "df[:20].to_csv('test.csv', index=False)\n"
   ]
  }
 ],
 "metadata": {
  "kernelspec": {
   "display_name": "llm_jupyter",
   "language": "python",
   "name": "python3"
  },
  "language_info": {
   "codemirror_mode": {
    "name": "ipython",
    "version": 3
   },
   "file_extension": ".py",
   "mimetype": "text/x-python",
   "name": "python",
   "nbconvert_exporter": "python",
   "pygments_lexer": "ipython3",
   "version": "3.10.13"
  }
 },
 "nbformat": 4,
 "nbformat_minor": 2
}
