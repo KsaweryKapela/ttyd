{
 "cells": [
  {
   "cell_type": "code",
   "execution_count": 3,
   "metadata": {},
   "outputs": [
    {
     "name": "stderr",
     "output_type": "stream",
     "text": [
      "Special tokens have been added in the vocabulary, make sure the associated word embeddings are fine-tuned or trained.\n"
     ]
    },
    {
     "name": "stdout",
     "output_type": "stream",
     "text": [
      "IT WORKS\n",
      "['/home/ksaff/Desktop/ttyd/api/Mistral-7B-v0.1/pytorch_model-00001-of-00002.bin', '/home/ksaff/Desktop/ttyd/api/Mistral-7B-v0.1/pytorch_model-00002-of-00002.bin']\n"
     ]
    },
    {
     "name": "stderr",
     "output_type": "stream",
     "text": [
      "Loading checkpoint shards: 100%|██████████| 2/2 [00:07<00:00,  3.93s/it]\n"
     ]
    }
   ],
   "source": [
    "import torch\n",
    "import gc\n",
    "from transformers import AutoTokenizer, AutoModelForCausalLM, MistralForCausalLM\n",
    "from peft import AutoPeftModelForCausalLM\n",
    "\n",
    "gc.collect()\n",
    "torch.cuda.empty_cache()\n",
    "model_directory = \"/home/ksaff/Desktop/ttyd/api/model\"\n",
    "tokenizer = AutoTokenizer.from_pretrained(model_directory)\n",
    "model = AutoPeftModelForCausalLM.from_pretrained(model_directory,\n",
    "                                         load_in_8bit=True,\n",
    "                                         device_map={'': 0})"
   ]
  },
  {
   "cell_type": "code",
   "execution_count": 4,
   "metadata": {},
   "outputs": [],
   "source": [
    "ddl = \"\"\"CREATE TABLE Customers (\n",
    "    id INTEGER PRIMARY KEY AUTOINCREMENT,\n",
    "    name TEXT,\n",
    "    email TEXT,\n",
    "    DOB DATE\n",
    ");\n",
    "\n",
    "CREATE TABLE Orders (\n",
    "    orderID INTEGER PRIMARY KEY AUTOINCREMENT,\n",
    "    customerID INTEGER,\n",
    "    productID INTEGER,\n",
    "    quantity INTEGER,\n",
    "    orderDate TIMESTAMP\n",
    ");\n",
    "\n",
    "CREATE TABLE Products (\n",
    "    productID INTEGER PRIMARY KEY AUTOINCREMENT,\n",
    "    name TEXT,\n",
    "    category TEXT,\n",
    "    price DECIMAL(10, 2),\n",
    "    inStock INTEGER\n",
    ");\n",
    "\n",
    "CREATE TABLE Employees (\n",
    "    empID INTEGER PRIMARY KEY AUTOINCREMENT,\n",
    "    firstName TEXT,\n",
    "    lastName TEXT,\n",
    "    position TEXT,\n",
    "    salary INTEGER\n",
    ");\n",
    "\n",
    "CREATE TABLE Inventory (\n",
    "    productID INTEGER,\n",
    "    location TEXT,\n",
    "    quantity INTEGER\n",
    ");\"\"\""
   ]
  },
  {
   "cell_type": "code",
   "execution_count": 5,
   "metadata": {},
   "outputs": [],
   "source": [
    "import os\n",
    "\n",
    "input = ddl\n",
    "prompt = 'Make SQLite query based on DDL and instruction.'\n",
    "instruction = \"What are the distinct positions in company?\"\n",
    "text = (\n",
    "    prompt\n",
    "    + '### Instruction:\\n'\n",
    "    + instruction\n",
    "    + '### Input:\\n'\n",
    "    + input\n",
    "    + '### Response:\\n'\n",
    ")"
   ]
  },
  {
   "cell_type": "code",
   "execution_count": 6,
   "metadata": {},
   "outputs": [],
   "source": [
    "input_ids = tokenizer.encode(text, return_tensors='pt')\n",
    "input_ids = input_ids.to('cuda')"
   ]
  },
  {
   "cell_type": "code",
   "execution_count": 17,
   "metadata": {},
   "outputs": [],
   "source": [
    "inputs = {\n",
    "    'input_ids': input_ids,\n",
    "    'max_length': 1000\n",
    "}\n",
    "\n",
    "output = model.generate(**inputs)"
   ]
  },
  {
   "cell_type": "code",
   "execution_count": 19,
   "metadata": {},
   "outputs": [
    {
     "data": {
      "text/plain": [
       "'SELECT DISTINCT position FROM Employees;'"
      ]
     },
     "execution_count": 19,
     "metadata": {},
     "output_type": "execute_result"
    }
   ],
   "source": [
    "import re\n",
    "\n",
    "generated_text = tokenizer.decode(output[0], skip_special_tokens=True)\n",
    "\n",
    "match = re.search(r'### Response:\\s*(.*)', generated_text)\n",
    "response = match.group(1)\n",
    "response"
   ]
  },
  {
   "cell_type": "code",
   "execution_count": 20,
   "metadata": {},
   "outputs": [],
   "source": [
    "import sqlite3\n",
    "from dotenv import load_dotenv\n",
    "load_dotenv()\n",
    "\n",
    "conn = sqlite3.connect('/home/ksaff/Desktop/ttyd/ComplexDB.db')\n",
    "c = conn.cursor()\n",
    "\n",
    "def execute_query(query):\n",
    "\n",
    "    c.execute(query)\n",
    "    result = c.fetchall()\n",
    "\n",
    "    # Extract column names\n",
    "    columns = [desc[0] for desc in c.description]\n",
    "    \n",
    "    # Prepare the response\n",
    "    response = {\"query\": query, \"headers\": columns, \"data\": result}\n",
    "\n",
    "    return response"
   ]
  },
  {
   "cell_type": "code",
   "execution_count": 17,
   "metadata": {},
   "outputs": [
    {
     "name": "stdout",
     "output_type": "stream",
     "text": [
      "User instruction: What are the distinct positions in company?\n",
      "model output: SELECT DISTINCT position FROM Employees;\n"
     ]
    },
    {
     "data": {
      "text/plain": [
       "('Result query:',\n",
       " [('Sales',), ('Designer',), ('HR',), ('Developer',), ('Manager',)])"
      ]
     },
     "execution_count": 17,
     "metadata": {},
     "output_type": "execute_result"
    }
   ],
   "source": [
    "result = execute_query(response)\n",
    "print(f'User instruction: {instruction}')\n",
    "print(f'model output: {response}')\n",
    "'Result query:', result['data']"
   ]
  }
 ],
 "metadata": {
  "kernelspec": {
   "display_name": "llm_jupyter",
   "language": "python",
   "name": "python3"
  },
  "language_info": {
   "codemirror_mode": {
    "name": "ipython",
    "version": 3
   },
   "file_extension": ".py",
   "mimetype": "text/x-python",
   "name": "python",
   "nbconvert_exporter": "python",
   "pygments_lexer": "ipython3",
   "version": "3.10.13"
  }
 },
 "nbformat": 4,
 "nbformat_minor": 2
}
