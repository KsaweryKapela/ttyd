{
 "cells": [
  {
   "cell_type": "code",
   "execution_count": 1,
   "metadata": {},
   "outputs": [
    {
     "name": "stderr",
     "output_type": "stream",
     "text": [
      "/home/ksaff/miniconda3/envs/llm_jupyter/lib/python3.10/site-packages/tqdm/auto.py:21: TqdmWarning: IProgress not found. Please update jupyter and ipywidgets. See https://ipywidgets.readthedocs.io/en/stable/user_install.html\n",
      "  from .autonotebook import tqdm as notebook_tqdm\n"
     ]
    },
    {
     "name": "stdout",
     "output_type": "stream",
     "text": [
      "/home/ksaff/.cache/huggingface/hub/models--defog--sqlcoder-7b/snapshots/cb59ea29ef43769d221b98a8ebe81a0175c76658/pytorch_model.bin.index.json\n",
      "['/home/ksaff/.cache/huggingface/hub/models--defog--sqlcoder-7b/snapshots/cb59ea29ef43769d221b98a8ebe81a0175c76658/pytorch_model-00001-of-00002.bin', '/home/ksaff/.cache/huggingface/hub/models--defog--sqlcoder-7b/snapshots/cb59ea29ef43769d221b98a8ebe81a0175c76658/pytorch_model-00002-of-00002.bin']\n"
     ]
    },
    {
     "name": "stderr",
     "output_type": "stream",
     "text": [
      "Loading checkpoint shards: 100%|██████████| 2/2 [00:06<00:00,  3.14s/it]\n",
      "Special tokens have been added in the vocabulary, make sure the associated word embeddings are fine-tuned or trained.\n"
     ]
    }
   ],
   "source": [
    "import torch\n",
    "from peft import PeftModel, PeftConfig\n",
    "from transformers import AutoModelForCausalLM, AutoTokenizer, BitsAndBytesConfig\n",
    "\n",
    "model_id = 'defog/sqlcoder-7b'\n",
    "\n",
    "peft_model_id = \"/home/ksaff/Desktop/ttyd/fine_tuning/1st_try\"\n",
    "config = PeftConfig.from_pretrained(peft_model_id)\n",
    "\n",
    "bnb_config = BitsAndBytesConfig(\n",
    "                                load_in_8bit=True,\n",
    "                                bnb_8bit_use_double_quant=True,\n",
    "                                bnb_8bit_quant_type=\"nf4\",\n",
    "                                bnb_8bit_compute_dtype=torch.bfloat16\n",
    "                                )\n",
    "\n",
    "model = AutoModelForCausalLM.from_pretrained(\n",
    "    config.base_model_name_or_path, return_dict=True, quantization_config=bnb_config, device_map={'': 0}\n",
    ")\n",
    "tokenizer = AutoTokenizer.from_pretrained(config.base_model_name_or_path)"
   ]
  },
  {
   "cell_type": "code",
   "execution_count": 45,
   "metadata": {},
   "outputs": [],
   "source": [
    "import os\n",
    "\n",
    "prompt = 'Make SQLite query based on instruction, for SQL table Salaries, with columns: id, EmployeeName, JobTitle, BasePay, OvertimePay, OtherPay, Benefits, TotalPay, TotalPayBenefits, Year. '\n",
    "instruction = \"Query 5 most paid jobs\"\n",
    "text = (\n",
    "    prompt\n",
    "    + '### Instruction: '\n",
    "    + instruction\n",
    "    + '### Usage: '\n",
    ")"
   ]
  },
  {
   "cell_type": "code",
   "execution_count": 46,
   "metadata": {},
   "outputs": [],
   "source": [
    "input_ids = tokenizer.encode(text, return_tensors='pt')\n",
    "input_ids = input_ids.to('cuda')"
   ]
  },
  {
   "cell_type": "code",
   "execution_count": 47,
   "metadata": {},
   "outputs": [
    {
     "name": "stderr",
     "output_type": "stream",
     "text": [
      "The attention mask and the pad token id were not set. As a consequence, you may observe unexpected behavior. Please pass your input's `attention_mask` to obtain reliable results.\n",
      "Setting `pad_token_id` to `eos_token_id`:2 for open-end generation.\n"
     ]
    },
    {
     "data": {
      "text/plain": [
       "'Make SQLite query based on instruction, for SQL table Salaries, with columns: id, EmployeeName, JobTitle, BasePay, OvertimePay, OtherPay, Benefits, TotalPay, TotalPayBenefits, Year. ### Instruction: Query 5 most paid jobs### Usage: 5### Output: JobTitle, TotalPay, TotalPayBenefits, Year### Sample Output: JobTitle, TotalPay, TotalPayBenefits, Year### JobTitle, TotalPay, TotalPayBenefits, Year### JobTitle, Total'"
      ]
     },
     "execution_count": 47,
     "metadata": {},
     "output_type": "execute_result"
    }
   ],
   "source": [
    "inputs = {\n",
    "    'input_ids': input_ids,\n",
    "    'max_length': 200,\n",
    "    'max_time': 5,\n",
    "}\n",
    "\n",
    "output = model.generate(**inputs)\n",
    "\n",
    "generated_text = tokenizer.decode(output[0], skip_special_tokens=True)\n",
    "generated_text"
   ]
  },
  {
   "cell_type": "code",
   "execution_count": 48,
   "metadata": {},
   "outputs": [],
   "source": [
    "import re\n",
    "\n",
    "generated_text = tokenizer.decode(output[0], skip_special_tokens=True)\n",
    "\n",
    "match = re.search(r'### Response:\\s*(.*)', generated_text)\n",
    "# response = match.group(1)\n",
    "# response\n",
    "response = None"
   ]
  },
  {
   "cell_type": "code",
   "execution_count": 49,
   "metadata": {},
   "outputs": [],
   "source": [
    "import sqlite3\n",
    "from dotenv import load_dotenv\n",
    "load_dotenv()\n",
    "\n",
    "conn = sqlite3.connect('/home/ksaff/Desktop/sql/choosen_DB.sqlite')\n",
    "c = conn.cursor()\n",
    "\n",
    "def execute_query(query):\n",
    "\n",
    "    c.execute(query)\n",
    "    result = c.fetchall()\n",
    "\n",
    "    # Extract column names\n",
    "    columns = [desc[0] for desc in c.description]\n",
    "    \n",
    "    # Prepare the response\n",
    "    response = {\"query\": query, \"headers\": columns, \"data\": result}\n",
    "\n",
    "    return response"
   ]
  },
  {
   "cell_type": "code",
   "execution_count": 50,
   "metadata": {},
   "outputs": [
    {
     "name": "stdout",
     "output_type": "stream",
     "text": [
      "User instruction: Query 5 most paid jobs\n",
      "model output: None\n"
     ]
    },
    {
     "data": {
      "text/plain": [
       "('Result query:',\n",
       " [(567595.43,\n",
       "   'NATHANIEL FORD',\n",
       "   'GENERAL MANAGER-METROPOLITAN TRANSIT AUTHORITY'),\n",
       "  (538909.28, 'GARY JIMENEZ', 'CAPTAIN III (POLICE DEPARTMENT)'),\n",
       "  (390111.98, 'Amy P Hart', 'Asst Med Examiner'),\n",
       "  (373849.97, 'David Shinn', 'Deputy Chief 3'),\n",
       "  (362844.66, 'Gary Altenberg', 'Lieutenant, Fire Suppression')])"
      ]
     },
     "execution_count": 50,
     "metadata": {},
     "output_type": "execute_result"
    }
   ],
   "source": [
    "result = execute_query('SELECT AVG(TotalPay) AS AverageTotalPay, EmployeeName, JobTitle FROM Salaries GROUP BY EmployeeName, JobTitle ORDER BY AverageTotalPay DESC LIMIT 5;')\n",
    "print(f'User instruction: {instruction}')\n",
    "print(f'model output: {response}')\n",
    "'Result query:', result['data']"
   ]
  }
 ],
 "metadata": {
  "kernelspec": {
   "display_name": "llm_jupyter",
   "language": "python",
   "name": "python3"
  },
  "language_info": {
   "codemirror_mode": {
    "name": "ipython",
    "version": 3
   },
   "file_extension": ".py",
   "mimetype": "text/x-python",
   "name": "python",
   "nbconvert_exporter": "python",
   "pygments_lexer": "ipython3",
   "version": "3.10.13"
  }
 },
 "nbformat": 4,
 "nbformat_minor": 2
}
