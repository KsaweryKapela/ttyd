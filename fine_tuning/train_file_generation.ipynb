{
 "cells": [
  {
   "cell_type": "code",
   "execution_count": 3,
   "metadata": {},
   "outputs": [],
   "source": [
    "import os\n",
    "\n",
    "csv_dir = '/home/ksaff/Desktop/ttyd/fine_tuning/fine_tune_dbs/dbs'\n",
    "ddl_dir = '/home/ksaff/Desktop/ttyd/fine_tuning/fine_tune_dbs/ddls'\n",
    "\n",
    "csv_names = sorted(os.listdir(csv_dir))[:10]\n",
    "ddl_names = sorted(os.listdir(ddl_dir))"
   ]
  },
  {
   "cell_type": "code",
   "execution_count": 12,
   "metadata": {},
   "outputs": [],
   "source": [
    "import pandas as pd\n",
    "\n",
    "df = pd.read_csv('/home/ksaff/Desktop/ttyd/fine_tuning/fine_tune_dbs/raw_input_output_pairs/all_pairs.csv')\n",
    "new_columns = ['instruction', 'output']\n",
    "df.columns = new_columns"
   ]
  },
  {
   "cell_type": "code",
   "execution_count": 13,
   "metadata": {},
   "outputs": [],
   "source": [
    "def modify_string(input_string):\n",
    "    modified_string = input_string.strip() + \" \"\n",
    "    return modified_string\n",
    "\n",
    "text_col = []\n",
    "\n",
    "for _, row in df.iterrows():\n",
    "    prompt = 'Make SQLite query based on instruction and database scheme.'\n",
    "    input = ''\n",
    "    question = modify_string(row['instruction'])\n",
    "    response = row['output']\n",
    "    database_scheme = \"\"\"\n",
    "CREATE TABLE Salaries\n",
    "Id INTEGER PRIMARY KEY, -- Unique ID for each employee\n",
    "EmployeeName VARCHAR, -- Name of the employee\n",
    "JobTitle VARCHAR, -- Name of employees proffesion\n",
    "BasePay NUMERIC, -- Base pay of employee\n",
    "OvertimePay NUMERIC, -- Overtime pay of employee\n",
    "OtherPay NUMERIC, -- Other pays of employee\n",
    "Benefits NUMERIC, -- Benefits of employee\n",
    "TotalPay NUMERIC, -- Total pay of employee\n",
    "TotalPayBenefits NUMERIC, -- Sum of pay benefits of employee\n",
    "Year INTEGER, -- Year data from row reffers to\n",
    "\"\"\"\n",
    "\n",
    "    text = (\n",
    "        \"\"\"### Task\n",
    "        Generate a SQL query to answer the following question:\n",
    "        {question}\n",
    "### Database Schema\n",
    "        This query will run on a database whose schema is represented in this string:\n",
    "        {database_scheme}\n",
    "### SQL\n",
    "        Given the database schema, here is the SQL query that answers `{question}`:\n",
    "        ```sql {response}\n",
    "        \"\"\".format(question=question, database_scheme=database_scheme, response=response)\n",
    "    )\n",
    "\n",
    "    text_col.append(text)\n",
    "\n",
    "df = df.drop(columns=['instruction', 'output'])\n",
    "df['text'] = text_col\n",
    "\n",
    "df.to_csv('/home/ksaff/Desktop/ttyd/fine_tuning/dataset/train.csv')"
   ]
  }
 ],
 "metadata": {
  "kernelspec": {
   "display_name": "llm_jupyter",
   "language": "python",
   "name": "python3"
  },
  "language_info": {
   "codemirror_mode": {
    "name": "ipython",
    "version": 3
   },
   "file_extension": ".py",
   "mimetype": "text/x-python",
   "name": "python",
   "nbconvert_exporter": "python",
   "pygments_lexer": "ipython3",
   "version": "3.10.13"
  }
 },
 "nbformat": 4,
 "nbformat_minor": 2
}
