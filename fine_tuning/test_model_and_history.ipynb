{
 "cells": [
  {
   "cell_type": "code",
   "execution_count": 1,
   "metadata": {},
   "outputs": [
    {
     "name": "stderr",
     "output_type": "stream",
     "text": [
      "/home/ksaff/miniconda3/envs/llm_jupyter/lib/python3.10/site-packages/tqdm/auto.py:21: TqdmWarning: IProgress not found. Please update jupyter and ipywidgets. See https://ipywidgets.readthedocs.io/en/stable/user_install.html\n",
      "  from .autonotebook import tqdm as notebook_tqdm\n"
     ]
    },
    {
     "name": "stdout",
     "output_type": "stream",
     "text": [
      "['/home/ksaff/Desktop/ttyd/api/model/snapshots/d3e967887d285343b8e239e26c6778c26931a536/model-00001-of-00007.safetensors', '/home/ksaff/Desktop/ttyd/api/model/snapshots/d3e967887d285343b8e239e26c6778c26931a536/model-00002-of-00007.safetensors', '/home/ksaff/Desktop/ttyd/api/model/snapshots/d3e967887d285343b8e239e26c6778c26931a536/model-00003-of-00007.safetensors', '/home/ksaff/Desktop/ttyd/api/model/snapshots/d3e967887d285343b8e239e26c6778c26931a536/model-00004-of-00007.safetensors', '/home/ksaff/Desktop/ttyd/api/model/snapshots/d3e967887d285343b8e239e26c6778c26931a536/model-00005-of-00007.safetensors', '/home/ksaff/Desktop/ttyd/api/model/snapshots/d3e967887d285343b8e239e26c6778c26931a536/model-00006-of-00007.safetensors', '/home/ksaff/Desktop/ttyd/api/model/snapshots/d3e967887d285343b8e239e26c6778c26931a536/model-00007-of-00007.safetensors']\n"
     ]
    },
    {
     "name": "stderr",
     "output_type": "stream",
     "text": [
      "Loading checkpoint shards: 100%|██████████| 7/7 [00:18<00:00,  2.59s/it]\n"
     ]
    }
   ],
   "source": [
    "import torch\n",
    "from peft import PeftModel, PeftConfig\n",
    "from langchain.llms.huggingface_pipeline import HuggingFacePipeline\n",
    "from transformers import AutoModelForCausalLM, AutoTokenizer, BitsAndBytesConfig, GenerationConfig, pipeline\n",
    "\n",
    "USE_FINETUNED = True\n",
    "\n",
    "model_id = \"/home/ksaff/Desktop/ttyd/api/model/snapshots/82128714b6174570a64b3dd1f3e9c146bda26cf9\"\n",
    "peft_model_id = \"/home/ksaff/Desktop/ttyd/api/fine-tuned_model\"\n",
    "config = PeftConfig.from_pretrained(peft_model_id)\n",
    "\n",
    "bnb_config = BitsAndBytesConfig(\n",
    "                                load_in_4bit=True,\n",
    "                                bnb_4bit_use_double_quant=True,\n",
    "                                bnb_4bit_quant_type=\"nf4\",\n",
    "                                bnb_4bit_compute_dtype=torch.bfloat16\n",
    "                                )\n",
    "\n",
    "model = AutoModelForCausalLM.from_pretrained(\n",
    "    config.base_model_name_or_path,\n",
    "    return_dict=True,\n",
    "    quantization_config=bnb_config, device_map={'': 0}\n",
    ")\n",
    "\n",
    "if USE_FINETUNED:\n",
    "    model = PeftModel.from_pretrained(model, peft_model_id)\n",
    "    \n",
    "tokenizer = AutoTokenizer.from_pretrained(\n",
    "                                          config.base_model_name_or_path,\n",
    "                                          )"
   ]
  },
  {
   "cell_type": "code",
   "execution_count": 16,
   "metadata": {},
   "outputs": [
    {
     "name": "stderr",
     "output_type": "stream",
     "text": [
      "The model 'PeftModelForCausalLM' is not supported for text-generation. Supported models are ['BartForCausalLM', 'BertLMHeadModel', 'BertGenerationDecoder', 'BigBirdForCausalLM', 'BigBirdPegasusForCausalLM', 'BioGptForCausalLM', 'BlenderbotForCausalLM', 'BlenderbotSmallForCausalLM', 'BloomForCausalLM', 'CamembertForCausalLM', 'LlamaForCausalLM', 'CodeGenForCausalLM', 'CpmAntForCausalLM', 'CTRLLMHeadModel', 'Data2VecTextForCausalLM', 'ElectraForCausalLM', 'ErnieForCausalLM', 'FalconForCausalLM', 'GitForCausalLM', 'GPT2LMHeadModel', 'GPT2LMHeadModel', 'GPTBigCodeForCausalLM', 'GPTNeoForCausalLM', 'GPTNeoXForCausalLM', 'GPTNeoXJapaneseForCausalLM', 'GPTJForCausalLM', 'LlamaForCausalLM', 'MarianForCausalLM', 'MBartForCausalLM', 'MegaForCausalLM', 'MegatronBertForCausalLM', 'MistralForCausalLM', 'MptForCausalLM', 'MusicgenForCausalLM', 'MvpForCausalLM', 'OpenLlamaForCausalLM', 'OpenAIGPTLMHeadModel', 'OPTForCausalLM', 'PegasusForCausalLM', 'PersimmonForCausalLM', 'PLBartForCausalLM', 'ProphetNetForCausalLM', 'QDQBertLMHeadModel', 'ReformerModelWithLMHead', 'RemBertForCausalLM', 'RobertaForCausalLM', 'RobertaPreLayerNormForCausalLM', 'RoCBertForCausalLM', 'RoFormerForCausalLM', 'RwkvForCausalLM', 'Speech2Text2ForCausalLM', 'TransfoXLLMHeadModel', 'TrOCRForCausalLM', 'XGLMForCausalLM', 'XLMWithLMHeadModel', 'XLMProphetNetForCausalLM', 'XLMRobertaForCausalLM', 'XLMRobertaXLForCausalLM', 'XLNetLMHeadModel', 'XmodForCausalLM'].\n"
     ]
    }
   ],
   "source": [
    "from langchain.chains.conversation.memory import ConversationBufferMemory\n",
    "from langchain.chains import ConversationChain\n",
    "\n",
    "\n",
    "generation_config = GenerationConfig.from_pretrained(model_id)\n",
    "generation_config.max_new_tokens = 512\n",
    "generation_config.max_time = 5\n",
    "generation_config.pad_token_id = 2\n",
    "\n",
    "\n",
    "text_pipeline = pipeline(\n",
    "    \"text-generation\",\n",
    "    model=model,\n",
    "    tokenizer=tokenizer,\n",
    "    generation_config=generation_config,\n",
    ")\n",
    " \n",
    "llm = HuggingFacePipeline(pipeline=text_pipeline)\n",
    "memory = ConversationBufferMemory()\n",
    "conversation_buf = ConversationChain(\n",
    "    llm=llm,\n",
    "    memory=memory,)"
   ]
  },
  {
   "cell_type": "code",
   "execution_count": 17,
   "metadata": {},
   "outputs": [],
   "source": [
    "def create_prompt(question):\n",
    "    database_scheme = \"\"\"\n",
    "CREATE TABLE Salaries\n",
    "Id INTEGER PRIMARY KEY, -- Unique ID for each employee\n",
    "EmployeeName VARCHAR, -- Name of the employee\n",
    "JobTitle VARCHAR, -- Name of employees proffesion\n",
    "BasePay NUMERIC, -- Base pay of employee\n",
    "OvertimePay NUMERIC, -- Overtime pay of employee\n",
    "OtherPay NUMERIC, -- Other pays of employee\n",
    "Benefits NUMERIC, -- Benefits of employee\n",
    "TotalPay NUMERIC, -- Total pay of employee\n",
    "TotalPayBenefits NUMERIC, -- Sum of pay benefits of employee\n",
    "Year INTEGER, -- Year data from row reffers to\n",
    "\"\"\"\n",
    "    text = (\n",
    "    f\"\"\"### Task\n",
    "    Generate an SQL query to answer the following question:\n",
    "    {question}\n",
    "### Database Schema\n",
    "    This query will run on a database whose schema is represented in this string:\"\"\" \n",
    "    +\n",
    "    database_scheme\n",
    "    +\n",
    "f\"\"\"### SQL\n",
    "    Given the database schema, here is the SQL query that answers `{question}`:\n",
    "    ```sql\n",
    "    \"\"\"\n",
    ")\n",
    "    return text"
   ]
  },
  {
   "cell_type": "code",
   "execution_count": 18,
   "metadata": {},
   "outputs": [
    {
     "name": "stdout",
     "output_type": "stream",
     "text": [
      " I see 1 columns of type NUMERIC in the database. I will try to answer the question by aggregating on that column.\n",
      "SELECT SUM(Benefits) FROM Salaries WHERE Year = 2013\n",
      "\n",
      "### Output\n",
      "    Given the database schema, here is the output of the\n",
      "\n",
      "Query only:  SUM(Benefits) FROM Salaries WHERE Year = 2013\n"
     ]
    }
   ],
   "source": [
    "question = \"Give me sum of all benefits in year 2013\"\n",
    "response = conversation_buf(create_prompt(question))\n",
    "\n",
    "print(response['response'])\n",
    "print('\\nQuery only:',response['response'].split('SELECT')[1].split('\\n')[0])"
   ]
  },
  {
   "cell_type": "code",
   "execution_count": 19,
   "metadata": {},
   "outputs": [
    {
     "name": "stdout",
     "output_type": "stream",
     "text": [
      "  I see 1 columns of type NUMERIC in the database. I will try to answer the question by aggregating on that column.\n",
      "SELECT SUM(TotalPay) FROM Salaries WHERE Year = 2013\n",
      "\n",
      "### SQL\n",
      "    Given the database schema, here is the SQL query\n",
      "\n",
      "Query only:  SUM(TotalPay) FROM Salaries WHERE Year = 2013\n"
     ]
    }
   ],
   "source": [
    "question_2 = 'Now do the same for total pay'\n",
    "response_2 = conversation_buf(question_2)\n",
    "\n",
    "print(response_2['response'])\n",
    "print('\\nQuery only:',response_2['response'].split('SELECT')[1].split('\\n')[0])"
   ]
  },
  {
   "cell_type": "code",
   "execution_count": 20,
   "metadata": {},
   "outputs": [
    {
     "name": "stdout",
     "output_type": "stream",
     "text": [
      "   I see 1 columns of type NUMERIC in the database. I will try to answer the question by aggregating on that column.\n",
      "SELECT SUM(OtherPay) FROM Salaries WHERE Year = 2013\n",
      "\n",
      "### SQL\n",
      "    Given the database schema, here is\n",
      "\n",
      "Query only:  SUM(OtherPay) FROM Salaries WHERE Year = 2013\n"
     ]
    }
   ],
   "source": [
    "question_3 = 'Now for OtherPay'\n",
    "response_3 = conversation_buf(question_3)\n",
    "\n",
    "print(response_3['response'])\n",
    "print('\\nQuery only:',response_3['response'].split('SELECT')[1].split('\\n')[0])"
   ]
  }
 ],
 "metadata": {
  "kernelspec": {
   "display_name": "llm_jupyter",
   "language": "python",
   "name": "python3"
  },
  "language_info": {
   "codemirror_mode": {
    "name": "ipython",
    "version": 3
   },
   "file_extension": ".py",
   "mimetype": "text/x-python",
   "name": "python",
   "nbconvert_exporter": "python",
   "pygments_lexer": "ipython3",
   "version": "3.10.13"
  }
 },
 "nbformat": 4,
 "nbformat_minor": 2
}
