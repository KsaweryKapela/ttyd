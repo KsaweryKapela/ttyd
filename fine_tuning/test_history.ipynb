{
 "cells": [
  {
   "cell_type": "code",
   "execution_count": 1,
   "metadata": {},
   "outputs": [
    {
     "name": "stderr",
     "output_type": "stream",
     "text": [
      "/home/ksaff/miniconda3/envs/llm_jupyter/lib/python3.10/site-packages/tqdm/auto.py:21: TqdmWarning: IProgress not found. Please update jupyter and ipywidgets. See https://ipywidgets.readthedocs.io/en/stable/user_install.html\n",
      "  from .autonotebook import tqdm as notebook_tqdm\n"
     ]
    },
    {
     "name": "stdout",
     "output_type": "stream",
     "text": [
      "/home/ksaff/.cache/huggingface/hub/models--codellama--CodeLlama-34b-hf/snapshots/82128714b6174570a64b3dd1f3e9c146bda26cf9/model.safetensors.index.json\n",
      "['/home/ksaff/.cache/huggingface/hub/models--codellama--CodeLlama-34b-hf/snapshots/82128714b6174570a64b3dd1f3e9c146bda26cf9/model-00001-of-00007.safetensors', '/home/ksaff/.cache/huggingface/hub/models--codellama--CodeLlama-34b-hf/snapshots/82128714b6174570a64b3dd1f3e9c146bda26cf9/model-00002-of-00007.safetensors', '/home/ksaff/.cache/huggingface/hub/models--codellama--CodeLlama-34b-hf/snapshots/82128714b6174570a64b3dd1f3e9c146bda26cf9/model-00003-of-00007.safetensors', '/home/ksaff/.cache/huggingface/hub/models--codellama--CodeLlama-34b-hf/snapshots/82128714b6174570a64b3dd1f3e9c146bda26cf9/model-00004-of-00007.safetensors', '/home/ksaff/.cache/huggingface/hub/models--codellama--CodeLlama-34b-hf/snapshots/82128714b6174570a64b3dd1f3e9c146bda26cf9/model-00005-of-00007.safetensors', '/home/ksaff/.cache/huggingface/hub/models--codellama--CodeLlama-34b-hf/snapshots/82128714b6174570a64b3dd1f3e9c146bda26cf9/model-00006-of-00007.safetensors', '/home/ksaff/.cache/huggingface/hub/models--codellama--CodeLlama-34b-hf/snapshots/82128714b6174570a64b3dd1f3e9c146bda26cf9/model-00007-of-00007.safetensors']\n"
     ]
    },
    {
     "name": "stderr",
     "output_type": "stream",
     "text": [
      "Loading checkpoint shards:  86%|████████▌ | 6/7 [00:17<00:02,  2.83s/it]"
     ]
    }
   ],
   "source": [
    "import torch\n",
    "from peft import PeftModel, PeftConfig\n",
    "from transformers import AutoModelForCausalLM, AutoTokenizer, BitsAndBytesConfig\n",
    "from langchain import HuggingFacePipeline\n",
    "from transformers import AutoModelForCausalLM, AutoTokenizer, GenerationConfig, pipeline\n",
    " \n",
    "\n",
    "model_id = \"codellama/CodeLlama-34b-hf\"\n",
    "\n",
    "peft_model_id = \"/home/ksaff/Desktop/ttyd/fine_tuning/2nd_try\"\n",
    "config = PeftConfig.from_pretrained(peft_model_id)\n",
    "\n",
    "bnb_config = BitsAndBytesConfig(\n",
    "                                load_in_4bit=True,\n",
    "                                bnb_4bit_use_double_quant=True,\n",
    "                                bnb_4bit_quant_type=\"nf4\",\n",
    "                                bnb_4bit_compute_dtype=torch.bfloat16\n",
    "                                )\n",
    "\n",
    "model = AutoModelForCausalLM.from_pretrained(\n",
    "    config.base_model_name_or_path,\n",
    "    return_dict=True,\n",
    "    quantization_config=bnb_config,\n",
    "    device_map={'': 0}\n",
    ")\n",
    "tokenizer = AutoTokenizer.from_pretrained(\n",
    "                                          config.base_model_name_or_path)\n",
    "\n",
    "model = model.bfloat16()"
   ]
  },
  {
   "cell_type": "code",
   "execution_count": null,
   "metadata": {},
   "outputs": [],
   "source": [
    "generation_config = GenerationConfig.from_pretrained(model_id)\n",
    "generation_config.max_new_tokens = 1024\n",
    "# generation_config.temperature = 0.0001\n",
    "# generation_config.top_p = 0.95\n",
    "# generation_config.do_sample = True\n",
    "# generation_config.repetition_penalty = 1.15\n",
    "generation_config.max_time = 3\n",
    "generation_config.pad_token_id = 2\n",
    " \n",
    "text_pipeline = pipeline(\n",
    "    \"text-generation\",\n",
    "    model=model,\n",
    "    tokenizer=tokenizer,\n",
    "    generation_config=generation_config,\n",
    ")\n",
    " \n",
    "llm = HuggingFacePipeline(pipeline=text_pipeline)"
   ]
  },
  {
   "cell_type": "code",
   "execution_count": null,
   "metadata": {},
   "outputs": [],
   "source": [
    "from langchain.chains.conversation.memory import ConversationBufferMemory\n",
    "from langchain.chains import ConversationChain\n",
    "\n",
    "memory = ConversationBufferMemory()\n",
    "conversation_buf = ConversationChain(\n",
    "    llm=llm,\n",
    "    memory=memory,)"
   ]
  },
  {
   "cell_type": "code",
   "execution_count": null,
   "metadata": {},
   "outputs": [],
   "source": [
    "database_scheme = \"\"\"\n",
    "CREATE TABLE Salaries\n",
    "  Id INTEGER PRIMARY KEY, -- Unique ID for each employee\n",
    "  EmployeeName VARCHAR, -- Name of the employee\n",
    "  JobTitle VARCHAR, -- Name of employees proffesion\n",
    "  BasePay NUMERIC, -- Base pay of employee\n",
    "  OvertimePay NUMERIC, -- Overtime pay of employee\n",
    "  OtherPay NUMERIC, -- Other pays of employee\n",
    "  Benefits NUMERIC, -- Benefits of employee\n",
    "  TotalPay NUMERIC, -- Total pay of employee\n",
    "  TotalPayBenefits NUMERIC, -- Sum of pay benefits of employee\n",
    "  Year INTEGER, -- Year data from row reffers to\n",
    "\"\"\"\n",
    "\n",
    "question = \"Give me sum of all benefits in year 2013\"\n",
    "\n",
    "text = (\n",
    "    f\"\"\"### Task\n",
    "    Generate a SQL query to answer the following question:\n",
    "    {question}\n",
    "### Database Schema\n",
    "    This query will run on a database whose schema is represented in this string:\"\"\" \n",
    "    +\n",
    "    database_scheme\n",
    "    +\n",
    "f\"\"\"### SQL\n",
    "    Given the database schema, here is the SQL query that answers `{question}`:\n",
    "    ```sql\n",
    "    \"\"\"\n",
    ")"
   ]
  },
  {
   "cell_type": "code",
   "execution_count": null,
   "metadata": {},
   "outputs": [
    {
     "name": "stderr",
     "output_type": "stream",
     "text": [
      "Setting `pad_token_id` to `eos_token_id`:2 for open-end generation.\n"
     ]
    },
    {
     "name": "stdout",
     "output_type": "stream",
     "text": [
      "question = Give me sum of all benefits in year 2013\n",
      "\n",
      "    SELECT SUM(Benefits) FROM Salaries WHERE Year = 2013\n",
      "    \n"
     ]
    }
   ],
   "source": [
    "import sqlparse\n",
    "\n",
    "response = conversation_buf(text)\n",
    "print(f'question - {question}')\n",
    "print(response['response'].split(\"```\")[-2].replace('sql', ''))"
   ]
  },
  {
   "cell_type": "code",
   "execution_count": null,
   "metadata": {},
   "outputs": [
    {
     "name": "stderr",
     "output_type": "stream",
     "text": [
      "Setting `pad_token_id` to `eos_token_id`:2 for open-end generation.\n"
     ]
    },
    {
     "name": "stdout",
     "output_type": "stream",
     "text": [
      "question = Now do the same for total pay\n",
      "\n",
      "    SELECT SUM(TotalPay) FROM Salaries WHERE Year = 2013\n",
      "    \n"
     ]
    }
   ],
   "source": [
    "question_2 = 'Now do the same for total pay'\n",
    "response = conversation_buf(question_2)\n",
    "\n",
    "print(f'question - {question_2}')\n",
    "print(response['response'].split(\"```\")[-2].replace('sql', ''))"
   ]
  }
 ],
 "metadata": {
  "kernelspec": {
   "display_name": "llm_jupyter",
   "language": "python",
   "name": "python3"
  },
  "language_info": {
   "codemirror_mode": {
    "name": "ipython",
    "version": 3
   },
   "file_extension": ".py",
   "mimetype": "text/x-python",
   "name": "python",
   "nbconvert_exporter": "python",
   "pygments_lexer": "ipython3",
   "version": "3.10.13"
  }
 },
 "nbformat": 4,
 "nbformat_minor": 2
}
